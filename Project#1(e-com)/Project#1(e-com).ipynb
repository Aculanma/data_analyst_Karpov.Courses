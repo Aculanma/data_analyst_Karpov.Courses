{
 "cells": [
  {
   "cell_type": "markdown",
   "id": "1d98a60c",
   "metadata": {},
   "source": [
    "# Промежуточный проект"
   ]
  },
  {
   "cell_type": "markdown",
   "id": "f81d5b41",
   "metadata": {},
   "source": [
    "#### Исходные данные"
   ]
  },
  {
   "cell_type": "markdown",
   "id": "feecc19a",
   "metadata": {},
   "source": [
    "__· olist_customers_dataset.csv__ — таблица с уникальными идентификаторами пользователей\n",
    "\n",
    "customer_id — позаказный идентификатор пользователя  \n",
    "customer_unique_id —  уникальный идентификатор пользователя  (аналог номера паспорта)  \n",
    "customer_zip_code_prefix —  почтовый индекс пользователя  \n",
    "customer_city —  город доставки пользователя  \n",
    "customer_state —  штат доставки пользователя  \n",
    "\n",
    "__· olist_orders_dataset.csv__ —  таблица заказов\n",
    "\n",
    "order_id —  уникальный идентификатор заказа (номер чека)  \n",
    "customer_id —  позаказный идентификатор пользователя  \n",
    "order_status —  статус заказа  \n",
    "order_purchase_timestamp —  время создания заказа  \n",
    "order_approved_at —  время подтверждения оплаты заказа  \n",
    "order_delivered_carrier_date —  время передачи заказа в логистическую службу  \n",
    "order_delivered_customer_date —  время доставки заказа  \n",
    "order_estimated_delivery_date —  обещанная дата доставки  \n",
    "\n",
    "__· olist_order_items_dataset.csv__ —  товарные позиции, входящие в заказы\n",
    "\n",
    "order_id —  уникальный идентификатор заказа (номер чека)  \n",
    "order_item_id —  идентификатор товара внутри одного заказа  \n",
    "product_id —  ид товара (аналог штрихкода)  \n",
    "seller_id — ид производителя товара  \n",
    "shipping_limit_date —  максимальная дата доставки продавцом для передачи заказа партнеру по логистике  \n",
    "price —  цена за единицу товара  \n",
    "freight_value —  вес товара"
   ]
  },
  {
   "cell_type": "code",
   "execution_count": 1,
   "id": "662ba136",
   "metadata": {},
   "outputs": [],
   "source": [
    "import pandas as pd\n",
    "from datetime import datetime, timedelta\n",
    "import numpy as np\n",
    "import seaborn as sns\n",
    "import matplotlib.pyplot as plt\n",
    "from matplotlib.colors import ListedColormap\n",
    "import math\n",
    "from operator import attrgetter"
   ]
  },
  {
   "cell_type": "code",
   "execution_count": 2,
   "id": "b2d23319",
   "metadata": {},
   "outputs": [],
   "source": [
    "df1 = pd.read_csv('olist_customers_dataset.csv')                  #таблица с уникальными идентификаторами пользователей\n",
    "df2 = pd.read_csv('olist_orders_dataset.csv',                     #таблица заказов\n",
    "                  parse_dates=[\"order_purchase_timestamp\",      \n",
    "                               \"order_approved_at\",\n",
    "                               \"order_delivered_carrier_date\",\n",
    "                               \"order_delivered_customer_date\",\n",
    "                               \"order_estimated_delivery_date\"])                \n",
    "df3 = pd.read_csv('olist_order_items_dataset.csv',                #товарные позиции, входящие в заказы \n",
    "                  parse_dates=[\"shipping_limit_date\"])           "
   ]
  },
  {
   "cell_type": "code",
   "execution_count": 3,
   "id": "7a6bd709",
   "metadata": {},
   "outputs": [
    {
     "data": {
      "text/plain": [
       "customer_id                 object\n",
       "customer_unique_id          object\n",
       "customer_zip_code_prefix     int64\n",
       "customer_city               object\n",
       "customer_state              object\n",
       "dtype: object"
      ]
     },
     "execution_count": 3,
     "metadata": {},
     "output_type": "execute_result"
    }
   ],
   "source": [
    "df1.dtypes"
   ]
  },
  {
   "cell_type": "code",
   "execution_count": 4,
   "id": "fba6e5ad",
   "metadata": {},
   "outputs": [
    {
     "data": {
      "text/plain": [
       "order_id                                 object\n",
       "customer_id                              object\n",
       "order_status                             object\n",
       "order_purchase_timestamp         datetime64[ns]\n",
       "order_approved_at                datetime64[ns]\n",
       "order_delivered_carrier_date     datetime64[ns]\n",
       "order_delivered_customer_date    datetime64[ns]\n",
       "order_estimated_delivery_date    datetime64[ns]\n",
       "dtype: object"
      ]
     },
     "execution_count": 4,
     "metadata": {},
     "output_type": "execute_result"
    }
   ],
   "source": [
    "df2.dtypes"
   ]
  },
  {
   "cell_type": "code",
   "execution_count": 5,
   "id": "741361ba",
   "metadata": {},
   "outputs": [
    {
     "data": {
      "text/plain": [
       "order_id                       object\n",
       "order_item_id                   int64\n",
       "product_id                     object\n",
       "seller_id                      object\n",
       "shipping_limit_date    datetime64[ns]\n",
       "price                         float64\n",
       "freight_value                 float64\n",
       "dtype: object"
      ]
     },
     "execution_count": 5,
     "metadata": {},
     "output_type": "execute_result"
    }
   ],
   "source": [
    "df3.dtypes"
   ]
  },
  {
   "cell_type": "markdown",
   "id": "52478c01",
   "metadata": {},
   "source": [
    "# Разведывательный анализ"
   ]
  },
  {
   "cell_type": "markdown",
   "id": "5ec7be30",
   "metadata": {},
   "source": [
    "#### Наполнение таблиц:"
   ]
  },
  {
   "cell_type": "code",
   "execution_count": 11,
   "id": "6ceaf97d",
   "metadata": {
    "scrolled": false
   },
   "outputs": [
    {
     "data": {
      "text/html": [
       "<div>\n",
       "<style scoped>\n",
       "    .dataframe tbody tr th:only-of-type {\n",
       "        vertical-align: middle;\n",
       "    }\n",
       "\n",
       "    .dataframe tbody tr th {\n",
       "        vertical-align: top;\n",
       "    }\n",
       "\n",
       "    .dataframe thead th {\n",
       "        text-align: right;\n",
       "    }\n",
       "</style>\n",
       "<table border=\"1\" class=\"dataframe\">\n",
       "  <thead>\n",
       "    <tr style=\"text-align: right;\">\n",
       "      <th></th>\n",
       "      <th>customer_id</th>\n",
       "      <th>customer_unique_id</th>\n",
       "      <th>customer_zip_code_prefix</th>\n",
       "      <th>customer_city</th>\n",
       "      <th>customer_state</th>\n",
       "    </tr>\n",
       "  </thead>\n",
       "  <tbody>\n",
       "    <tr>\n",
       "      <th>0</th>\n",
       "      <td>06b8999e2fba1a1fbc88172c00ba8bc7</td>\n",
       "      <td>861eff4711a542e4b93843c6dd7febb0</td>\n",
       "      <td>14409</td>\n",
       "      <td>franca</td>\n",
       "      <td>SP</td>\n",
       "    </tr>\n",
       "    <tr>\n",
       "      <th>1</th>\n",
       "      <td>18955e83d337fd6b2def6b18a428ac77</td>\n",
       "      <td>290c77bc529b7ac935b93aa66c333dc3</td>\n",
       "      <td>9790</td>\n",
       "      <td>sao bernardo do campo</td>\n",
       "      <td>SP</td>\n",
       "    </tr>\n",
       "    <tr>\n",
       "      <th>2</th>\n",
       "      <td>4e7b3e00288586ebd08712fdd0374a03</td>\n",
       "      <td>060e732b5b29e8181a18229c7b0b2b5e</td>\n",
       "      <td>1151</td>\n",
       "      <td>sao paulo</td>\n",
       "      <td>SP</td>\n",
       "    </tr>\n",
       "  </tbody>\n",
       "</table>\n",
       "</div>"
      ],
      "text/plain": [
       "                        customer_id                customer_unique_id  \\\n",
       "0  06b8999e2fba1a1fbc88172c00ba8bc7  861eff4711a542e4b93843c6dd7febb0   \n",
       "1  18955e83d337fd6b2def6b18a428ac77  290c77bc529b7ac935b93aa66c333dc3   \n",
       "2  4e7b3e00288586ebd08712fdd0374a03  060e732b5b29e8181a18229c7b0b2b5e   \n",
       "\n",
       "   customer_zip_code_prefix          customer_city customer_state  \n",
       "0                     14409                 franca             SP  \n",
       "1                      9790  sao bernardo do campo             SP  \n",
       "2                      1151              sao paulo             SP  "
      ]
     },
     "execution_count": 11,
     "metadata": {},
     "output_type": "execute_result"
    }
   ],
   "source": [
    "df1.head(3)"
   ]
  },
  {
   "cell_type": "code",
   "execution_count": 12,
   "id": "6c3a0494",
   "metadata": {
    "scrolled": false
   },
   "outputs": [
    {
     "data": {
      "text/html": [
       "<div>\n",
       "<style scoped>\n",
       "    .dataframe tbody tr th:only-of-type {\n",
       "        vertical-align: middle;\n",
       "    }\n",
       "\n",
       "    .dataframe tbody tr th {\n",
       "        vertical-align: top;\n",
       "    }\n",
       "\n",
       "    .dataframe thead th {\n",
       "        text-align: right;\n",
       "    }\n",
       "</style>\n",
       "<table border=\"1\" class=\"dataframe\">\n",
       "  <thead>\n",
       "    <tr style=\"text-align: right;\">\n",
       "      <th></th>\n",
       "      <th>order_id</th>\n",
       "      <th>customer_id</th>\n",
       "      <th>order_status</th>\n",
       "      <th>order_purchase_timestamp</th>\n",
       "      <th>order_approved_at</th>\n",
       "      <th>order_delivered_carrier_date</th>\n",
       "      <th>order_delivered_customer_date</th>\n",
       "      <th>order_estimated_delivery_date</th>\n",
       "    </tr>\n",
       "  </thead>\n",
       "  <tbody>\n",
       "    <tr>\n",
       "      <th>0</th>\n",
       "      <td>e481f51cbdc54678b7cc49136f2d6af7</td>\n",
       "      <td>9ef432eb6251297304e76186b10a928d</td>\n",
       "      <td>delivered</td>\n",
       "      <td>2017-10-02 10:56:33</td>\n",
       "      <td>2017-10-02 11:07:15</td>\n",
       "      <td>2017-10-04 19:55:00</td>\n",
       "      <td>2017-10-10 21:25:13</td>\n",
       "      <td>2017-10-18</td>\n",
       "    </tr>\n",
       "    <tr>\n",
       "      <th>1</th>\n",
       "      <td>53cdb2fc8bc7dce0b6741e2150273451</td>\n",
       "      <td>b0830fb4747a6c6d20dea0b8c802d7ef</td>\n",
       "      <td>delivered</td>\n",
       "      <td>2018-07-24 20:41:37</td>\n",
       "      <td>2018-07-26 03:24:27</td>\n",
       "      <td>2018-07-26 14:31:00</td>\n",
       "      <td>2018-08-07 15:27:45</td>\n",
       "      <td>2018-08-13</td>\n",
       "    </tr>\n",
       "    <tr>\n",
       "      <th>2</th>\n",
       "      <td>47770eb9100c2d0c44946d9cf07ec65d</td>\n",
       "      <td>41ce2a54c0b03bf3443c3d931a367089</td>\n",
       "      <td>delivered</td>\n",
       "      <td>2018-08-08 08:38:49</td>\n",
       "      <td>2018-08-08 08:55:23</td>\n",
       "      <td>2018-08-08 13:50:00</td>\n",
       "      <td>2018-08-17 18:06:29</td>\n",
       "      <td>2018-09-04</td>\n",
       "    </tr>\n",
       "  </tbody>\n",
       "</table>\n",
       "</div>"
      ],
      "text/plain": [
       "                           order_id                       customer_id  \\\n",
       "0  e481f51cbdc54678b7cc49136f2d6af7  9ef432eb6251297304e76186b10a928d   \n",
       "1  53cdb2fc8bc7dce0b6741e2150273451  b0830fb4747a6c6d20dea0b8c802d7ef   \n",
       "2  47770eb9100c2d0c44946d9cf07ec65d  41ce2a54c0b03bf3443c3d931a367089   \n",
       "\n",
       "  order_status order_purchase_timestamp   order_approved_at  \\\n",
       "0    delivered      2017-10-02 10:56:33 2017-10-02 11:07:15   \n",
       "1    delivered      2018-07-24 20:41:37 2018-07-26 03:24:27   \n",
       "2    delivered      2018-08-08 08:38:49 2018-08-08 08:55:23   \n",
       "\n",
       "  order_delivered_carrier_date order_delivered_customer_date  \\\n",
       "0          2017-10-04 19:55:00           2017-10-10 21:25:13   \n",
       "1          2018-07-26 14:31:00           2018-08-07 15:27:45   \n",
       "2          2018-08-08 13:50:00           2018-08-17 18:06:29   \n",
       "\n",
       "  order_estimated_delivery_date  \n",
       "0                    2017-10-18  \n",
       "1                    2018-08-13  \n",
       "2                    2018-09-04  "
      ]
     },
     "execution_count": 12,
     "metadata": {},
     "output_type": "execute_result"
    }
   ],
   "source": [
    "df2.head(3)"
   ]
  },
  {
   "cell_type": "code",
   "execution_count": 13,
   "id": "b63c2795",
   "metadata": {
    "scrolled": true
   },
   "outputs": [
    {
     "data": {
      "text/html": [
       "<div>\n",
       "<style scoped>\n",
       "    .dataframe tbody tr th:only-of-type {\n",
       "        vertical-align: middle;\n",
       "    }\n",
       "\n",
       "    .dataframe tbody tr th {\n",
       "        vertical-align: top;\n",
       "    }\n",
       "\n",
       "    .dataframe thead th {\n",
       "        text-align: right;\n",
       "    }\n",
       "</style>\n",
       "<table border=\"1\" class=\"dataframe\">\n",
       "  <thead>\n",
       "    <tr style=\"text-align: right;\">\n",
       "      <th></th>\n",
       "      <th>order_id</th>\n",
       "      <th>order_item_id</th>\n",
       "      <th>product_id</th>\n",
       "      <th>seller_id</th>\n",
       "      <th>shipping_limit_date</th>\n",
       "      <th>price</th>\n",
       "      <th>freight_value</th>\n",
       "    </tr>\n",
       "  </thead>\n",
       "  <tbody>\n",
       "    <tr>\n",
       "      <th>0</th>\n",
       "      <td>00010242fe8c5a6d1ba2dd792cb16214</td>\n",
       "      <td>1</td>\n",
       "      <td>4244733e06e7ecb4970a6e2683c13e61</td>\n",
       "      <td>48436dade18ac8b2bce089ec2a041202</td>\n",
       "      <td>2017-09-19 09:45:35</td>\n",
       "      <td>58.9</td>\n",
       "      <td>13.29</td>\n",
       "    </tr>\n",
       "    <tr>\n",
       "      <th>1</th>\n",
       "      <td>00018f77f2f0320c557190d7a144bdd3</td>\n",
       "      <td>1</td>\n",
       "      <td>e5f2d52b802189ee658865ca93d83a8f</td>\n",
       "      <td>dd7ddc04e1b6c2c614352b383efe2d36</td>\n",
       "      <td>2017-05-03 11:05:13</td>\n",
       "      <td>239.9</td>\n",
       "      <td>19.93</td>\n",
       "    </tr>\n",
       "    <tr>\n",
       "      <th>2</th>\n",
       "      <td>000229ec398224ef6ca0657da4fc703e</td>\n",
       "      <td>1</td>\n",
       "      <td>c777355d18b72b67abbeef9df44fd0fd</td>\n",
       "      <td>5b51032eddd242adc84c38acab88f23d</td>\n",
       "      <td>2018-01-18 14:48:30</td>\n",
       "      <td>199.0</td>\n",
       "      <td>17.87</td>\n",
       "    </tr>\n",
       "  </tbody>\n",
       "</table>\n",
       "</div>"
      ],
      "text/plain": [
       "                           order_id  order_item_id  \\\n",
       "0  00010242fe8c5a6d1ba2dd792cb16214              1   \n",
       "1  00018f77f2f0320c557190d7a144bdd3              1   \n",
       "2  000229ec398224ef6ca0657da4fc703e              1   \n",
       "\n",
       "                         product_id                         seller_id  \\\n",
       "0  4244733e06e7ecb4970a6e2683c13e61  48436dade18ac8b2bce089ec2a041202   \n",
       "1  e5f2d52b802189ee658865ca93d83a8f  dd7ddc04e1b6c2c614352b383efe2d36   \n",
       "2  c777355d18b72b67abbeef9df44fd0fd  5b51032eddd242adc84c38acab88f23d   \n",
       "\n",
       "  shipping_limit_date  price  freight_value  \n",
       "0 2017-09-19 09:45:35   58.9          13.29  \n",
       "1 2017-05-03 11:05:13  239.9          19.93  \n",
       "2 2018-01-18 14:48:30  199.0          17.87  "
      ]
     },
     "execution_count": 13,
     "metadata": {},
     "output_type": "execute_result"
    }
   ],
   "source": [
    "df3.head(3)"
   ]
  },
  {
   "cell_type": "markdown",
   "id": "9d85eb0c",
   "metadata": {},
   "source": [
    "#### Размеры таблиц:"
   ]
  },
  {
   "cell_type": "code",
   "execution_count": 14,
   "id": "28c4be64",
   "metadata": {},
   "outputs": [
    {
     "data": {
      "text/plain": [
       "(99441, 5)"
      ]
     },
     "execution_count": 14,
     "metadata": {},
     "output_type": "execute_result"
    }
   ],
   "source": [
    "df1.shape #(99441, 5)"
   ]
  },
  {
   "cell_type": "code",
   "execution_count": 15,
   "id": "c431f17d",
   "metadata": {},
   "outputs": [
    {
     "data": {
      "text/plain": [
       "(99441, 8)"
      ]
     },
     "execution_count": 15,
     "metadata": {},
     "output_type": "execute_result"
    }
   ],
   "source": [
    "df2.shape #(99441, 8)"
   ]
  },
  {
   "cell_type": "code",
   "execution_count": 16,
   "id": "c80208cd",
   "metadata": {},
   "outputs": [
    {
     "data": {
      "text/plain": [
       "(112650, 7)"
      ]
     },
     "execution_count": 16,
     "metadata": {},
     "output_type": "execute_result"
    }
   ],
   "source": [
    "df3.shape #(112650, 7)"
   ]
  },
  {
   "cell_type": "markdown",
   "id": "5e3f8137",
   "metadata": {},
   "source": [
    "#### Пропущенные значения:"
   ]
  },
  {
   "cell_type": "code",
   "execution_count": 17,
   "id": "b4f733d6",
   "metadata": {
    "scrolled": true
   },
   "outputs": [
    {
     "data": {
      "text/plain": [
       "customer_id                 0\n",
       "customer_unique_id          0\n",
       "customer_zip_code_prefix    0\n",
       "customer_city               0\n",
       "customer_state              0\n",
       "dtype: int64"
      ]
     },
     "execution_count": 17,
     "metadata": {},
     "output_type": "execute_result"
    }
   ],
   "source": [
    "df1.isna().sum()"
   ]
  },
  {
   "cell_type": "code",
   "execution_count": 18,
   "id": "c59821f1",
   "metadata": {
    "scrolled": false
   },
   "outputs": [
    {
     "data": {
      "text/plain": [
       "order_id                            0\n",
       "customer_id                         0\n",
       "order_status                        0\n",
       "order_purchase_timestamp            0\n",
       "order_approved_at                 160\n",
       "order_delivered_carrier_date     1783\n",
       "order_delivered_customer_date    2965\n",
       "order_estimated_delivery_date       0\n",
       "dtype: int64"
      ]
     },
     "execution_count": 18,
     "metadata": {},
     "output_type": "execute_result"
    }
   ],
   "source": [
    "df2.isna().sum()"
   ]
  },
  {
   "cell_type": "code",
   "execution_count": 25,
   "id": "638b6536",
   "metadata": {
    "scrolled": true
   },
   "outputs": [
    {
     "data": {
      "text/plain": [
       "order_id               0\n",
       "order_item_id          0\n",
       "product_id             0\n",
       "seller_id              0\n",
       "shipping_limit_date    0\n",
       "price                  0\n",
       "freight_value          0\n",
       "dtype: int64"
      ]
     },
     "execution_count": 25,
     "metadata": {},
     "output_type": "execute_result"
    }
   ],
   "source": [
    "df3.isna().sum()"
   ]
  },
  {
   "cell_type": "markdown",
   "id": "17749bfd",
   "metadata": {},
   "source": [
    "#### Возможные статусы заказов"
   ]
  },
  {
   "cell_type": "code",
   "execution_count": 19,
   "id": "f7b22526",
   "metadata": {
    "scrolled": true
   },
   "outputs": [
    {
     "data": {
      "text/plain": [
       "array(['delivered', 'invoiced', 'shipped', 'processing', 'unavailable',\n",
       "       'canceled', 'created', 'approved'], dtype=object)"
      ]
     },
     "execution_count": 19,
     "metadata": {},
     "output_type": "execute_result"
    }
   ],
   "source": [
    "df2.order_status.unique()"
   ]
  },
  {
   "cell_type": "markdown",
   "id": "f5fe5dd5",
   "metadata": {},
   "source": [
    "# Задание 1"
   ]
  },
  {
   "cell_type": "markdown",
   "id": "456a6179",
   "metadata": {},
   "source": [
    "#### Сколько у нас пользователей, которые совершили покупку только один раз?"
   ]
  },
  {
   "cell_type": "markdown",
   "id": "d9eca3af",
   "metadata": {},
   "source": [
    "Для выполнения задачи фактом покупки будем считать наличие в заказе статуса __delivered__ и наличие времени подтверждения оплаты в колонке __order_approved_at.__  \n",
    "При этом анализ истории покупок будем проводить по __customer_unique_id__ (колонка __customer_id__ показывает, что их количество уникальных значений меньше, чем __customer_unique_id__ - *96096* против *99441* (см. ниже код). Возможно это связано с тем, что были повторно созданы аккаунты с одними и теми же паспортными данными. "
   ]
  },
  {
   "cell_type": "markdown",
   "id": "320b1cc8",
   "metadata": {},
   "source": [
    "Число уникальных значений индентификаторов пользователей (аналог номера паспорта):"
   ]
  },
  {
   "cell_type": "code",
   "execution_count": 36,
   "id": "0c89ca7b",
   "metadata": {
    "scrolled": true
   },
   "outputs": [
    {
     "data": {
      "text/plain": [
       "96096"
      ]
     },
     "execution_count": 36,
     "metadata": {},
     "output_type": "execute_result"
    }
   ],
   "source": [
    "df1.customer_unique_id.nunique() #96096"
   ]
  },
  {
   "cell_type": "markdown",
   "id": "52a7add4",
   "metadata": {},
   "source": [
    "Число уникальных значений позаказных идентификаторов пользователей."
   ]
  },
  {
   "cell_type": "code",
   "execution_count": 33,
   "id": "e702a51f",
   "metadata": {},
   "outputs": [
    {
     "data": {
      "text/plain": [
       "99441"
      ]
     },
     "execution_count": 33,
     "metadata": {},
     "output_type": "execute_result"
    }
   ],
   "source": [
    "df2.customer_id.nunique() #99441"
   ]
  },
  {
   "cell_type": "markdown",
   "id": "35fc5da9",
   "metadata": {},
   "source": [
    "Здесь нам необходимо объединить таблицы *df1* (таблица с уникальными идентификаторами пользователей) и *df2* (таблица заказов) по колонке __customer_id__ для дальнейшей группировки по __customer_unique_id__ и подсчета пользователей, которые совершили покупку только один раз:"
   ]
  },
  {
   "cell_type": "code",
   "execution_count": 4,
   "id": "879e2d69",
   "metadata": {},
   "outputs": [],
   "source": [
    "combined_users_orders = df1.merge(df2, on='customer_id')"
   ]
  },
  {
   "cell_type": "code",
   "execution_count": 6,
   "id": "ff5fb7a0",
   "metadata": {
    "scrolled": true
   },
   "outputs": [
    {
     "data": {
      "text/plain": [
       "customer_id                         0\n",
       "customer_unique_id                  0\n",
       "customer_zip_code_prefix            0\n",
       "customer_city                       0\n",
       "customer_state                      0\n",
       "order_id                            0\n",
       "order_status                        0\n",
       "order_purchase_timestamp            0\n",
       "order_approved_at                 160\n",
       "order_delivered_carrier_date     1783\n",
       "order_delivered_customer_date    2965\n",
       "order_estimated_delivery_date       0\n",
       "dtype: int64"
      ]
     },
     "execution_count": 6,
     "metadata": {},
     "output_type": "execute_result"
    }
   ],
   "source": [
    "combined_users_orders.isna().sum()"
   ]
  },
  {
   "cell_type": "markdown",
   "id": "5d153381",
   "metadata": {},
   "source": [
    "Уберем строки, где отсутствует записи о времени подвтерждения по оплатам:"
   ]
  },
  {
   "cell_type": "code",
   "execution_count": 5,
   "id": "05e5f08a",
   "metadata": {},
   "outputs": [],
   "source": [
    "combined_users_orders.dropna(subset = ['order_approved_at'], inplace=True)"
   ]
  },
  {
   "cell_type": "markdown",
   "id": "84af3631",
   "metadata": {},
   "source": [
    "Пользователи, совершивие одну покупку:"
   ]
  },
  {
   "cell_type": "code",
   "execution_count": 6,
   "id": "ecbdb5f6",
   "metadata": {},
   "outputs": [],
   "source": [
    "one_purchase = combined_users_orders.query(\"order_status == 'delivered'\") \\\n",
    "                                    .groupby(\"customer_unique_id\", as_index=False) \\\n",
    "                                    .agg({\"order_purchase_timestamp\": \"count\"}) \\\n",
    "                                    .rename(columns={\"order_purchase_timestamp\": \"quantity\"}) \\\n",
    "                                    .sort_values(\"quantity\", ascending=False) \\\n",
    "                                    .query(\"quantity == 1\")"
   ]
  },
  {
   "cell_type": "code",
   "execution_count": 7,
   "id": "7e3a3128",
   "metadata": {},
   "outputs": [
    {
     "data": {
      "text/html": [
       "<div>\n",
       "<style scoped>\n",
       "    .dataframe tbody tr th:only-of-type {\n",
       "        vertical-align: middle;\n",
       "    }\n",
       "\n",
       "    .dataframe tbody tr th {\n",
       "        vertical-align: top;\n",
       "    }\n",
       "\n",
       "    .dataframe thead th {\n",
       "        text-align: right;\n",
       "    }\n",
       "</style>\n",
       "<table border=\"1\" class=\"dataframe\">\n",
       "  <thead>\n",
       "    <tr style=\"text-align: right;\">\n",
       "      <th></th>\n",
       "      <th>customer_unique_id</th>\n",
       "      <th>quantity</th>\n",
       "    </tr>\n",
       "  </thead>\n",
       "  <tbody>\n",
       "    <tr>\n",
       "      <th>63178</th>\n",
       "      <td>ad0adff48be9c5f67cb35fd0895b42e7</td>\n",
       "      <td>1</td>\n",
       "    </tr>\n",
       "    <tr>\n",
       "      <th>63009</th>\n",
       "      <td>ac95e1a03943d13b3a18952c4dcb3166</td>\n",
       "      <td>1</td>\n",
       "    </tr>\n",
       "    <tr>\n",
       "      <th>63012</th>\n",
       "      <td>ac96769b758dad3bd572bc5e3fcb8511</td>\n",
       "      <td>1</td>\n",
       "    </tr>\n",
       "    <tr>\n",
       "      <th>63606</th>\n",
       "      <td>ae350b2be591bc6459648070d2dc4351</td>\n",
       "      <td>1</td>\n",
       "    </tr>\n",
       "    <tr>\n",
       "      <th>62324</th>\n",
       "      <td>aab8da7cf44935b6239eafd8750d6ec4</td>\n",
       "      <td>1</td>\n",
       "    </tr>\n",
       "    <tr>\n",
       "      <th>...</th>\n",
       "      <td>...</td>\n",
       "      <td>...</td>\n",
       "    </tr>\n",
       "    <tr>\n",
       "      <th>31559</th>\n",
       "      <td>5656a8fabc8629ff96b2bc14f8c09a27</td>\n",
       "      <td>1</td>\n",
       "    </tr>\n",
       "    <tr>\n",
       "      <th>31558</th>\n",
       "      <td>56560124a5cc70119deb685775639ea7</td>\n",
       "      <td>1</td>\n",
       "    </tr>\n",
       "    <tr>\n",
       "      <th>31557</th>\n",
       "      <td>5655ee330a79bd1fd1e5fb220c2436dd</td>\n",
       "      <td>1</td>\n",
       "    </tr>\n",
       "    <tr>\n",
       "      <th>31556</th>\n",
       "      <td>5655967ad654dc2d2affca3502631db7</td>\n",
       "      <td>1</td>\n",
       "    </tr>\n",
       "    <tr>\n",
       "      <th>93344</th>\n",
       "      <td>ffffd2657e2aad2907e67c3e9daecbeb</td>\n",
       "      <td>1</td>\n",
       "    </tr>\n",
       "  </tbody>\n",
       "</table>\n",
       "<p>90545 rows × 2 columns</p>\n",
       "</div>"
      ],
      "text/plain": [
       "                     customer_unique_id  quantity\n",
       "63178  ad0adff48be9c5f67cb35fd0895b42e7         1\n",
       "63009  ac95e1a03943d13b3a18952c4dcb3166         1\n",
       "63012  ac96769b758dad3bd572bc5e3fcb8511         1\n",
       "63606  ae350b2be591bc6459648070d2dc4351         1\n",
       "62324  aab8da7cf44935b6239eafd8750d6ec4         1\n",
       "...                                 ...       ...\n",
       "31559  5656a8fabc8629ff96b2bc14f8c09a27         1\n",
       "31558  56560124a5cc70119deb685775639ea7         1\n",
       "31557  5655ee330a79bd1fd1e5fb220c2436dd         1\n",
       "31556  5655967ad654dc2d2affca3502631db7         1\n",
       "93344  ffffd2657e2aad2907e67c3e9daecbeb         1\n",
       "\n",
       "[90545 rows x 2 columns]"
      ]
     },
     "execution_count": 7,
     "metadata": {},
     "output_type": "execute_result"
    }
   ],
   "source": [
    "one_purchase"
   ]
  },
  {
   "cell_type": "code",
   "execution_count": 8,
   "id": "c5665aa1",
   "metadata": {},
   "outputs": [
    {
     "name": "stdout",
     "output_type": "stream",
     "text": [
      "Число пользователей, совершивших покупку только один раз, составляет 90545.\n"
     ]
    }
   ],
   "source": [
    "print(f'Число пользователей, совершивших покупку только один раз, составляет {one_purchase.shape[0]}.')"
   ]
  },
  {
   "cell_type": "markdown",
   "id": "a36aec9b",
   "metadata": {},
   "source": [
    "# Задание 2"
   ]
  },
  {
   "cell_type": "markdown",
   "id": "68a02896",
   "metadata": {},
   "source": [
    "#### Сколько заказов в месяц в среднем не доставляется по разным причинам (вывести детализацию по причинам)?"
   ]
  },
  {
   "cell_type": "markdown",
   "id": "37dffc37",
   "metadata": {},
   "source": [
    "Для выполнения задачи фактом недоставленного заказа будем считать заказы со статусом отличным от \"*доставлен пользователю*\" (__order_status__ != __delivered__). "
   ]
  },
  {
   "cell_type": "markdown",
   "id": "7de2d7f6",
   "metadata": {},
   "source": [
    "Определим число недоставленных заказах по той или иной причине:"
   ]
  },
  {
   "cell_type": "code",
   "execution_count": 14,
   "id": "e9855a6b",
   "metadata": {},
   "outputs": [],
   "source": [
    "undelivered_orders = combined_users_orders.query(\"order_status != 'delivered'\") \\\n",
    "                                          .groupby(\"order_status\", as_index=False) \\\n",
    "                                          .agg({\"customer_id\": \"count\"}) \\\n",
    "                                          .rename(columns={\"customer_id\": \"number_of_undelivered_orders\"}) \\\n",
    "                                          .sort_values(\"number_of_undelivered_orders\", ascending=False) "
   ]
  },
  {
   "cell_type": "code",
   "execution_count": 15,
   "id": "219f0fdd",
   "metadata": {},
   "outputs": [
    {
     "data": {
      "text/html": [
       "<div>\n",
       "<style scoped>\n",
       "    .dataframe tbody tr th:only-of-type {\n",
       "        vertical-align: middle;\n",
       "    }\n",
       "\n",
       "    .dataframe tbody tr th {\n",
       "        vertical-align: top;\n",
       "    }\n",
       "\n",
       "    .dataframe thead th {\n",
       "        text-align: right;\n",
       "    }\n",
       "</style>\n",
       "<table border=\"1\" class=\"dataframe\">\n",
       "  <thead>\n",
       "    <tr style=\"text-align: right;\">\n",
       "      <th></th>\n",
       "      <th>order_status</th>\n",
       "      <th>number_of_undelivered_orders</th>\n",
       "    </tr>\n",
       "  </thead>\n",
       "  <tbody>\n",
       "    <tr>\n",
       "      <th>4</th>\n",
       "      <td>shipped</td>\n",
       "      <td>1107</td>\n",
       "    </tr>\n",
       "    <tr>\n",
       "      <th>5</th>\n",
       "      <td>unavailable</td>\n",
       "      <td>609</td>\n",
       "    </tr>\n",
       "    <tr>\n",
       "      <th>1</th>\n",
       "      <td>canceled</td>\n",
       "      <td>484</td>\n",
       "    </tr>\n",
       "    <tr>\n",
       "      <th>2</th>\n",
       "      <td>invoiced</td>\n",
       "      <td>314</td>\n",
       "    </tr>\n",
       "    <tr>\n",
       "      <th>3</th>\n",
       "      <td>processing</td>\n",
       "      <td>301</td>\n",
       "    </tr>\n",
       "    <tr>\n",
       "      <th>0</th>\n",
       "      <td>approved</td>\n",
       "      <td>2</td>\n",
       "    </tr>\n",
       "  </tbody>\n",
       "</table>\n",
       "</div>"
      ],
      "text/plain": [
       "  order_status  number_of_undelivered_orders\n",
       "4      shipped                          1107\n",
       "5  unavailable                           609\n",
       "1     canceled                           484\n",
       "2     invoiced                           314\n",
       "3   processing                           301\n",
       "0     approved                             2"
      ]
     },
     "execution_count": 15,
     "metadata": {},
     "output_type": "execute_result"
    }
   ],
   "source": [
    "undelivered_orders"
   ]
  },
  {
   "cell_type": "markdown",
   "id": "227fc72d",
   "metadata": {},
   "source": [
    "Число недоставленных заказов мы определили. Теперь, чтобы найти сколько заказов в среднем в месяц не доставляется по той или иной причине, нам необходимо определить период (число месяцев) работы магазина, чтобы число \"отмен\" в таблице __undelivered_orders__ разделить на число месяцев.\n",
    "Период работы магазина определим по колонке __order_purchase_timestamp__, примем, что разница в крайней и первой датах создания заказа является периодом работы магазина: "
   ]
  },
  {
   "cell_type": "code",
   "execution_count": 16,
   "id": "325bcb21",
   "metadata": {},
   "outputs": [],
   "source": [
    "delta = combined_users_orders.query(\"order_status != 'delivered'\").order_purchase_timestamp.max() - \\\n",
    "        combined_users_orders.query(\"order_status != 'delivered'\").order_purchase_timestamp.min()"
   ]
  },
  {
   "cell_type": "markdown",
   "id": "46027ba2",
   "metadata": {},
   "source": [
    "Определим количество месяцев работы магазина, округлив до целого в большую сторону:"
   ]
  },
  {
   "cell_type": "code",
   "execution_count": 17,
   "id": "53f396c4",
   "metadata": {},
   "outputs": [],
   "source": [
    "period = math.ceil(delta.days / (365/12))"
   ]
  },
  {
   "cell_type": "code",
   "execution_count": 18,
   "id": "d137d555",
   "metadata": {},
   "outputs": [
    {
     "name": "stdout",
     "output_type": "stream",
     "text": [
      "Магазин работает 24 месяцев.\n"
     ]
    }
   ],
   "source": [
    "print(f'Магазин работает {period} месяцев.')"
   ]
  },
  {
   "cell_type": "markdown",
   "id": "bd997791",
   "metadata": {},
   "source": [
    "Зная период работы магазина, определим среднее число недоставленных заказов по разным причинам в месяц:"
   ]
  },
  {
   "cell_type": "code",
   "execution_count": 22,
   "id": "ebf7447e",
   "metadata": {},
   "outputs": [],
   "source": [
    "undelivered_orders['undelivered_orders_per_month'] = undelivered_orders.number_of_undelivered_orders \\\n",
    "                                                                       .apply(lambda x: round(x/period, 2))"
   ]
  },
  {
   "cell_type": "code",
   "execution_count": 23,
   "id": "e85d50bc",
   "metadata": {
    "scrolled": true
   },
   "outputs": [
    {
     "data": {
      "text/html": [
       "<div>\n",
       "<style scoped>\n",
       "    .dataframe tbody tr th:only-of-type {\n",
       "        vertical-align: middle;\n",
       "    }\n",
       "\n",
       "    .dataframe tbody tr th {\n",
       "        vertical-align: top;\n",
       "    }\n",
       "\n",
       "    .dataframe thead th {\n",
       "        text-align: right;\n",
       "    }\n",
       "</style>\n",
       "<table border=\"1\" class=\"dataframe\">\n",
       "  <thead>\n",
       "    <tr style=\"text-align: right;\">\n",
       "      <th></th>\n",
       "      <th>order_status</th>\n",
       "      <th>number_of_undelivered_orders</th>\n",
       "      <th>undelivered_orders_per_month</th>\n",
       "    </tr>\n",
       "  </thead>\n",
       "  <tbody>\n",
       "    <tr>\n",
       "      <th>4</th>\n",
       "      <td>shipped</td>\n",
       "      <td>1107</td>\n",
       "      <td>46.12</td>\n",
       "    </tr>\n",
       "    <tr>\n",
       "      <th>5</th>\n",
       "      <td>unavailable</td>\n",
       "      <td>609</td>\n",
       "      <td>25.38</td>\n",
       "    </tr>\n",
       "    <tr>\n",
       "      <th>1</th>\n",
       "      <td>canceled</td>\n",
       "      <td>484</td>\n",
       "      <td>20.17</td>\n",
       "    </tr>\n",
       "    <tr>\n",
       "      <th>2</th>\n",
       "      <td>invoiced</td>\n",
       "      <td>314</td>\n",
       "      <td>13.08</td>\n",
       "    </tr>\n",
       "    <tr>\n",
       "      <th>3</th>\n",
       "      <td>processing</td>\n",
       "      <td>301</td>\n",
       "      <td>12.54</td>\n",
       "    </tr>\n",
       "    <tr>\n",
       "      <th>0</th>\n",
       "      <td>approved</td>\n",
       "      <td>2</td>\n",
       "      <td>0.08</td>\n",
       "    </tr>\n",
       "  </tbody>\n",
       "</table>\n",
       "</div>"
      ],
      "text/plain": [
       "  order_status  number_of_undelivered_orders  undelivered_orders_per_month\n",
       "4      shipped                          1107                         46.12\n",
       "5  unavailable                           609                         25.38\n",
       "1     canceled                           484                         20.17\n",
       "2     invoiced                           314                         13.08\n",
       "3   processing                           301                         12.54\n",
       "0     approved                             2                          0.08"
      ]
     },
     "execution_count": 23,
     "metadata": {},
     "output_type": "execute_result"
    }
   ],
   "source": [
    "undelivered_orders"
   ]
  },
  {
   "cell_type": "markdown",
   "id": "3d2f2f6a",
   "metadata": {},
   "source": [
    "Визуализируем недоставленные заказы:"
   ]
  },
  {
   "cell_type": "code",
   "execution_count": 19,
   "id": "167d0ef6",
   "metadata": {},
   "outputs": [
    {
     "data": {
      "image/png": "[encoded data removed]",
      "text/plain": [
       "<Figure size 864x576 with 1 Axes>"
      ]
     },
     "metadata": {},
     "output_type": "display_data"
    }
   ],
   "source": [
    "sns.barplot(data=undelivered_orders, x=\"order_status\", y=\"undelivered_orders_per_month\", palette='colorblind')\n",
    "sns.set(rc = {'figure.figsize':(12,8)})"
   ]
  },
  {
   "cell_type": "markdown",
   "id": "95747e1e",
   "metadata": {},
   "source": [
    "# Задание 3"
   ]
  },
  {
   "cell_type": "markdown",
   "id": "45826563",
   "metadata": {},
   "source": [
    "#### По каждому товару определить, в какой день недели товар чаще всего покупается."
   ]
  },
  {
   "cell_type": "markdown",
   "id": "6da03ff4",
   "metadata": {},
   "source": [
    "Здесь нам необходимо объединить таблицы *df2* (таблица заказов) и *df3* (товарные позиции):"
   ]
  },
  {
   "cell_type": "code",
   "execution_count": 24,
   "id": "a9e313bc",
   "metadata": {},
   "outputs": [],
   "source": [
    "combined_orders_itmes = df2.merge(df3, on='order_id')"
   ]
  },
  {
   "cell_type": "markdown",
   "id": "8bc3d0d5",
   "metadata": {},
   "source": [
    "Посмотрим на пропущенные значения в данных:"
   ]
  },
  {
   "cell_type": "code",
   "execution_count": 25,
   "id": "488e0a11",
   "metadata": {
    "scrolled": false
   },
   "outputs": [
    {
     "data": {
      "text/plain": [
       "order_id                          0\n",
       "customer_id                       0\n",
       "order_status                      0\n",
       "order_purchase_timestamp          0\n",
       "order_approved_at                15\n",
       "order_delivered_carrier_date      2\n",
       "order_delivered_customer_date     8\n",
       "order_estimated_delivery_date     0\n",
       "order_item_id                     0\n",
       "product_id                        0\n",
       "seller_id                         0\n",
       "shipping_limit_date               0\n",
       "price                             0\n",
       "freight_value                     0\n",
       "dtype: int64"
      ]
     },
     "execution_count": 25,
     "metadata": {},
     "output_type": "execute_result"
    }
   ],
   "source": [
    "combined_orders_itmes.query(\"order_status == 'delivered'\").isna().sum()"
   ]
  },
  {
   "cell_type": "markdown",
   "id": "fafcef3a",
   "metadata": {},
   "source": [
    "Теперь для более удобной работы отберем лишь интересующие нас колонки - __product_id__, __order_approved_at__ и к ним добавим колонку __weekday__, т.е. день недели оплаты товара.\n",
    "Также удалим записи, где отсутствует время оплаты (см. выше код) в колонке __order_approved_at__."
   ]
  },
  {
   "cell_type": "code",
   "execution_count": 26,
   "id": "758020f5",
   "metadata": {},
   "outputs": [],
   "source": [
    "temporary = combined_orders_itmes.query(\"order_status == 'delivered'\")[['product_id', 'order_approved_at']].dropna()"
   ]
  },
  {
   "cell_type": "markdown",
   "id": "f86da8b9",
   "metadata": {},
   "source": [
    "Теперь, чтобы определить в какой день недели товар чаще покупается, создадим колонку, в которой отметим день недели покупки. Для этого воспользуемся атрибутом времени:"
   ]
  },
  {
   "cell_type": "code",
   "execution_count": 27,
   "id": "5a1ae759",
   "metadata": {},
   "outputs": [],
   "source": [
    "temporary['weekday'] = temporary['order_approved_at'].dt.weekday"
   ]
  },
  {
   "cell_type": "markdown",
   "id": "7d60f90f",
   "metadata": {},
   "source": [
    "В получившейся таблице дни недели представлены числами в диапазоне [0:6], где 0 - понедельник, 1 - вторник, 2 - среда и т.д."
   ]
  },
  {
   "cell_type": "markdown",
   "id": "846016a7",
   "metadata": {},
   "source": [
    "Теперь определим какой товар в какой день недели чаще покупался. Приложу два варанта кода: первый выводит день, в который было больше всего покупок определенного товара. Недостатком кода является тот факт, что при двух или более днях с одинаковым количеством продаж будет выведен лишь один день; второй - выводим для каждого товара покупки за все дни недели:"
   ]
  },
  {
   "cell_type": "markdown",
   "id": "41d66ff3",
   "metadata": {},
   "source": [
    "*Первый вариант:*"
   ]
  },
  {
   "cell_type": "code",
   "execution_count": 28,
   "id": "6fd0e339",
   "metadata": {},
   "outputs": [],
   "source": [
    "frequency_purchaces_v1 = temporary.groupby(['product_id', 'weekday'], as_index=False) \\\n",
    "                                  .agg({'order_approved_at': 'count'}) \\\n",
    "                                  .rename(columns={\"order_approved_at\": \"quantity\"}) \\\n",
    "                                  .sort_values(['product_id', 'quantity'], ascending=[False, False]) \\\n",
    "                                  .groupby(\"product_id\") \\\n",
    "                                  .head(1)"
   ]
  },
  {
   "cell_type": "code",
   "execution_count": 29,
   "id": "48942300",
   "metadata": {
    "scrolled": false
   },
   "outputs": [
    {
     "data": {
      "text/html": [
       "<div>\n",
       "<style scoped>\n",
       "    .dataframe tbody tr th:only-of-type {\n",
       "        vertical-align: middle;\n",
       "    }\n",
       "\n",
       "    .dataframe tbody tr th {\n",
       "        vertical-align: top;\n",
       "    }\n",
       "\n",
       "    .dataframe thead th {\n",
       "        text-align: right;\n",
       "    }\n",
       "</style>\n",
       "<table border=\"1\" class=\"dataframe\">\n",
       "  <thead>\n",
       "    <tr style=\"text-align: right;\">\n",
       "      <th></th>\n",
       "      <th>product_id</th>\n",
       "      <th>weekday</th>\n",
       "      <th>quantity</th>\n",
       "    </tr>\n",
       "  </thead>\n",
       "  <tbody>\n",
       "    <tr>\n",
       "      <th>59835</th>\n",
       "      <td>fffe9eeff12fcbd74a2f2b007dde0c58</td>\n",
       "      <td>2</td>\n",
       "      <td>1</td>\n",
       "    </tr>\n",
       "    <tr>\n",
       "      <th>59832</th>\n",
       "      <td>fffdb2d0ec8d6a61f0a0a0db3f25b441</td>\n",
       "      <td>1</td>\n",
       "      <td>3</td>\n",
       "    </tr>\n",
       "    <tr>\n",
       "      <th>59831</th>\n",
       "      <td>fff9553ac224cec9d15d49f5a263411f</td>\n",
       "      <td>5</td>\n",
       "      <td>1</td>\n",
       "    </tr>\n",
       "    <tr>\n",
       "      <th>59830</th>\n",
       "      <td>fff81cc3158d2725c0655ab9ba0f712c</td>\n",
       "      <td>0</td>\n",
       "      <td>1</td>\n",
       "    </tr>\n",
       "    <tr>\n",
       "      <th>59828</th>\n",
       "      <td>fff6177642830a9a94a0f2cba5e476d1</td>\n",
       "      <td>0</td>\n",
       "      <td>1</td>\n",
       "    </tr>\n",
       "    <tr>\n",
       "      <th>...</th>\n",
       "      <td>...</td>\n",
       "      <td>...</td>\n",
       "      <td>...</td>\n",
       "    </tr>\n",
       "    <tr>\n",
       "      <th>5</th>\n",
       "      <td>000d9be29b5207b54e86aa1b1ac54872</td>\n",
       "      <td>1</td>\n",
       "      <td>1</td>\n",
       "    </tr>\n",
       "    <tr>\n",
       "      <th>3</th>\n",
       "      <td>000b8f95fcb9e0096488278317764d19</td>\n",
       "      <td>2</td>\n",
       "      <td>1</td>\n",
       "    </tr>\n",
       "    <tr>\n",
       "      <th>2</th>\n",
       "      <td>0009406fd7479715e4bef61dd91f2462</td>\n",
       "      <td>4</td>\n",
       "      <td>1</td>\n",
       "    </tr>\n",
       "    <tr>\n",
       "      <th>1</th>\n",
       "      <td>00088930e925c41fd95ebfe695fd2655</td>\n",
       "      <td>1</td>\n",
       "      <td>1</td>\n",
       "    </tr>\n",
       "    <tr>\n",
       "      <th>0</th>\n",
       "      <td>00066f42aeeb9f3007548bb9d3f33c38</td>\n",
       "      <td>6</td>\n",
       "      <td>1</td>\n",
       "    </tr>\n",
       "  </tbody>\n",
       "</table>\n",
       "<p>32213 rows × 3 columns</p>\n",
       "</div>"
      ],
      "text/plain": [
       "                             product_id  weekday  quantity\n",
       "59835  fffe9eeff12fcbd74a2f2b007dde0c58        2         1\n",
       "59832  fffdb2d0ec8d6a61f0a0a0db3f25b441        1         3\n",
       "59831  fff9553ac224cec9d15d49f5a263411f        5         1\n",
       "59830  fff81cc3158d2725c0655ab9ba0f712c        0         1\n",
       "59828  fff6177642830a9a94a0f2cba5e476d1        0         1\n",
       "...                                 ...      ...       ...\n",
       "5      000d9be29b5207b54e86aa1b1ac54872        1         1\n",
       "3      000b8f95fcb9e0096488278317764d19        2         1\n",
       "2      0009406fd7479715e4bef61dd91f2462        4         1\n",
       "1      00088930e925c41fd95ebfe695fd2655        1         1\n",
       "0      00066f42aeeb9f3007548bb9d3f33c38        6         1\n",
       "\n",
       "[32213 rows x 3 columns]"
      ]
     },
     "execution_count": 29,
     "metadata": {},
     "output_type": "execute_result"
    }
   ],
   "source": [
    "frequency_purchaces_v1"
   ]
  },
  {
   "cell_type": "markdown",
   "id": "472615d8",
   "metadata": {},
   "source": [
    "*Второй вариант:*"
   ]
  },
  {
   "cell_type": "code",
   "execution_count": 30,
   "id": "f08345be",
   "metadata": {},
   "outputs": [],
   "source": [
    "frequency_purchaces_v2 = temporary.groupby(['product_id', 'weekday'], as_index=False) \\\n",
    "                                  .agg({'order_approved_at': 'count'}) \\\n",
    "                                  .rename(columns={\"order_approved_at\": \"quantity\"}) \\\n",
    "                                  .sort_values(['product_id', 'quantity'], ascending=[False, False]) \\\n",
    "                                  .pivot(index='product_id', columns='weekday', values='quantity')"
   ]
  },
  {
   "cell_type": "code",
   "execution_count": 31,
   "id": "aea0abff",
   "metadata": {},
   "outputs": [
    {
     "data": {
      "text/html": [
       "<div>\n",
       "<style scoped>\n",
       "    .dataframe tbody tr th:only-of-type {\n",
       "        vertical-align: middle;\n",
       "    }\n",
       "\n",
       "    .dataframe tbody tr th {\n",
       "        vertical-align: top;\n",
       "    }\n",
       "\n",
       "    .dataframe thead th {\n",
       "        text-align: right;\n",
       "    }\n",
       "</style>\n",
       "<table border=\"1\" class=\"dataframe\">\n",
       "  <thead>\n",
       "    <tr style=\"text-align: right;\">\n",
       "      <th>weekday</th>\n",
       "      <th>0</th>\n",
       "      <th>1</th>\n",
       "      <th>2</th>\n",
       "      <th>3</th>\n",
       "      <th>4</th>\n",
       "      <th>5</th>\n",
       "      <th>6</th>\n",
       "    </tr>\n",
       "    <tr>\n",
       "      <th>product_id</th>\n",
       "      <th></th>\n",
       "      <th></th>\n",
       "      <th></th>\n",
       "      <th></th>\n",
       "      <th></th>\n",
       "      <th></th>\n",
       "      <th></th>\n",
       "    </tr>\n",
       "  </thead>\n",
       "  <tbody>\n",
       "    <tr>\n",
       "      <th>00066f42aeeb9f3007548bb9d3f33c38</th>\n",
       "      <td>NaN</td>\n",
       "      <td>NaN</td>\n",
       "      <td>NaN</td>\n",
       "      <td>NaN</td>\n",
       "      <td>NaN</td>\n",
       "      <td>NaN</td>\n",
       "      <td>1.0</td>\n",
       "    </tr>\n",
       "    <tr>\n",
       "      <th>00088930e925c41fd95ebfe695fd2655</th>\n",
       "      <td>NaN</td>\n",
       "      <td>1.0</td>\n",
       "      <td>NaN</td>\n",
       "      <td>NaN</td>\n",
       "      <td>NaN</td>\n",
       "      <td>NaN</td>\n",
       "      <td>NaN</td>\n",
       "    </tr>\n",
       "    <tr>\n",
       "      <th>0009406fd7479715e4bef61dd91f2462</th>\n",
       "      <td>NaN</td>\n",
       "      <td>NaN</td>\n",
       "      <td>NaN</td>\n",
       "      <td>NaN</td>\n",
       "      <td>1.0</td>\n",
       "      <td>NaN</td>\n",
       "      <td>NaN</td>\n",
       "    </tr>\n",
       "    <tr>\n",
       "      <th>000b8f95fcb9e0096488278317764d19</th>\n",
       "      <td>NaN</td>\n",
       "      <td>NaN</td>\n",
       "      <td>1.0</td>\n",
       "      <td>NaN</td>\n",
       "      <td>1.0</td>\n",
       "      <td>NaN</td>\n",
       "      <td>NaN</td>\n",
       "    </tr>\n",
       "    <tr>\n",
       "      <th>000d9be29b5207b54e86aa1b1ac54872</th>\n",
       "      <td>NaN</td>\n",
       "      <td>1.0</td>\n",
       "      <td>NaN</td>\n",
       "      <td>NaN</td>\n",
       "      <td>NaN</td>\n",
       "      <td>NaN</td>\n",
       "      <td>NaN</td>\n",
       "    </tr>\n",
       "    <tr>\n",
       "      <th>...</th>\n",
       "      <td>...</td>\n",
       "      <td>...</td>\n",
       "      <td>...</td>\n",
       "      <td>...</td>\n",
       "      <td>...</td>\n",
       "      <td>...</td>\n",
       "      <td>...</td>\n",
       "    </tr>\n",
       "    <tr>\n",
       "      <th>fff6177642830a9a94a0f2cba5e476d1</th>\n",
       "      <td>1.0</td>\n",
       "      <td>NaN</td>\n",
       "      <td>NaN</td>\n",
       "      <td>NaN</td>\n",
       "      <td>NaN</td>\n",
       "      <td>1.0</td>\n",
       "      <td>NaN</td>\n",
       "    </tr>\n",
       "    <tr>\n",
       "      <th>fff81cc3158d2725c0655ab9ba0f712c</th>\n",
       "      <td>1.0</td>\n",
       "      <td>NaN</td>\n",
       "      <td>NaN</td>\n",
       "      <td>NaN</td>\n",
       "      <td>NaN</td>\n",
       "      <td>NaN</td>\n",
       "      <td>NaN</td>\n",
       "    </tr>\n",
       "    <tr>\n",
       "      <th>fff9553ac224cec9d15d49f5a263411f</th>\n",
       "      <td>NaN</td>\n",
       "      <td>NaN</td>\n",
       "      <td>NaN</td>\n",
       "      <td>NaN</td>\n",
       "      <td>NaN</td>\n",
       "      <td>1.0</td>\n",
       "      <td>NaN</td>\n",
       "    </tr>\n",
       "    <tr>\n",
       "      <th>fffdb2d0ec8d6a61f0a0a0db3f25b441</th>\n",
       "      <td>NaN</td>\n",
       "      <td>3.0</td>\n",
       "      <td>NaN</td>\n",
       "      <td>1.0</td>\n",
       "      <td>1.0</td>\n",
       "      <td>NaN</td>\n",
       "      <td>NaN</td>\n",
       "    </tr>\n",
       "    <tr>\n",
       "      <th>fffe9eeff12fcbd74a2f2b007dde0c58</th>\n",
       "      <td>NaN</td>\n",
       "      <td>NaN</td>\n",
       "      <td>1.0</td>\n",
       "      <td>NaN</td>\n",
       "      <td>NaN</td>\n",
       "      <td>NaN</td>\n",
       "      <td>NaN</td>\n",
       "    </tr>\n",
       "  </tbody>\n",
       "</table>\n",
       "<p>32213 rows × 7 columns</p>\n",
       "</div>"
      ],
      "text/plain": [
       "weekday                             0    1    2    3    4    5    6\n",
       "product_id                                                         \n",
       "00066f42aeeb9f3007548bb9d3f33c38  NaN  NaN  NaN  NaN  NaN  NaN  1.0\n",
       "00088930e925c41fd95ebfe695fd2655  NaN  1.0  NaN  NaN  NaN  NaN  NaN\n",
       "0009406fd7479715e4bef61dd91f2462  NaN  NaN  NaN  NaN  1.0  NaN  NaN\n",
       "000b8f95fcb9e0096488278317764d19  NaN  NaN  1.0  NaN  1.0  NaN  NaN\n",
       "000d9be29b5207b54e86aa1b1ac54872  NaN  1.0  NaN  NaN  NaN  NaN  NaN\n",
       "...                               ...  ...  ...  ...  ...  ...  ...\n",
       "fff6177642830a9a94a0f2cba5e476d1  1.0  NaN  NaN  NaN  NaN  1.0  NaN\n",
       "fff81cc3158d2725c0655ab9ba0f712c  1.0  NaN  NaN  NaN  NaN  NaN  NaN\n",
       "fff9553ac224cec9d15d49f5a263411f  NaN  NaN  NaN  NaN  NaN  1.0  NaN\n",
       "fffdb2d0ec8d6a61f0a0a0db3f25b441  NaN  3.0  NaN  1.0  1.0  NaN  NaN\n",
       "fffe9eeff12fcbd74a2f2b007dde0c58  NaN  NaN  1.0  NaN  NaN  NaN  NaN\n",
       "\n",
       "[32213 rows x 7 columns]"
      ]
     },
     "execution_count": 31,
     "metadata": {},
     "output_type": "execute_result"
    }
   ],
   "source": [
    "frequency_purchaces_v2"
   ]
  },
  {
   "cell_type": "markdown",
   "id": "b181687a",
   "metadata": {},
   "source": [
    "Выполним небольшую проверку на тот факт, что товары не потеряли:"
   ]
  },
  {
   "cell_type": "code",
   "execution_count": 32,
   "id": "a4ccca29",
   "metadata": {},
   "outputs": [
    {
     "data": {
      "text/plain": [
       "True"
      ]
     },
     "execution_count": 32,
     "metadata": {},
     "output_type": "execute_result"
    }
   ],
   "source": [
    "temporary.product_id.nunique() == frequency_purchaces_v1.shape[0] == frequency_purchaces_v2.shape[0]"
   ]
  },
  {
   "cell_type": "markdown",
   "id": "2072fe8c",
   "metadata": {},
   "source": [
    "# Задание 4"
   ]
  },
  {
   "cell_type": "markdown",
   "id": "d74416c9",
   "metadata": {},
   "source": [
    "#### Сколько у каждого из пользователей в среднем покупок в неделю (по месяцам)? Не стоит забывать, что внутри месяца может быть не целое количество недель. Например, в ноябре 2021 года 4,28 недели. И внутри метрики это нужно учесть. "
   ]
  },
  {
   "cell_type": "markdown",
   "id": "1f90c3b5",
   "metadata": {},
   "source": [
    "Подсчет покупок для каждого пользователя будем вести по __customer_unique_id__ и количеству чеков - __order_id__."
   ]
  },
  {
   "cell_type": "markdown",
   "id": "ef0ead35",
   "metadata": {},
   "source": [
    "Здесь нам необходимо объединить таблицы *df1* (таблица с уникальными идентификаторами пользователей) и *df2* (таблица заказов):"
   ]
  },
  {
   "cell_type": "code",
   "execution_count": 33,
   "id": "ed72642c",
   "metadata": {},
   "outputs": [],
   "source": [
    "users_and_orders = df1.merge(df2, on=\"customer_id\")"
   ]
  },
  {
   "cell_type": "markdown",
   "id": "10d1a691",
   "metadata": {},
   "source": [
    "Отберем заказы со статусом delivered и интересующие нас колонки, также уберем записи без дат в колонке __order_approved_at__:"
   ]
  },
  {
   "cell_type": "code",
   "execution_count": 34,
   "id": "a4f03b72",
   "metadata": {},
   "outputs": [],
   "source": [
    "users_and_orders_delivered = users_and_orders[[\"customer_unique_id\", \n",
    "                                               \"order_approved_at\", \n",
    "                                               \"order_id\", \n",
    "                                               \"order_status\"]] \\\n",
    "                                               .query(\"order_status == 'delivered'\") \\\n",
    "                                               .dropna()"
   ]
  },
  {
   "cell_type": "code",
   "execution_count": 35,
   "id": "18350e64",
   "metadata": {},
   "outputs": [
    {
     "data": {
      "text/html": [
       "<div>\n",
       "<style scoped>\n",
       "    .dataframe tbody tr th:only-of-type {\n",
       "        vertical-align: middle;\n",
       "    }\n",
       "\n",
       "    .dataframe tbody tr th {\n",
       "        vertical-align: top;\n",
       "    }\n",
       "\n",
       "    .dataframe thead th {\n",
       "        text-align: right;\n",
       "    }\n",
       "</style>\n",
       "<table border=\"1\" class=\"dataframe\">\n",
       "  <thead>\n",
       "    <tr style=\"text-align: right;\">\n",
       "      <th></th>\n",
       "      <th>customer_unique_id</th>\n",
       "      <th>order_approved_at</th>\n",
       "      <th>order_id</th>\n",
       "      <th>order_status</th>\n",
       "    </tr>\n",
       "  </thead>\n",
       "  <tbody>\n",
       "    <tr>\n",
       "      <th>0</th>\n",
       "      <td>861eff4711a542e4b93843c6dd7febb0</td>\n",
       "      <td>2017-05-16 15:22:12</td>\n",
       "      <td>00e7ee1b050b8499577073aeb2a297a1</td>\n",
       "      <td>delivered</td>\n",
       "    </tr>\n",
       "    <tr>\n",
       "      <th>1</th>\n",
       "      <td>290c77bc529b7ac935b93aa66c333dc3</td>\n",
       "      <td>2018-01-12 20:58:32</td>\n",
       "      <td>29150127e6685892b6eab3eec79f59c7</td>\n",
       "      <td>delivered</td>\n",
       "    </tr>\n",
       "    <tr>\n",
       "      <th>2</th>\n",
       "      <td>060e732b5b29e8181a18229c7b0b2b5e</td>\n",
       "      <td>2018-05-20 16:19:10</td>\n",
       "      <td>b2059ed67ce144a36e2aa97d2c9e9ad2</td>\n",
       "      <td>delivered</td>\n",
       "    </tr>\n",
       "    <tr>\n",
       "      <th>3</th>\n",
       "      <td>259dac757896d24d7702b9acbbff3f3c</td>\n",
       "      <td>2018-03-13 17:29:19</td>\n",
       "      <td>951670f92359f4fe4a63112aa7306eba</td>\n",
       "      <td>delivered</td>\n",
       "    </tr>\n",
       "    <tr>\n",
       "      <th>4</th>\n",
       "      <td>345ecd01c38d18a9036ed96c73b8d066</td>\n",
       "      <td>2018-07-29 10:10:09</td>\n",
       "      <td>6b7d50bd145f6fc7f33cebabd7e49d0f</td>\n",
       "      <td>delivered</td>\n",
       "    </tr>\n",
       "    <tr>\n",
       "      <th>...</th>\n",
       "      <td>...</td>\n",
       "      <td>...</td>\n",
       "      <td>...</td>\n",
       "      <td>...</td>\n",
       "    </tr>\n",
       "    <tr>\n",
       "      <th>99436</th>\n",
       "      <td>1a29b476fee25c95fbafc67c5ac95cf8</td>\n",
       "      <td>2018-04-07 16:08:45</td>\n",
       "      <td>6760e20addcf0121e9d58f2f1ff14298</td>\n",
       "      <td>delivered</td>\n",
       "    </tr>\n",
       "    <tr>\n",
       "      <th>99437</th>\n",
       "      <td>d52a67c98be1cf6a5c84435bd38d095d</td>\n",
       "      <td>2018-04-04 08:35:12</td>\n",
       "      <td>9ec0c8947d973db4f4e8dcf1fbfa8f1b</td>\n",
       "      <td>delivered</td>\n",
       "    </tr>\n",
       "    <tr>\n",
       "      <th>99438</th>\n",
       "      <td>e9f50caf99f032f0bf3c55141f019d99</td>\n",
       "      <td>2018-04-08 20:30:03</td>\n",
       "      <td>fed4434add09a6f332ea398efd656a5c</td>\n",
       "      <td>delivered</td>\n",
       "    </tr>\n",
       "    <tr>\n",
       "      <th>99439</th>\n",
       "      <td>73c2643a0a458b49f58cea58833b192e</td>\n",
       "      <td>2017-11-03 21:31:20</td>\n",
       "      <td>e31ec91cea1ecf97797787471f98a8c2</td>\n",
       "      <td>delivered</td>\n",
       "    </tr>\n",
       "    <tr>\n",
       "      <th>99440</th>\n",
       "      <td>84732c5050c01db9b23e19ba39899398</td>\n",
       "      <td>2017-12-19 18:50:39</td>\n",
       "      <td>28db69209a75e59f20ccbb5c36a20b90</td>\n",
       "      <td>delivered</td>\n",
       "    </tr>\n",
       "  </tbody>\n",
       "</table>\n",
       "<p>96464 rows × 4 columns</p>\n",
       "</div>"
      ],
      "text/plain": [
       "                     customer_unique_id   order_approved_at  \\\n",
       "0      861eff4711a542e4b93843c6dd7febb0 2017-05-16 15:22:12   \n",
       "1      290c77bc529b7ac935b93aa66c333dc3 2018-01-12 20:58:32   \n",
       "2      060e732b5b29e8181a18229c7b0b2b5e 2018-05-20 16:19:10   \n",
       "3      259dac757896d24d7702b9acbbff3f3c 2018-03-13 17:29:19   \n",
       "4      345ecd01c38d18a9036ed96c73b8d066 2018-07-29 10:10:09   \n",
       "...                                 ...                 ...   \n",
       "99436  1a29b476fee25c95fbafc67c5ac95cf8 2018-04-07 16:08:45   \n",
       "99437  d52a67c98be1cf6a5c84435bd38d095d 2018-04-04 08:35:12   \n",
       "99438  e9f50caf99f032f0bf3c55141f019d99 2018-04-08 20:30:03   \n",
       "99439  73c2643a0a458b49f58cea58833b192e 2017-11-03 21:31:20   \n",
       "99440  84732c5050c01db9b23e19ba39899398 2017-12-19 18:50:39   \n",
       "\n",
       "                               order_id order_status  \n",
       "0      00e7ee1b050b8499577073aeb2a297a1    delivered  \n",
       "1      29150127e6685892b6eab3eec79f59c7    delivered  \n",
       "2      b2059ed67ce144a36e2aa97d2c9e9ad2    delivered  \n",
       "3      951670f92359f4fe4a63112aa7306eba    delivered  \n",
       "4      6b7d50bd145f6fc7f33cebabd7e49d0f    delivered  \n",
       "...                                 ...          ...  \n",
       "99436  6760e20addcf0121e9d58f2f1ff14298    delivered  \n",
       "99437  9ec0c8947d973db4f4e8dcf1fbfa8f1b    delivered  \n",
       "99438  fed4434add09a6f332ea398efd656a5c    delivered  \n",
       "99439  e31ec91cea1ecf97797787471f98a8c2    delivered  \n",
       "99440  28db69209a75e59f20ccbb5c36a20b90    delivered  \n",
       "\n",
       "[96464 rows x 4 columns]"
      ]
     },
     "execution_count": 35,
     "metadata": {},
     "output_type": "execute_result"
    }
   ],
   "source": [
    "users_and_orders_delivered"
   ]
  },
  {
   "cell_type": "markdown",
   "id": "e05a1708",
   "metadata": {},
   "source": [
    "Создадим колонку формата \"год-месяц\" для дальнейшей работы:"
   ]
  },
  {
   "cell_type": "code",
   "execution_count": 36,
   "id": "5c000da9",
   "metadata": {},
   "outputs": [],
   "source": [
    "users_and_orders_delivered[\"date\"] = users_and_orders_delivered[\"order_approved_at\"].dt.to_period('M')"
   ]
  },
  {
   "cell_type": "markdown",
   "id": "26b7ac39",
   "metadata": {},
   "source": [
    "Определим количество покупок для каждого пользователя по месяцам:"
   ]
  },
  {
   "cell_type": "code",
   "execution_count": 37,
   "id": "79edf344",
   "metadata": {},
   "outputs": [],
   "source": [
    "user_avg_purchases = users_and_orders_delivered.groupby([\"customer_unique_id\", \"date\"], as_index=False) \\\n",
    "                                               .agg({\"order_id\": \"count\"}) \\\n",
    "                                               .rename(columns={\"order_id\": \"quantity\"}) \\\n",
    "                                               .sort_values(\"date\", ascending=False)"
   ]
  },
  {
   "cell_type": "markdown",
   "id": "c1242849",
   "metadata": {},
   "source": [
    "Добавим колонку количества недель в месяце покупок:"
   ]
  },
  {
   "cell_type": "code",
   "execution_count": 38,
   "id": "284a4822",
   "metadata": {
    "scrolled": true
   },
   "outputs": [],
   "source": [
    "user_avg_purchases['week_in_month'] = round(user_avg_purchases.date.dt.daysinmonth / 7, 2)"
   ]
  },
  {
   "cell_type": "markdown",
   "id": "1db004db",
   "metadata": {},
   "source": [
    "И среднее количество покупок в неделю (по месяцам):"
   ]
  },
  {
   "cell_type": "code",
   "execution_count": 39,
   "id": "36395501",
   "metadata": {},
   "outputs": [],
   "source": [
    "user_avg_purchases[\"avg_purchase_by_week\"] = round(user_avg_purchases.quantity / user_avg_purchases.week_in_month, 2)"
   ]
  },
  {
   "cell_type": "code",
   "execution_count": 40,
   "id": "2d643e3a",
   "metadata": {},
   "outputs": [
    {
     "data": {
      "text/html": [
       "<div>\n",
       "<style scoped>\n",
       "    .dataframe tbody tr th:only-of-type {\n",
       "        vertical-align: middle;\n",
       "    }\n",
       "\n",
       "    .dataframe tbody tr th {\n",
       "        vertical-align: top;\n",
       "    }\n",
       "\n",
       "    .dataframe thead th {\n",
       "        text-align: right;\n",
       "    }\n",
       "</style>\n",
       "<table border=\"1\" class=\"dataframe\">\n",
       "  <thead>\n",
       "    <tr style=\"text-align: right;\">\n",
       "      <th></th>\n",
       "      <th>customer_unique_id</th>\n",
       "      <th>date</th>\n",
       "      <th>quantity</th>\n",
       "      <th>week_in_month</th>\n",
       "      <th>avg_purchase_by_week</th>\n",
       "    </tr>\n",
       "  </thead>\n",
       "  <tbody>\n",
       "    <tr>\n",
       "      <th>86820</th>\n",
       "      <td>e9494560865a85c42137b2620c9a0889</td>\n",
       "      <td>2018-08</td>\n",
       "      <td>1</td>\n",
       "      <td>4.43</td>\n",
       "      <td>0.23</td>\n",
       "    </tr>\n",
       "    <tr>\n",
       "      <th>44222</th>\n",
       "      <td>76dbd05cdab2c1e8f6db5de719eb2838</td>\n",
       "      <td>2018-08</td>\n",
       "      <td>1</td>\n",
       "      <td>4.43</td>\n",
       "      <td>0.23</td>\n",
       "    </tr>\n",
       "    <tr>\n",
       "      <th>7116</th>\n",
       "      <td>130825f7be6a31dab586c567c592b2cb</td>\n",
       "      <td>2018-08</td>\n",
       "      <td>1</td>\n",
       "      <td>4.43</td>\n",
       "      <td>0.23</td>\n",
       "    </tr>\n",
       "    <tr>\n",
       "      <th>44173</th>\n",
       "      <td>76bcd5ee3764110896c71c03bad849ca</td>\n",
       "      <td>2018-08</td>\n",
       "      <td>1</td>\n",
       "      <td>4.43</td>\n",
       "      <td>0.23</td>\n",
       "    </tr>\n",
       "    <tr>\n",
       "      <th>35147</th>\n",
       "      <td>5e452c7100eb681c1ae6cd5662f1d153</td>\n",
       "      <td>2018-08</td>\n",
       "      <td>1</td>\n",
       "      <td>4.43</td>\n",
       "      <td>0.23</td>\n",
       "    </tr>\n",
       "    <tr>\n",
       "      <th>...</th>\n",
       "      <td>...</td>\n",
       "      <td>...</td>\n",
       "      <td>...</td>\n",
       "      <td>...</td>\n",
       "      <td>...</td>\n",
       "    </tr>\n",
       "    <tr>\n",
       "      <th>31930</th>\n",
       "      <td>55b9662183a72ec77b8f467ff8d42fa3</td>\n",
       "      <td>2016-10</td>\n",
       "      <td>1</td>\n",
       "      <td>4.43</td>\n",
       "      <td>0.23</td>\n",
       "    </tr>\n",
       "    <tr>\n",
       "      <th>69439</th>\n",
       "      <td>ba8e8db5ac53ffa4aca56c6a645b9e05</td>\n",
       "      <td>2016-10</td>\n",
       "      <td>1</td>\n",
       "      <td>4.43</td>\n",
       "      <td>0.23</td>\n",
       "    </tr>\n",
       "    <tr>\n",
       "      <th>57259</th>\n",
       "      <td>99e41e69b60bd63edd83935499523063</td>\n",
       "      <td>2016-10</td>\n",
       "      <td>1</td>\n",
       "      <td>4.43</td>\n",
       "      <td>0.23</td>\n",
       "    </tr>\n",
       "    <tr>\n",
       "      <th>81746</th>\n",
       "      <td>db890d2b3c871e8e4298f21bc8a7736b</td>\n",
       "      <td>2016-10</td>\n",
       "      <td>1</td>\n",
       "      <td>4.43</td>\n",
       "      <td>0.23</td>\n",
       "    </tr>\n",
       "    <tr>\n",
       "      <th>48809</th>\n",
       "      <td>830d5b7aaa3b6f1e9ad63703bec97d23</td>\n",
       "      <td>2016-09</td>\n",
       "      <td>1</td>\n",
       "      <td>4.29</td>\n",
       "      <td>0.23</td>\n",
       "    </tr>\n",
       "  </tbody>\n",
       "</table>\n",
       "<p>95176 rows × 5 columns</p>\n",
       "</div>"
      ],
      "text/plain": [
       "                     customer_unique_id     date  quantity  week_in_month  \\\n",
       "86820  e9494560865a85c42137b2620c9a0889  2018-08         1           4.43   \n",
       "44222  76dbd05cdab2c1e8f6db5de719eb2838  2018-08         1           4.43   \n",
       "7116   130825f7be6a31dab586c567c592b2cb  2018-08         1           4.43   \n",
       "44173  76bcd5ee3764110896c71c03bad849ca  2018-08         1           4.43   \n",
       "35147  5e452c7100eb681c1ae6cd5662f1d153  2018-08         1           4.43   \n",
       "...                                 ...      ...       ...            ...   \n",
       "31930  55b9662183a72ec77b8f467ff8d42fa3  2016-10         1           4.43   \n",
       "69439  ba8e8db5ac53ffa4aca56c6a645b9e05  2016-10         1           4.43   \n",
       "57259  99e41e69b60bd63edd83935499523063  2016-10         1           4.43   \n",
       "81746  db890d2b3c871e8e4298f21bc8a7736b  2016-10         1           4.43   \n",
       "48809  830d5b7aaa3b6f1e9ad63703bec97d23  2016-09         1           4.29   \n",
       "\n",
       "       avg_purchase_by_week  \n",
       "86820                  0.23  \n",
       "44222                  0.23  \n",
       "7116                   0.23  \n",
       "44173                  0.23  \n",
       "35147                  0.23  \n",
       "...                     ...  \n",
       "31930                  0.23  \n",
       "69439                  0.23  \n",
       "57259                  0.23  \n",
       "81746                  0.23  \n",
       "48809                  0.23  \n",
       "\n",
       "[95176 rows x 5 columns]"
      ]
     },
     "execution_count": 40,
     "metadata": {},
     "output_type": "execute_result"
    }
   ],
   "source": [
    "user_avg_purchases"
   ]
  },
  {
   "cell_type": "markdown",
   "id": "6a7afd0c",
   "metadata": {},
   "source": [
    "# Задание 5"
   ]
  },
  {
   "cell_type": "markdown",
   "id": "32cea5ed",
   "metadata": {},
   "source": [
    "#### Используя pandas, проведи когортный анализ пользователей. В период с января по декабрь выяви когорту с самым высоким retention на 3й месяц."
   ]
  },
  {
   "cell_type": "markdown",
   "id": "646a935d",
   "metadata": {},
   "source": [
    "Для выполнения задачи воспользуемся готовой таблицей __users_and_orders_delivered__ из п.4 и отеберем необходимый для когортного анализа период, и отберем интересующие нас таблицы:"
   ]
  },
  {
   "cell_type": "code",
   "execution_count": 41,
   "id": "c530dab3",
   "metadata": {},
   "outputs": [
    {
     "data": {
      "text/html": [
       "<div>\n",
       "<style scoped>\n",
       "    .dataframe tbody tr th:only-of-type {\n",
       "        vertical-align: middle;\n",
       "    }\n",
       "\n",
       "    .dataframe tbody tr th {\n",
       "        vertical-align: top;\n",
       "    }\n",
       "\n",
       "    .dataframe thead th {\n",
       "        text-align: right;\n",
       "    }\n",
       "</style>\n",
       "<table border=\"1\" class=\"dataframe\">\n",
       "  <thead>\n",
       "    <tr style=\"text-align: right;\">\n",
       "      <th></th>\n",
       "      <th>customer_unique_id</th>\n",
       "      <th>order_approved_at</th>\n",
       "      <th>order_id</th>\n",
       "      <th>order_status</th>\n",
       "      <th>date</th>\n",
       "    </tr>\n",
       "  </thead>\n",
       "  <tbody>\n",
       "    <tr>\n",
       "      <th>0</th>\n",
       "      <td>861eff4711a542e4b93843c6dd7febb0</td>\n",
       "      <td>2017-05-16 15:22:12</td>\n",
       "      <td>00e7ee1b050b8499577073aeb2a297a1</td>\n",
       "      <td>delivered</td>\n",
       "      <td>2017-05</td>\n",
       "    </tr>\n",
       "    <tr>\n",
       "      <th>1</th>\n",
       "      <td>290c77bc529b7ac935b93aa66c333dc3</td>\n",
       "      <td>2018-01-12 20:58:32</td>\n",
       "      <td>29150127e6685892b6eab3eec79f59c7</td>\n",
       "      <td>delivered</td>\n",
       "      <td>2018-01</td>\n",
       "    </tr>\n",
       "    <tr>\n",
       "      <th>2</th>\n",
       "      <td>060e732b5b29e8181a18229c7b0b2b5e</td>\n",
       "      <td>2018-05-20 16:19:10</td>\n",
       "      <td>b2059ed67ce144a36e2aa97d2c9e9ad2</td>\n",
       "      <td>delivered</td>\n",
       "      <td>2018-05</td>\n",
       "    </tr>\n",
       "    <tr>\n",
       "      <th>3</th>\n",
       "      <td>259dac757896d24d7702b9acbbff3f3c</td>\n",
       "      <td>2018-03-13 17:29:19</td>\n",
       "      <td>951670f92359f4fe4a63112aa7306eba</td>\n",
       "      <td>delivered</td>\n",
       "      <td>2018-03</td>\n",
       "    </tr>\n",
       "    <tr>\n",
       "      <th>4</th>\n",
       "      <td>345ecd01c38d18a9036ed96c73b8d066</td>\n",
       "      <td>2018-07-29 10:10:09</td>\n",
       "      <td>6b7d50bd145f6fc7f33cebabd7e49d0f</td>\n",
       "      <td>delivered</td>\n",
       "      <td>2018-07</td>\n",
       "    </tr>\n",
       "    <tr>\n",
       "      <th>...</th>\n",
       "      <td>...</td>\n",
       "      <td>...</td>\n",
       "      <td>...</td>\n",
       "      <td>...</td>\n",
       "      <td>...</td>\n",
       "    </tr>\n",
       "    <tr>\n",
       "      <th>99436</th>\n",
       "      <td>1a29b476fee25c95fbafc67c5ac95cf8</td>\n",
       "      <td>2018-04-07 16:08:45</td>\n",
       "      <td>6760e20addcf0121e9d58f2f1ff14298</td>\n",
       "      <td>delivered</td>\n",
       "      <td>2018-04</td>\n",
       "    </tr>\n",
       "    <tr>\n",
       "      <th>99437</th>\n",
       "      <td>d52a67c98be1cf6a5c84435bd38d095d</td>\n",
       "      <td>2018-04-04 08:35:12</td>\n",
       "      <td>9ec0c8947d973db4f4e8dcf1fbfa8f1b</td>\n",
       "      <td>delivered</td>\n",
       "      <td>2018-04</td>\n",
       "    </tr>\n",
       "    <tr>\n",
       "      <th>99438</th>\n",
       "      <td>e9f50caf99f032f0bf3c55141f019d99</td>\n",
       "      <td>2018-04-08 20:30:03</td>\n",
       "      <td>fed4434add09a6f332ea398efd656a5c</td>\n",
       "      <td>delivered</td>\n",
       "      <td>2018-04</td>\n",
       "    </tr>\n",
       "    <tr>\n",
       "      <th>99439</th>\n",
       "      <td>73c2643a0a458b49f58cea58833b192e</td>\n",
       "      <td>2017-11-03 21:31:20</td>\n",
       "      <td>e31ec91cea1ecf97797787471f98a8c2</td>\n",
       "      <td>delivered</td>\n",
       "      <td>2017-11</td>\n",
       "    </tr>\n",
       "    <tr>\n",
       "      <th>99440</th>\n",
       "      <td>84732c5050c01db9b23e19ba39899398</td>\n",
       "      <td>2017-12-19 18:50:39</td>\n",
       "      <td>28db69209a75e59f20ccbb5c36a20b90</td>\n",
       "      <td>delivered</td>\n",
       "      <td>2017-12</td>\n",
       "    </tr>\n",
       "  </tbody>\n",
       "</table>\n",
       "<p>96464 rows × 5 columns</p>\n",
       "</div>"
      ],
      "text/plain": [
       "                     customer_unique_id   order_approved_at  \\\n",
       "0      861eff4711a542e4b93843c6dd7febb0 2017-05-16 15:22:12   \n",
       "1      290c77bc529b7ac935b93aa66c333dc3 2018-01-12 20:58:32   \n",
       "2      060e732b5b29e8181a18229c7b0b2b5e 2018-05-20 16:19:10   \n",
       "3      259dac757896d24d7702b9acbbff3f3c 2018-03-13 17:29:19   \n",
       "4      345ecd01c38d18a9036ed96c73b8d066 2018-07-29 10:10:09   \n",
       "...                                 ...                 ...   \n",
       "99436  1a29b476fee25c95fbafc67c5ac95cf8 2018-04-07 16:08:45   \n",
       "99437  d52a67c98be1cf6a5c84435bd38d095d 2018-04-04 08:35:12   \n",
       "99438  e9f50caf99f032f0bf3c55141f019d99 2018-04-08 20:30:03   \n",
       "99439  73c2643a0a458b49f58cea58833b192e 2017-11-03 21:31:20   \n",
       "99440  84732c5050c01db9b23e19ba39899398 2017-12-19 18:50:39   \n",
       "\n",
       "                               order_id order_status     date  \n",
       "0      00e7ee1b050b8499577073aeb2a297a1    delivered  2017-05  \n",
       "1      29150127e6685892b6eab3eec79f59c7    delivered  2018-01  \n",
       "2      b2059ed67ce144a36e2aa97d2c9e9ad2    delivered  2018-05  \n",
       "3      951670f92359f4fe4a63112aa7306eba    delivered  2018-03  \n",
       "4      6b7d50bd145f6fc7f33cebabd7e49d0f    delivered  2018-07  \n",
       "...                                 ...          ...      ...  \n",
       "99436  6760e20addcf0121e9d58f2f1ff14298    delivered  2018-04  \n",
       "99437  9ec0c8947d973db4f4e8dcf1fbfa8f1b    delivered  2018-04  \n",
       "99438  fed4434add09a6f332ea398efd656a5c    delivered  2018-04  \n",
       "99439  e31ec91cea1ecf97797787471f98a8c2    delivered  2017-11  \n",
       "99440  28db69209a75e59f20ccbb5c36a20b90    delivered  2017-12  \n",
       "\n",
       "[96464 rows x 5 columns]"
      ]
     },
     "execution_count": 41,
     "metadata": {},
     "output_type": "execute_result"
    }
   ],
   "source": [
    "users_and_orders_delivered"
   ]
  },
  {
   "cell_type": "markdown",
   "id": "20234f77",
   "metadata": {},
   "source": [
    "Отеберем нужные нам колонки и период в один год:"
   ]
  },
  {
   "cell_type": "code",
   "execution_count": 42,
   "id": "97d8fff3",
   "metadata": {},
   "outputs": [],
   "source": [
    "events = users_and_orders_delivered[[\"customer_unique_id\", \"order_approved_at\"]] \\\n",
    "         .query(\"'2017-01-01 00:00:00' <=order_approved_at <= '2017-12-31 23:59:59'\").dropna()"
   ]
  },
  {
   "cell_type": "code",
   "execution_count": 43,
   "id": "285a8f28",
   "metadata": {},
   "outputs": [
    {
     "data": {
      "text/html": [
       "<div>\n",
       "<style scoped>\n",
       "    .dataframe tbody tr th:only-of-type {\n",
       "        vertical-align: middle;\n",
       "    }\n",
       "\n",
       "    .dataframe tbody tr th {\n",
       "        vertical-align: top;\n",
       "    }\n",
       "\n",
       "    .dataframe thead th {\n",
       "        text-align: right;\n",
       "    }\n",
       "</style>\n",
       "<table border=\"1\" class=\"dataframe\">\n",
       "  <thead>\n",
       "    <tr style=\"text-align: right;\">\n",
       "      <th></th>\n",
       "      <th>customer_unique_id</th>\n",
       "      <th>order_approved_at</th>\n",
       "    </tr>\n",
       "  </thead>\n",
       "  <tbody>\n",
       "    <tr>\n",
       "      <th>0</th>\n",
       "      <td>861eff4711a542e4b93843c6dd7febb0</td>\n",
       "      <td>2017-05-16 15:22:12</td>\n",
       "    </tr>\n",
       "    <tr>\n",
       "      <th>5</th>\n",
       "      <td>4c93744516667ad3b8f1fb645a3116a4</td>\n",
       "      <td>2017-09-14 18:25:11</td>\n",
       "    </tr>\n",
       "    <tr>\n",
       "      <th>7</th>\n",
       "      <td>57b2a98a409812fe9618067b6b8ebe4f</td>\n",
       "      <td>2017-11-16 19:55:41</td>\n",
       "    </tr>\n",
       "    <tr>\n",
       "      <th>10</th>\n",
       "      <td>2a7745e1ed516b289ed9b29c7d0539a5</td>\n",
       "      <td>2017-11-27 18:01:20</td>\n",
       "    </tr>\n",
       "    <tr>\n",
       "      <th>12</th>\n",
       "      <td>918dc87cd72cd9f6ed4bd442ed785235</td>\n",
       "      <td>2017-09-09 10:10:17</td>\n",
       "    </tr>\n",
       "    <tr>\n",
       "      <th>...</th>\n",
       "      <td>...</td>\n",
       "      <td>...</td>\n",
       "    </tr>\n",
       "    <tr>\n",
       "      <th>99430</th>\n",
       "      <td>277490f0d435b602fe4475d4b89e9181</td>\n",
       "      <td>2017-05-25 02:50:25</td>\n",
       "    </tr>\n",
       "    <tr>\n",
       "      <th>99433</th>\n",
       "      <td>e7f8760e2bbd2f1986bebd99596c088e</td>\n",
       "      <td>2017-03-15 21:04:08</td>\n",
       "    </tr>\n",
       "    <tr>\n",
       "      <th>99435</th>\n",
       "      <td>4b5820135d360a45552b5163835b1d89</td>\n",
       "      <td>2017-12-18 00:17:27</td>\n",
       "    </tr>\n",
       "    <tr>\n",
       "      <th>99439</th>\n",
       "      <td>73c2643a0a458b49f58cea58833b192e</td>\n",
       "      <td>2017-11-03 21:31:20</td>\n",
       "    </tr>\n",
       "    <tr>\n",
       "      <th>99440</th>\n",
       "      <td>84732c5050c01db9b23e19ba39899398</td>\n",
       "      <td>2017-12-19 18:50:39</td>\n",
       "    </tr>\n",
       "  </tbody>\n",
       "</table>\n",
       "<p>43357 rows × 2 columns</p>\n",
       "</div>"
      ],
      "text/plain": [
       "                     customer_unique_id   order_approved_at\n",
       "0      861eff4711a542e4b93843c6dd7febb0 2017-05-16 15:22:12\n",
       "5      4c93744516667ad3b8f1fb645a3116a4 2017-09-14 18:25:11\n",
       "7      57b2a98a409812fe9618067b6b8ebe4f 2017-11-16 19:55:41\n",
       "10     2a7745e1ed516b289ed9b29c7d0539a5 2017-11-27 18:01:20\n",
       "12     918dc87cd72cd9f6ed4bd442ed785235 2017-09-09 10:10:17\n",
       "...                                 ...                 ...\n",
       "99430  277490f0d435b602fe4475d4b89e9181 2017-05-25 02:50:25\n",
       "99433  e7f8760e2bbd2f1986bebd99596c088e 2017-03-15 21:04:08\n",
       "99435  4b5820135d360a45552b5163835b1d89 2017-12-18 00:17:27\n",
       "99439  73c2643a0a458b49f58cea58833b192e 2017-11-03 21:31:20\n",
       "99440  84732c5050c01db9b23e19ba39899398 2017-12-19 18:50:39\n",
       "\n",
       "[43357 rows x 2 columns]"
      ]
     },
     "execution_count": 43,
     "metadata": {},
     "output_type": "execute_result"
    }
   ],
   "source": [
    "events"
   ]
  },
  {
   "cell_type": "markdown",
   "id": "fd699aab",
   "metadata": {},
   "source": [
    "Создадим колонку с месяцем оплаты пользователей и месячную когорту первой оплаты для каждого пользователя:"
   ]
  },
  {
   "cell_type": "code",
   "execution_count": 44,
   "id": "f6075e9c",
   "metadata": {},
   "outputs": [],
   "source": [
    "events['month'] = events['order_approved_at'].dt.to_period('M')\n",
    "events['cohort'] = events.groupby('customer_unique_id')['order_approved_at'] \\\n",
    "                         .transform('min') \\\n",
    "                         .dt.to_period('M')"
   ]
  },
  {
   "cell_type": "code",
   "execution_count": 45,
   "id": "41324184",
   "metadata": {},
   "outputs": [
    {
     "data": {
      "text/html": [
       "<div>\n",
       "<style scoped>\n",
       "    .dataframe tbody tr th:only-of-type {\n",
       "        vertical-align: middle;\n",
       "    }\n",
       "\n",
       "    .dataframe tbody tr th {\n",
       "        vertical-align: top;\n",
       "    }\n",
       "\n",
       "    .dataframe thead th {\n",
       "        text-align: right;\n",
       "    }\n",
       "</style>\n",
       "<table border=\"1\" class=\"dataframe\">\n",
       "  <thead>\n",
       "    <tr style=\"text-align: right;\">\n",
       "      <th></th>\n",
       "      <th>customer_unique_id</th>\n",
       "      <th>order_approved_at</th>\n",
       "      <th>month</th>\n",
       "      <th>cohort</th>\n",
       "    </tr>\n",
       "  </thead>\n",
       "  <tbody>\n",
       "    <tr>\n",
       "      <th>0</th>\n",
       "      <td>861eff4711a542e4b93843c6dd7febb0</td>\n",
       "      <td>2017-05-16 15:22:12</td>\n",
       "      <td>2017-05</td>\n",
       "      <td>2017-05</td>\n",
       "    </tr>\n",
       "    <tr>\n",
       "      <th>5</th>\n",
       "      <td>4c93744516667ad3b8f1fb645a3116a4</td>\n",
       "      <td>2017-09-14 18:25:11</td>\n",
       "      <td>2017-09</td>\n",
       "      <td>2017-09</td>\n",
       "    </tr>\n",
       "    <tr>\n",
       "      <th>7</th>\n",
       "      <td>57b2a98a409812fe9618067b6b8ebe4f</td>\n",
       "      <td>2017-11-16 19:55:41</td>\n",
       "      <td>2017-11</td>\n",
       "      <td>2017-11</td>\n",
       "    </tr>\n",
       "    <tr>\n",
       "      <th>10</th>\n",
       "      <td>2a7745e1ed516b289ed9b29c7d0539a5</td>\n",
       "      <td>2017-11-27 18:01:20</td>\n",
       "      <td>2017-11</td>\n",
       "      <td>2017-11</td>\n",
       "    </tr>\n",
       "    <tr>\n",
       "      <th>12</th>\n",
       "      <td>918dc87cd72cd9f6ed4bd442ed785235</td>\n",
       "      <td>2017-09-09 10:10:17</td>\n",
       "      <td>2017-09</td>\n",
       "      <td>2017-09</td>\n",
       "    </tr>\n",
       "    <tr>\n",
       "      <th>...</th>\n",
       "      <td>...</td>\n",
       "      <td>...</td>\n",
       "      <td>...</td>\n",
       "      <td>...</td>\n",
       "    </tr>\n",
       "    <tr>\n",
       "      <th>99430</th>\n",
       "      <td>277490f0d435b602fe4475d4b89e9181</td>\n",
       "      <td>2017-05-25 02:50:25</td>\n",
       "      <td>2017-05</td>\n",
       "      <td>2017-05</td>\n",
       "    </tr>\n",
       "    <tr>\n",
       "      <th>99433</th>\n",
       "      <td>e7f8760e2bbd2f1986bebd99596c088e</td>\n",
       "      <td>2017-03-15 21:04:08</td>\n",
       "      <td>2017-03</td>\n",
       "      <td>2017-03</td>\n",
       "    </tr>\n",
       "    <tr>\n",
       "      <th>99435</th>\n",
       "      <td>4b5820135d360a45552b5163835b1d89</td>\n",
       "      <td>2017-12-18 00:17:27</td>\n",
       "      <td>2017-12</td>\n",
       "      <td>2017-12</td>\n",
       "    </tr>\n",
       "    <tr>\n",
       "      <th>99439</th>\n",
       "      <td>73c2643a0a458b49f58cea58833b192e</td>\n",
       "      <td>2017-11-03 21:31:20</td>\n",
       "      <td>2017-11</td>\n",
       "      <td>2017-11</td>\n",
       "    </tr>\n",
       "    <tr>\n",
       "      <th>99440</th>\n",
       "      <td>84732c5050c01db9b23e19ba39899398</td>\n",
       "      <td>2017-12-19 18:50:39</td>\n",
       "      <td>2017-12</td>\n",
       "      <td>2017-12</td>\n",
       "    </tr>\n",
       "  </tbody>\n",
       "</table>\n",
       "<p>43357 rows × 4 columns</p>\n",
       "</div>"
      ],
      "text/plain": [
       "                     customer_unique_id   order_approved_at    month   cohort\n",
       "0      861eff4711a542e4b93843c6dd7febb0 2017-05-16 15:22:12  2017-05  2017-05\n",
       "5      4c93744516667ad3b8f1fb645a3116a4 2017-09-14 18:25:11  2017-09  2017-09\n",
       "7      57b2a98a409812fe9618067b6b8ebe4f 2017-11-16 19:55:41  2017-11  2017-11\n",
       "10     2a7745e1ed516b289ed9b29c7d0539a5 2017-11-27 18:01:20  2017-11  2017-11\n",
       "12     918dc87cd72cd9f6ed4bd442ed785235 2017-09-09 10:10:17  2017-09  2017-09\n",
       "...                                 ...                 ...      ...      ...\n",
       "99430  277490f0d435b602fe4475d4b89e9181 2017-05-25 02:50:25  2017-05  2017-05\n",
       "99433  e7f8760e2bbd2f1986bebd99596c088e 2017-03-15 21:04:08  2017-03  2017-03\n",
       "99435  4b5820135d360a45552b5163835b1d89 2017-12-18 00:17:27  2017-12  2017-12\n",
       "99439  73c2643a0a458b49f58cea58833b192e 2017-11-03 21:31:20  2017-11  2017-11\n",
       "99440  84732c5050c01db9b23e19ba39899398 2017-12-19 18:50:39  2017-12  2017-12\n",
       "\n",
       "[43357 rows x 4 columns]"
      ]
     },
     "execution_count": 45,
     "metadata": {},
     "output_type": "execute_result"
    }
   ],
   "source": [
    "events"
   ]
  },
  {
   "cell_type": "markdown",
   "id": "b4e81629",
   "metadata": {},
   "source": [
    "Теперь посчитаем количество уникальных пользователей для каждой группы __cohort__ и __month__. Также определим число месяцев между когортой и датой покупки:"
   ]
  },
  {
   "cell_type": "code",
   "execution_count": 46,
   "id": "f7f35d71",
   "metadata": {},
   "outputs": [],
   "source": [
    "cohort = events.groupby(['cohort', 'month'], as_index=False) \\\n",
    "               .agg(user_count=('customer_unique_id', 'nunique'))\n",
    "cohort['period_number'] = (cohort.month - cohort.cohort).apply(attrgetter('n'))"
   ]
  },
  {
   "cell_type": "code",
   "execution_count": 47,
   "id": "4de3115b",
   "metadata": {},
   "outputs": [
    {
     "data": {
      "text/html": [
       "<div>\n",
       "<style scoped>\n",
       "    .dataframe tbody tr th:only-of-type {\n",
       "        vertical-align: middle;\n",
       "    }\n",
       "\n",
       "    .dataframe tbody tr th {\n",
       "        vertical-align: top;\n",
       "    }\n",
       "\n",
       "    .dataframe thead th {\n",
       "        text-align: right;\n",
       "    }\n",
       "</style>\n",
       "<table border=\"1\" class=\"dataframe\">\n",
       "  <thead>\n",
       "    <tr style=\"text-align: right;\">\n",
       "      <th></th>\n",
       "      <th>cohort</th>\n",
       "      <th>month</th>\n",
       "      <th>user_count</th>\n",
       "      <th>period_number</th>\n",
       "    </tr>\n",
       "  </thead>\n",
       "  <tbody>\n",
       "    <tr>\n",
       "      <th>0</th>\n",
       "      <td>2017-01</td>\n",
       "      <td>2017-01</td>\n",
       "      <td>684</td>\n",
       "      <td>0</td>\n",
       "    </tr>\n",
       "    <tr>\n",
       "      <th>1</th>\n",
       "      <td>2017-01</td>\n",
       "      <td>2017-02</td>\n",
       "      <td>3</td>\n",
       "      <td>1</td>\n",
       "    </tr>\n",
       "    <tr>\n",
       "      <th>2</th>\n",
       "      <td>2017-01</td>\n",
       "      <td>2017-03</td>\n",
       "      <td>2</td>\n",
       "      <td>2</td>\n",
       "    </tr>\n",
       "    <tr>\n",
       "      <th>3</th>\n",
       "      <td>2017-01</td>\n",
       "      <td>2017-04</td>\n",
       "      <td>1</td>\n",
       "      <td>3</td>\n",
       "    </tr>\n",
       "    <tr>\n",
       "      <th>4</th>\n",
       "      <td>2017-01</td>\n",
       "      <td>2017-05</td>\n",
       "      <td>3</td>\n",
       "      <td>4</td>\n",
       "    </tr>\n",
       "    <tr>\n",
       "      <th>...</th>\n",
       "      <td>...</td>\n",
       "      <td>...</td>\n",
       "      <td>...</td>\n",
       "      <td>...</td>\n",
       "    </tr>\n",
       "    <tr>\n",
       "      <th>72</th>\n",
       "      <td>2017-10</td>\n",
       "      <td>2017-11</td>\n",
       "      <td>30</td>\n",
       "      <td>1</td>\n",
       "    </tr>\n",
       "    <tr>\n",
       "      <th>73</th>\n",
       "      <td>2017-10</td>\n",
       "      <td>2017-12</td>\n",
       "      <td>13</td>\n",
       "      <td>2</td>\n",
       "    </tr>\n",
       "    <tr>\n",
       "      <th>74</th>\n",
       "      <td>2017-11</td>\n",
       "      <td>2017-11</td>\n",
       "      <td>6928</td>\n",
       "      <td>0</td>\n",
       "    </tr>\n",
       "    <tr>\n",
       "      <th>75</th>\n",
       "      <td>2017-11</td>\n",
       "      <td>2017-12</td>\n",
       "      <td>39</td>\n",
       "      <td>1</td>\n",
       "    </tr>\n",
       "    <tr>\n",
       "      <th>76</th>\n",
       "      <td>2017-12</td>\n",
       "      <td>2017-12</td>\n",
       "      <td>5490</td>\n",
       "      <td>0</td>\n",
       "    </tr>\n",
       "  </tbody>\n",
       "</table>\n",
       "<p>77 rows × 4 columns</p>\n",
       "</div>"
      ],
      "text/plain": [
       "     cohort    month  user_count  period_number\n",
       "0   2017-01  2017-01         684              0\n",
       "1   2017-01  2017-02           3              1\n",
       "2   2017-01  2017-03           2              2\n",
       "3   2017-01  2017-04           1              3\n",
       "4   2017-01  2017-05           3              4\n",
       "..      ...      ...         ...            ...\n",
       "72  2017-10  2017-11          30              1\n",
       "73  2017-10  2017-12          13              2\n",
       "74  2017-11  2017-11        6928              0\n",
       "75  2017-11  2017-12          39              1\n",
       "76  2017-12  2017-12        5490              0\n",
       "\n",
       "[77 rows x 4 columns]"
      ]
     },
     "execution_count": 47,
     "metadata": {},
     "output_type": "execute_result"
    }
   ],
   "source": [
    "cohort"
   ]
  },
  {
   "cell_type": "markdown",
   "id": "ae17efa2",
   "metadata": {},
   "source": [
    "Приведем наши данные в сводную таблицу, чтобы каждая строка содержала информацию о данной когорте, а каждый столбец содержал значения за определенный период:"
   ]
  },
  {
   "cell_type": "code",
   "execution_count": 48,
   "id": "c5f509ed",
   "metadata": {},
   "outputs": [],
   "source": [
    "cohort_pivot = cohort.pivot_table(index='cohort', columns='period_number', values='user_count')"
   ]
  },
  {
   "cell_type": "code",
   "execution_count": 49,
   "id": "790e66f6",
   "metadata": {
    "scrolled": false
   },
   "outputs": [
    {
     "data": {
      "text/html": [
       "<div>\n",
       "<style scoped>\n",
       "    .dataframe tbody tr th:only-of-type {\n",
       "        vertical-align: middle;\n",
       "    }\n",
       "\n",
       "    .dataframe tbody tr th {\n",
       "        vertical-align: top;\n",
       "    }\n",
       "\n",
       "    .dataframe thead th {\n",
       "        text-align: right;\n",
       "    }\n",
       "</style>\n",
       "<table border=\"1\" class=\"dataframe\">\n",
       "  <thead>\n",
       "    <tr style=\"text-align: right;\">\n",
       "      <th>period_number</th>\n",
       "      <th>0</th>\n",
       "      <th>1</th>\n",
       "      <th>2</th>\n",
       "      <th>3</th>\n",
       "      <th>4</th>\n",
       "      <th>5</th>\n",
       "      <th>6</th>\n",
       "      <th>7</th>\n",
       "      <th>8</th>\n",
       "      <th>9</th>\n",
       "      <th>10</th>\n",
       "      <th>11</th>\n",
       "    </tr>\n",
       "    <tr>\n",
       "      <th>cohort</th>\n",
       "      <th></th>\n",
       "      <th></th>\n",
       "      <th></th>\n",
       "      <th></th>\n",
       "      <th></th>\n",
       "      <th></th>\n",
       "      <th></th>\n",
       "      <th></th>\n",
       "      <th></th>\n",
       "      <th></th>\n",
       "      <th></th>\n",
       "      <th></th>\n",
       "    </tr>\n",
       "  </thead>\n",
       "  <tbody>\n",
       "    <tr>\n",
       "      <th>2017-01</th>\n",
       "      <td>684.0</td>\n",
       "      <td>3.0</td>\n",
       "      <td>2.0</td>\n",
       "      <td>1.0</td>\n",
       "      <td>3.0</td>\n",
       "      <td>1.0</td>\n",
       "      <td>3.0</td>\n",
       "      <td>1.0</td>\n",
       "      <td>1.0</td>\n",
       "      <td>NaN</td>\n",
       "      <td>2.0</td>\n",
       "      <td>2.0</td>\n",
       "    </tr>\n",
       "    <tr>\n",
       "      <th>2017-02</th>\n",
       "      <td>1612.0</td>\n",
       "      <td>3.0</td>\n",
       "      <td>4.0</td>\n",
       "      <td>3.0</td>\n",
       "      <td>7.0</td>\n",
       "      <td>2.0</td>\n",
       "      <td>4.0</td>\n",
       "      <td>3.0</td>\n",
       "      <td>1.0</td>\n",
       "      <td>3.0</td>\n",
       "      <td>2.0</td>\n",
       "      <td>NaN</td>\n",
       "    </tr>\n",
       "    <tr>\n",
       "      <th>2017-03</th>\n",
       "      <td>2511.0</td>\n",
       "      <td>11.0</td>\n",
       "      <td>9.0</td>\n",
       "      <td>9.0</td>\n",
       "      <td>9.0</td>\n",
       "      <td>4.0</td>\n",
       "      <td>4.0</td>\n",
       "      <td>8.0</td>\n",
       "      <td>7.0</td>\n",
       "      <td>3.0</td>\n",
       "      <td>NaN</td>\n",
       "      <td>NaN</td>\n",
       "    </tr>\n",
       "    <tr>\n",
       "      <th>2017-04</th>\n",
       "      <td>2233.0</td>\n",
       "      <td>14.0</td>\n",
       "      <td>5.0</td>\n",
       "      <td>4.0</td>\n",
       "      <td>5.0</td>\n",
       "      <td>6.0</td>\n",
       "      <td>8.0</td>\n",
       "      <td>6.0</td>\n",
       "      <td>8.0</td>\n",
       "      <td>NaN</td>\n",
       "      <td>NaN</td>\n",
       "      <td>NaN</td>\n",
       "    </tr>\n",
       "    <tr>\n",
       "      <th>2017-05</th>\n",
       "      <td>3453.0</td>\n",
       "      <td>18.0</td>\n",
       "      <td>16.0</td>\n",
       "      <td>10.0</td>\n",
       "      <td>10.0</td>\n",
       "      <td>11.0</td>\n",
       "      <td>14.0</td>\n",
       "      <td>5.0</td>\n",
       "      <td>NaN</td>\n",
       "      <td>NaN</td>\n",
       "      <td>NaN</td>\n",
       "      <td>NaN</td>\n",
       "    </tr>\n",
       "    <tr>\n",
       "      <th>2017-06</th>\n",
       "      <td>3044.0</td>\n",
       "      <td>15.0</td>\n",
       "      <td>12.0</td>\n",
       "      <td>13.0</td>\n",
       "      <td>9.0</td>\n",
       "      <td>11.0</td>\n",
       "      <td>11.0</td>\n",
       "      <td>NaN</td>\n",
       "      <td>NaN</td>\n",
       "      <td>NaN</td>\n",
       "      <td>NaN</td>\n",
       "      <td>NaN</td>\n",
       "    </tr>\n",
       "    <tr>\n",
       "      <th>2017-07</th>\n",
       "      <td>3710.0</td>\n",
       "      <td>20.0</td>\n",
       "      <td>12.0</td>\n",
       "      <td>7.0</td>\n",
       "      <td>13.0</td>\n",
       "      <td>7.0</td>\n",
       "      <td>NaN</td>\n",
       "      <td>NaN</td>\n",
       "      <td>NaN</td>\n",
       "      <td>NaN</td>\n",
       "      <td>NaN</td>\n",
       "      <td>NaN</td>\n",
       "    </tr>\n",
       "    <tr>\n",
       "      <th>2017-08</th>\n",
       "      <td>4081.0</td>\n",
       "      <td>28.0</td>\n",
       "      <td>15.0</td>\n",
       "      <td>11.0</td>\n",
       "      <td>15.0</td>\n",
       "      <td>NaN</td>\n",
       "      <td>NaN</td>\n",
       "      <td>NaN</td>\n",
       "      <td>NaN</td>\n",
       "      <td>NaN</td>\n",
       "      <td>NaN</td>\n",
       "      <td>NaN</td>\n",
       "    </tr>\n",
       "    <tr>\n",
       "      <th>2017-09</th>\n",
       "      <td>4026.0</td>\n",
       "      <td>27.0</td>\n",
       "      <td>20.0</td>\n",
       "      <td>13.0</td>\n",
       "      <td>NaN</td>\n",
       "      <td>NaN</td>\n",
       "      <td>NaN</td>\n",
       "      <td>NaN</td>\n",
       "      <td>NaN</td>\n",
       "      <td>NaN</td>\n",
       "      <td>NaN</td>\n",
       "      <td>NaN</td>\n",
       "    </tr>\n",
       "    <tr>\n",
       "      <th>2017-10</th>\n",
       "      <td>4294.0</td>\n",
       "      <td>30.0</td>\n",
       "      <td>13.0</td>\n",
       "      <td>NaN</td>\n",
       "      <td>NaN</td>\n",
       "      <td>NaN</td>\n",
       "      <td>NaN</td>\n",
       "      <td>NaN</td>\n",
       "      <td>NaN</td>\n",
       "      <td>NaN</td>\n",
       "      <td>NaN</td>\n",
       "      <td>NaN</td>\n",
       "    </tr>\n",
       "    <tr>\n",
       "      <th>2017-11</th>\n",
       "      <td>6928.0</td>\n",
       "      <td>39.0</td>\n",
       "      <td>NaN</td>\n",
       "      <td>NaN</td>\n",
       "      <td>NaN</td>\n",
       "      <td>NaN</td>\n",
       "      <td>NaN</td>\n",
       "      <td>NaN</td>\n",
       "      <td>NaN</td>\n",
       "      <td>NaN</td>\n",
       "      <td>NaN</td>\n",
       "      <td>NaN</td>\n",
       "    </tr>\n",
       "    <tr>\n",
       "      <th>2017-12</th>\n",
       "      <td>5490.0</td>\n",
       "      <td>NaN</td>\n",
       "      <td>NaN</td>\n",
       "      <td>NaN</td>\n",
       "      <td>NaN</td>\n",
       "      <td>NaN</td>\n",
       "      <td>NaN</td>\n",
       "      <td>NaN</td>\n",
       "      <td>NaN</td>\n",
       "      <td>NaN</td>\n",
       "      <td>NaN</td>\n",
       "      <td>NaN</td>\n",
       "    </tr>\n",
       "  </tbody>\n",
       "</table>\n",
       "</div>"
      ],
      "text/plain": [
       "period_number      0     1     2     3     4     5     6    7    8    9    10  \\\n",
       "cohort                                                                          \n",
       "2017-01         684.0   3.0   2.0   1.0   3.0   1.0   3.0  1.0  1.0  NaN  2.0   \n",
       "2017-02        1612.0   3.0   4.0   3.0   7.0   2.0   4.0  3.0  1.0  3.0  2.0   \n",
       "2017-03        2511.0  11.0   9.0   9.0   9.0   4.0   4.0  8.0  7.0  3.0  NaN   \n",
       "2017-04        2233.0  14.0   5.0   4.0   5.0   6.0   8.0  6.0  8.0  NaN  NaN   \n",
       "2017-05        3453.0  18.0  16.0  10.0  10.0  11.0  14.0  5.0  NaN  NaN  NaN   \n",
       "2017-06        3044.0  15.0  12.0  13.0   9.0  11.0  11.0  NaN  NaN  NaN  NaN   \n",
       "2017-07        3710.0  20.0  12.0   7.0  13.0   7.0   NaN  NaN  NaN  NaN  NaN   \n",
       "2017-08        4081.0  28.0  15.0  11.0  15.0   NaN   NaN  NaN  NaN  NaN  NaN   \n",
       "2017-09        4026.0  27.0  20.0  13.0   NaN   NaN   NaN  NaN  NaN  NaN  NaN   \n",
       "2017-10        4294.0  30.0  13.0   NaN   NaN   NaN   NaN  NaN  NaN  NaN  NaN   \n",
       "2017-11        6928.0  39.0   NaN   NaN   NaN   NaN   NaN  NaN  NaN  NaN  NaN   \n",
       "2017-12        5490.0   NaN   NaN   NaN   NaN   NaN   NaN  NaN  NaN  NaN  NaN   \n",
       "\n",
       "period_number   11  \n",
       "cohort              \n",
       "2017-01        2.0  \n",
       "2017-02        NaN  \n",
       "2017-03        NaN  \n",
       "2017-04        NaN  \n",
       "2017-05        NaN  \n",
       "2017-06        NaN  \n",
       "2017-07        NaN  \n",
       "2017-08        NaN  \n",
       "2017-09        NaN  \n",
       "2017-10        NaN  \n",
       "2017-11        NaN  \n",
       "2017-12        NaN  "
      ]
     },
     "execution_count": 49,
     "metadata": {},
     "output_type": "execute_result"
    }
   ],
   "source": [
    "cohort_pivot"
   ]
  },
  {
   "cell_type": "code",
   "execution_count": 50,
   "id": "d3cbb49d",
   "metadata": {},
   "outputs": [],
   "source": [
    "cohort_size = cohort_pivot.iloc[:, 0]\n",
    "retention = cohort_pivot.divide(cohort_size, axis=0)"
   ]
  },
  {
   "cell_type": "code",
   "execution_count": 51,
   "id": "2bd09c95",
   "metadata": {},
   "outputs": [
    {
     "data": {
      "text/html": [
       "<div>\n",
       "<style scoped>\n",
       "    .dataframe tbody tr th:only-of-type {\n",
       "        vertical-align: middle;\n",
       "    }\n",
       "\n",
       "    .dataframe tbody tr th {\n",
       "        vertical-align: top;\n",
       "    }\n",
       "\n",
       "    .dataframe thead th {\n",
       "        text-align: right;\n",
       "    }\n",
       "</style>\n",
       "<table border=\"1\" class=\"dataframe\">\n",
       "  <thead>\n",
       "    <tr style=\"text-align: right;\">\n",
       "      <th>period_number</th>\n",
       "      <th>0</th>\n",
       "      <th>1</th>\n",
       "      <th>2</th>\n",
       "      <th>3</th>\n",
       "      <th>4</th>\n",
       "      <th>5</th>\n",
       "      <th>6</th>\n",
       "      <th>7</th>\n",
       "      <th>8</th>\n",
       "      <th>9</th>\n",
       "      <th>10</th>\n",
       "      <th>11</th>\n",
       "    </tr>\n",
       "    <tr>\n",
       "      <th>cohort</th>\n",
       "      <th></th>\n",
       "      <th></th>\n",
       "      <th></th>\n",
       "      <th></th>\n",
       "      <th></th>\n",
       "      <th></th>\n",
       "      <th></th>\n",
       "      <th></th>\n",
       "      <th></th>\n",
       "      <th></th>\n",
       "      <th></th>\n",
       "      <th></th>\n",
       "    </tr>\n",
       "  </thead>\n",
       "  <tbody>\n",
       "    <tr>\n",
       "      <th>2017-01</th>\n",
       "      <td>1.0</td>\n",
       "      <td>0.004386</td>\n",
       "      <td>0.002924</td>\n",
       "      <td>0.001462</td>\n",
       "      <td>0.004386</td>\n",
       "      <td>0.001462</td>\n",
       "      <td>0.004386</td>\n",
       "      <td>0.001462</td>\n",
       "      <td>0.001462</td>\n",
       "      <td>NaN</td>\n",
       "      <td>0.002924</td>\n",
       "      <td>0.002924</td>\n",
       "    </tr>\n",
       "    <tr>\n",
       "      <th>2017-02</th>\n",
       "      <td>1.0</td>\n",
       "      <td>0.001861</td>\n",
       "      <td>0.002481</td>\n",
       "      <td>0.001861</td>\n",
       "      <td>0.004342</td>\n",
       "      <td>0.001241</td>\n",
       "      <td>0.002481</td>\n",
       "      <td>0.001861</td>\n",
       "      <td>0.000620</td>\n",
       "      <td>0.001861</td>\n",
       "      <td>0.001241</td>\n",
       "      <td>NaN</td>\n",
       "    </tr>\n",
       "    <tr>\n",
       "      <th>2017-03</th>\n",
       "      <td>1.0</td>\n",
       "      <td>0.004381</td>\n",
       "      <td>0.003584</td>\n",
       "      <td>0.003584</td>\n",
       "      <td>0.003584</td>\n",
       "      <td>0.001593</td>\n",
       "      <td>0.001593</td>\n",
       "      <td>0.003186</td>\n",
       "      <td>0.002788</td>\n",
       "      <td>0.001195</td>\n",
       "      <td>NaN</td>\n",
       "      <td>NaN</td>\n",
       "    </tr>\n",
       "    <tr>\n",
       "      <th>2017-04</th>\n",
       "      <td>1.0</td>\n",
       "      <td>0.006270</td>\n",
       "      <td>0.002239</td>\n",
       "      <td>0.001791</td>\n",
       "      <td>0.002239</td>\n",
       "      <td>0.002687</td>\n",
       "      <td>0.003583</td>\n",
       "      <td>0.002687</td>\n",
       "      <td>0.003583</td>\n",
       "      <td>NaN</td>\n",
       "      <td>NaN</td>\n",
       "      <td>NaN</td>\n",
       "    </tr>\n",
       "    <tr>\n",
       "      <th>2017-05</th>\n",
       "      <td>1.0</td>\n",
       "      <td>0.005213</td>\n",
       "      <td>0.004634</td>\n",
       "      <td>0.002896</td>\n",
       "      <td>0.002896</td>\n",
       "      <td>0.003186</td>\n",
       "      <td>0.004054</td>\n",
       "      <td>0.001448</td>\n",
       "      <td>NaN</td>\n",
       "      <td>NaN</td>\n",
       "      <td>NaN</td>\n",
       "      <td>NaN</td>\n",
       "    </tr>\n",
       "    <tr>\n",
       "      <th>2017-06</th>\n",
       "      <td>1.0</td>\n",
       "      <td>0.004928</td>\n",
       "      <td>0.003942</td>\n",
       "      <td>0.004271</td>\n",
       "      <td>0.002957</td>\n",
       "      <td>0.003614</td>\n",
       "      <td>0.003614</td>\n",
       "      <td>NaN</td>\n",
       "      <td>NaN</td>\n",
       "      <td>NaN</td>\n",
       "      <td>NaN</td>\n",
       "      <td>NaN</td>\n",
       "    </tr>\n",
       "    <tr>\n",
       "      <th>2017-07</th>\n",
       "      <td>1.0</td>\n",
       "      <td>0.005391</td>\n",
       "      <td>0.003235</td>\n",
       "      <td>0.001887</td>\n",
       "      <td>0.003504</td>\n",
       "      <td>0.001887</td>\n",
       "      <td>NaN</td>\n",
       "      <td>NaN</td>\n",
       "      <td>NaN</td>\n",
       "      <td>NaN</td>\n",
       "      <td>NaN</td>\n",
       "      <td>NaN</td>\n",
       "    </tr>\n",
       "    <tr>\n",
       "      <th>2017-08</th>\n",
       "      <td>1.0</td>\n",
       "      <td>0.006861</td>\n",
       "      <td>0.003676</td>\n",
       "      <td>0.002695</td>\n",
       "      <td>0.003676</td>\n",
       "      <td>NaN</td>\n",
       "      <td>NaN</td>\n",
       "      <td>NaN</td>\n",
       "      <td>NaN</td>\n",
       "      <td>NaN</td>\n",
       "      <td>NaN</td>\n",
       "      <td>NaN</td>\n",
       "    </tr>\n",
       "    <tr>\n",
       "      <th>2017-09</th>\n",
       "      <td>1.0</td>\n",
       "      <td>0.006706</td>\n",
       "      <td>0.004968</td>\n",
       "      <td>0.003229</td>\n",
       "      <td>NaN</td>\n",
       "      <td>NaN</td>\n",
       "      <td>NaN</td>\n",
       "      <td>NaN</td>\n",
       "      <td>NaN</td>\n",
       "      <td>NaN</td>\n",
       "      <td>NaN</td>\n",
       "      <td>NaN</td>\n",
       "    </tr>\n",
       "    <tr>\n",
       "      <th>2017-10</th>\n",
       "      <td>1.0</td>\n",
       "      <td>0.006986</td>\n",
       "      <td>0.003027</td>\n",
       "      <td>NaN</td>\n",
       "      <td>NaN</td>\n",
       "      <td>NaN</td>\n",
       "      <td>NaN</td>\n",
       "      <td>NaN</td>\n",
       "      <td>NaN</td>\n",
       "      <td>NaN</td>\n",
       "      <td>NaN</td>\n",
       "      <td>NaN</td>\n",
       "    </tr>\n",
       "    <tr>\n",
       "      <th>2017-11</th>\n",
       "      <td>1.0</td>\n",
       "      <td>0.005629</td>\n",
       "      <td>NaN</td>\n",
       "      <td>NaN</td>\n",
       "      <td>NaN</td>\n",
       "      <td>NaN</td>\n",
       "      <td>NaN</td>\n",
       "      <td>NaN</td>\n",
       "      <td>NaN</td>\n",
       "      <td>NaN</td>\n",
       "      <td>NaN</td>\n",
       "      <td>NaN</td>\n",
       "    </tr>\n",
       "    <tr>\n",
       "      <th>2017-12</th>\n",
       "      <td>1.0</td>\n",
       "      <td>NaN</td>\n",
       "      <td>NaN</td>\n",
       "      <td>NaN</td>\n",
       "      <td>NaN</td>\n",
       "      <td>NaN</td>\n",
       "      <td>NaN</td>\n",
       "      <td>NaN</td>\n",
       "      <td>NaN</td>\n",
       "      <td>NaN</td>\n",
       "      <td>NaN</td>\n",
       "      <td>NaN</td>\n",
       "    </tr>\n",
       "  </tbody>\n",
       "</table>\n",
       "</div>"
      ],
      "text/plain": [
       "period_number   0         1         2         3         4         5   \\\n",
       "cohort                                                                 \n",
       "2017-01        1.0  0.004386  0.002924  0.001462  0.004386  0.001462   \n",
       "2017-02        1.0  0.001861  0.002481  0.001861  0.004342  0.001241   \n",
       "2017-03        1.0  0.004381  0.003584  0.003584  0.003584  0.001593   \n",
       "2017-04        1.0  0.006270  0.002239  0.001791  0.002239  0.002687   \n",
       "2017-05        1.0  0.005213  0.004634  0.002896  0.002896  0.003186   \n",
       "2017-06        1.0  0.004928  0.003942  0.004271  0.002957  0.003614   \n",
       "2017-07        1.0  0.005391  0.003235  0.001887  0.003504  0.001887   \n",
       "2017-08        1.0  0.006861  0.003676  0.002695  0.003676       NaN   \n",
       "2017-09        1.0  0.006706  0.004968  0.003229       NaN       NaN   \n",
       "2017-10        1.0  0.006986  0.003027       NaN       NaN       NaN   \n",
       "2017-11        1.0  0.005629       NaN       NaN       NaN       NaN   \n",
       "2017-12        1.0       NaN       NaN       NaN       NaN       NaN   \n",
       "\n",
       "period_number        6         7         8         9         10        11  \n",
       "cohort                                                                     \n",
       "2017-01        0.004386  0.001462  0.001462       NaN  0.002924  0.002924  \n",
       "2017-02        0.002481  0.001861  0.000620  0.001861  0.001241       NaN  \n",
       "2017-03        0.001593  0.003186  0.002788  0.001195       NaN       NaN  \n",
       "2017-04        0.003583  0.002687  0.003583       NaN       NaN       NaN  \n",
       "2017-05        0.004054  0.001448       NaN       NaN       NaN       NaN  \n",
       "2017-06        0.003614       NaN       NaN       NaN       NaN       NaN  \n",
       "2017-07             NaN       NaN       NaN       NaN       NaN       NaN  \n",
       "2017-08             NaN       NaN       NaN       NaN       NaN       NaN  \n",
       "2017-09             NaN       NaN       NaN       NaN       NaN       NaN  \n",
       "2017-10             NaN       NaN       NaN       NaN       NaN       NaN  \n",
       "2017-11             NaN       NaN       NaN       NaN       NaN       NaN  \n",
       "2017-12             NaN       NaN       NaN       NaN       NaN       NaN  "
      ]
     },
     "execution_count": 51,
     "metadata": {},
     "output_type": "execute_result"
    }
   ],
   "source": [
    "retention"
   ]
  },
  {
   "cell_type": "markdown",
   "id": "1e12b138",
   "metadata": {},
   "source": [
    "Построим тепловую карту:"
   ]
  },
  {
   "cell_type": "markdown",
   "id": "b5dd6a43",
   "metadata": {},
   "source": [
    "Первый вариант:"
   ]
  },
  {
   "cell_type": "code",
   "execution_count": 52,
   "id": "c81f387c",
   "metadata": {},
   "outputs": [
    {
     "data": {
      "image/png": "[encoded data removed]",
      "text/plain": [
       "<Figure size 432x288 with 2 Axes>"
      ]
     },
     "metadata": {
      "needs_background": "light"
     },
     "output_type": "display_data"
    }
   ],
   "source": [
    "uniform_data = np.random.rand(10, 12)\n",
    "ax = sns.heatmap(cohort_pivot)\n",
    "sns.set(rc = {'figure.figsize':(12,8)})"
   ]
  },
  {
   "cell_type": "markdown",
   "id": "c07ca91c",
   "metadata": {},
   "source": [
    "Второй вариант:"
   ]
  },
  {
   "cell_type": "code",
   "execution_count": 53,
   "id": "cf496341",
   "metadata": {},
   "outputs": [
    {
     "data": {
      "image/png": "[encoded data removed]",
      "text/plain": [
       "<Figure size 864x576 with 3 Axes>"
      ]
     },
     "metadata": {},
     "output_type": "display_data"
    }
   ],
   "source": [
    "fig, ax = plt.subplots(1, 2, figsize=(12, 8), sharey=True, gridspec_kw={'width_ratios': [1, 11]})\n",
    "\n",
    "sns.heatmap(retention,\n",
    "            mask=retention.isnull(),\n",
    "            annot=True,\n",
    "            fmt='.0%',\n",
    "            cmap='RdYlGn',\n",
    "            ax=ax[1])\n",
    "ax[1].set_title('Monthly Retention', fontsize=12)\n",
    "ax[1].set(xlabel='№ of periods', ylabel='')\n",
    "cohort_size_df = pd.DataFrame(cohort_size).rename(columns={0: 'cohort size'})\n",
    "white_cmap = ListedColormap(['white'])\n",
    "sns.heatmap(cohort_size_df,\n",
    "            annot=True,\n",
    "            cbar=False,\n",
    "            fmt='g',\n",
    "            cmap=white_cmap,\n",
    "            ax=ax[0])\n",
    "fig.tight_layout()"
   ]
  },
  {
   "cell_type": "markdown",
   "id": "0d4c7314",
   "metadata": {},
   "source": [
    "О когорте с самым высоким retention за третий месяц ответим по сводной таблице __retention__, этой когорте соответствует когорта 2017-09 со значением 0.004968."
   ]
  },
  {
   "cell_type": "markdown",
   "id": "7c21cea7",
   "metadata": {},
   "source": [
    "# Задание 6"
   ]
  },
  {
   "cell_type": "markdown",
   "id": "6e61268e",
   "metadata": {},
   "source": [
    "#### Часто для качественного анализа аудитории использую подходы, основанные на сегментации. Используя python, построй RFM-сегментацию пользователей, чтобы качественно оценить свою аудиторию. В кластеризации можешь выбрать следующие метрики: R - время от последней покупки пользователя до текущей даты, F - суммарное количество покупок у пользователя за всё время, M - сумма покупок за всё время. Подробно опиши, как ты создавал кластеры. Для каждого RFM-сегмента построй границы метрик recency, frequency и monetary для интерпретации этих кластеров. Пример такого описания: RFM-сегмент 132 (recency=1, frequency=3, monetary=2) имеет границы метрик recency от 130 до 500 дней, frequency от 2 до 5 заказов в неделю, monetary от 1780 до 3560 рублей в неделю. "
   ]
  },
  {
   "cell_type": "markdown",
   "id": "89badb63",
   "metadata": {},
   "source": [
    "Отберем из каждого датасета *df1*, *df2*, *df3* инересующие нас колонки:"
   ]
  },
  {
   "cell_type": "code",
   "execution_count": 3,
   "id": "05a356be",
   "metadata": {},
   "outputs": [],
   "source": [
    "df1_filtered = df1[[\"customer_id\", \"customer_unique_id\"]]\n",
    "df2_filtered = df2[[\"order_id\", \"customer_id\", \"order_status\",\"order_approved_at\"]]\n",
    "df3_filtered = df3[[\"order_id\", \"price\"]]"
   ]
  },
  {
   "cell_type": "code",
   "execution_count": 4,
   "id": "bf812be7",
   "metadata": {},
   "outputs": [],
   "source": [
    "tmp = df1_filtered.merge(df2_filtered, on='customer_id')"
   ]
  },
  {
   "cell_type": "code",
   "execution_count": 5,
   "id": "8f398b20",
   "metadata": {},
   "outputs": [],
   "source": [
    "sales = tmp.merge(df3_filtered, on=\"order_id\")"
   ]
  },
  {
   "cell_type": "code",
   "execution_count": 7,
   "id": "ab0a830b",
   "metadata": {},
   "outputs": [
    {
     "data": {
      "text/html": [
       "<div>\n",
       "<style scoped>\n",
       "    .dataframe tbody tr th:only-of-type {\n",
       "        vertical-align: middle;\n",
       "    }\n",
       "\n",
       "    .dataframe tbody tr th {\n",
       "        vertical-align: top;\n",
       "    }\n",
       "\n",
       "    .dataframe thead th {\n",
       "        text-align: right;\n",
       "    }\n",
       "</style>\n",
       "<table border=\"1\" class=\"dataframe\">\n",
       "  <thead>\n",
       "    <tr style=\"text-align: right;\">\n",
       "      <th></th>\n",
       "      <th>customer_id</th>\n",
       "      <th>customer_unique_id</th>\n",
       "      <th>order_id</th>\n",
       "      <th>order_status</th>\n",
       "      <th>order_approved_at</th>\n",
       "      <th>price</th>\n",
       "    </tr>\n",
       "  </thead>\n",
       "  <tbody>\n",
       "    <tr>\n",
       "      <th>0</th>\n",
       "      <td>06b8999e2fba1a1fbc88172c00ba8bc7</td>\n",
       "      <td>861eff4711a542e4b93843c6dd7febb0</td>\n",
       "      <td>00e7ee1b050b8499577073aeb2a297a1</td>\n",
       "      <td>delivered</td>\n",
       "      <td>2017-05-16 15:22:12</td>\n",
       "      <td>124.99</td>\n",
       "    </tr>\n",
       "    <tr>\n",
       "      <th>1</th>\n",
       "      <td>18955e83d337fd6b2def6b18a428ac77</td>\n",
       "      <td>290c77bc529b7ac935b93aa66c333dc3</td>\n",
       "      <td>29150127e6685892b6eab3eec79f59c7</td>\n",
       "      <td>delivered</td>\n",
       "      <td>2018-01-12 20:58:32</td>\n",
       "      <td>289.00</td>\n",
       "    </tr>\n",
       "    <tr>\n",
       "      <th>2</th>\n",
       "      <td>4e7b3e00288586ebd08712fdd0374a03</td>\n",
       "      <td>060e732b5b29e8181a18229c7b0b2b5e</td>\n",
       "      <td>b2059ed67ce144a36e2aa97d2c9e9ad2</td>\n",
       "      <td>delivered</td>\n",
       "      <td>2018-05-20 16:19:10</td>\n",
       "      <td>139.94</td>\n",
       "    </tr>\n",
       "    <tr>\n",
       "      <th>3</th>\n",
       "      <td>b2b6027bc5c5109e529d4dc6358b12c3</td>\n",
       "      <td>259dac757896d24d7702b9acbbff3f3c</td>\n",
       "      <td>951670f92359f4fe4a63112aa7306eba</td>\n",
       "      <td>delivered</td>\n",
       "      <td>2018-03-13 17:29:19</td>\n",
       "      <td>149.94</td>\n",
       "    </tr>\n",
       "    <tr>\n",
       "      <th>4</th>\n",
       "      <td>4f2d8ab171c80ec8364f7c12e35b23ad</td>\n",
       "      <td>345ecd01c38d18a9036ed96c73b8d066</td>\n",
       "      <td>6b7d50bd145f6fc7f33cebabd7e49d0f</td>\n",
       "      <td>delivered</td>\n",
       "      <td>2018-07-29 10:10:09</td>\n",
       "      <td>230.00</td>\n",
       "    </tr>\n",
       "    <tr>\n",
       "      <th>...</th>\n",
       "      <td>...</td>\n",
       "      <td>...</td>\n",
       "      <td>...</td>\n",
       "      <td>...</td>\n",
       "      <td>...</td>\n",
       "      <td>...</td>\n",
       "    </tr>\n",
       "    <tr>\n",
       "      <th>112645</th>\n",
       "      <td>17ddf5dd5d51696bb3d7c6291687be6f</td>\n",
       "      <td>1a29b476fee25c95fbafc67c5ac95cf8</td>\n",
       "      <td>6760e20addcf0121e9d58f2f1ff14298</td>\n",
       "      <td>delivered</td>\n",
       "      <td>2018-04-07 16:08:45</td>\n",
       "      <td>74.90</td>\n",
       "    </tr>\n",
       "    <tr>\n",
       "      <th>112646</th>\n",
       "      <td>e7b71a9017aa05c9a7fd292d714858e8</td>\n",
       "      <td>d52a67c98be1cf6a5c84435bd38d095d</td>\n",
       "      <td>9ec0c8947d973db4f4e8dcf1fbfa8f1b</td>\n",
       "      <td>delivered</td>\n",
       "      <td>2018-04-04 08:35:12</td>\n",
       "      <td>114.90</td>\n",
       "    </tr>\n",
       "    <tr>\n",
       "      <th>112647</th>\n",
       "      <td>5e28dfe12db7fb50a4b2f691faecea5e</td>\n",
       "      <td>e9f50caf99f032f0bf3c55141f019d99</td>\n",
       "      <td>fed4434add09a6f332ea398efd656a5c</td>\n",
       "      <td>delivered</td>\n",
       "      <td>2018-04-08 20:30:03</td>\n",
       "      <td>37.00</td>\n",
       "    </tr>\n",
       "    <tr>\n",
       "      <th>112648</th>\n",
       "      <td>56b18e2166679b8a959d72dd06da27f9</td>\n",
       "      <td>73c2643a0a458b49f58cea58833b192e</td>\n",
       "      <td>e31ec91cea1ecf97797787471f98a8c2</td>\n",
       "      <td>delivered</td>\n",
       "      <td>2017-11-03 21:31:20</td>\n",
       "      <td>689.00</td>\n",
       "    </tr>\n",
       "    <tr>\n",
       "      <th>112649</th>\n",
       "      <td>274fa6071e5e17fe303b9748641082c8</td>\n",
       "      <td>84732c5050c01db9b23e19ba39899398</td>\n",
       "      <td>28db69209a75e59f20ccbb5c36a20b90</td>\n",
       "      <td>delivered</td>\n",
       "      <td>2017-12-19 18:50:39</td>\n",
       "      <td>13.99</td>\n",
       "    </tr>\n",
       "  </tbody>\n",
       "</table>\n",
       "<p>112650 rows × 6 columns</p>\n",
       "</div>"
      ],
      "text/plain": [
       "                             customer_id                customer_unique_id  \\\n",
       "0       06b8999e2fba1a1fbc88172c00ba8bc7  861eff4711a542e4b93843c6dd7febb0   \n",
       "1       18955e83d337fd6b2def6b18a428ac77  290c77bc529b7ac935b93aa66c333dc3   \n",
       "2       4e7b3e00288586ebd08712fdd0374a03  060e732b5b29e8181a18229c7b0b2b5e   \n",
       "3       b2b6027bc5c5109e529d4dc6358b12c3  259dac757896d24d7702b9acbbff3f3c   \n",
       "4       4f2d8ab171c80ec8364f7c12e35b23ad  345ecd01c38d18a9036ed96c73b8d066   \n",
       "...                                  ...                               ...   \n",
       "112645  17ddf5dd5d51696bb3d7c6291687be6f  1a29b476fee25c95fbafc67c5ac95cf8   \n",
       "112646  e7b71a9017aa05c9a7fd292d714858e8  d52a67c98be1cf6a5c84435bd38d095d   \n",
       "112647  5e28dfe12db7fb50a4b2f691faecea5e  e9f50caf99f032f0bf3c55141f019d99   \n",
       "112648  56b18e2166679b8a959d72dd06da27f9  73c2643a0a458b49f58cea58833b192e   \n",
       "112649  274fa6071e5e17fe303b9748641082c8  84732c5050c01db9b23e19ba39899398   \n",
       "\n",
       "                                order_id order_status   order_approved_at  \\\n",
       "0       00e7ee1b050b8499577073aeb2a297a1    delivered 2017-05-16 15:22:12   \n",
       "1       29150127e6685892b6eab3eec79f59c7    delivered 2018-01-12 20:58:32   \n",
       "2       b2059ed67ce144a36e2aa97d2c9e9ad2    delivered 2018-05-20 16:19:10   \n",
       "3       951670f92359f4fe4a63112aa7306eba    delivered 2018-03-13 17:29:19   \n",
       "4       6b7d50bd145f6fc7f33cebabd7e49d0f    delivered 2018-07-29 10:10:09   \n",
       "...                                  ...          ...                 ...   \n",
       "112645  6760e20addcf0121e9d58f2f1ff14298    delivered 2018-04-07 16:08:45   \n",
       "112646  9ec0c8947d973db4f4e8dcf1fbfa8f1b    delivered 2018-04-04 08:35:12   \n",
       "112647  fed4434add09a6f332ea398efd656a5c    delivered 2018-04-08 20:30:03   \n",
       "112648  e31ec91cea1ecf97797787471f98a8c2    delivered 2017-11-03 21:31:20   \n",
       "112649  28db69209a75e59f20ccbb5c36a20b90    delivered 2017-12-19 18:50:39   \n",
       "\n",
       "         price  \n",
       "0       124.99  \n",
       "1       289.00  \n",
       "2       139.94  \n",
       "3       149.94  \n",
       "4       230.00  \n",
       "...        ...  \n",
       "112645   74.90  \n",
       "112646  114.90  \n",
       "112647   37.00  \n",
       "112648  689.00  \n",
       "112649   13.99  \n",
       "\n",
       "[112650 rows x 6 columns]"
      ]
     },
     "execution_count": 7,
     "metadata": {},
     "output_type": "execute_result"
    }
   ],
   "source": [
    "sales"
   ]
  },
  {
   "cell_type": "markdown",
   "id": "68d3c078",
   "metadata": {},
   "source": [
    "Уберем дубликаты, возникшие при объединении:"
   ]
  },
  {
   "cell_type": "code",
   "execution_count": 6,
   "id": "f472a023",
   "metadata": {
    "scrolled": true
   },
   "outputs": [],
   "source": [
    "sales = sales.drop_duplicates()"
   ]
  },
  {
   "cell_type": "code",
   "execution_count": 7,
   "id": "3f66e3d8",
   "metadata": {},
   "outputs": [
    {
     "data": {
      "text/html": [
       "<div>\n",
       "<style scoped>\n",
       "    .dataframe tbody tr th:only-of-type {\n",
       "        vertical-align: middle;\n",
       "    }\n",
       "\n",
       "    .dataframe tbody tr th {\n",
       "        vertical-align: top;\n",
       "    }\n",
       "\n",
       "    .dataframe thead th {\n",
       "        text-align: right;\n",
       "    }\n",
       "</style>\n",
       "<table border=\"1\" class=\"dataframe\">\n",
       "  <thead>\n",
       "    <tr style=\"text-align: right;\">\n",
       "      <th></th>\n",
       "      <th>customer_id</th>\n",
       "      <th>customer_unique_id</th>\n",
       "      <th>order_id</th>\n",
       "      <th>order_status</th>\n",
       "      <th>order_approved_at</th>\n",
       "      <th>price</th>\n",
       "    </tr>\n",
       "  </thead>\n",
       "  <tbody>\n",
       "    <tr>\n",
       "      <th>0</th>\n",
       "      <td>06b8999e2fba1a1fbc88172c00ba8bc7</td>\n",
       "      <td>861eff4711a542e4b93843c6dd7febb0</td>\n",
       "      <td>00e7ee1b050b8499577073aeb2a297a1</td>\n",
       "      <td>delivered</td>\n",
       "      <td>2017-05-16 15:22:12</td>\n",
       "      <td>124.99</td>\n",
       "    </tr>\n",
       "    <tr>\n",
       "      <th>1</th>\n",
       "      <td>18955e83d337fd6b2def6b18a428ac77</td>\n",
       "      <td>290c77bc529b7ac935b93aa66c333dc3</td>\n",
       "      <td>29150127e6685892b6eab3eec79f59c7</td>\n",
       "      <td>delivered</td>\n",
       "      <td>2018-01-12 20:58:32</td>\n",
       "      <td>289.00</td>\n",
       "    </tr>\n",
       "    <tr>\n",
       "      <th>2</th>\n",
       "      <td>4e7b3e00288586ebd08712fdd0374a03</td>\n",
       "      <td>060e732b5b29e8181a18229c7b0b2b5e</td>\n",
       "      <td>b2059ed67ce144a36e2aa97d2c9e9ad2</td>\n",
       "      <td>delivered</td>\n",
       "      <td>2018-05-20 16:19:10</td>\n",
       "      <td>139.94</td>\n",
       "    </tr>\n",
       "    <tr>\n",
       "      <th>3</th>\n",
       "      <td>b2b6027bc5c5109e529d4dc6358b12c3</td>\n",
       "      <td>259dac757896d24d7702b9acbbff3f3c</td>\n",
       "      <td>951670f92359f4fe4a63112aa7306eba</td>\n",
       "      <td>delivered</td>\n",
       "      <td>2018-03-13 17:29:19</td>\n",
       "      <td>149.94</td>\n",
       "    </tr>\n",
       "    <tr>\n",
       "      <th>4</th>\n",
       "      <td>4f2d8ab171c80ec8364f7c12e35b23ad</td>\n",
       "      <td>345ecd01c38d18a9036ed96c73b8d066</td>\n",
       "      <td>6b7d50bd145f6fc7f33cebabd7e49d0f</td>\n",
       "      <td>delivered</td>\n",
       "      <td>2018-07-29 10:10:09</td>\n",
       "      <td>230.00</td>\n",
       "    </tr>\n",
       "  </tbody>\n",
       "</table>\n",
       "</div>"
      ],
      "text/plain": [
       "                        customer_id                customer_unique_id  \\\n",
       "0  06b8999e2fba1a1fbc88172c00ba8bc7  861eff4711a542e4b93843c6dd7febb0   \n",
       "1  18955e83d337fd6b2def6b18a428ac77  290c77bc529b7ac935b93aa66c333dc3   \n",
       "2  4e7b3e00288586ebd08712fdd0374a03  060e732b5b29e8181a18229c7b0b2b5e   \n",
       "3  b2b6027bc5c5109e529d4dc6358b12c3  259dac757896d24d7702b9acbbff3f3c   \n",
       "4  4f2d8ab171c80ec8364f7c12e35b23ad  345ecd01c38d18a9036ed96c73b8d066   \n",
       "\n",
       "                           order_id order_status   order_approved_at   price  \n",
       "0  00e7ee1b050b8499577073aeb2a297a1    delivered 2017-05-16 15:22:12  124.99  \n",
       "1  29150127e6685892b6eab3eec79f59c7    delivered 2018-01-12 20:58:32  289.00  \n",
       "2  b2059ed67ce144a36e2aa97d2c9e9ad2    delivered 2018-05-20 16:19:10  139.94  \n",
       "3  951670f92359f4fe4a63112aa7306eba    delivered 2018-03-13 17:29:19  149.94  \n",
       "4  6b7d50bd145f6fc7f33cebabd7e49d0f    delivered 2018-07-29 10:10:09  230.00  "
      ]
     },
     "execution_count": 7,
     "metadata": {},
     "output_type": "execute_result"
    }
   ],
   "source": [
    "sales.head()"
   ]
  },
  {
   "cell_type": "markdown",
   "id": "412b762a",
   "metadata": {},
   "source": [
    "Нас интересует сколько раз пользователь совершал покупок, т.е. надо посчитать заказы.  \n",
    "Создадим таблицу заказов, который будет агрегировать наши продажи на уровне заказа:"
   ]
  },
  {
   "cell_type": "code",
   "execution_count": 8,
   "id": "8fbe54fa",
   "metadata": {},
   "outputs": [
    {
     "data": {
      "text/html": [
       "<div>\n",
       "<style scoped>\n",
       "    .dataframe tbody tr th:only-of-type {\n",
       "        vertical-align: middle;\n",
       "    }\n",
       "\n",
       "    .dataframe tbody tr th {\n",
       "        vertical-align: top;\n",
       "    }\n",
       "\n",
       "    .dataframe thead th {\n",
       "        text-align: right;\n",
       "    }\n",
       "</style>\n",
       "<table border=\"1\" class=\"dataframe\">\n",
       "  <thead>\n",
       "    <tr style=\"text-align: right;\">\n",
       "      <th></th>\n",
       "      <th>order_id</th>\n",
       "      <th>order_approved_at</th>\n",
       "      <th>customer_unique_id</th>\n",
       "      <th>price</th>\n",
       "    </tr>\n",
       "  </thead>\n",
       "  <tbody>\n",
       "    <tr>\n",
       "      <th>0</th>\n",
       "      <td>00010242fe8c5a6d1ba2dd792cb16214</td>\n",
       "      <td>2017-09-13 09:45:35</td>\n",
       "      <td>871766c5855e863f6eccc05f988b23cb</td>\n",
       "      <td>58.90</td>\n",
       "    </tr>\n",
       "    <tr>\n",
       "      <th>1</th>\n",
       "      <td>00018f77f2f0320c557190d7a144bdd3</td>\n",
       "      <td>2017-04-26 11:05:13</td>\n",
       "      <td>eb28e67c4c0b83846050ddfb8a35d051</td>\n",
       "      <td>239.90</td>\n",
       "    </tr>\n",
       "    <tr>\n",
       "      <th>2</th>\n",
       "      <td>000229ec398224ef6ca0657da4fc703e</td>\n",
       "      <td>2018-01-14 14:48:30</td>\n",
       "      <td>3818d81c6709e39d06b2738a8d3a2474</td>\n",
       "      <td>199.00</td>\n",
       "    </tr>\n",
       "    <tr>\n",
       "      <th>3</th>\n",
       "      <td>00024acbcdf0a6daa1e931b038114c75</td>\n",
       "      <td>2018-08-08 10:10:18</td>\n",
       "      <td>af861d436cfc08b2c2ddefd0ba074622</td>\n",
       "      <td>12.99</td>\n",
       "    </tr>\n",
       "    <tr>\n",
       "      <th>4</th>\n",
       "      <td>00042b26cf59d7ce69dfabb4e55b4fd9</td>\n",
       "      <td>2017-02-04 14:10:13</td>\n",
       "      <td>64b576fb70d441e8f1b2d7d446e483c5</td>\n",
       "      <td>199.90</td>\n",
       "    </tr>\n",
       "    <tr>\n",
       "      <th>...</th>\n",
       "      <td>...</td>\n",
       "      <td>...</td>\n",
       "      <td>...</td>\n",
       "      <td>...</td>\n",
       "    </tr>\n",
       "    <tr>\n",
       "      <th>98647</th>\n",
       "      <td>fffc94f6ce00a00581880bf54a75a037</td>\n",
       "      <td>2018-04-25 04:11:01</td>\n",
       "      <td>0c9aeda10a71f369396d0c04dce13a64</td>\n",
       "      <td>299.99</td>\n",
       "    </tr>\n",
       "    <tr>\n",
       "      <th>98648</th>\n",
       "      <td>fffcd46ef2263f404302a634eb57f7eb</td>\n",
       "      <td>2018-07-17 04:31:48</td>\n",
       "      <td>0da9fe112eae0c74d3ba1fe16de0988b</td>\n",
       "      <td>350.00</td>\n",
       "    </tr>\n",
       "    <tr>\n",
       "      <th>98649</th>\n",
       "      <td>fffce4705a9662cd70adb13d4a31832d</td>\n",
       "      <td>2017-10-24 17:14:25</td>\n",
       "      <td>cd79b407828f02fdbba457111c38e4c4</td>\n",
       "      <td>99.90</td>\n",
       "    </tr>\n",
       "    <tr>\n",
       "      <th>98650</th>\n",
       "      <td>fffe18544ffabc95dfada21779c9644f</td>\n",
       "      <td>2017-08-15 00:04:32</td>\n",
       "      <td>eb803377c9315b564bdedad672039306</td>\n",
       "      <td>55.99</td>\n",
       "    </tr>\n",
       "    <tr>\n",
       "      <th>98651</th>\n",
       "      <td>fffe41c64501cc87c801fd61db3f6244</td>\n",
       "      <td>2018-06-09 17:10:13</td>\n",
       "      <td>cd76a00d8e3ca5e6ab9ed9ecb6667ac4</td>\n",
       "      <td>43.00</td>\n",
       "    </tr>\n",
       "  </tbody>\n",
       "</table>\n",
       "<p>98652 rows × 4 columns</p>\n",
       "</div>"
      ],
      "text/plain": [
       "                               order_id   order_approved_at  \\\n",
       "0      00010242fe8c5a6d1ba2dd792cb16214 2017-09-13 09:45:35   \n",
       "1      00018f77f2f0320c557190d7a144bdd3 2017-04-26 11:05:13   \n",
       "2      000229ec398224ef6ca0657da4fc703e 2018-01-14 14:48:30   \n",
       "3      00024acbcdf0a6daa1e931b038114c75 2018-08-08 10:10:18   \n",
       "4      00042b26cf59d7ce69dfabb4e55b4fd9 2017-02-04 14:10:13   \n",
       "...                                 ...                 ...   \n",
       "98647  fffc94f6ce00a00581880bf54a75a037 2018-04-25 04:11:01   \n",
       "98648  fffcd46ef2263f404302a634eb57f7eb 2018-07-17 04:31:48   \n",
       "98649  fffce4705a9662cd70adb13d4a31832d 2017-10-24 17:14:25   \n",
       "98650  fffe18544ffabc95dfada21779c9644f 2017-08-15 00:04:32   \n",
       "98651  fffe41c64501cc87c801fd61db3f6244 2018-06-09 17:10:13   \n",
       "\n",
       "                     customer_unique_id   price  \n",
       "0      871766c5855e863f6eccc05f988b23cb   58.90  \n",
       "1      eb28e67c4c0b83846050ddfb8a35d051  239.90  \n",
       "2      3818d81c6709e39d06b2738a8d3a2474  199.00  \n",
       "3      af861d436cfc08b2c2ddefd0ba074622   12.99  \n",
       "4      64b576fb70d441e8f1b2d7d446e483c5  199.90  \n",
       "...                                 ...     ...  \n",
       "98647  0c9aeda10a71f369396d0c04dce13a64  299.99  \n",
       "98648  0da9fe112eae0c74d3ba1fe16de0988b  350.00  \n",
       "98649  cd79b407828f02fdbba457111c38e4c4   99.90  \n",
       "98650  eb803377c9315b564bdedad672039306   55.99  \n",
       "98651  cd76a00d8e3ca5e6ab9ed9ecb6667ac4   43.00  \n",
       "\n",
       "[98652 rows x 4 columns]"
      ]
     },
     "execution_count": 8,
     "metadata": {},
     "output_type": "execute_result"
    }
   ],
   "source": [
    "orders = sales.groupby(['order_id', 'order_approved_at', 'customer_unique_id']).agg({'price':\"sum\"}).reset_index()\n",
    "orders"
   ]
  },
  {
   "cell_type": "markdown",
   "id": "f7b31222",
   "metadata": {},
   "source": [
    "Установим дату на один день после последней покупки. Эта дата будет использоваться в качестве ориентира для подсчета __recency__ баллов:"
   ]
  },
  {
   "cell_type": "code",
   "execution_count": 9,
   "id": "5ac74aca",
   "metadata": {},
   "outputs": [],
   "source": [
    "now = orders['order_approved_at'].max() + timedelta(days=1)"
   ]
  },
  {
   "cell_type": "code",
   "execution_count": 10,
   "id": "bb214a33",
   "metadata": {},
   "outputs": [
    {
     "data": {
      "text/plain": [
       "Timestamp('2018-09-04 17:40:06')"
      ]
     },
     "execution_count": 10,
     "metadata": {},
     "output_type": "execute_result"
    }
   ],
   "source": [
    "now"
   ]
  },
  {
   "cell_type": "markdown",
   "id": "e3fe2ca5",
   "metadata": {},
   "source": [
    "Данные будем изучать в течение года:"
   ]
  },
  {
   "cell_type": "code",
   "execution_count": 11,
   "id": "e2b51d0c",
   "metadata": {},
   "outputs": [],
   "source": [
    "period = 365"
   ]
  },
  {
   "cell_type": "markdown",
   "id": "02fde1fb",
   "metadata": {},
   "source": [
    "Добавим столбец с количеством дней между покупкой и текущим временем. Чтобы найти значения __recency__, возьмем минимум из столбца для каждого пользователя:"
   ]
  },
  {
   "cell_type": "code",
   "execution_count": 12,
   "id": "bd4f3e9a",
   "metadata": {},
   "outputs": [],
   "source": [
    "orders['days_since_order'] = orders['order_approved_at'].apply(lambda x: (now - x).days)"
   ]
  },
  {
   "cell_type": "code",
   "execution_count": 13,
   "id": "76c9b133",
   "metadata": {},
   "outputs": [
    {
     "data": {
      "text/html": [
       "<div>\n",
       "<style scoped>\n",
       "    .dataframe tbody tr th:only-of-type {\n",
       "        vertical-align: middle;\n",
       "    }\n",
       "\n",
       "    .dataframe tbody tr th {\n",
       "        vertical-align: top;\n",
       "    }\n",
       "\n",
       "    .dataframe thead th {\n",
       "        text-align: right;\n",
       "    }\n",
       "</style>\n",
       "<table border=\"1\" class=\"dataframe\">\n",
       "  <thead>\n",
       "    <tr style=\"text-align: right;\">\n",
       "      <th></th>\n",
       "      <th>order_id</th>\n",
       "      <th>order_approved_at</th>\n",
       "      <th>customer_unique_id</th>\n",
       "      <th>price</th>\n",
       "      <th>days_since_order</th>\n",
       "    </tr>\n",
       "  </thead>\n",
       "  <tbody>\n",
       "    <tr>\n",
       "      <th>0</th>\n",
       "      <td>00010242fe8c5a6d1ba2dd792cb16214</td>\n",
       "      <td>2017-09-13 09:45:35</td>\n",
       "      <td>871766c5855e863f6eccc05f988b23cb</td>\n",
       "      <td>58.90</td>\n",
       "      <td>356</td>\n",
       "    </tr>\n",
       "    <tr>\n",
       "      <th>1</th>\n",
       "      <td>00018f77f2f0320c557190d7a144bdd3</td>\n",
       "      <td>2017-04-26 11:05:13</td>\n",
       "      <td>eb28e67c4c0b83846050ddfb8a35d051</td>\n",
       "      <td>239.90</td>\n",
       "      <td>496</td>\n",
       "    </tr>\n",
       "    <tr>\n",
       "      <th>2</th>\n",
       "      <td>000229ec398224ef6ca0657da4fc703e</td>\n",
       "      <td>2018-01-14 14:48:30</td>\n",
       "      <td>3818d81c6709e39d06b2738a8d3a2474</td>\n",
       "      <td>199.00</td>\n",
       "      <td>233</td>\n",
       "    </tr>\n",
       "    <tr>\n",
       "      <th>3</th>\n",
       "      <td>00024acbcdf0a6daa1e931b038114c75</td>\n",
       "      <td>2018-08-08 10:10:18</td>\n",
       "      <td>af861d436cfc08b2c2ddefd0ba074622</td>\n",
       "      <td>12.99</td>\n",
       "      <td>27</td>\n",
       "    </tr>\n",
       "    <tr>\n",
       "      <th>4</th>\n",
       "      <td>00042b26cf59d7ce69dfabb4e55b4fd9</td>\n",
       "      <td>2017-02-04 14:10:13</td>\n",
       "      <td>64b576fb70d441e8f1b2d7d446e483c5</td>\n",
       "      <td>199.90</td>\n",
       "      <td>577</td>\n",
       "    </tr>\n",
       "  </tbody>\n",
       "</table>\n",
       "</div>"
      ],
      "text/plain": [
       "                           order_id   order_approved_at  \\\n",
       "0  00010242fe8c5a6d1ba2dd792cb16214 2017-09-13 09:45:35   \n",
       "1  00018f77f2f0320c557190d7a144bdd3 2017-04-26 11:05:13   \n",
       "2  000229ec398224ef6ca0657da4fc703e 2018-01-14 14:48:30   \n",
       "3  00024acbcdf0a6daa1e931b038114c75 2018-08-08 10:10:18   \n",
       "4  00042b26cf59d7ce69dfabb4e55b4fd9 2017-02-04 14:10:13   \n",
       "\n",
       "                 customer_unique_id   price  days_since_order  \n",
       "0  871766c5855e863f6eccc05f988b23cb   58.90               356  \n",
       "1  eb28e67c4c0b83846050ddfb8a35d051  239.90               496  \n",
       "2  3818d81c6709e39d06b2738a8d3a2474  199.00               233  \n",
       "3  af861d436cfc08b2c2ddefd0ba074622   12.99                27  \n",
       "4  64b576fb70d441e8f1b2d7d446e483c5  199.90               577  "
      ]
     },
     "execution_count": 13,
     "metadata": {},
     "output_type": "execute_result"
    }
   ],
   "source": [
    "orders.head()"
   ]
  },
  {
   "cell_type": "markdown",
   "id": "6c677d7b",
   "metadata": {},
   "source": [
    "Баллы (score) рассчитываются для каждого пользователя. Нам нужен датафрейм данных с одной строкой для каждого клиента:"
   ]
  },
  {
   "cell_type": "code",
   "execution_count": 14,
   "id": "65202983",
   "metadata": {},
   "outputs": [],
   "source": [
    "aggr = {\n",
    "    'days_since_order': lambda x: x.min(), # количество дней с последнего заказа (recency)\n",
    "    'order_approved_at': lambda x: len([d for d in x if d >= now - timedelta(days=period)]), # общее количество заказов за\n",
    "                                                                                             # последний период (frequency)\n",
    "       }\n",
    "rfm = orders.groupby('customer_unique_id').agg(aggr).reset_index()\n",
    "rfm.rename(columns={'days_since_order': 'recency', 'order_approved_at': 'frequency'}, inplace=True)"
   ]
  },
  {
   "cell_type": "code",
   "execution_count": 15,
   "id": "95e189cc",
   "metadata": {},
   "outputs": [
    {
     "data": {
      "text/html": [
       "<div>\n",
       "<style scoped>\n",
       "    .dataframe tbody tr th:only-of-type {\n",
       "        vertical-align: middle;\n",
       "    }\n",
       "\n",
       "    .dataframe tbody tr th {\n",
       "        vertical-align: top;\n",
       "    }\n",
       "\n",
       "    .dataframe thead th {\n",
       "        text-align: right;\n",
       "    }\n",
       "</style>\n",
       "<table border=\"1\" class=\"dataframe\">\n",
       "  <thead>\n",
       "    <tr style=\"text-align: right;\">\n",
       "      <th></th>\n",
       "      <th>customer_unique_id</th>\n",
       "      <th>recency</th>\n",
       "      <th>frequency</th>\n",
       "    </tr>\n",
       "  </thead>\n",
       "  <tbody>\n",
       "    <tr>\n",
       "      <th>0</th>\n",
       "      <td>0000366f3b9a7992bf8c76cfdf3221e2</td>\n",
       "      <td>117</td>\n",
       "      <td>1</td>\n",
       "    </tr>\n",
       "    <tr>\n",
       "      <th>1</th>\n",
       "      <td>0000b849f77a49e4a4ce2b2a4ca5be3f</td>\n",
       "      <td>119</td>\n",
       "      <td>1</td>\n",
       "    </tr>\n",
       "    <tr>\n",
       "      <th>2</th>\n",
       "      <td>0000f46a3911fa3c0805444483337064</td>\n",
       "      <td>542</td>\n",
       "      <td>0</td>\n",
       "    </tr>\n",
       "    <tr>\n",
       "      <th>3</th>\n",
       "      <td>0000f6ccb0745a6a4b88665a16c9f078</td>\n",
       "      <td>326</td>\n",
       "      <td>1</td>\n",
       "    </tr>\n",
       "    <tr>\n",
       "      <th>4</th>\n",
       "      <td>0004aac84e0df4da2b147fca70cf8255</td>\n",
       "      <td>293</td>\n",
       "      <td>1</td>\n",
       "    </tr>\n",
       "    <tr>\n",
       "      <th>...</th>\n",
       "      <td>...</td>\n",
       "      <td>...</td>\n",
       "      <td>...</td>\n",
       "    </tr>\n",
       "    <tr>\n",
       "      <th>95402</th>\n",
       "      <td>fffcf5a5ff07b0908bd4e2dbc735a684</td>\n",
       "      <td>452</td>\n",
       "      <td>0</td>\n",
       "    </tr>\n",
       "    <tr>\n",
       "      <th>95403</th>\n",
       "      <td>fffea47cd6d3cc0a88bd621562a9d061</td>\n",
       "      <td>267</td>\n",
       "      <td>1</td>\n",
       "    </tr>\n",
       "    <tr>\n",
       "      <th>95404</th>\n",
       "      <td>ffff371b4d645b6ecea244b27531430a</td>\n",
       "      <td>574</td>\n",
       "      <td>0</td>\n",
       "    </tr>\n",
       "    <tr>\n",
       "      <th>95405</th>\n",
       "      <td>ffff5962728ec6157033ef9805bacc48</td>\n",
       "      <td>125</td>\n",
       "      <td>1</td>\n",
       "    </tr>\n",
       "    <tr>\n",
       "      <th>95406</th>\n",
       "      <td>ffffd2657e2aad2907e67c3e9daecbeb</td>\n",
       "      <td>489</td>\n",
       "      <td>0</td>\n",
       "    </tr>\n",
       "  </tbody>\n",
       "</table>\n",
       "<p>95407 rows × 3 columns</p>\n",
       "</div>"
      ],
      "text/plain": [
       "                     customer_unique_id  recency  frequency\n",
       "0      0000366f3b9a7992bf8c76cfdf3221e2      117          1\n",
       "1      0000b849f77a49e4a4ce2b2a4ca5be3f      119          1\n",
       "2      0000f46a3911fa3c0805444483337064      542          0\n",
       "3      0000f6ccb0745a6a4b88665a16c9f078      326          1\n",
       "4      0004aac84e0df4da2b147fca70cf8255      293          1\n",
       "...                                 ...      ...        ...\n",
       "95402  fffcf5a5ff07b0908bd4e2dbc735a684      452          0\n",
       "95403  fffea47cd6d3cc0a88bd621562a9d061      267          1\n",
       "95404  ffff371b4d645b6ecea244b27531430a      574          0\n",
       "95405  ffff5962728ec6157033ef9805bacc48      125          1\n",
       "95406  ffffd2657e2aad2907e67c3e9daecbeb      489          0\n",
       "\n",
       "[95407 rows x 3 columns]"
      ]
     },
     "execution_count": 15,
     "metadata": {},
     "output_type": "execute_result"
    }
   ],
   "source": [
    "rfm"
   ]
  },
  {
   "cell_type": "markdown",
   "id": "0d8f9e89",
   "metadata": {},
   "source": [
    "Теперь нам необходимо рассчитать сумму затрат каждого пользователя __monetory__ за последний год:"
   ]
  },
  {
   "cell_type": "code",
   "execution_count": 16,
   "id": "86ab4aea",
   "metadata": {},
   "outputs": [],
   "source": [
    "rfm['monetary'] = rfm['customer_unique_id'].apply(lambda x: orders[(orders['customer_unique_id'] == x) & \\\n",
    "                                                            (orders['order_approved_at'] >= now - timedelta(days=period))] \\\n",
    "                                                            ['price'].sum())"
   ]
  },
  {
   "cell_type": "code",
   "execution_count": 17,
   "id": "21279362",
   "metadata": {},
   "outputs": [
    {
     "data": {
      "text/html": [
       "<div>\n",
       "<style scoped>\n",
       "    .dataframe tbody tr th:only-of-type {\n",
       "        vertical-align: middle;\n",
       "    }\n",
       "\n",
       "    .dataframe tbody tr th {\n",
       "        vertical-align: top;\n",
       "    }\n",
       "\n",
       "    .dataframe thead th {\n",
       "        text-align: right;\n",
       "    }\n",
       "</style>\n",
       "<table border=\"1\" class=\"dataframe\">\n",
       "  <thead>\n",
       "    <tr style=\"text-align: right;\">\n",
       "      <th></th>\n",
       "      <th>customer_unique_id</th>\n",
       "      <th>recency</th>\n",
       "      <th>frequency</th>\n",
       "      <th>monetary</th>\n",
       "    </tr>\n",
       "  </thead>\n",
       "  <tbody>\n",
       "    <tr>\n",
       "      <th>0</th>\n",
       "      <td>0000366f3b9a7992bf8c76cfdf3221e2</td>\n",
       "      <td>117</td>\n",
       "      <td>1</td>\n",
       "      <td>129.90</td>\n",
       "    </tr>\n",
       "    <tr>\n",
       "      <th>1</th>\n",
       "      <td>0000b849f77a49e4a4ce2b2a4ca5be3f</td>\n",
       "      <td>119</td>\n",
       "      <td>1</td>\n",
       "      <td>18.90</td>\n",
       "    </tr>\n",
       "    <tr>\n",
       "      <th>2</th>\n",
       "      <td>0000f46a3911fa3c0805444483337064</td>\n",
       "      <td>542</td>\n",
       "      <td>0</td>\n",
       "      <td>0.00</td>\n",
       "    </tr>\n",
       "    <tr>\n",
       "      <th>3</th>\n",
       "      <td>0000f6ccb0745a6a4b88665a16c9f078</td>\n",
       "      <td>326</td>\n",
       "      <td>1</td>\n",
       "      <td>25.99</td>\n",
       "    </tr>\n",
       "    <tr>\n",
       "      <th>4</th>\n",
       "      <td>0004aac84e0df4da2b147fca70cf8255</td>\n",
       "      <td>293</td>\n",
       "      <td>1</td>\n",
       "      <td>180.00</td>\n",
       "    </tr>\n",
       "    <tr>\n",
       "      <th>...</th>\n",
       "      <td>...</td>\n",
       "      <td>...</td>\n",
       "      <td>...</td>\n",
       "      <td>...</td>\n",
       "    </tr>\n",
       "    <tr>\n",
       "      <th>95402</th>\n",
       "      <td>fffcf5a5ff07b0908bd4e2dbc735a684</td>\n",
       "      <td>452</td>\n",
       "      <td>0</td>\n",
       "      <td>0.00</td>\n",
       "    </tr>\n",
       "    <tr>\n",
       "      <th>95403</th>\n",
       "      <td>fffea47cd6d3cc0a88bd621562a9d061</td>\n",
       "      <td>267</td>\n",
       "      <td>1</td>\n",
       "      <td>64.89</td>\n",
       "    </tr>\n",
       "    <tr>\n",
       "      <th>95404</th>\n",
       "      <td>ffff371b4d645b6ecea244b27531430a</td>\n",
       "      <td>574</td>\n",
       "      <td>0</td>\n",
       "      <td>0.00</td>\n",
       "    </tr>\n",
       "    <tr>\n",
       "      <th>95405</th>\n",
       "      <td>ffff5962728ec6157033ef9805bacc48</td>\n",
       "      <td>125</td>\n",
       "      <td>1</td>\n",
       "      <td>115.00</td>\n",
       "    </tr>\n",
       "    <tr>\n",
       "      <th>95406</th>\n",
       "      <td>ffffd2657e2aad2907e67c3e9daecbeb</td>\n",
       "      <td>489</td>\n",
       "      <td>0</td>\n",
       "      <td>0.00</td>\n",
       "    </tr>\n",
       "  </tbody>\n",
       "</table>\n",
       "<p>95407 rows × 4 columns</p>\n",
       "</div>"
      ],
      "text/plain": [
       "                     customer_unique_id  recency  frequency  monetary\n",
       "0      0000366f3b9a7992bf8c76cfdf3221e2      117          1    129.90\n",
       "1      0000b849f77a49e4a4ce2b2a4ca5be3f      119          1     18.90\n",
       "2      0000f46a3911fa3c0805444483337064      542          0      0.00\n",
       "3      0000f6ccb0745a6a4b88665a16c9f078      326          1     25.99\n",
       "4      0004aac84e0df4da2b147fca70cf8255      293          1    180.00\n",
       "...                                 ...      ...        ...       ...\n",
       "95402  fffcf5a5ff07b0908bd4e2dbc735a684      452          0      0.00\n",
       "95403  fffea47cd6d3cc0a88bd621562a9d061      267          1     64.89\n",
       "95404  ffff371b4d645b6ecea244b27531430a      574          0      0.00\n",
       "95405  ffff5962728ec6157033ef9805bacc48      125          1    115.00\n",
       "95406  ffffd2657e2aad2907e67c3e9daecbeb      489          0      0.00\n",
       "\n",
       "[95407 rows x 4 columns]"
      ]
     },
     "execution_count": 17,
     "metadata": {},
     "output_type": "execute_result"
    }
   ],
   "source": [
    "rfm"
   ]
  },
  {
   "cell_type": "markdown",
   "id": "90fd6b27",
   "metadata": {},
   "source": [
    "Рассчитаем __rfm__ баллы. Каждому пользователю по каждому параметру присвоим баллы в диапазоне [1:5]. Разобьем наш диапазон на пять частей квантилями по 20% каждый:"
   ]
  },
  {
   "cell_type": "code",
   "execution_count": 18,
   "id": "92793c6e",
   "metadata": {},
   "outputs": [
    {
     "data": {
      "text/plain": [
       "{'recency': {0.2: 98.0, 0.4: 182.0, 0.6: 273.0, 0.8: 389.0},\n",
       " 'frequency': {0.2: 0.0, 0.4: 1.0, 0.6: 1.0, 0.8: 1.0},\n",
       " 'monetary': {0.2: 0.0, 0.4: 39.9, 0.6: 79.0, 0.8: 143.8}}"
      ]
     },
     "execution_count": 18,
     "metadata": {},
     "output_type": "execute_result"
    }
   ],
   "source": [
    "quintiles = rfm[['recency', 'frequency', 'monetary']].quantile([.2, .4, .6, .8]).to_dict()\n",
    "quintiles"
   ]
  },
  {
   "cell_type": "markdown",
   "id": "d514b65b",
   "metadata": {},
   "source": [
    "Присвоим каждому из квантилей ранг. Чем меньше ранг __recency__, тем лучше, тогда как для __frequency__ и __monetary__ наоборот:"
   ]
  },
  {
   "cell_type": "code",
   "execution_count": 19,
   "id": "5db4163f",
   "metadata": {},
   "outputs": [],
   "source": [
    "def r_score(x):\n",
    "    if x <= quintiles['recency'][.2]:\n",
    "        return 5\n",
    "    elif x <= quintiles['recency'][.4]:\n",
    "        return 4\n",
    "    elif x <= quintiles['recency'][.6]:\n",
    "        return 3\n",
    "    elif x <= quintiles['recency'][.8]:\n",
    "        return 2\n",
    "    else:\n",
    "        return 1\n",
    "\n",
    "def fm_score(x, c):\n",
    "    if x <= quintiles[c][.2]:\n",
    "        return 1\n",
    "    elif x <= quintiles[c][.4]:\n",
    "        return 2\n",
    "    elif x <= quintiles[c][.6]:\n",
    "        return 3\n",
    "    elif x <= quintiles[c][.8]:\n",
    "        return 4\n",
    "    else:\n",
    "        return 5  "
   ]
  },
  {
   "cell_type": "markdown",
   "id": "5763aaca",
   "metadata": {},
   "source": [
    "Присвоим каждому пользователю соответствующие __R, F__ и __M__ баллы:"
   ]
  },
  {
   "cell_type": "code",
   "execution_count": 20,
   "id": "4d0205d5",
   "metadata": {},
   "outputs": [],
   "source": [
    "rfm['R'] = rfm['recency'].apply(lambda x: r_score(x))\n",
    "rfm['F'] = rfm['frequency'].apply(lambda x: fm_score(x, 'frequency'))\n",
    "rfm['M'] = rfm['monetary'].apply(lambda x: fm_score(x, 'monetary'))"
   ]
  },
  {
   "cell_type": "markdown",
   "id": "0d8886c1",
   "metadata": {},
   "source": [
    "Создадим колонку __RFM_score__ со всеми RFM оценками:"
   ]
  },
  {
   "cell_type": "code",
   "execution_count": 21,
   "id": "e6819351",
   "metadata": {},
   "outputs": [
    {
     "data": {
      "text/html": [
       "<div>\n",
       "<style scoped>\n",
       "    .dataframe tbody tr th:only-of-type {\n",
       "        vertical-align: middle;\n",
       "    }\n",
       "\n",
       "    .dataframe tbody tr th {\n",
       "        vertical-align: top;\n",
       "    }\n",
       "\n",
       "    .dataframe thead th {\n",
       "        text-align: right;\n",
       "    }\n",
       "</style>\n",
       "<table border=\"1\" class=\"dataframe\">\n",
       "  <thead>\n",
       "    <tr style=\"text-align: right;\">\n",
       "      <th></th>\n",
       "      <th>customer_unique_id</th>\n",
       "      <th>recency</th>\n",
       "      <th>frequency</th>\n",
       "      <th>monetary</th>\n",
       "      <th>R</th>\n",
       "      <th>F</th>\n",
       "      <th>M</th>\n",
       "      <th>RFM_score</th>\n",
       "    </tr>\n",
       "  </thead>\n",
       "  <tbody>\n",
       "    <tr>\n",
       "      <th>0</th>\n",
       "      <td>0000366f3b9a7992bf8c76cfdf3221e2</td>\n",
       "      <td>117</td>\n",
       "      <td>1</td>\n",
       "      <td>129.90</td>\n",
       "      <td>4</td>\n",
       "      <td>2</td>\n",
       "      <td>4</td>\n",
       "      <td>424</td>\n",
       "    </tr>\n",
       "    <tr>\n",
       "      <th>1</th>\n",
       "      <td>0000b849f77a49e4a4ce2b2a4ca5be3f</td>\n",
       "      <td>119</td>\n",
       "      <td>1</td>\n",
       "      <td>18.90</td>\n",
       "      <td>4</td>\n",
       "      <td>2</td>\n",
       "      <td>2</td>\n",
       "      <td>422</td>\n",
       "    </tr>\n",
       "    <tr>\n",
       "      <th>2</th>\n",
       "      <td>0000f46a3911fa3c0805444483337064</td>\n",
       "      <td>542</td>\n",
       "      <td>0</td>\n",
       "      <td>0.00</td>\n",
       "      <td>1</td>\n",
       "      <td>1</td>\n",
       "      <td>1</td>\n",
       "      <td>111</td>\n",
       "    </tr>\n",
       "    <tr>\n",
       "      <th>3</th>\n",
       "      <td>0000f6ccb0745a6a4b88665a16c9f078</td>\n",
       "      <td>326</td>\n",
       "      <td>1</td>\n",
       "      <td>25.99</td>\n",
       "      <td>2</td>\n",
       "      <td>2</td>\n",
       "      <td>2</td>\n",
       "      <td>222</td>\n",
       "    </tr>\n",
       "    <tr>\n",
       "      <th>4</th>\n",
       "      <td>0004aac84e0df4da2b147fca70cf8255</td>\n",
       "      <td>293</td>\n",
       "      <td>1</td>\n",
       "      <td>180.00</td>\n",
       "      <td>2</td>\n",
       "      <td>2</td>\n",
       "      <td>5</td>\n",
       "      <td>225</td>\n",
       "    </tr>\n",
       "  </tbody>\n",
       "</table>\n",
       "</div>"
      ],
      "text/plain": [
       "                 customer_unique_id  recency  frequency  monetary  R  F  M  \\\n",
       "0  0000366f3b9a7992bf8c76cfdf3221e2      117          1    129.90  4  2  4   \n",
       "1  0000b849f77a49e4a4ce2b2a4ca5be3f      119          1     18.90  4  2  2   \n",
       "2  0000f46a3911fa3c0805444483337064      542          0      0.00  1  1  1   \n",
       "3  0000f6ccb0745a6a4b88665a16c9f078      326          1     25.99  2  2  2   \n",
       "4  0004aac84e0df4da2b147fca70cf8255      293          1    180.00  2  2  5   \n",
       "\n",
       "  RFM_score  \n",
       "0       424  \n",
       "1       422  \n",
       "2       111  \n",
       "3       222  \n",
       "4       225  "
      ]
     },
     "execution_count": 21,
     "metadata": {},
     "output_type": "execute_result"
    }
   ],
   "source": [
    "rfm['RFM_score'] = rfm['R'].map(str) + rfm['F'].map(str) + rfm['M'].map(str)\n",
    "rfm.head()"
   ]
  },
  {
   "cell_type": "markdown",
   "id": "337c390f",
   "metadata": {},
   "source": [
    "Разобьем наших пользователей на сегменты на основе показателей __R__ и __F__. Дадим описание сегментам: "
   ]
  },
  {
   "cell_type": "code",
   "execution_count": 23,
   "id": "d0658d72",
   "metadata": {
    "scrolled": true
   },
   "outputs": [
    {
     "data": {
      "text/html": [
       "<div>\n",
       "<style scoped>\n",
       "    .dataframe tbody tr th:only-of-type {\n",
       "        vertical-align: middle;\n",
       "    }\n",
       "\n",
       "    .dataframe tbody tr th {\n",
       "        vertical-align: top;\n",
       "    }\n",
       "\n",
       "    .dataframe thead th {\n",
       "        text-align: right;\n",
       "    }\n",
       "</style>\n",
       "<table border=\"1\" class=\"dataframe\">\n",
       "  <thead>\n",
       "    <tr style=\"text-align: right;\">\n",
       "      <th></th>\n",
       "      <th>Сегменты</th>\n",
       "      <th>Описание</th>\n",
       "    </tr>\n",
       "  </thead>\n",
       "  <tbody>\n",
       "    <tr>\n",
       "      <th>0</th>\n",
       "      <td>Лучший</td>\n",
       "      <td>Покупал недавно, покупает чаще и больше всех</td>\n",
       "    </tr>\n",
       "    <tr>\n",
       "      <th>1</th>\n",
       "      <td>Лояльный</td>\n",
       "      <td>Покупает на регулярной основе</td>\n",
       "    </tr>\n",
       "    <tr>\n",
       "      <th>2</th>\n",
       "      <td>Потенциально лояльный</td>\n",
       "      <td>Недавний клиент со средней частотой</td>\n",
       "    </tr>\n",
       "    <tr>\n",
       "      <th>3</th>\n",
       "      <td>Перспективный</td>\n",
       "      <td>Пришел недавно и покупал немного</td>\n",
       "    </tr>\n",
       "    <tr>\n",
       "      <th>4</th>\n",
       "      <td>Рисковый</td>\n",
       "      <td>Покупал часто, но давно</td>\n",
       "    </tr>\n",
       "    <tr>\n",
       "      <th>5</th>\n",
       "      <td>Не могу потерять</td>\n",
       "      <td>Часто покупал, но давно нету</td>\n",
       "    </tr>\n",
       "    <tr>\n",
       "      <th>6</th>\n",
       "      <td>Уснул</td>\n",
       "      <td>Давно покупал и покупал мало</td>\n",
       "    </tr>\n",
       "  </tbody>\n",
       "</table>\n",
       "</div>"
      ],
      "text/plain": [
       "                Сегменты                                      Описание\n",
       "0                 Лучший  Покупал недавно, покупает чаще и больше всех\n",
       "1               Лояльный                 Покупает на регулярной основе\n",
       "2  Потенциально лояльный           Недавний клиент со средней частотой\n",
       "3          Перспективный              Пришел недавно и покупал немного\n",
       "4               Рисковый                       Покупал часто, но давно\n",
       "5       Не могу потерять                  Часто покупал, но давно нету\n",
       "6                  Уснул                  Давно покупал и покупал мало"
      ]
     },
     "execution_count": 23,
     "metadata": {},
     "output_type": "execute_result"
    }
   ],
   "source": [
    "data = {\"Сегменты\": ['Лучший', 'Лояльный', 'Потенциально лояльный', 'Перспективный', 'Рисковый', 'Не могу потерять', 'Уснул'],\n",
    "        \"Описание\": ['Покупал недавно, покупает чаще и больше всех', 'Покупает на регулярной основе',\n",
    "                     'Недавний клиент со средней частотой', 'Пришел недавно и покупал немного', \n",
    "                     'Покупал часто, но давно', 'Часто покупал, но давно нету', 'Давно покупал и покупал мало']}\n",
    "pd.DataFrame(data)"
   ]
  },
  {
   "cell_type": "code",
   "execution_count": 24,
   "id": "6bf299de",
   "metadata": {
    "scrolled": true
   },
   "outputs": [
    {
     "data": {
      "text/html": [
       "<div>\n",
       "<style scoped>\n",
       "    .dataframe tbody tr th:only-of-type {\n",
       "        vertical-align: middle;\n",
       "    }\n",
       "\n",
       "    .dataframe tbody tr th {\n",
       "        vertical-align: top;\n",
       "    }\n",
       "\n",
       "    .dataframe thead th {\n",
       "        text-align: right;\n",
       "    }\n",
       "</style>\n",
       "<table border=\"1\" class=\"dataframe\">\n",
       "  <thead>\n",
       "    <tr style=\"text-align: right;\">\n",
       "      <th></th>\n",
       "      <th>customer_unique_id</th>\n",
       "      <th>recency</th>\n",
       "      <th>frequency</th>\n",
       "      <th>monetary</th>\n",
       "      <th>R</th>\n",
       "      <th>F</th>\n",
       "      <th>M</th>\n",
       "      <th>RFM_score</th>\n",
       "      <th>segment</th>\n",
       "    </tr>\n",
       "  </thead>\n",
       "  <tbody>\n",
       "    <tr>\n",
       "      <th>0</th>\n",
       "      <td>0000366f3b9a7992bf8c76cfdf3221e2</td>\n",
       "      <td>117</td>\n",
       "      <td>1</td>\n",
       "      <td>129.90</td>\n",
       "      <td>4</td>\n",
       "      <td>2</td>\n",
       "      <td>4</td>\n",
       "      <td>424</td>\n",
       "      <td>Потенциально лояльный</td>\n",
       "    </tr>\n",
       "    <tr>\n",
       "      <th>1</th>\n",
       "      <td>0000b849f77a49e4a4ce2b2a4ca5be3f</td>\n",
       "      <td>119</td>\n",
       "      <td>1</td>\n",
       "      <td>18.90</td>\n",
       "      <td>4</td>\n",
       "      <td>2</td>\n",
       "      <td>2</td>\n",
       "      <td>422</td>\n",
       "      <td>Потенциально лояльный</td>\n",
       "    </tr>\n",
       "    <tr>\n",
       "      <th>2</th>\n",
       "      <td>0000f46a3911fa3c0805444483337064</td>\n",
       "      <td>542</td>\n",
       "      <td>0</td>\n",
       "      <td>0.00</td>\n",
       "      <td>1</td>\n",
       "      <td>1</td>\n",
       "      <td>1</td>\n",
       "      <td>111</td>\n",
       "      <td>Уснул</td>\n",
       "    </tr>\n",
       "    <tr>\n",
       "      <th>3</th>\n",
       "      <td>0000f6ccb0745a6a4b88665a16c9f078</td>\n",
       "      <td>326</td>\n",
       "      <td>1</td>\n",
       "      <td>25.99</td>\n",
       "      <td>2</td>\n",
       "      <td>2</td>\n",
       "      <td>2</td>\n",
       "      <td>222</td>\n",
       "      <td>Уснул</td>\n",
       "    </tr>\n",
       "    <tr>\n",
       "      <th>4</th>\n",
       "      <td>0004aac84e0df4da2b147fca70cf8255</td>\n",
       "      <td>293</td>\n",
       "      <td>1</td>\n",
       "      <td>180.00</td>\n",
       "      <td>2</td>\n",
       "      <td>2</td>\n",
       "      <td>5</td>\n",
       "      <td>225</td>\n",
       "      <td>Уснул</td>\n",
       "    </tr>\n",
       "  </tbody>\n",
       "</table>\n",
       "</div>"
      ],
      "text/plain": [
       "                 customer_unique_id  recency  frequency  monetary  R  F  M  \\\n",
       "0  0000366f3b9a7992bf8c76cfdf3221e2      117          1    129.90  4  2  4   \n",
       "1  0000b849f77a49e4a4ce2b2a4ca5be3f      119          1     18.90  4  2  2   \n",
       "2  0000f46a3911fa3c0805444483337064      542          0      0.00  1  1  1   \n",
       "3  0000f6ccb0745a6a4b88665a16c9f078      326          1     25.99  2  2  2   \n",
       "4  0004aac84e0df4da2b147fca70cf8255      293          1    180.00  2  2  5   \n",
       "\n",
       "  RFM_score                segment  \n",
       "0       424  Потенциально лояльный  \n",
       "1       422  Потенциально лояльный  \n",
       "2       111                  Уснул  \n",
       "3       222                  Уснул  \n",
       "4       225                  Уснул  "
      ]
     },
     "execution_count": 24,
     "metadata": {},
     "output_type": "execute_result"
    }
   ],
   "source": [
    "segt_map = {\n",
    "    r'5[4-5]': 'Лучший',\n",
    "    r'[3-4][4-5]': 'Лояльный',\n",
    "    r'[3-5][2-3]': 'Потенциально лояльный',\n",
    "    r'[3-5]1': 'Перспективный',\n",
    "    r'[1-2][3-4]': 'Рисковый',\n",
    "    r'[1-2]5': 'Не могу потерять',\n",
    "    r'[1-2][1-2]': 'Уснул'\n",
    "}\n",
    "\n",
    "rfm['segment'] = rfm['R'].map(str) + rfm['F'].map(str)\n",
    "rfm['segment'] = rfm['segment'].replace(segt_map, regex=True)\n",
    "rfm.head()"
   ]
  },
  {
   "cell_type": "code",
   "execution_count": 28,
   "id": "dc1a554b",
   "metadata": {},
   "outputs": [
    {
     "data": {
      "text/html": [
       "<div>\n",
       "<style scoped>\n",
       "    .dataframe tbody tr th:only-of-type {\n",
       "        vertical-align: middle;\n",
       "    }\n",
       "\n",
       "    .dataframe tbody tr th {\n",
       "        vertical-align: top;\n",
       "    }\n",
       "\n",
       "    .dataframe thead th {\n",
       "        text-align: right;\n",
       "    }\n",
       "</style>\n",
       "<table border=\"1\" class=\"dataframe\">\n",
       "  <thead>\n",
       "    <tr style=\"text-align: right;\">\n",
       "      <th></th>\n",
       "      <th>segment</th>\n",
       "      <th>quantity</th>\n",
       "      <th>quantity_percent</th>\n",
       "    </tr>\n",
       "  </thead>\n",
       "  <tbody>\n",
       "    <tr>\n",
       "      <th>3</th>\n",
       "      <td>Потенциально лояльный</td>\n",
       "      <td>55826</td>\n",
       "      <td>58.5</td>\n",
       "    </tr>\n",
       "    <tr>\n",
       "      <th>4</th>\n",
       "      <td>Уснул</td>\n",
       "      <td>37735</td>\n",
       "      <td>39.6</td>\n",
       "    </tr>\n",
       "    <tr>\n",
       "      <th>0</th>\n",
       "      <td>Лояльный</td>\n",
       "      <td>981</td>\n",
       "      <td>1.0</td>\n",
       "    </tr>\n",
       "    <tr>\n",
       "      <th>1</th>\n",
       "      <td>Лучший</td>\n",
       "      <td>558</td>\n",
       "      <td>0.6</td>\n",
       "    </tr>\n",
       "    <tr>\n",
       "      <th>2</th>\n",
       "      <td>Не могу потерять</td>\n",
       "      <td>307</td>\n",
       "      <td>0.3</td>\n",
       "    </tr>\n",
       "  </tbody>\n",
       "</table>\n",
       "</div>"
      ],
      "text/plain": [
       "                 segment  quantity  quantity_percent\n",
       "3  Потенциально лояльный     55826              58.5\n",
       "4                  Уснул     37735              39.6\n",
       "0               Лояльный       981               1.0\n",
       "1                 Лучший       558               0.6\n",
       "2       Не могу потерять       307               0.3"
      ]
     },
     "execution_count": 28,
     "metadata": {},
     "output_type": "execute_result"
    }
   ],
   "source": [
    "rfm_hist = rfm.groupby(\"segment\", as_index=False) \\\n",
    "              .agg({\"RFM_score\": \"count\"}) \\\n",
    "              .rename(columns={'RFM_score': 'quantity'}) \\\n",
    "              .sort_values(\"quantity\", ascending=False)\n",
    "rfm_hist = rfm_hist.assign(quantity_percent = round(rfm_hist.quantity/rfm_hist.quantity.sum()*100, 1))\n",
    "rfm_hist"
   ]
  },
  {
   "cell_type": "code",
   "execution_count": 120,
   "id": "4291d2d6",
   "metadata": {},
   "outputs": [
    {
     "data": {
      "image/png": "[encoded data removed]",
      "text/plain": [
       "<Figure size 864x576 with 1 Axes>"
      ]
     },
     "metadata": {},
     "output_type": "display_data"
    }
   ],
   "source": [
    "sns.barplot(data=rfm_hist, x=\"segment\", y=\"quantity_percent\", palette='colorblind')\n",
    "sns.set(rc = {'figure.figsize':(12,8)})"
   ]
  },
  {
   "cell_type": "markdown",
   "id": "b5fa5076",
   "metadata": {},
   "source": [
    "Как результат: *лучшие* с *лояльными* составляют 1.6% от общей популяции. Это тот процент пользователей, которые составляют наш бюджет. Особое внимание следует уделить группе *потенциально лояльных*. Необходимо провести анализ над тем, как нам следует их *перевести* в сегмент выше."
   ]
  }
 ],
 "metadata": {
  "kernelspec": {
   "display_name": "Python 3 (ipykernel)",
   "language": "python",
   "name": "python3"
  },
  "language_info": {
   "codemirror_mode": {
    "name": "ipython",
    "version": 3
   },
   "file_extension": ".py",
   "mimetype": "text/x-python",
   "name": "python",
   "nbconvert_exporter": "python",
   "pygments_lexer": "ipython3",
   "version": "3.9.7"
  }
 },
 "nbformat": 4,
 "nbformat_minor": 5
}
