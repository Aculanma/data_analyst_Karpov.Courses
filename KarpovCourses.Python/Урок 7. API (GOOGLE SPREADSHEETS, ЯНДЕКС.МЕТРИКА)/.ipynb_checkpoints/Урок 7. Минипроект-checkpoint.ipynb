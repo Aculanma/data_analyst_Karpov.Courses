{
 "cells": [
  {
   "cell_type": "markdown",
   "id": "01e60ce2",
   "metadata": {},
   "source": [
    "Настало время последнего мини-проекта в блоке Python! В нём вы поработаете с API и узнаете, как ведут себя пользователи на сайте Яндекс.Метрики."
   ]
  },
  {
   "cell_type": "markdown",
   "id": "bc602d93",
   "metadata": {},
   "source": [
    "Так как мы работаем с демо данными Яндекс.Метрики, нам позволено видеть данные только за последнюю неделю. Это требует обновления заданий и ответов на них каждую неделю, что не очень удобно и вам, и нам. Поэтому для удобства проверки мы решили немного модифицировать степы: теперь для того, чтобы ответить на вопросы, вам необходимо поработать с уже выгруженными датасетами из Яндекс.Метрики. Но вы можете самостоятельно повторить каждый из запросов в задании к реальному API Яндекс.Метрики, чтобы потренироваться и получить данные в таком же формате, как в прикрепленном к задаче датасете."
   ]
  },
  {
   "cell_type": "code",
   "execution_count": 1,
   "id": "8eb18a80",
   "metadata": {},
   "outputs": [],
   "source": [
    "%matplotlib inline"
   ]
  },
  {
   "cell_type": "code",
   "execution_count": 2,
   "id": "81dbe856",
   "metadata": {},
   "outputs": [],
   "source": [
    "import pandas as pd\n",
    "import matplotlib.pyplot as plt\n",
    "import seaborn as sns\n",
    "from datetime import datetime\n",
    "from io import BytesIO\n",
    "import requests\n",
    "import numpy as np"
   ]
  },
  {
   "cell_type": "markdown",
   "id": "73328e0f",
   "metadata": {},
   "source": [
    "### 1"
   ]
  },
  {
   "cell_type": "markdown",
   "id": "216882cd",
   "metadata": {},
   "source": [
    "Для начала, давайте посмотрим на распределение посещений сайта по дням. Постройте график с распределением количества посещений от ботов и обычных пользователей сайта Яндекс.Метрика."
   ]
  },
  {
   "cell_type": "markdown",
   "id": "bc48e96b",
   "metadata": {},
   "source": [
    "- __Наименьшее число посещений пользователей-людей наблюдается 15 июня__     \n",
    "- __Наибольшая разница между числом посещений людьми и ботами наблюдается 16 июня__    \n",
    "- __15 июня сайт посетило наибольшее число ботов__     \n",
    "- __15 июня ботов было примерно в два раза больше, чем 16 июня__    \n",
    "- 15 июня сайт посетило наименьшее число ботов  \n",
    "- Наименьшее число посещений наблюдается 17 июня только среди пользователей  \n",
    "- 17 июня сайт посетило наибольшее число ботов, по сравнению с 15 и 16 июня  \n",
    "- 17 июня ботов было примерно в два раза меньше, чем 15 июня  "
   ]
  },
  {
   "cell_type": "code",
   "execution_count": 30,
   "id": "2541edbb",
   "metadata": {},
   "outputs": [],
   "source": [
    "df_lesson1 = pd.read_csv('step_1_lesson_7.csv')"
   ]
  },
  {
   "cell_type": "code",
   "execution_count": 31,
   "id": "1fd2fa01",
   "metadata": {},
   "outputs": [
    {
     "data": {
      "text/html": [
       "<div>\n",
       "<style scoped>\n",
       "    .dataframe tbody tr th:only-of-type {\n",
       "        vertical-align: middle;\n",
       "    }\n",
       "\n",
       "    .dataframe tbody tr th {\n",
       "        vertical-align: top;\n",
       "    }\n",
       "\n",
       "    .dataframe thead th {\n",
       "        text-align: right;\n",
       "    }\n",
       "</style>\n",
       "<table border=\"1\" class=\"dataframe\">\n",
       "  <thead>\n",
       "    <tr style=\"text-align: right;\">\n",
       "      <th></th>\n",
       "      <th>date</th>\n",
       "      <th>user_type</th>\n",
       "      <th>visits</th>\n",
       "    </tr>\n",
       "  </thead>\n",
       "  <tbody>\n",
       "    <tr>\n",
       "      <th>0</th>\n",
       "      <td>2020-06-15</td>\n",
       "      <td>People</td>\n",
       "      <td>417.0</td>\n",
       "    </tr>\n",
       "    <tr>\n",
       "      <th>1</th>\n",
       "      <td>2020-06-15</td>\n",
       "      <td>Robots</td>\n",
       "      <td>177.0</td>\n",
       "    </tr>\n",
       "    <tr>\n",
       "      <th>2</th>\n",
       "      <td>2020-06-16</td>\n",
       "      <td>People</td>\n",
       "      <td>472.0</td>\n",
       "    </tr>\n",
       "    <tr>\n",
       "      <th>3</th>\n",
       "      <td>2020-06-16</td>\n",
       "      <td>Robots</td>\n",
       "      <td>91.0</td>\n",
       "    </tr>\n",
       "    <tr>\n",
       "      <th>4</th>\n",
       "      <td>2020-06-17</td>\n",
       "      <td>People</td>\n",
       "      <td>475.0</td>\n",
       "    </tr>\n",
       "    <tr>\n",
       "      <th>5</th>\n",
       "      <td>2020-06-17</td>\n",
       "      <td>Robots</td>\n",
       "      <td>138.0</td>\n",
       "    </tr>\n",
       "  </tbody>\n",
       "</table>\n",
       "</div>"
      ],
      "text/plain": [
       "         date user_type  visits\n",
       "0  2020-06-15    People   417.0\n",
       "1  2020-06-15    Robots   177.0\n",
       "2  2020-06-16    People   472.0\n",
       "3  2020-06-16    Robots    91.0\n",
       "4  2020-06-17    People   475.0\n",
       "5  2020-06-17    Robots   138.0"
      ]
     },
     "execution_count": 31,
     "metadata": {},
     "output_type": "execute_result"
    }
   ],
   "source": [
    "df_lesson1"
   ]
  },
  {
   "cell_type": "code",
   "execution_count": 32,
   "id": "f6cdab95",
   "metadata": {},
   "outputs": [
    {
     "data": {
      "text/plain": [
       "date          object\n",
       "user_type     object\n",
       "visits       float64\n",
       "dtype: object"
      ]
     },
     "execution_count": 32,
     "metadata": {},
     "output_type": "execute_result"
    }
   ],
   "source": [
    "df_lesson1.dtypes"
   ]
  },
  {
   "cell_type": "code",
   "execution_count": 33,
   "id": "0a92c7dc",
   "metadata": {},
   "outputs": [],
   "source": [
    "df_lesson1.date = pd.to_datetime(df_lesson1.date)"
   ]
  },
  {
   "cell_type": "code",
   "execution_count": 34,
   "id": "9ce4850c",
   "metadata": {},
   "outputs": [
    {
     "data": {
      "text/plain": [
       "date         datetime64[ns]\n",
       "user_type            object\n",
       "visits              float64\n",
       "dtype: object"
      ]
     },
     "execution_count": 34,
     "metadata": {},
     "output_type": "execute_result"
    }
   ],
   "source": [
    "df_lesson1.dtypes"
   ]
  },
  {
   "cell_type": "code",
   "execution_count": 35,
   "id": "30e2e93f",
   "metadata": {},
   "outputs": [
    {
     "data": {
      "text/plain": [
       "<AxesSubplot:xlabel='date', ylabel='visits'>"
      ]
     },
     "execution_count": 35,
     "metadata": {},
     "output_type": "execute_result"
    },
    {
     "data": {
      "image/png": "[encoded data removed]",
      "text/plain": [
       "<Figure size 720x432 with 1 Axes>"
      ]
     },
     "metadata": {
      "needs_background": "light"
     },
     "output_type": "display_data"
    }
   ],
   "source": [
    "fig, ax = plt.subplots(figsize=(10, 6))\n",
    "sns.barplot(data=df_lesson1, x='date', y='visits', hue='user_type', ax=ax)"
   ]
  },
  {
   "cell_type": "markdown",
   "id": "0356b91d",
   "metadata": {},
   "source": [
    "### 2"
   ]
  },
  {
   "cell_type": "markdown",
   "id": "9923f9d9",
   "metadata": {},
   "source": [
    "Определите процент посещений сайта Яндекс.Метрики с бразузера Google Chrome. Данные лежат здесь.\n",
    "\n",
    "Ответ округлите до целого."
   ]
  },
  {
   "cell_type": "code",
   "execution_count": 36,
   "id": "14c75a3e",
   "metadata": {},
   "outputs": [],
   "source": [
    "df_lesson2 = pd.read_csv('step_2_lesson_7.csv')"
   ]
  },
  {
   "cell_type": "code",
   "execution_count": 48,
   "id": "6a356d6f",
   "metadata": {},
   "outputs": [
    {
     "data": {
      "text/html": [
       "<div>\n",
       "<style scoped>\n",
       "    .dataframe tbody tr th:only-of-type {\n",
       "        vertical-align: middle;\n",
       "    }\n",
       "\n",
       "    .dataframe tbody tr th {\n",
       "        vertical-align: top;\n",
       "    }\n",
       "\n",
       "    .dataframe thead th {\n",
       "        text-align: right;\n",
       "    }\n",
       "</style>\n",
       "<table border=\"1\" class=\"dataframe\">\n",
       "  <thead>\n",
       "    <tr style=\"text-align: right;\">\n",
       "      <th></th>\n",
       "      <th>date</th>\n",
       "      <th>browser</th>\n",
       "      <th>visits</th>\n",
       "    </tr>\n",
       "  </thead>\n",
       "  <tbody>\n",
       "    <tr>\n",
       "      <th>0</th>\n",
       "      <td>2020-06-15</td>\n",
       "      <td>Google Chrome</td>\n",
       "      <td>354.0</td>\n",
       "    </tr>\n",
       "    <tr>\n",
       "      <th>1</th>\n",
       "      <td>2020-06-15</td>\n",
       "      <td>Firefox</td>\n",
       "      <td>58.0</td>\n",
       "    </tr>\n",
       "    <tr>\n",
       "      <th>2</th>\n",
       "      <td>2020-06-15</td>\n",
       "      <td>Yandex Browser</td>\n",
       "      <td>54.0</td>\n",
       "    </tr>\n",
       "    <tr>\n",
       "      <th>3</th>\n",
       "      <td>2020-06-15</td>\n",
       "      <td>Safari</td>\n",
       "      <td>41.0</td>\n",
       "    </tr>\n",
       "    <tr>\n",
       "      <th>4</th>\n",
       "      <td>2020-06-15</td>\n",
       "      <td>Chrome Mobile</td>\n",
       "      <td>31.0</td>\n",
       "    </tr>\n",
       "  </tbody>\n",
       "</table>\n",
       "</div>"
      ],
      "text/plain": [
       "         date         browser  visits\n",
       "0  2020-06-15   Google Chrome   354.0\n",
       "1  2020-06-15         Firefox    58.0\n",
       "2  2020-06-15  Yandex Browser    54.0\n",
       "3  2020-06-15          Safari    41.0\n",
       "4  2020-06-15   Chrome Mobile    31.0"
      ]
     },
     "execution_count": 48,
     "metadata": {},
     "output_type": "execute_result"
    }
   ],
   "source": [
    "df_lesson2.head()"
   ]
  },
  {
   "cell_type": "code",
   "execution_count": 44,
   "id": "7feb7433",
   "metadata": {},
   "outputs": [
    {
     "data": {
      "text/plain": [
       "60"
      ]
     },
     "execution_count": 44,
     "metadata": {},
     "output_type": "execute_result"
    }
   ],
   "source": [
    "round(100 * df_lesson2.query('browser == \"Google Chrome\"').visits.sum() / df_lesson2.visits.sum())"
   ]
  },
  {
   "cell_type": "markdown",
   "id": "84eba8af",
   "metadata": {},
   "source": [
    "### 3"
   ]
  },
  {
   "cell_type": "markdown",
   "id": "620ab69d",
   "metadata": {},
   "source": [
    "Давайте выясним, с какого браузера приходит больше всего ботов. Посмотрите на данные и определите, у какого браузера самая большая доля посещений сайта ботами от общего числа посещений в этом браузере?"
   ]
  },
  {
   "cell_type": "code",
   "execution_count": 45,
   "id": "b256ff8e",
   "metadata": {},
   "outputs": [],
   "source": [
    "df_lesson3 = pd.read_csv('step_3_lesson_7.csv')"
   ]
  },
  {
   "cell_type": "code",
   "execution_count": 47,
   "id": "fb21e6e0",
   "metadata": {},
   "outputs": [
    {
     "data": {
      "text/html": [
       "<div>\n",
       "<style scoped>\n",
       "    .dataframe tbody tr th:only-of-type {\n",
       "        vertical-align: middle;\n",
       "    }\n",
       "\n",
       "    .dataframe tbody tr th {\n",
       "        vertical-align: top;\n",
       "    }\n",
       "\n",
       "    .dataframe thead th {\n",
       "        text-align: right;\n",
       "    }\n",
       "</style>\n",
       "<table border=\"1\" class=\"dataframe\">\n",
       "  <thead>\n",
       "    <tr style=\"text-align: right;\">\n",
       "      <th></th>\n",
       "      <th>date</th>\n",
       "      <th>browser</th>\n",
       "      <th>user_type</th>\n",
       "      <th>visits</th>\n",
       "    </tr>\n",
       "  </thead>\n",
       "  <tbody>\n",
       "    <tr>\n",
       "      <th>0</th>\n",
       "      <td>2020-06-15</td>\n",
       "      <td>Google Chrome</td>\n",
       "      <td>People</td>\n",
       "      <td>250.0</td>\n",
       "    </tr>\n",
       "    <tr>\n",
       "      <th>1</th>\n",
       "      <td>2020-06-15</td>\n",
       "      <td>Google Chrome</td>\n",
       "      <td>Robots</td>\n",
       "      <td>104.0</td>\n",
       "    </tr>\n",
       "    <tr>\n",
       "      <th>2</th>\n",
       "      <td>2020-06-15</td>\n",
       "      <td>Yandex Browser</td>\n",
       "      <td>People</td>\n",
       "      <td>47.0</td>\n",
       "    </tr>\n",
       "    <tr>\n",
       "      <th>3</th>\n",
       "      <td>2020-06-15</td>\n",
       "      <td>Firefox</td>\n",
       "      <td>Robots</td>\n",
       "      <td>31.0</td>\n",
       "    </tr>\n",
       "    <tr>\n",
       "      <th>4</th>\n",
       "      <td>2020-06-15</td>\n",
       "      <td>Chrome Mobile</td>\n",
       "      <td>People</td>\n",
       "      <td>31.0</td>\n",
       "    </tr>\n",
       "  </tbody>\n",
       "</table>\n",
       "</div>"
      ],
      "text/plain": [
       "         date         browser user_type  visits\n",
       "0  2020-06-15   Google Chrome    People   250.0\n",
       "1  2020-06-15   Google Chrome    Robots   104.0\n",
       "2  2020-06-15  Yandex Browser    People    47.0\n",
       "3  2020-06-15         Firefox    Robots    31.0\n",
       "4  2020-06-15   Chrome Mobile    People    31.0"
      ]
     },
     "execution_count": 47,
     "metadata": {},
     "output_type": "execute_result"
    }
   ],
   "source": [
    "df_lesson3.head()"
   ]
  },
  {
   "cell_type": "code",
   "execution_count": 53,
   "id": "f3374ac4",
   "metadata": {},
   "outputs": [],
   "source": [
    "visits_ut_b = df_lesson3.groupby(['user_type', 'browser']).visits.sum()"
   ]
  },
  {
   "cell_type": "code",
   "execution_count": 63,
   "id": "7cfb166c",
   "metadata": {},
   "outputs": [
    {
     "data": {
      "text/plain": [
       "user_type  browser           \n",
       "People     Android Browser         1.0\n",
       "           Chrome Mobile          31.0\n",
       "           Chromium                1.0\n",
       "           CocCoc                  1.0\n",
       "           Edge                    4.0\n",
       "           Firefox                27.0\n",
       "           Google Chrome         250.0\n",
       "           Mobile Safari          15.0\n",
       "           Opera                  11.0\n",
       "           Safari                 19.0\n",
       "           Samsung Internet        8.0\n",
       "           Vivaldi                 1.0\n",
       "           Yandex Browser         47.0\n",
       "           Yandex: mobile app      1.0\n",
       "Robots     Chromium                1.0\n",
       "           Edge                    1.0\n",
       "           Firefox                31.0\n",
       "           Google Chrome         104.0\n",
       "           Mobile Safari           1.0\n",
       "           Opera                   5.0\n",
       "           Safari                 22.0\n",
       "           Samsung Internet        1.0\n",
       "           UCWEB                   4.0\n",
       "           Yandex Browser          7.0\n",
       "Name: visits, dtype: float64"
      ]
     },
     "execution_count": 63,
     "metadata": {},
     "output_type": "execute_result"
    }
   ],
   "source": [
    "visits_ut_b"
   ]
  },
  {
   "cell_type": "code",
   "execution_count": 55,
   "id": "ab59addd",
   "metadata": {},
   "outputs": [],
   "source": [
    "visits_b = df_lesson3.groupby('browser').visits.sum()"
   ]
  },
  {
   "cell_type": "code",
   "execution_count": 62,
   "id": "910528c0",
   "metadata": {},
   "outputs": [
    {
     "data": {
      "text/plain": [
       "browser\n",
       "Android Browser         1.0\n",
       "Chrome Mobile          31.0\n",
       "Chromium                2.0\n",
       "CocCoc                  1.0\n",
       "Edge                    5.0\n",
       "Firefox                58.0\n",
       "Google Chrome         354.0\n",
       "Mobile Safari          16.0\n",
       "Opera                  16.0\n",
       "Safari                 41.0\n",
       "Samsung Internet        9.0\n",
       "UCWEB                   4.0\n",
       "Vivaldi                 1.0\n",
       "Yandex Browser         54.0\n",
       "Yandex: mobile app      1.0\n",
       "Name: visits, dtype: float64"
      ]
     },
     "execution_count": 62,
     "metadata": {},
     "output_type": "execute_result"
    }
   ],
   "source": [
    "visits_b"
   ]
  },
  {
   "cell_type": "code",
   "execution_count": 58,
   "id": "7d2fc3f7",
   "metadata": {},
   "outputs": [],
   "source": [
    "shares = visits_ut_b / visits_b"
   ]
  },
  {
   "cell_type": "code",
   "execution_count": 59,
   "id": "4a8a729a",
   "metadata": {},
   "outputs": [
    {
     "data": {
      "text/plain": [
       "user_type  browser           \n",
       "People     Android Browser       1.000000\n",
       "           Chrome Mobile         1.000000\n",
       "           Chromium              0.500000\n",
       "           CocCoc                1.000000\n",
       "           Edge                  0.800000\n",
       "           Firefox               0.465517\n",
       "           Google Chrome         0.706215\n",
       "           Mobile Safari         0.937500\n",
       "           Opera                 0.687500\n",
       "           Safari                0.463415\n",
       "           Samsung Internet      0.888889\n",
       "           Vivaldi               1.000000\n",
       "           Yandex Browser        0.870370\n",
       "           Yandex: mobile app    1.000000\n",
       "Robots     Chromium              0.500000\n",
       "           Edge                  0.200000\n",
       "           Firefox               0.534483\n",
       "           Google Chrome         0.293785\n",
       "           Mobile Safari         0.062500\n",
       "           Opera                 0.312500\n",
       "           Safari                0.536585\n",
       "           Samsung Internet      0.111111\n",
       "           UCWEB                 1.000000\n",
       "           Yandex Browser        0.129630\n",
       "Name: visits, dtype: float64"
      ]
     },
     "execution_count": 59,
     "metadata": {},
     "output_type": "execute_result"
    }
   ],
   "source": [
    "shares"
   ]
  },
  {
   "cell_type": "code",
   "execution_count": 65,
   "id": "afb160df",
   "metadata": {},
   "outputs": [
    {
     "data": {
      "text/plain": [
       "user_type  browser         \n",
       "Robots     UCWEB               1.000000\n",
       "           Safari              0.536585\n",
       "           Firefox             0.534483\n",
       "           Chromium            0.500000\n",
       "           Opera               0.312500\n",
       "           Google Chrome       0.293785\n",
       "           Edge                0.200000\n",
       "           Yandex Browser      0.129630\n",
       "           Samsung Internet    0.111111\n",
       "           Mobile Safari       0.062500\n",
       "Name: visits, dtype: float64"
      ]
     },
     "execution_count": 65,
     "metadata": {},
     "output_type": "execute_result"
    }
   ],
   "source": [
    "shares.loc['Robots':].sort_values(ascending=False)"
   ]
  },
  {
   "cell_type": "markdown",
   "id": "30b37614",
   "metadata": {},
   "source": [
    "### 4"
   ]
  },
  {
   "cell_type": "markdown",
   "id": "aa2019d5",
   "metadata": {},
   "source": [
    "Выгрузите данные, содержащие информацию о дне, типе пользователя, браузере. Создайте колонку с метрикой доли заходов на сайт для каждого из этих разрезов.\n",
    "\n",
    "В ответе укажите процент открытий сайта настоящими пользователями Safari (не ботами) с точностью до 1 знака после точки.\n",
    "\n",
    "Hint: обратите внимание, здесь вам нужно найти долю заходов конкретных типов пользователей с конкретного браузера от вообще всех-всех заходов на сайт за этот день."
   ]
  },
  {
   "cell_type": "code",
   "execution_count": 23,
   "id": "ef5a5b09",
   "metadata": {},
   "outputs": [],
   "source": [
    "df_lesson4 = pd.read_csv('step_4_lesson_7.csv')"
   ]
  },
  {
   "cell_type": "code",
   "execution_count": 24,
   "id": "f8588bcc",
   "metadata": {},
   "outputs": [
    {
     "data": {
      "text/html": [
       "<div>\n",
       "<style scoped>\n",
       "    .dataframe tbody tr th:only-of-type {\n",
       "        vertical-align: middle;\n",
       "    }\n",
       "\n",
       "    .dataframe tbody tr th {\n",
       "        vertical-align: top;\n",
       "    }\n",
       "\n",
       "    .dataframe thead th {\n",
       "        text-align: right;\n",
       "    }\n",
       "</style>\n",
       "<table border=\"1\" class=\"dataframe\">\n",
       "  <thead>\n",
       "    <tr style=\"text-align: right;\">\n",
       "      <th></th>\n",
       "      <th>date</th>\n",
       "      <th>browser</th>\n",
       "      <th>user_type</th>\n",
       "      <th>visits</th>\n",
       "    </tr>\n",
       "  </thead>\n",
       "  <tbody>\n",
       "    <tr>\n",
       "      <th>0</th>\n",
       "      <td>2020-06-15</td>\n",
       "      <td>Google Chrome</td>\n",
       "      <td>People</td>\n",
       "      <td>250.0</td>\n",
       "    </tr>\n",
       "    <tr>\n",
       "      <th>1</th>\n",
       "      <td>2020-06-15</td>\n",
       "      <td>Google Chrome</td>\n",
       "      <td>Robots</td>\n",
       "      <td>104.0</td>\n",
       "    </tr>\n",
       "    <tr>\n",
       "      <th>2</th>\n",
       "      <td>2020-06-15</td>\n",
       "      <td>Yandex Browser</td>\n",
       "      <td>People</td>\n",
       "      <td>47.0</td>\n",
       "    </tr>\n",
       "    <tr>\n",
       "      <th>3</th>\n",
       "      <td>2020-06-15</td>\n",
       "      <td>Firefox</td>\n",
       "      <td>Robots</td>\n",
       "      <td>31.0</td>\n",
       "    </tr>\n",
       "    <tr>\n",
       "      <th>4</th>\n",
       "      <td>2020-06-15</td>\n",
       "      <td>Chrome Mobile</td>\n",
       "      <td>People</td>\n",
       "      <td>31.0</td>\n",
       "    </tr>\n",
       "  </tbody>\n",
       "</table>\n",
       "</div>"
      ],
      "text/plain": [
       "         date         browser user_type  visits\n",
       "0  2020-06-15   Google Chrome    People   250.0\n",
       "1  2020-06-15   Google Chrome    Robots   104.0\n",
       "2  2020-06-15  Yandex Browser    People    47.0\n",
       "3  2020-06-15         Firefox    Robots    31.0\n",
       "4  2020-06-15   Chrome Mobile    People    31.0"
      ]
     },
     "execution_count": 24,
     "metadata": {},
     "output_type": "execute_result"
    }
   ],
   "source": [
    "df_lesson4.head()"
   ]
  },
  {
   "cell_type": "code",
   "execution_count": 25,
   "id": "2ab1e98a",
   "metadata": {},
   "outputs": [],
   "source": [
    "df_lesson4['all_visits'] = df_lesson4.visits.sum()"
   ]
  },
  {
   "cell_type": "code",
   "execution_count": 26,
   "id": "2061d664",
   "metadata": {},
   "outputs": [
    {
     "data": {
      "text/html": [
       "<div>\n",
       "<style scoped>\n",
       "    .dataframe tbody tr th:only-of-type {\n",
       "        vertical-align: middle;\n",
       "    }\n",
       "\n",
       "    .dataframe tbody tr th {\n",
       "        vertical-align: top;\n",
       "    }\n",
       "\n",
       "    .dataframe thead th {\n",
       "        text-align: right;\n",
       "    }\n",
       "</style>\n",
       "<table border=\"1\" class=\"dataframe\">\n",
       "  <thead>\n",
       "    <tr style=\"text-align: right;\">\n",
       "      <th></th>\n",
       "      <th>date</th>\n",
       "      <th>browser</th>\n",
       "      <th>user_type</th>\n",
       "      <th>visits</th>\n",
       "      <th>all_visits</th>\n",
       "    </tr>\n",
       "  </thead>\n",
       "  <tbody>\n",
       "    <tr>\n",
       "      <th>0</th>\n",
       "      <td>2020-06-15</td>\n",
       "      <td>Google Chrome</td>\n",
       "      <td>People</td>\n",
       "      <td>250.0</td>\n",
       "      <td>594.0</td>\n",
       "    </tr>\n",
       "    <tr>\n",
       "      <th>1</th>\n",
       "      <td>2020-06-15</td>\n",
       "      <td>Google Chrome</td>\n",
       "      <td>Robots</td>\n",
       "      <td>104.0</td>\n",
       "      <td>594.0</td>\n",
       "    </tr>\n",
       "    <tr>\n",
       "      <th>2</th>\n",
       "      <td>2020-06-15</td>\n",
       "      <td>Yandex Browser</td>\n",
       "      <td>People</td>\n",
       "      <td>47.0</td>\n",
       "      <td>594.0</td>\n",
       "    </tr>\n",
       "    <tr>\n",
       "      <th>3</th>\n",
       "      <td>2020-06-15</td>\n",
       "      <td>Firefox</td>\n",
       "      <td>Robots</td>\n",
       "      <td>31.0</td>\n",
       "      <td>594.0</td>\n",
       "    </tr>\n",
       "    <tr>\n",
       "      <th>4</th>\n",
       "      <td>2020-06-15</td>\n",
       "      <td>Chrome Mobile</td>\n",
       "      <td>People</td>\n",
       "      <td>31.0</td>\n",
       "      <td>594.0</td>\n",
       "    </tr>\n",
       "  </tbody>\n",
       "</table>\n",
       "</div>"
      ],
      "text/plain": [
       "         date         browser user_type  visits  all_visits\n",
       "0  2020-06-15   Google Chrome    People   250.0       594.0\n",
       "1  2020-06-15   Google Chrome    Robots   104.0       594.0\n",
       "2  2020-06-15  Yandex Browser    People    47.0       594.0\n",
       "3  2020-06-15         Firefox    Robots    31.0       594.0\n",
       "4  2020-06-15   Chrome Mobile    People    31.0       594.0"
      ]
     },
     "execution_count": 26,
     "metadata": {},
     "output_type": "execute_result"
    }
   ],
   "source": [
    "df_lesson4.head()"
   ]
  },
  {
   "cell_type": "code",
   "execution_count": 27,
   "id": "af7d4231",
   "metadata": {},
   "outputs": [],
   "source": [
    "df_lesson4['perc'] = round(100 * df_lesson4.visits / df_lesson4.all_visits, 1)"
   ]
  },
  {
   "cell_type": "code",
   "execution_count": 28,
   "id": "063d9a66",
   "metadata": {},
   "outputs": [
    {
     "data": {
      "text/html": [
       "<div>\n",
       "<style scoped>\n",
       "    .dataframe tbody tr th:only-of-type {\n",
       "        vertical-align: middle;\n",
       "    }\n",
       "\n",
       "    .dataframe tbody tr th {\n",
       "        vertical-align: top;\n",
       "    }\n",
       "\n",
       "    .dataframe thead th {\n",
       "        text-align: right;\n",
       "    }\n",
       "</style>\n",
       "<table border=\"1\" class=\"dataframe\">\n",
       "  <thead>\n",
       "    <tr style=\"text-align: right;\">\n",
       "      <th></th>\n",
       "      <th>date</th>\n",
       "      <th>browser</th>\n",
       "      <th>user_type</th>\n",
       "      <th>visits</th>\n",
       "      <th>all_visits</th>\n",
       "      <th>perc</th>\n",
       "    </tr>\n",
       "  </thead>\n",
       "  <tbody>\n",
       "    <tr>\n",
       "      <th>0</th>\n",
       "      <td>2020-06-15</td>\n",
       "      <td>Google Chrome</td>\n",
       "      <td>People</td>\n",
       "      <td>250.0</td>\n",
       "      <td>594.0</td>\n",
       "      <td>42.1</td>\n",
       "    </tr>\n",
       "    <tr>\n",
       "      <th>1</th>\n",
       "      <td>2020-06-15</td>\n",
       "      <td>Google Chrome</td>\n",
       "      <td>Robots</td>\n",
       "      <td>104.0</td>\n",
       "      <td>594.0</td>\n",
       "      <td>17.5</td>\n",
       "    </tr>\n",
       "    <tr>\n",
       "      <th>2</th>\n",
       "      <td>2020-06-15</td>\n",
       "      <td>Yandex Browser</td>\n",
       "      <td>People</td>\n",
       "      <td>47.0</td>\n",
       "      <td>594.0</td>\n",
       "      <td>7.9</td>\n",
       "    </tr>\n",
       "    <tr>\n",
       "      <th>3</th>\n",
       "      <td>2020-06-15</td>\n",
       "      <td>Firefox</td>\n",
       "      <td>Robots</td>\n",
       "      <td>31.0</td>\n",
       "      <td>594.0</td>\n",
       "      <td>5.2</td>\n",
       "    </tr>\n",
       "    <tr>\n",
       "      <th>4</th>\n",
       "      <td>2020-06-15</td>\n",
       "      <td>Chrome Mobile</td>\n",
       "      <td>People</td>\n",
       "      <td>31.0</td>\n",
       "      <td>594.0</td>\n",
       "      <td>5.2</td>\n",
       "    </tr>\n",
       "  </tbody>\n",
       "</table>\n",
       "</div>"
      ],
      "text/plain": [
       "         date         browser user_type  visits  all_visits  perc\n",
       "0  2020-06-15   Google Chrome    People   250.0       594.0  42.1\n",
       "1  2020-06-15   Google Chrome    Robots   104.0       594.0  17.5\n",
       "2  2020-06-15  Yandex Browser    People    47.0       594.0   7.9\n",
       "3  2020-06-15         Firefox    Robots    31.0       594.0   5.2\n",
       "4  2020-06-15   Chrome Mobile    People    31.0       594.0   5.2"
      ]
     },
     "execution_count": 28,
     "metadata": {},
     "output_type": "execute_result"
    }
   ],
   "source": [
    "df_lesson4.head()"
   ]
  },
  {
   "cell_type": "code",
   "execution_count": 29,
   "id": "016110ff",
   "metadata": {
    "scrolled": true
   },
   "outputs": [
    {
     "data": {
      "text/plain": [
       "3.2"
      ]
     },
     "execution_count": 29,
     "metadata": {},
     "output_type": "execute_result"
    }
   ],
   "source": [
    "df_lesson4.query('browser == \"Safari\" and user_type == \"People\"').perc.iloc[0]"
   ]
  },
  {
   "cell_type": "markdown",
   "id": "db082a24",
   "metadata": {},
   "source": [
    "### ★ 5"
   ]
  },
  {
   "cell_type": "markdown",
   "id": "31d03732",
   "metadata": {},
   "source": [
    "Другой аналитик уже агрегировал часть данных из метрики. Вам нужно объединить усилия, чтобы получить финальный отчет. Прочитайте дополнительные данные из Google SpreadSheet, объедините вашу таблицу из предыдущего шага с таблицей аналитика и посчитайте количество визитов на человека (отношение visits к users) в разрезе по браузеру и значениям Robots/People."
   ]
  },
  {
   "cell_type": "markdown",
   "id": "4ed5ca1a",
   "metadata": {},
   "source": [
    "В ответе укажите, сколько визитов на уникального пользователя совершается ботами с браузера Google Chrome (округлите до целого)"
   ]
  },
  {
   "cell_type": "code",
   "execution_count": 20,
   "id": "89cbb058",
   "metadata": {},
   "outputs": [],
   "source": [
    "from io import BytesIO\n",
    "import requests\n",
    "r = requests.get('https://docs.google.com/spreadsheets/d/e/2PACX-1vQWMsvBTVio9C7IOOxfFO9C15BRHyME-_ENHqBodDOjuiHwk9fCuF5hUVmDs497PZOqPYK3exdSikOK/pub?gid=1006633900&single=true&output=csv')\n",
    "data = r.content\n",
    "\n",
    "df_lesson5 = pd.read_csv(BytesIO(data))"
   ]
  },
  {
   "cell_type": "code",
   "execution_count": 21,
   "id": "442e837c",
   "metadata": {},
   "outputs": [
    {
     "data": {
      "text/html": [
       "<div>\n",
       "<style scoped>\n",
       "    .dataframe tbody tr th:only-of-type {\n",
       "        vertical-align: middle;\n",
       "    }\n",
       "\n",
       "    .dataframe tbody tr th {\n",
       "        vertical-align: top;\n",
       "    }\n",
       "\n",
       "    .dataframe thead th {\n",
       "        text-align: right;\n",
       "    }\n",
       "</style>\n",
       "<table border=\"1\" class=\"dataframe\">\n",
       "  <thead>\n",
       "    <tr style=\"text-align: right;\">\n",
       "      <th></th>\n",
       "      <th>date</th>\n",
       "      <th>browser</th>\n",
       "      <th>user_type</th>\n",
       "      <th>users</th>\n",
       "    </tr>\n",
       "  </thead>\n",
       "  <tbody>\n",
       "    <tr>\n",
       "      <th>0</th>\n",
       "      <td>2020-06-15</td>\n",
       "      <td>Google Chrome</td>\n",
       "      <td>People</td>\n",
       "      <td>240.0</td>\n",
       "    </tr>\n",
       "    <tr>\n",
       "      <th>1</th>\n",
       "      <td>2020-06-15</td>\n",
       "      <td>Google Chrome</td>\n",
       "      <td>Robots</td>\n",
       "      <td>104.0</td>\n",
       "    </tr>\n",
       "    <tr>\n",
       "      <th>2</th>\n",
       "      <td>2020-06-15</td>\n",
       "      <td>Yandex Browser</td>\n",
       "      <td>People</td>\n",
       "      <td>44.0</td>\n",
       "    </tr>\n",
       "    <tr>\n",
       "      <th>3</th>\n",
       "      <td>2020-06-15</td>\n",
       "      <td>Chrome Mobile</td>\n",
       "      <td>People</td>\n",
       "      <td>30.0</td>\n",
       "    </tr>\n",
       "    <tr>\n",
       "      <th>4</th>\n",
       "      <td>2020-06-15</td>\n",
       "      <td>Firefox</td>\n",
       "      <td>Robots</td>\n",
       "      <td>29.0</td>\n",
       "    </tr>\n",
       "  </tbody>\n",
       "</table>\n",
       "</div>"
      ],
      "text/plain": [
       "         date         browser user_type  users\n",
       "0  2020-06-15   Google Chrome    People  240.0\n",
       "1  2020-06-15   Google Chrome    Robots  104.0\n",
       "2  2020-06-15  Yandex Browser    People   44.0\n",
       "3  2020-06-15   Chrome Mobile    People   30.0\n",
       "4  2020-06-15         Firefox    Robots   29.0"
      ]
     },
     "execution_count": 21,
     "metadata": {},
     "output_type": "execute_result"
    }
   ],
   "source": [
    "df_lesson5.head()"
   ]
  },
  {
   "cell_type": "code",
   "execution_count": 30,
   "id": "1163330f",
   "metadata": {},
   "outputs": [],
   "source": [
    "merged = df_lesson4.merge(df_lesson5, on=['date', 'browser', 'user_type'])"
   ]
  },
  {
   "cell_type": "code",
   "execution_count": 32,
   "id": "1d961687",
   "metadata": {},
   "outputs": [
    {
     "data": {
      "text/html": [
       "<div>\n",
       "<style scoped>\n",
       "    .dataframe tbody tr th:only-of-type {\n",
       "        vertical-align: middle;\n",
       "    }\n",
       "\n",
       "    .dataframe tbody tr th {\n",
       "        vertical-align: top;\n",
       "    }\n",
       "\n",
       "    .dataframe thead th {\n",
       "        text-align: right;\n",
       "    }\n",
       "</style>\n",
       "<table border=\"1\" class=\"dataframe\">\n",
       "  <thead>\n",
       "    <tr style=\"text-align: right;\">\n",
       "      <th></th>\n",
       "      <th>date</th>\n",
       "      <th>browser</th>\n",
       "      <th>user_type</th>\n",
       "      <th>visits</th>\n",
       "      <th>all_visits</th>\n",
       "      <th>perc</th>\n",
       "      <th>users</th>\n",
       "    </tr>\n",
       "  </thead>\n",
       "  <tbody>\n",
       "    <tr>\n",
       "      <th>0</th>\n",
       "      <td>2020-06-15</td>\n",
       "      <td>Google Chrome</td>\n",
       "      <td>People</td>\n",
       "      <td>250.0</td>\n",
       "      <td>594.0</td>\n",
       "      <td>42.1</td>\n",
       "      <td>240.0</td>\n",
       "    </tr>\n",
       "    <tr>\n",
       "      <th>1</th>\n",
       "      <td>2020-06-15</td>\n",
       "      <td>Google Chrome</td>\n",
       "      <td>Robots</td>\n",
       "      <td>104.0</td>\n",
       "      <td>594.0</td>\n",
       "      <td>17.5</td>\n",
       "      <td>104.0</td>\n",
       "    </tr>\n",
       "    <tr>\n",
       "      <th>2</th>\n",
       "      <td>2020-06-15</td>\n",
       "      <td>Yandex Browser</td>\n",
       "      <td>People</td>\n",
       "      <td>47.0</td>\n",
       "      <td>594.0</td>\n",
       "      <td>7.9</td>\n",
       "      <td>44.0</td>\n",
       "    </tr>\n",
       "    <tr>\n",
       "      <th>3</th>\n",
       "      <td>2020-06-15</td>\n",
       "      <td>Firefox</td>\n",
       "      <td>Robots</td>\n",
       "      <td>31.0</td>\n",
       "      <td>594.0</td>\n",
       "      <td>5.2</td>\n",
       "      <td>29.0</td>\n",
       "    </tr>\n",
       "    <tr>\n",
       "      <th>4</th>\n",
       "      <td>2020-06-15</td>\n",
       "      <td>Chrome Mobile</td>\n",
       "      <td>People</td>\n",
       "      <td>31.0</td>\n",
       "      <td>594.0</td>\n",
       "      <td>5.2</td>\n",
       "      <td>30.0</td>\n",
       "    </tr>\n",
       "  </tbody>\n",
       "</table>\n",
       "</div>"
      ],
      "text/plain": [
       "         date         browser user_type  visits  all_visits  perc  users\n",
       "0  2020-06-15   Google Chrome    People   250.0       594.0  42.1  240.0\n",
       "1  2020-06-15   Google Chrome    Robots   104.0       594.0  17.5  104.0\n",
       "2  2020-06-15  Yandex Browser    People    47.0       594.0   7.9   44.0\n",
       "3  2020-06-15         Firefox    Robots    31.0       594.0   5.2   29.0\n",
       "4  2020-06-15   Chrome Mobile    People    31.0       594.0   5.2   30.0"
      ]
     },
     "execution_count": 32,
     "metadata": {},
     "output_type": "execute_result"
    }
   ],
   "source": [
    "merged.head()"
   ]
  },
  {
   "cell_type": "code",
   "execution_count": 33,
   "id": "298c655b",
   "metadata": {},
   "outputs": [],
   "source": [
    "merged['visits_per_user'] = merged.visits / merged.users"
   ]
  },
  {
   "cell_type": "code",
   "execution_count": 34,
   "id": "521ffb04",
   "metadata": {},
   "outputs": [
    {
     "data": {
      "text/html": [
       "<div>\n",
       "<style scoped>\n",
       "    .dataframe tbody tr th:only-of-type {\n",
       "        vertical-align: middle;\n",
       "    }\n",
       "\n",
       "    .dataframe tbody tr th {\n",
       "        vertical-align: top;\n",
       "    }\n",
       "\n",
       "    .dataframe thead th {\n",
       "        text-align: right;\n",
       "    }\n",
       "</style>\n",
       "<table border=\"1\" class=\"dataframe\">\n",
       "  <thead>\n",
       "    <tr style=\"text-align: right;\">\n",
       "      <th></th>\n",
       "      <th>date</th>\n",
       "      <th>browser</th>\n",
       "      <th>user_type</th>\n",
       "      <th>visits</th>\n",
       "      <th>all_visits</th>\n",
       "      <th>perc</th>\n",
       "      <th>users</th>\n",
       "      <th>visits_per_user</th>\n",
       "    </tr>\n",
       "  </thead>\n",
       "  <tbody>\n",
       "    <tr>\n",
       "      <th>0</th>\n",
       "      <td>2020-06-15</td>\n",
       "      <td>Google Chrome</td>\n",
       "      <td>People</td>\n",
       "      <td>250.0</td>\n",
       "      <td>594.0</td>\n",
       "      <td>42.1</td>\n",
       "      <td>240.0</td>\n",
       "      <td>1.041667</td>\n",
       "    </tr>\n",
       "    <tr>\n",
       "      <th>1</th>\n",
       "      <td>2020-06-15</td>\n",
       "      <td>Google Chrome</td>\n",
       "      <td>Robots</td>\n",
       "      <td>104.0</td>\n",
       "      <td>594.0</td>\n",
       "      <td>17.5</td>\n",
       "      <td>104.0</td>\n",
       "      <td>1.000000</td>\n",
       "    </tr>\n",
       "    <tr>\n",
       "      <th>2</th>\n",
       "      <td>2020-06-15</td>\n",
       "      <td>Yandex Browser</td>\n",
       "      <td>People</td>\n",
       "      <td>47.0</td>\n",
       "      <td>594.0</td>\n",
       "      <td>7.9</td>\n",
       "      <td>44.0</td>\n",
       "      <td>1.068182</td>\n",
       "    </tr>\n",
       "    <tr>\n",
       "      <th>3</th>\n",
       "      <td>2020-06-15</td>\n",
       "      <td>Firefox</td>\n",
       "      <td>Robots</td>\n",
       "      <td>31.0</td>\n",
       "      <td>594.0</td>\n",
       "      <td>5.2</td>\n",
       "      <td>29.0</td>\n",
       "      <td>1.068966</td>\n",
       "    </tr>\n",
       "    <tr>\n",
       "      <th>4</th>\n",
       "      <td>2020-06-15</td>\n",
       "      <td>Chrome Mobile</td>\n",
       "      <td>People</td>\n",
       "      <td>31.0</td>\n",
       "      <td>594.0</td>\n",
       "      <td>5.2</td>\n",
       "      <td>30.0</td>\n",
       "      <td>1.033333</td>\n",
       "    </tr>\n",
       "  </tbody>\n",
       "</table>\n",
       "</div>"
      ],
      "text/plain": [
       "         date         browser user_type  visits  all_visits  perc  users  \\\n",
       "0  2020-06-15   Google Chrome    People   250.0       594.0  42.1  240.0   \n",
       "1  2020-06-15   Google Chrome    Robots   104.0       594.0  17.5  104.0   \n",
       "2  2020-06-15  Yandex Browser    People    47.0       594.0   7.9   44.0   \n",
       "3  2020-06-15         Firefox    Robots    31.0       594.0   5.2   29.0   \n",
       "4  2020-06-15   Chrome Mobile    People    31.0       594.0   5.2   30.0   \n",
       "\n",
       "   visits_per_user  \n",
       "0         1.041667  \n",
       "1         1.000000  \n",
       "2         1.068182  \n",
       "3         1.068966  \n",
       "4         1.033333  "
      ]
     },
     "execution_count": 34,
     "metadata": {},
     "output_type": "execute_result"
    }
   ],
   "source": [
    "merged.head()"
   ]
  },
  {
   "cell_type": "code",
   "execution_count": 36,
   "id": "66b910af",
   "metadata": {},
   "outputs": [
    {
     "data": {
      "text/plain": [
       "1    1.0\n",
       "Name: visits_per_user, dtype: float64"
      ]
     },
     "execution_count": 36,
     "metadata": {},
     "output_type": "execute_result"
    }
   ],
   "source": [
    "merged.loc[(merged.user_type == 'Robots') & (merged.browser == 'Google Chrome')].visits_per_user"
   ]
  }
 ],
 "metadata": {
  "kernelspec": {
   "display_name": "Python 3 (ipykernel)",
   "language": "python",
   "name": "python3"
  },
  "language_info": {
   "codemirror_mode": {
    "name": "ipython",
    "version": 3
   },
   "file_extension": ".py",
   "mimetype": "text/x-python",
   "name": "python",
   "nbconvert_exporter": "python",
   "pygments_lexer": "ipython3",
   "version": "3.9.7"
  }
 },
 "nbformat": 4,
 "nbformat_minor": 5
}
