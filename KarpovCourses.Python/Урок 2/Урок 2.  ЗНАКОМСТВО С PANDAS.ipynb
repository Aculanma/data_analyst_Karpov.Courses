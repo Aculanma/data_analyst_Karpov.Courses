{
 "cells": [
  {
   "cell_type": "markdown",
   "id": "1b687a85",
   "metadata": {},
   "source": [
    "## Урок 2. ЗНАКОМСТВО С PANDAS"
   ]
  },
  {
   "cell_type": "markdown",
   "id": "3c8711e4",
   "metadata": {},
   "source": [
    "### 1"
   ]
  },
  {
   "cell_type": "markdown",
   "id": "f832a85c",
   "metadata": {},
   "source": [
    "Теперь поработаем с данными о поездках на такси в Нью-Йорке, где также имеется информация о погодных условиях и выходных днях.  \n",
    "\n",
    "__pickup_dt__ – период с точностью до часа  \n",
    "__pickup_month__ – месяц  \n",
    "__borough__ – район Нью-Йорка, из которого был сделан заказ (5 районов + аэропорт)  \n",
    "__pickups__ – число поездок за период (час)  \n",
    "__hday__ – является ли день праздничным/выходным; Y - да,  N - нет  \n",
    "__spd__ – скорость ветра в милях в час  \n",
    "__vsb__ – видимость  \n",
    "__temp__ – температура в градусах Фаренгейта  \n",
    "__dewp__ – точка росы по Фаренгейту  \n",
    "__slp__ – давление  \n",
    "__pcp_01__ – количество осадков за час  \n",
    "__pcp_06__ – количество осадков за 6 часов  \n",
    "__pcp_24__ – количество осадков за 24 часа  \n",
    "__sd__ – глубина снега в дюймах  \n",
    "\n",
    "Но перед тем, как приступать к работе, давайте загрузим данные. На LMS путь к данным лежит в переменной __path_to_file__ (условно, path_to_file = \"/some/path/to/file.csv\"). Импортируйте библиотеку pandas, а затем загрузите данные по вышеупомянутой ссылке. \n",
    "\n",
    "Результат сохраните в переменную __taxi__.  "
   ]
  },
  {
   "cell_type": "code",
   "execution_count": 48,
   "id": "150a0801",
   "metadata": {},
   "outputs": [
    {
     "data": {
      "text/html": [
       "<div>\n",
       "<style scoped>\n",
       "    .dataframe tbody tr th:only-of-type {\n",
       "        vertical-align: middle;\n",
       "    }\n",
       "\n",
       "    .dataframe tbody tr th {\n",
       "        vertical-align: top;\n",
       "    }\n",
       "\n",
       "    .dataframe thead th {\n",
       "        text-align: right;\n",
       "    }\n",
       "</style>\n",
       "<table border=\"1\" class=\"dataframe\">\n",
       "  <thead>\n",
       "    <tr style=\"text-align: right;\">\n",
       "      <th></th>\n",
       "      <th>pickup_dt</th>\n",
       "      <th>pickup_month</th>\n",
       "      <th>borough</th>\n",
       "      <th>pickups</th>\n",
       "      <th>hday</th>\n",
       "      <th>spd</th>\n",
       "      <th>vsb</th>\n",
       "      <th>temp</th>\n",
       "      <th>dewp</th>\n",
       "      <th>slp</th>\n",
       "      <th>pcp 01</th>\n",
       "      <th>pcp 06</th>\n",
       "      <th>pcp 24</th>\n",
       "      <th>sd</th>\n",
       "    </tr>\n",
       "  </thead>\n",
       "  <tbody>\n",
       "    <tr>\n",
       "      <th>0</th>\n",
       "      <td>2015-01-01 01:00:00</td>\n",
       "      <td>Jan</td>\n",
       "      <td>Bronx</td>\n",
       "      <td>152</td>\n",
       "      <td>Y</td>\n",
       "      <td>5.0</td>\n",
       "      <td>10.0</td>\n",
       "      <td>30.0</td>\n",
       "      <td>7.0</td>\n",
       "      <td>1023.5</td>\n",
       "      <td>0.0</td>\n",
       "      <td>0.0</td>\n",
       "      <td>0.0</td>\n",
       "      <td>0.0</td>\n",
       "    </tr>\n",
       "    <tr>\n",
       "      <th>1</th>\n",
       "      <td>2015-01-01 01:00:00</td>\n",
       "      <td>Jan</td>\n",
       "      <td>Brooklyn</td>\n",
       "      <td>1519</td>\n",
       "      <td>Y</td>\n",
       "      <td>5.0</td>\n",
       "      <td>10.0</td>\n",
       "      <td>30.0</td>\n",
       "      <td>7.0</td>\n",
       "      <td>1023.5</td>\n",
       "      <td>0.0</td>\n",
       "      <td>0.0</td>\n",
       "      <td>0.0</td>\n",
       "      <td>0.0</td>\n",
       "    </tr>\n",
       "    <tr>\n",
       "      <th>2</th>\n",
       "      <td>2015-01-01 01:00:00</td>\n",
       "      <td>Jan</td>\n",
       "      <td>EWR</td>\n",
       "      <td>0</td>\n",
       "      <td>Y</td>\n",
       "      <td>5.0</td>\n",
       "      <td>10.0</td>\n",
       "      <td>30.0</td>\n",
       "      <td>7.0</td>\n",
       "      <td>1023.5</td>\n",
       "      <td>0.0</td>\n",
       "      <td>0.0</td>\n",
       "      <td>0.0</td>\n",
       "      <td>0.0</td>\n",
       "    </tr>\n",
       "    <tr>\n",
       "      <th>3</th>\n",
       "      <td>2015-01-01 01:00:00</td>\n",
       "      <td>Jan</td>\n",
       "      <td>Manhattan</td>\n",
       "      <td>5258</td>\n",
       "      <td>Y</td>\n",
       "      <td>5.0</td>\n",
       "      <td>10.0</td>\n",
       "      <td>30.0</td>\n",
       "      <td>7.0</td>\n",
       "      <td>1023.5</td>\n",
       "      <td>0.0</td>\n",
       "      <td>0.0</td>\n",
       "      <td>0.0</td>\n",
       "      <td>0.0</td>\n",
       "    </tr>\n",
       "    <tr>\n",
       "      <th>4</th>\n",
       "      <td>2015-01-01 01:00:00</td>\n",
       "      <td>Jan</td>\n",
       "      <td>Queens</td>\n",
       "      <td>405</td>\n",
       "      <td>Y</td>\n",
       "      <td>5.0</td>\n",
       "      <td>10.0</td>\n",
       "      <td>30.0</td>\n",
       "      <td>7.0</td>\n",
       "      <td>1023.5</td>\n",
       "      <td>0.0</td>\n",
       "      <td>0.0</td>\n",
       "      <td>0.0</td>\n",
       "      <td>0.0</td>\n",
       "    </tr>\n",
       "    <tr>\n",
       "      <th>...</th>\n",
       "      <td>...</td>\n",
       "      <td>...</td>\n",
       "      <td>...</td>\n",
       "      <td>...</td>\n",
       "      <td>...</td>\n",
       "      <td>...</td>\n",
       "      <td>...</td>\n",
       "      <td>...</td>\n",
       "      <td>...</td>\n",
       "      <td>...</td>\n",
       "      <td>...</td>\n",
       "      <td>...</td>\n",
       "      <td>...</td>\n",
       "      <td>...</td>\n",
       "    </tr>\n",
       "    <tr>\n",
       "      <th>29096</th>\n",
       "      <td>2015-06-30 23:00:00</td>\n",
       "      <td>Jun</td>\n",
       "      <td>EWR</td>\n",
       "      <td>0</td>\n",
       "      <td>N</td>\n",
       "      <td>7.0</td>\n",
       "      <td>10.0</td>\n",
       "      <td>75.0</td>\n",
       "      <td>65.0</td>\n",
       "      <td>1011.8</td>\n",
       "      <td>0.0</td>\n",
       "      <td>0.0</td>\n",
       "      <td>0.0</td>\n",
       "      <td>0.0</td>\n",
       "    </tr>\n",
       "    <tr>\n",
       "      <th>29097</th>\n",
       "      <td>2015-06-30 23:00:00</td>\n",
       "      <td>Jun</td>\n",
       "      <td>Manhattan</td>\n",
       "      <td>3828</td>\n",
       "      <td>N</td>\n",
       "      <td>7.0</td>\n",
       "      <td>10.0</td>\n",
       "      <td>75.0</td>\n",
       "      <td>65.0</td>\n",
       "      <td>1011.8</td>\n",
       "      <td>0.0</td>\n",
       "      <td>0.0</td>\n",
       "      <td>0.0</td>\n",
       "      <td>0.0</td>\n",
       "    </tr>\n",
       "    <tr>\n",
       "      <th>29098</th>\n",
       "      <td>2015-06-30 23:00:00</td>\n",
       "      <td>Jun</td>\n",
       "      <td>Queens</td>\n",
       "      <td>580</td>\n",
       "      <td>N</td>\n",
       "      <td>7.0</td>\n",
       "      <td>10.0</td>\n",
       "      <td>75.0</td>\n",
       "      <td>65.0</td>\n",
       "      <td>1011.8</td>\n",
       "      <td>0.0</td>\n",
       "      <td>0.0</td>\n",
       "      <td>0.0</td>\n",
       "      <td>0.0</td>\n",
       "    </tr>\n",
       "    <tr>\n",
       "      <th>29099</th>\n",
       "      <td>2015-06-30 23:00:00</td>\n",
       "      <td>Jun</td>\n",
       "      <td>Staten Island</td>\n",
       "      <td>0</td>\n",
       "      <td>N</td>\n",
       "      <td>7.0</td>\n",
       "      <td>10.0</td>\n",
       "      <td>75.0</td>\n",
       "      <td>65.0</td>\n",
       "      <td>1011.8</td>\n",
       "      <td>0.0</td>\n",
       "      <td>0.0</td>\n",
       "      <td>0.0</td>\n",
       "      <td>0.0</td>\n",
       "    </tr>\n",
       "    <tr>\n",
       "      <th>29100</th>\n",
       "      <td>2015-06-30 23:00:00</td>\n",
       "      <td>Jun</td>\n",
       "      <td>NaN</td>\n",
       "      <td>3</td>\n",
       "      <td>N</td>\n",
       "      <td>7.0</td>\n",
       "      <td>10.0</td>\n",
       "      <td>75.0</td>\n",
       "      <td>65.0</td>\n",
       "      <td>1011.8</td>\n",
       "      <td>0.0</td>\n",
       "      <td>0.0</td>\n",
       "      <td>0.0</td>\n",
       "      <td>0.0</td>\n",
       "    </tr>\n",
       "  </tbody>\n",
       "</table>\n",
       "<p>29101 rows × 14 columns</p>\n",
       "</div>"
      ],
      "text/plain": [
       "                 pickup_dt pickup_month        borough  pickups hday  spd  \\\n",
       "0      2015-01-01 01:00:00          Jan          Bronx      152    Y  5.0   \n",
       "1      2015-01-01 01:00:00          Jan       Brooklyn     1519    Y  5.0   \n",
       "2      2015-01-01 01:00:00          Jan            EWR        0    Y  5.0   \n",
       "3      2015-01-01 01:00:00          Jan      Manhattan     5258    Y  5.0   \n",
       "4      2015-01-01 01:00:00          Jan         Queens      405    Y  5.0   \n",
       "...                    ...          ...            ...      ...  ...  ...   \n",
       "29096  2015-06-30 23:00:00          Jun            EWR        0    N  7.0   \n",
       "29097  2015-06-30 23:00:00          Jun      Manhattan     3828    N  7.0   \n",
       "29098  2015-06-30 23:00:00          Jun         Queens      580    N  7.0   \n",
       "29099  2015-06-30 23:00:00          Jun  Staten Island        0    N  7.0   \n",
       "29100  2015-06-30 23:00:00          Jun            NaN        3    N  7.0   \n",
       "\n",
       "        vsb  temp  dewp     slp  pcp 01  pcp 06  pcp 24   sd  \n",
       "0      10.0  30.0   7.0  1023.5     0.0     0.0     0.0  0.0  \n",
       "1      10.0  30.0   7.0  1023.5     0.0     0.0     0.0  0.0  \n",
       "2      10.0  30.0   7.0  1023.5     0.0     0.0     0.0  0.0  \n",
       "3      10.0  30.0   7.0  1023.5     0.0     0.0     0.0  0.0  \n",
       "4      10.0  30.0   7.0  1023.5     0.0     0.0     0.0  0.0  \n",
       "...     ...   ...   ...     ...     ...     ...     ...  ...  \n",
       "29096  10.0  75.0  65.0  1011.8     0.0     0.0     0.0  0.0  \n",
       "29097  10.0  75.0  65.0  1011.8     0.0     0.0     0.0  0.0  \n",
       "29098  10.0  75.0  65.0  1011.8     0.0     0.0     0.0  0.0  \n",
       "29099  10.0  75.0  65.0  1011.8     0.0     0.0     0.0  0.0  \n",
       "29100  10.0  75.0  65.0  1011.8     0.0     0.0     0.0  0.0  \n",
       "\n",
       "[29101 rows x 14 columns]"
      ]
     },
     "execution_count": 48,
     "metadata": {},
     "output_type": "execute_result"
    }
   ],
   "source": [
    "import pandas as pd\n",
    "\n",
    "\n",
    "path_to_file = '2_taxi_nyc.csv'\n",
    "taxi = pd.read_csv(path_to_file)\n",
    "taxi"
   ]
  },
  {
   "cell_type": "markdown",
   "id": "69ede2af",
   "metadata": {},
   "source": [
    "### 2"
   ]
  },
  {
   "cell_type": "markdown",
   "id": "b5955ea5",
   "metadata": {},
   "source": [
    "Проверьте, сколько всего строк и столбцов имеется в датасете."
   ]
  },
  {
   "cell_type": "code",
   "execution_count": 2,
   "id": "d705d094",
   "metadata": {},
   "outputs": [
    {
     "data": {
      "text/plain": [
       "(29101, 14)"
      ]
     },
     "execution_count": 2,
     "metadata": {},
     "output_type": "execute_result"
    }
   ],
   "source": [
    "taxi.shape"
   ]
  },
  {
   "cell_type": "code",
   "execution_count": 8,
   "id": "bb4e7021",
   "metadata": {},
   "outputs": [
    {
     "name": "stdout",
     "output_type": "stream",
     "text": [
      "rows = 29101, columns = 14\n"
     ]
    }
   ],
   "source": [
    "rows, columns = taxi.shape\n",
    "print(f'{rows = }, {columns = }')"
   ]
  },
  {
   "cell_type": "markdown",
   "id": "66c8b7be",
   "metadata": {},
   "source": [
    "### 3"
   ]
  },
  {
   "cell_type": "markdown",
   "id": "a0b9b563",
   "metadata": {},
   "source": [
    "Давайте посмотрим на типы колонок. В качестве ответа выберите тип, преобладающий в датасете."
   ]
  },
  {
   "cell_type": "code",
   "execution_count": 22,
   "id": "ea83dfa5",
   "metadata": {},
   "outputs": [
    {
     "data": {
      "text/plain": [
       "pickup_dt        object\n",
       "pickup_month     object\n",
       "borough          object\n",
       "pickups           int64\n",
       "hday             object\n",
       "spd             float64\n",
       "vsb             float64\n",
       "temp            float64\n",
       "dewp            float64\n",
       "slp             float64\n",
       "pcp 01          float64\n",
       "pcp 06          float64\n",
       "pcp 24          float64\n",
       "sd              float64\n",
       "dtype: object"
      ]
     },
     "execution_count": 22,
     "metadata": {},
     "output_type": "execute_result"
    }
   ],
   "source": [
    "taxi.dtypes"
   ]
  },
  {
   "cell_type": "code",
   "execution_count": 28,
   "id": "ccfb8743",
   "metadata": {},
   "outputs": [
    {
     "name": "stdout",
     "output_type": "stream",
     "text": [
      "obj = 4, intgr = 1, flt = 9\n"
     ]
    }
   ],
   "source": [
    "obj = 0\n",
    "intgr = 0\n",
    "flt = 0\n",
    "for i in taxi.dtypes:\n",
    "    if i == 'object':\n",
    "        obj += 1\n",
    "    elif i == 'int64':\n",
    "        intgr += 1\n",
    "    elif i == 'float64':\n",
    "        flt += 1\n",
    "        \n",
    "print(f'{obj = }, {intgr = }, {flt = }')"
   ]
  },
  {
   "cell_type": "markdown",
   "id": "21da351c",
   "metadata": {},
   "source": [
    "### 4"
   ]
  },
  {
   "cell_type": "markdown",
   "id": "76068138",
   "metadata": {},
   "source": [
    "В названиях столбцов __pcp 01__, __pcp 06__, __pcp 24__ встречается пробел. Это не очень удобно, если в дальнейшем вы планируете обращаться к колонкам через точку, без использования кавычек и скобочек. \n",
    "\n",
    "Замените пробел в названиях на знак нижнего подчеркивания. \n",
    "\n",
    "Данные сохранены в переменную __taxi__. Данные должны быть изменены в этом же датафрейме."
   ]
  },
  {
   "cell_type": "code",
   "execution_count": 29,
   "id": "970018b4",
   "metadata": {},
   "outputs": [],
   "source": [
    "taxi = taxi.rename(columns={'pcp 01': 'pcp_01', \n",
    "                   'pcp 06': 'pcp_06', \n",
    "                   'pcp 24': 'pcp_24'}) "
   ]
  },
  {
   "cell_type": "markdown",
   "id": "082a3c64",
   "metadata": {},
   "source": [
    "### 5"
   ]
  },
  {
   "cell_type": "markdown",
   "id": "0cce8872",
   "metadata": {},
   "source": [
    "Вас попросили узнать сколько раз в данных встречается район Бруклин (Brooklyn)?"
   ]
  },
  {
   "cell_type": "code",
   "execution_count": 41,
   "id": "971e7cd7",
   "metadata": {},
   "outputs": [
    {
     "data": {
      "text/plain": [
       "Bronx            4343\n",
       "Brooklyn         4343\n",
       "EWR              4343\n",
       "Manhattan        4343\n",
       "Queens           4343\n",
       "Staten Island    4343\n",
       "Name: borough, dtype: int64"
      ]
     },
     "execution_count": 41,
     "metadata": {},
     "output_type": "execute_result"
    }
   ],
   "source": [
    "taxi.borough.value_counts()"
   ]
  },
  {
   "cell_type": "code",
   "execution_count": 43,
   "id": "03ce506c",
   "metadata": {},
   "outputs": [
    {
     "data": {
      "text/plain": [
       "4343"
      ]
     },
     "execution_count": 43,
     "metadata": {},
     "output_type": "execute_result"
    }
   ],
   "source": [
    "taxi.query(\"borough == 'Brooklyn'\").shape[0]"
   ]
  },
  {
   "cell_type": "markdown",
   "id": "7466b166",
   "metadata": {},
   "source": [
    "### 6"
   ]
  },
  {
   "cell_type": "markdown",
   "id": "f09a3d43",
   "metadata": {},
   "source": [
    "Выяснить, из какого района было совершено наибольшее количество поездок за весь период.  \n",
    "Для начала, посчитайте общее количество поездок (__pickups__), без группировки."
   ]
  },
  {
   "cell_type": "code",
   "execution_count": 45,
   "id": "a60034fd",
   "metadata": {},
   "outputs": [
    {
     "data": {
      "text/plain": [
       "14265773"
      ]
     },
     "execution_count": 45,
     "metadata": {},
     "output_type": "execute_result"
    }
   ],
   "source": [
    "taxi.pickups.sum()"
   ]
  },
  {
   "cell_type": "markdown",
   "id": "74320a6f",
   "metadata": {},
   "source": [
    "### 7"
   ]
  },
  {
   "cell_type": "markdown",
   "id": "23193a09",
   "metadata": {},
   "source": [
    "А теперь сгруппируйте данные по району (__borough__) и укажите, из какого пункта было совершено больше всего поездок."
   ]
  },
  {
   "cell_type": "code",
   "execution_count": 57,
   "id": "b078109a",
   "metadata": {},
   "outputs": [
    {
     "data": {
      "text/plain": [
       "borough\n",
       "Manhattan        10367841\n",
       "Brooklyn          2321035\n",
       "Queens            1343528\n",
       "Bronx              220047\n",
       "Staten Island        6957\n",
       "EWR                   105\n",
       "Name: pickups, dtype: int64"
      ]
     },
     "execution_count": 57,
     "metadata": {},
     "output_type": "execute_result"
    }
   ],
   "source": [
    "taxi.groupby('borough').pickups.sum().sort_values(ascending=False)"
   ]
  },
  {
   "cell_type": "markdown",
   "id": "72b4ab61",
   "metadata": {},
   "source": [
    "### ★ 8"
   ]
  },
  {
   "cell_type": "markdown",
   "id": "6e3e78ab",
   "metadata": {},
   "source": [
    "Еще несколько полезных методов в __pandas__! Возможно, в предыдущем степе вы просто посмотрели на данные или отсортировали значения. Ускорить данный процесс в дальнейшем помогут методы __idxmin()__ и __idxmax()__, которые возвращают индекс минимального или максимального значения.\n",
    "\n",
    "__idxmin__ – индекс минимального значения  \n",
    "__idxmax__ – индекс максимального значения  \n",
    "Сохраните название района с наименьшим числом поездок в переменную __min_pickups__, применив подходящий метод."
   ]
  },
  {
   "cell_type": "code",
   "execution_count": 62,
   "id": "6a6d65b0",
   "metadata": {},
   "outputs": [],
   "source": [
    "min_pickups = taxi.groupby('borough').pickups.sum().idxmin()"
   ]
  },
  {
   "cell_type": "code",
   "execution_count": 61,
   "id": "5f896a86",
   "metadata": {},
   "outputs": [
    {
     "data": {
      "text/plain": [
       "'Manhattan'"
      ]
     },
     "execution_count": 61,
     "metadata": {},
     "output_type": "execute_result"
    }
   ],
   "source": [
    "min_pickups"
   ]
  },
  {
   "cell_type": "markdown",
   "id": "1db353d8",
   "metadata": {},
   "source": [
    "### 9"
   ]
  },
  {
   "cell_type": "markdown",
   "id": "8e7b9e52",
   "metadata": {},
   "source": [
    "Продолжим изучение данных и посмотрим на число поездок в выходные дни. Сгруппируйте данные по двум признакам:     \n",
    "· району города  __(borough)__           \n",
    "· является ли день выходным __(hday)__    \n",
    "\n",
    "Сравните среднее число поездок, и выберите районы, из которых по праздникам в среднем поступает больше заказов, чем в обычные дни. "
   ]
  },
  {
   "cell_type": "code",
   "execution_count": 64,
   "id": "9ec8c044",
   "metadata": {},
   "outputs": [
    {
     "data": {
      "text/html": [
       "<div>\n",
       "<style scoped>\n",
       "    .dataframe tbody tr th:only-of-type {\n",
       "        vertical-align: middle;\n",
       "    }\n",
       "\n",
       "    .dataframe tbody tr th {\n",
       "        vertical-align: top;\n",
       "    }\n",
       "\n",
       "    .dataframe thead th {\n",
       "        text-align: right;\n",
       "    }\n",
       "</style>\n",
       "<table border=\"1\" class=\"dataframe\">\n",
       "  <thead>\n",
       "    <tr style=\"text-align: right;\">\n",
       "      <th></th>\n",
       "      <th>pickup_dt</th>\n",
       "      <th>pickup_month</th>\n",
       "      <th>borough</th>\n",
       "      <th>pickups</th>\n",
       "      <th>hday</th>\n",
       "      <th>spd</th>\n",
       "      <th>vsb</th>\n",
       "      <th>temp</th>\n",
       "      <th>dewp</th>\n",
       "      <th>slp</th>\n",
       "      <th>pcp 01</th>\n",
       "      <th>pcp 06</th>\n",
       "      <th>pcp 24</th>\n",
       "      <th>sd</th>\n",
       "    </tr>\n",
       "  </thead>\n",
       "  <tbody>\n",
       "    <tr>\n",
       "      <th>0</th>\n",
       "      <td>2015-01-01 01:00:00</td>\n",
       "      <td>Jan</td>\n",
       "      <td>Bronx</td>\n",
       "      <td>152</td>\n",
       "      <td>Y</td>\n",
       "      <td>5.0</td>\n",
       "      <td>10.0</td>\n",
       "      <td>30.0</td>\n",
       "      <td>7.0</td>\n",
       "      <td>1023.5</td>\n",
       "      <td>0.0</td>\n",
       "      <td>0.0</td>\n",
       "      <td>0.0</td>\n",
       "      <td>0.0</td>\n",
       "    </tr>\n",
       "    <tr>\n",
       "      <th>1</th>\n",
       "      <td>2015-01-01 01:00:00</td>\n",
       "      <td>Jan</td>\n",
       "      <td>Brooklyn</td>\n",
       "      <td>1519</td>\n",
       "      <td>Y</td>\n",
       "      <td>5.0</td>\n",
       "      <td>10.0</td>\n",
       "      <td>30.0</td>\n",
       "      <td>7.0</td>\n",
       "      <td>1023.5</td>\n",
       "      <td>0.0</td>\n",
       "      <td>0.0</td>\n",
       "      <td>0.0</td>\n",
       "      <td>0.0</td>\n",
       "    </tr>\n",
       "    <tr>\n",
       "      <th>2</th>\n",
       "      <td>2015-01-01 01:00:00</td>\n",
       "      <td>Jan</td>\n",
       "      <td>EWR</td>\n",
       "      <td>0</td>\n",
       "      <td>Y</td>\n",
       "      <td>5.0</td>\n",
       "      <td>10.0</td>\n",
       "      <td>30.0</td>\n",
       "      <td>7.0</td>\n",
       "      <td>1023.5</td>\n",
       "      <td>0.0</td>\n",
       "      <td>0.0</td>\n",
       "      <td>0.0</td>\n",
       "      <td>0.0</td>\n",
       "    </tr>\n",
       "    <tr>\n",
       "      <th>3</th>\n",
       "      <td>2015-01-01 01:00:00</td>\n",
       "      <td>Jan</td>\n",
       "      <td>Manhattan</td>\n",
       "      <td>5258</td>\n",
       "      <td>Y</td>\n",
       "      <td>5.0</td>\n",
       "      <td>10.0</td>\n",
       "      <td>30.0</td>\n",
       "      <td>7.0</td>\n",
       "      <td>1023.5</td>\n",
       "      <td>0.0</td>\n",
       "      <td>0.0</td>\n",
       "      <td>0.0</td>\n",
       "      <td>0.0</td>\n",
       "    </tr>\n",
       "    <tr>\n",
       "      <th>4</th>\n",
       "      <td>2015-01-01 01:00:00</td>\n",
       "      <td>Jan</td>\n",
       "      <td>Queens</td>\n",
       "      <td>405</td>\n",
       "      <td>Y</td>\n",
       "      <td>5.0</td>\n",
       "      <td>10.0</td>\n",
       "      <td>30.0</td>\n",
       "      <td>7.0</td>\n",
       "      <td>1023.5</td>\n",
       "      <td>0.0</td>\n",
       "      <td>0.0</td>\n",
       "      <td>0.0</td>\n",
       "      <td>0.0</td>\n",
       "    </tr>\n",
       "    <tr>\n",
       "      <th>...</th>\n",
       "      <td>...</td>\n",
       "      <td>...</td>\n",
       "      <td>...</td>\n",
       "      <td>...</td>\n",
       "      <td>...</td>\n",
       "      <td>...</td>\n",
       "      <td>...</td>\n",
       "      <td>...</td>\n",
       "      <td>...</td>\n",
       "      <td>...</td>\n",
       "      <td>...</td>\n",
       "      <td>...</td>\n",
       "      <td>...</td>\n",
       "      <td>...</td>\n",
       "    </tr>\n",
       "    <tr>\n",
       "      <th>29096</th>\n",
       "      <td>2015-06-30 23:00:00</td>\n",
       "      <td>Jun</td>\n",
       "      <td>EWR</td>\n",
       "      <td>0</td>\n",
       "      <td>N</td>\n",
       "      <td>7.0</td>\n",
       "      <td>10.0</td>\n",
       "      <td>75.0</td>\n",
       "      <td>65.0</td>\n",
       "      <td>1011.8</td>\n",
       "      <td>0.0</td>\n",
       "      <td>0.0</td>\n",
       "      <td>0.0</td>\n",
       "      <td>0.0</td>\n",
       "    </tr>\n",
       "    <tr>\n",
       "      <th>29097</th>\n",
       "      <td>2015-06-30 23:00:00</td>\n",
       "      <td>Jun</td>\n",
       "      <td>Manhattan</td>\n",
       "      <td>3828</td>\n",
       "      <td>N</td>\n",
       "      <td>7.0</td>\n",
       "      <td>10.0</td>\n",
       "      <td>75.0</td>\n",
       "      <td>65.0</td>\n",
       "      <td>1011.8</td>\n",
       "      <td>0.0</td>\n",
       "      <td>0.0</td>\n",
       "      <td>0.0</td>\n",
       "      <td>0.0</td>\n",
       "    </tr>\n",
       "    <tr>\n",
       "      <th>29098</th>\n",
       "      <td>2015-06-30 23:00:00</td>\n",
       "      <td>Jun</td>\n",
       "      <td>Queens</td>\n",
       "      <td>580</td>\n",
       "      <td>N</td>\n",
       "      <td>7.0</td>\n",
       "      <td>10.0</td>\n",
       "      <td>75.0</td>\n",
       "      <td>65.0</td>\n",
       "      <td>1011.8</td>\n",
       "      <td>0.0</td>\n",
       "      <td>0.0</td>\n",
       "      <td>0.0</td>\n",
       "      <td>0.0</td>\n",
       "    </tr>\n",
       "    <tr>\n",
       "      <th>29099</th>\n",
       "      <td>2015-06-30 23:00:00</td>\n",
       "      <td>Jun</td>\n",
       "      <td>Staten Island</td>\n",
       "      <td>0</td>\n",
       "      <td>N</td>\n",
       "      <td>7.0</td>\n",
       "      <td>10.0</td>\n",
       "      <td>75.0</td>\n",
       "      <td>65.0</td>\n",
       "      <td>1011.8</td>\n",
       "      <td>0.0</td>\n",
       "      <td>0.0</td>\n",
       "      <td>0.0</td>\n",
       "      <td>0.0</td>\n",
       "    </tr>\n",
       "    <tr>\n",
       "      <th>29100</th>\n",
       "      <td>2015-06-30 23:00:00</td>\n",
       "      <td>Jun</td>\n",
       "      <td>NaN</td>\n",
       "      <td>3</td>\n",
       "      <td>N</td>\n",
       "      <td>7.0</td>\n",
       "      <td>10.0</td>\n",
       "      <td>75.0</td>\n",
       "      <td>65.0</td>\n",
       "      <td>1011.8</td>\n",
       "      <td>0.0</td>\n",
       "      <td>0.0</td>\n",
       "      <td>0.0</td>\n",
       "      <td>0.0</td>\n",
       "    </tr>\n",
       "  </tbody>\n",
       "</table>\n",
       "<p>29101 rows × 14 columns</p>\n",
       "</div>"
      ],
      "text/plain": [
       "                 pickup_dt pickup_month        borough  pickups hday  spd  \\\n",
       "0      2015-01-01 01:00:00          Jan          Bronx      152    Y  5.0   \n",
       "1      2015-01-01 01:00:00          Jan       Brooklyn     1519    Y  5.0   \n",
       "2      2015-01-01 01:00:00          Jan            EWR        0    Y  5.0   \n",
       "3      2015-01-01 01:00:00          Jan      Manhattan     5258    Y  5.0   \n",
       "4      2015-01-01 01:00:00          Jan         Queens      405    Y  5.0   \n",
       "...                    ...          ...            ...      ...  ...  ...   \n",
       "29096  2015-06-30 23:00:00          Jun            EWR        0    N  7.0   \n",
       "29097  2015-06-30 23:00:00          Jun      Manhattan     3828    N  7.0   \n",
       "29098  2015-06-30 23:00:00          Jun         Queens      580    N  7.0   \n",
       "29099  2015-06-30 23:00:00          Jun  Staten Island        0    N  7.0   \n",
       "29100  2015-06-30 23:00:00          Jun            NaN        3    N  7.0   \n",
       "\n",
       "        vsb  temp  dewp     slp  pcp 01  pcp 06  pcp 24   sd  \n",
       "0      10.0  30.0   7.0  1023.5     0.0     0.0     0.0  0.0  \n",
       "1      10.0  30.0   7.0  1023.5     0.0     0.0     0.0  0.0  \n",
       "2      10.0  30.0   7.0  1023.5     0.0     0.0     0.0  0.0  \n",
       "3      10.0  30.0   7.0  1023.5     0.0     0.0     0.0  0.0  \n",
       "4      10.0  30.0   7.0  1023.5     0.0     0.0     0.0  0.0  \n",
       "...     ...   ...   ...     ...     ...     ...     ...  ...  \n",
       "29096  10.0  75.0  65.0  1011.8     0.0     0.0     0.0  0.0  \n",
       "29097  10.0  75.0  65.0  1011.8     0.0     0.0     0.0  0.0  \n",
       "29098  10.0  75.0  65.0  1011.8     0.0     0.0     0.0  0.0  \n",
       "29099  10.0  75.0  65.0  1011.8     0.0     0.0     0.0  0.0  \n",
       "29100  10.0  75.0  65.0  1011.8     0.0     0.0     0.0  0.0  \n",
       "\n",
       "[29101 rows x 14 columns]"
      ]
     },
     "execution_count": 64,
     "metadata": {},
     "output_type": "execute_result"
    }
   ],
   "source": [
    "taxi"
   ]
  },
  {
   "cell_type": "code",
   "execution_count": 68,
   "id": "27fd6ede",
   "metadata": {},
   "outputs": [
    {
     "data": {
      "text/html": [
       "<div>\n",
       "<style scoped>\n",
       "    .dataframe tbody tr th:only-of-type {\n",
       "        vertical-align: middle;\n",
       "    }\n",
       "\n",
       "    .dataframe tbody tr th {\n",
       "        vertical-align: top;\n",
       "    }\n",
       "\n",
       "    .dataframe thead th {\n",
       "        text-align: right;\n",
       "    }\n",
       "</style>\n",
       "<table border=\"1\" class=\"dataframe\">\n",
       "  <thead>\n",
       "    <tr style=\"text-align: right;\">\n",
       "      <th></th>\n",
       "      <th></th>\n",
       "      <th>pickups</th>\n",
       "    </tr>\n",
       "    <tr>\n",
       "      <th>borough</th>\n",
       "      <th>hday</th>\n",
       "      <th></th>\n",
       "    </tr>\n",
       "  </thead>\n",
       "  <tbody>\n",
       "    <tr>\n",
       "      <th rowspan=\"2\" valign=\"top\">Bronx</th>\n",
       "      <th>N</th>\n",
       "      <td>50.771073</td>\n",
       "    </tr>\n",
       "    <tr>\n",
       "      <th>Y</th>\n",
       "      <td>48.065868</td>\n",
       "    </tr>\n",
       "    <tr>\n",
       "      <th rowspan=\"2\" valign=\"top\">Brooklyn</th>\n",
       "      <th>N</th>\n",
       "      <td>534.727969</td>\n",
       "    </tr>\n",
       "    <tr>\n",
       "      <th>Y</th>\n",
       "      <td>527.011976</td>\n",
       "    </tr>\n",
       "    <tr>\n",
       "      <th rowspan=\"2\" valign=\"top\">EWR</th>\n",
       "      <th>N</th>\n",
       "      <td>0.023467</td>\n",
       "    </tr>\n",
       "    <tr>\n",
       "      <th>Y</th>\n",
       "      <td>0.041916</td>\n",
       "    </tr>\n",
       "    <tr>\n",
       "      <th rowspan=\"2\" valign=\"top\">Manhattan</th>\n",
       "      <th>N</th>\n",
       "      <td>2401.302921</td>\n",
       "    </tr>\n",
       "    <tr>\n",
       "      <th>Y</th>\n",
       "      <td>2035.928144</td>\n",
       "    </tr>\n",
       "    <tr>\n",
       "      <th rowspan=\"2\" valign=\"top\">Queens</th>\n",
       "      <th>N</th>\n",
       "      <td>308.899904</td>\n",
       "    </tr>\n",
       "    <tr>\n",
       "      <th>Y</th>\n",
       "      <td>320.730539</td>\n",
       "    </tr>\n",
       "    <tr>\n",
       "      <th rowspan=\"2\" valign=\"top\">Staten Island</th>\n",
       "      <th>N</th>\n",
       "      <td>1.606082</td>\n",
       "    </tr>\n",
       "    <tr>\n",
       "      <th>Y</th>\n",
       "      <td>1.497006</td>\n",
       "    </tr>\n",
       "  </tbody>\n",
       "</table>\n",
       "</div>"
      ],
      "text/plain": [
       "                        pickups\n",
       "borough       hday             \n",
       "Bronx         N       50.771073\n",
       "              Y       48.065868\n",
       "Brooklyn      N      534.727969\n",
       "              Y      527.011976\n",
       "EWR           N        0.023467\n",
       "              Y        0.041916\n",
       "Manhattan     N     2401.302921\n",
       "              Y     2035.928144\n",
       "Queens        N      308.899904\n",
       "              Y      320.730539\n",
       "Staten Island N        1.606082\n",
       "              Y        1.497006"
      ]
     },
     "execution_count": 68,
     "metadata": {},
     "output_type": "execute_result"
    }
   ],
   "source": [
    "taxi.groupby(['borough', 'hday']).pickups.mean().to_frame()"
   ]
  },
  {
   "cell_type": "markdown",
   "id": "37419bd2",
   "metadata": {},
   "source": [
    "### 10"
   ]
  },
  {
   "cell_type": "markdown",
   "id": "a637e7d7",
   "metadata": {},
   "source": [
    "Для каждого района посчитайте число поездок по месяцам. Отсортируйте полученные значения по убыванию и сохраните результирующий датафрейм в __pickups_by_mon_bor__."
   ]
  },
  {
   "cell_type": "code",
   "execution_count": 85,
   "id": "6b5fa3f4",
   "metadata": {},
   "outputs": [],
   "source": [
    "pickups_by_mon_bor = taxi.groupby(['borough', 'pickup_month'], as_index=False) \\\n",
    "                         .agg({'pickups': 'sum'}) \\\n",
    "                         .sort_values('pickups', ascending=False)"
   ]
  },
  {
   "cell_type": "markdown",
   "id": "3b4c5ca4",
   "metadata": {},
   "source": [
    "### 11"
   ]
  },
  {
   "cell_type": "markdown",
   "id": "f7dd2af5",
   "metadata": {},
   "source": [
    "Теперь задача посложнее! Попрактикуемся в написании собственных функций и их применении к датафрейму. Поскольку данные о поездках в Нью-Йорке, температура представлена в градусах Фаренгейта. \n",
    "\n",
    "Напишите функцию __temp_to_celcius__, которая получает на вход колонку с температурой в __°F__, и возвращает значения, переведенные в градусы Цельсия.\n",
    "\n",
    "Формула:  \n",
    "    $Celsius = \\frac{(Fahrenheit - 32) · 5}{9}$"
   ]
  },
  {
   "cell_type": "code",
   "execution_count": 91,
   "id": "0868e644",
   "metadata": {},
   "outputs": [],
   "source": [
    "def temp_to_celcius(series):\n",
    "    return (taxi.temp - 32) * 5 / 9"
   ]
  },
  {
   "cell_type": "code",
   "execution_count": 93,
   "id": "88f6b254",
   "metadata": {},
   "outputs": [
    {
     "data": {
      "text/plain": [
       "0        -1.111111\n",
       "1        -1.111111\n",
       "2        -1.111111\n",
       "3        -1.111111\n",
       "4        -1.111111\n",
       "           ...    \n",
       "29096    23.888889\n",
       "29097    23.888889\n",
       "29098    23.888889\n",
       "29099    23.888889\n",
       "29100    23.888889\n",
       "Name: temp, Length: 29101, dtype: float64"
      ]
     },
     "execution_count": 93,
     "metadata": {},
     "output_type": "execute_result"
    }
   ],
   "source": [
    "temp_to_celcius(taxi.temp)"
   ]
  }
 ],
 "metadata": {
  "kernelspec": {
   "display_name": "Python 3 (ipykernel)",
   "language": "python",
   "name": "python3"
  },
  "language_info": {
   "codemirror_mode": {
    "name": "ipython",
    "version": 3
   },
   "file_extension": ".py",
   "mimetype": "text/x-python",
   "name": "python",
   "nbconvert_exporter": "python",
   "pygments_lexer": "ipython3",
   "version": "3.9.7"
  }
 },
 "nbformat": 4,
 "nbformat_minor": 5
}
