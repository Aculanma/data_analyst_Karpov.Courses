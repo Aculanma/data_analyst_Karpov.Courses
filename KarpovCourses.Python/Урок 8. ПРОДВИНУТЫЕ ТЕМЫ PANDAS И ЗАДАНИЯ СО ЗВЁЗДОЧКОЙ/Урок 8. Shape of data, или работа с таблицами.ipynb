{
 "cells": [
  {
   "cell_type": "markdown",
   "id": "b6b8cd5e",
   "metadata": {},
   "source": [
    "# ПРОДВИНУТЫЕ ТЕМЫ PANDAS И ЗАДАНИЯ СО ЗВЁЗДОЧКОЙ"
   ]
  },
  {
   "cell_type": "markdown",
   "id": "1f828621",
   "metadata": {},
   "source": [
    "## Shape of data, или работа с таблицами"
   ]
  },
  {
   "cell_type": "code",
   "execution_count": null,
   "id": "7a1edca4",
   "metadata": {},
   "outputs": [],
   "source": []
  }
 ],
 "metadata": {
  "kernelspec": {
   "display_name": "Python 3 (ipykernel)",
   "language": "python",
   "name": "python3"
  },
  "language_info": {
   "codemirror_mode": {
    "name": "ipython",
    "version": 3
   },
   "file_extension": ".py",
   "mimetype": "text/x-python",
   "name": "python",
   "nbconvert_exporter": "python",
   "pygments_lexer": "ipython3",
   "version": "3.9.7"
  }
 },
 "nbformat": 4,
 "nbformat_minor": 5
}
