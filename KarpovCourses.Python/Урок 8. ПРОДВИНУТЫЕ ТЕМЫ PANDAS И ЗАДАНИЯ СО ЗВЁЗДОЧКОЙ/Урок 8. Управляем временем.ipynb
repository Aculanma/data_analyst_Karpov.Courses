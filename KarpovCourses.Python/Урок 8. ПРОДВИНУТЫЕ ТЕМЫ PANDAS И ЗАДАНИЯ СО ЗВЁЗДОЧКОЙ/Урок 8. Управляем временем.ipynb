{
 "cells": [
  {
   "cell_type": "markdown",
   "id": "f9629c68",
   "metadata": {},
   "source": [
    "# ПРОДВИНУТЫЕ ТЕМЫ PANDAS И ЗАДАНИЯ СО ЗВЁЗДОЧКОЙ"
   ]
  },
  {
   "cell_type": "markdown",
   "id": "03db424f",
   "metadata": {},
   "source": [
    "## Управляем временем"
   ]
  },
  {
   "cell_type": "markdown",
   "id": "7e597a65",
   "metadata": {},
   "source": [
    "### resample"
   ]
  },
  {
   "cell_type": "markdown",
   "id": "e35df09f",
   "metadata": {},
   "source": [
    "Теперь посмотрим, какие возможности pandas предоставляет для работы с временными рядами. Один из наиболее часто используемых и удобных методов — `.resample()`, позволяющий преобразовать данные и применить к ним другой метод (`sum()`, `size()` и пр.). Таким образом, можно рассчитать показатели, например, за весь день, неделю, месяц и т.п."
   ]
  },
  {
   "cell_type": "markdown",
   "id": "017e204e",
   "metadata": {},
   "source": [
    "Например, посчитать сумму показателя по дням, имея данные по часам, можно следующим образом:"
   ]
  },
  {
   "cell_type": "code",
   "execution_count": null,
   "id": "49c36a19",
   "metadata": {},
   "outputs": [],
   "source": [
    "data.resample(rule='D').sum()"
   ]
  },
  {
   "cell_type": "markdown",
   "id": "3d0facb6",
   "metadata": {},
   "source": [
    "где `rule` — параметр, отвечающий за то, по какому периоду нужно агрегировать данные. В данном случае параметр он равен `'D'` (Day). "
   ]
  },
  {
   "cell_type": "markdown",
   "id": "7a7fe3e2",
   "metadata": {},
   "source": [
    "### 1"
   ]
  },
  {
   "cell_type": "markdown",
   "id": "0d9a5e46",
   "metadata": {},
   "source": [
    "В следующих задачах мы будем работать сэмплом данных об аренде велосипедов в Чикаго:"
   ]
  },
  {
   "cell_type": "markdown",
   "id": "8abe9d4d",
   "metadata": {},
   "source": [
    "- `trip_id` — id поездки;  \n",
    "- `start_time` — Дата и время начала поездки\n",
    "- `end_time` — Дата и время конца поездки\n",
    "- `bikeid` — id велосипеда\n",
    "- `tripduration` — продолжительность поездки в минутах\n",
    "- `from_station_id` — id станции начала поездки\n",
    "- `from_station_name` — название пункта отправления\n",
    "- `to_station_id` — id пункта прибытия\n",
    "- `to_station_name` — название пункта прибытия\n",
    "- `usertype` — тип пользователя\n",
    "- `gender` — пол (если subscriber)\n",
    "- `birthyear` — год рождения (если subscriber)"
   ]
  },
  {
   "cell_type": "markdown",
   "id": "f149ee3c",
   "metadata": {},
   "source": [
    "Для начала, возьмем данные только за Q1, осохраним их в переменную `bikes_Q1`. Перед тем как сделать `.resample()`, нужно немного подготовить данные. Поместите колонку `start_time` в качестве индексов и сохраните изменения в исходный датасет. Предварительно проверьте тип переменной, и приведите её к правильному, если необходимо."
   ]
  },
  {
   "cell_type": "code",
   "execution_count": 145,
   "id": "3989e4ca",
   "metadata": {},
   "outputs": [],
   "source": [
    "import pandas as pd\n",
    "import numpy as np"
   ]
  },
  {
   "cell_type": "code",
   "execution_count": 5,
   "id": "eefd46ff",
   "metadata": {},
   "outputs": [],
   "source": [
    "bikes_Q1 = pd.read_csv('bikes_q1_sample.csv')"
   ]
  },
  {
   "cell_type": "code",
   "execution_count": 8,
   "id": "4b157b0b",
   "metadata": {},
   "outputs": [],
   "source": [
    "bikes_Q1[['start_time', 'end_time']] = bikes_Q1[['start_time', 'end_time']].apply(pd.to_datetime)"
   ]
  },
  {
   "cell_type": "code",
   "execution_count": 9,
   "id": "8bfdc2ec",
   "metadata": {},
   "outputs": [
    {
     "data": {
      "text/plain": [
       "trip_id                       int64\n",
       "start_time           datetime64[ns]\n",
       "end_time             datetime64[ns]\n",
       "bikeid                        int64\n",
       "tripduration                 object\n",
       "from_station_id               int64\n",
       "from_station_name            object\n",
       "to_station_id                 int64\n",
       "to_station_name              object\n",
       "usertype                     object\n",
       "gender                       object\n",
       "birthyear                   float64\n",
       "dtype: object"
      ]
     },
     "execution_count": 9,
     "metadata": {},
     "output_type": "execute_result"
    }
   ],
   "source": [
    "bikes_Q1.dtypes"
   ]
  },
  {
   "cell_type": "code",
   "execution_count": 10,
   "id": "2ac4f282",
   "metadata": {},
   "outputs": [],
   "source": [
    "bikes_Q1.set_index('start_time', inplace=True)"
   ]
  },
  {
   "cell_type": "code",
   "execution_count": 11,
   "id": "1a30dc5d",
   "metadata": {},
   "outputs": [
    {
     "data": {
      "text/html": [
       "<div>\n",
       "<style scoped>\n",
       "    .dataframe tbody tr th:only-of-type {\n",
       "        vertical-align: middle;\n",
       "    }\n",
       "\n",
       "    .dataframe tbody tr th {\n",
       "        vertical-align: top;\n",
       "    }\n",
       "\n",
       "    .dataframe thead th {\n",
       "        text-align: right;\n",
       "    }\n",
       "</style>\n",
       "<table border=\"1\" class=\"dataframe\">\n",
       "  <thead>\n",
       "    <tr style=\"text-align: right;\">\n",
       "      <th></th>\n",
       "      <th>trip_id</th>\n",
       "      <th>end_time</th>\n",
       "      <th>bikeid</th>\n",
       "      <th>tripduration</th>\n",
       "      <th>from_station_id</th>\n",
       "      <th>from_station_name</th>\n",
       "      <th>to_station_id</th>\n",
       "      <th>to_station_name</th>\n",
       "      <th>usertype</th>\n",
       "      <th>gender</th>\n",
       "      <th>birthyear</th>\n",
       "    </tr>\n",
       "    <tr>\n",
       "      <th>start_time</th>\n",
       "      <th></th>\n",
       "      <th></th>\n",
       "      <th></th>\n",
       "      <th></th>\n",
       "      <th></th>\n",
       "      <th></th>\n",
       "      <th></th>\n",
       "      <th></th>\n",
       "      <th></th>\n",
       "      <th></th>\n",
       "      <th></th>\n",
       "    </tr>\n",
       "  </thead>\n",
       "  <tbody>\n",
       "    <tr>\n",
       "      <th>2018-01-22 20:04:31</th>\n",
       "      <td>17617135</td>\n",
       "      <td>2018-01-22 20:11:53</td>\n",
       "      <td>1131</td>\n",
       "      <td>442.0</td>\n",
       "      <td>471</td>\n",
       "      <td>Francisco Ave &amp; Foster Ave</td>\n",
       "      <td>468</td>\n",
       "      <td>Budlong Woods Library</td>\n",
       "      <td>Subscriber</td>\n",
       "      <td>Female</td>\n",
       "      <td>1949.0</td>\n",
       "    </tr>\n",
       "    <tr>\n",
       "      <th>2018-03-16 19:47:59</th>\n",
       "      <td>17897619</td>\n",
       "      <td>2018-03-16 20:04:00</td>\n",
       "      <td>6146</td>\n",
       "      <td>961.0</td>\n",
       "      <td>296</td>\n",
       "      <td>Broadway &amp; Belmont Ave</td>\n",
       "      <td>253</td>\n",
       "      <td>Winthrop Ave &amp; Lawrence Ave</td>\n",
       "      <td>Subscriber</td>\n",
       "      <td>Male</td>\n",
       "      <td>1988.0</td>\n",
       "    </tr>\n",
       "    <tr>\n",
       "      <th>2018-03-14 18:49:20</th>\n",
       "      <td>17881307</td>\n",
       "      <td>2018-03-14 18:54:38</td>\n",
       "      <td>3847</td>\n",
       "      <td>318.0</td>\n",
       "      <td>260</td>\n",
       "      <td>Kedzie Ave &amp; Milwaukee Ave</td>\n",
       "      <td>503</td>\n",
       "      <td>Drake Ave &amp; Fullerton Ave</td>\n",
       "      <td>Subscriber</td>\n",
       "      <td>Male</td>\n",
       "      <td>1987.0</td>\n",
       "    </tr>\n",
       "    <tr>\n",
       "      <th>2018-03-14 18:33:48</th>\n",
       "      <td>17881130</td>\n",
       "      <td>2018-03-14 19:07:40</td>\n",
       "      <td>1483</td>\n",
       "      <td>2,032.0</td>\n",
       "      <td>199</td>\n",
       "      <td>Wabash Ave &amp; Grand Ave</td>\n",
       "      <td>199</td>\n",
       "      <td>Wabash Ave &amp; Grand Ave</td>\n",
       "      <td>Subscriber</td>\n",
       "      <td>Male</td>\n",
       "      <td>1990.0</td>\n",
       "    </tr>\n",
       "    <tr>\n",
       "      <th>2018-02-05 17:39:14</th>\n",
       "      <td>17686289</td>\n",
       "      <td>2018-02-05 17:46:13</td>\n",
       "      <td>6391</td>\n",
       "      <td>419.0</td>\n",
       "      <td>596</td>\n",
       "      <td>Benson Ave &amp; Church St</td>\n",
       "      <td>605</td>\n",
       "      <td>University Library (NU)</td>\n",
       "      <td>Subscriber</td>\n",
       "      <td>Male</td>\n",
       "      <td>1992.0</td>\n",
       "    </tr>\n",
       "    <tr>\n",
       "      <th>...</th>\n",
       "      <td>...</td>\n",
       "      <td>...</td>\n",
       "      <td>...</td>\n",
       "      <td>...</td>\n",
       "      <td>...</td>\n",
       "      <td>...</td>\n",
       "      <td>...</td>\n",
       "      <td>...</td>\n",
       "      <td>...</td>\n",
       "      <td>...</td>\n",
       "      <td>...</td>\n",
       "    </tr>\n",
       "    <tr>\n",
       "      <th>2018-02-28 17:16:53</th>\n",
       "      <td>17792363</td>\n",
       "      <td>2018-02-28 17:18:49</td>\n",
       "      <td>2401</td>\n",
       "      <td>116.0</td>\n",
       "      <td>50</td>\n",
       "      <td>Clark St &amp; Congress Pkwy</td>\n",
       "      <td>41</td>\n",
       "      <td>Federal St &amp; Polk St</td>\n",
       "      <td>Subscriber</td>\n",
       "      <td>Male</td>\n",
       "      <td>1991.0</td>\n",
       "    </tr>\n",
       "    <tr>\n",
       "      <th>2018-02-08 11:52:44</th>\n",
       "      <td>17695807</td>\n",
       "      <td>2018-02-08 11:58:13</td>\n",
       "      <td>4687</td>\n",
       "      <td>329.0</td>\n",
       "      <td>18</td>\n",
       "      <td>Wacker Dr &amp; Washington St</td>\n",
       "      <td>39</td>\n",
       "      <td>Wabash Ave &amp; Adams St</td>\n",
       "      <td>Subscriber</td>\n",
       "      <td>Male</td>\n",
       "      <td>1979.0</td>\n",
       "    </tr>\n",
       "    <tr>\n",
       "      <th>2018-03-22 17:18:21</th>\n",
       "      <td>17938644</td>\n",
       "      <td>2018-03-22 17:24:13</td>\n",
       "      <td>6200</td>\n",
       "      <td>352.0</td>\n",
       "      <td>59</td>\n",
       "      <td>Wabash Ave &amp; Roosevelt Rd</td>\n",
       "      <td>50</td>\n",
       "      <td>Clark St &amp; Congress Pkwy</td>\n",
       "      <td>Subscriber</td>\n",
       "      <td>Male</td>\n",
       "      <td>1968.0</td>\n",
       "    </tr>\n",
       "    <tr>\n",
       "      <th>2018-02-20 16:45:07</th>\n",
       "      <td>17738202</td>\n",
       "      <td>2018-02-20 16:57:42</td>\n",
       "      <td>757</td>\n",
       "      <td>755.0</td>\n",
       "      <td>99</td>\n",
       "      <td>Lake Shore Dr &amp; Ohio St</td>\n",
       "      <td>38</td>\n",
       "      <td>Clark St &amp; Lake St</td>\n",
       "      <td>Subscriber</td>\n",
       "      <td>Male</td>\n",
       "      <td>1990.0</td>\n",
       "    </tr>\n",
       "    <tr>\n",
       "      <th>2018-01-10 12:08:16</th>\n",
       "      <td>17566765</td>\n",
       "      <td>2018-01-10 12:20:31</td>\n",
       "      <td>4668</td>\n",
       "      <td>735.0</td>\n",
       "      <td>489</td>\n",
       "      <td>Drake Ave &amp; Addison St</td>\n",
       "      <td>500</td>\n",
       "      <td>Central Park Ave &amp; Elbridge Ave</td>\n",
       "      <td>Subscriber</td>\n",
       "      <td>Male</td>\n",
       "      <td>1980.0</td>\n",
       "    </tr>\n",
       "  </tbody>\n",
       "</table>\n",
       "<p>174215 rows × 11 columns</p>\n",
       "</div>"
      ],
      "text/plain": [
       "                      trip_id            end_time  bikeid tripduration  \\\n",
       "start_time                                                               \n",
       "2018-01-22 20:04:31  17617135 2018-01-22 20:11:53    1131        442.0   \n",
       "2018-03-16 19:47:59  17897619 2018-03-16 20:04:00    6146        961.0   \n",
       "2018-03-14 18:49:20  17881307 2018-03-14 18:54:38    3847        318.0   \n",
       "2018-03-14 18:33:48  17881130 2018-03-14 19:07:40    1483      2,032.0   \n",
       "2018-02-05 17:39:14  17686289 2018-02-05 17:46:13    6391        419.0   \n",
       "...                       ...                 ...     ...          ...   \n",
       "2018-02-28 17:16:53  17792363 2018-02-28 17:18:49    2401        116.0   \n",
       "2018-02-08 11:52:44  17695807 2018-02-08 11:58:13    4687        329.0   \n",
       "2018-03-22 17:18:21  17938644 2018-03-22 17:24:13    6200        352.0   \n",
       "2018-02-20 16:45:07  17738202 2018-02-20 16:57:42     757        755.0   \n",
       "2018-01-10 12:08:16  17566765 2018-01-10 12:20:31    4668        735.0   \n",
       "\n",
       "                     from_station_id           from_station_name  \\\n",
       "start_time                                                         \n",
       "2018-01-22 20:04:31              471  Francisco Ave & Foster Ave   \n",
       "2018-03-16 19:47:59              296      Broadway & Belmont Ave   \n",
       "2018-03-14 18:49:20              260  Kedzie Ave & Milwaukee Ave   \n",
       "2018-03-14 18:33:48              199      Wabash Ave & Grand Ave   \n",
       "2018-02-05 17:39:14              596      Benson Ave & Church St   \n",
       "...                              ...                         ...   \n",
       "2018-02-28 17:16:53               50    Clark St & Congress Pkwy   \n",
       "2018-02-08 11:52:44               18   Wacker Dr & Washington St   \n",
       "2018-03-22 17:18:21               59   Wabash Ave & Roosevelt Rd   \n",
       "2018-02-20 16:45:07               99     Lake Shore Dr & Ohio St   \n",
       "2018-01-10 12:08:16              489      Drake Ave & Addison St   \n",
       "\n",
       "                     to_station_id                  to_station_name  \\\n",
       "start_time                                                            \n",
       "2018-01-22 20:04:31            468            Budlong Woods Library   \n",
       "2018-03-16 19:47:59            253      Winthrop Ave & Lawrence Ave   \n",
       "2018-03-14 18:49:20            503        Drake Ave & Fullerton Ave   \n",
       "2018-03-14 18:33:48            199           Wabash Ave & Grand Ave   \n",
       "2018-02-05 17:39:14            605          University Library (NU)   \n",
       "...                            ...                              ...   \n",
       "2018-02-28 17:16:53             41             Federal St & Polk St   \n",
       "2018-02-08 11:52:44             39            Wabash Ave & Adams St   \n",
       "2018-03-22 17:18:21             50         Clark St & Congress Pkwy   \n",
       "2018-02-20 16:45:07             38               Clark St & Lake St   \n",
       "2018-01-10 12:08:16            500  Central Park Ave & Elbridge Ave   \n",
       "\n",
       "                       usertype  gender  birthyear  \n",
       "start_time                                          \n",
       "2018-01-22 20:04:31  Subscriber  Female     1949.0  \n",
       "2018-03-16 19:47:59  Subscriber    Male     1988.0  \n",
       "2018-03-14 18:49:20  Subscriber    Male     1987.0  \n",
       "2018-03-14 18:33:48  Subscriber    Male     1990.0  \n",
       "2018-02-05 17:39:14  Subscriber    Male     1992.0  \n",
       "...                         ...     ...        ...  \n",
       "2018-02-28 17:16:53  Subscriber    Male     1991.0  \n",
       "2018-02-08 11:52:44  Subscriber    Male     1979.0  \n",
       "2018-03-22 17:18:21  Subscriber    Male     1968.0  \n",
       "2018-02-20 16:45:07  Subscriber    Male     1990.0  \n",
       "2018-01-10 12:08:16  Subscriber    Male     1980.0  \n",
       "\n",
       "[174215 rows x 11 columns]"
      ]
     },
     "execution_count": 11,
     "metadata": {},
     "output_type": "execute_result"
    }
   ],
   "source": [
    "bikes_Q1"
   ]
  },
  {
   "cell_type": "markdown",
   "id": "a8c1117f",
   "metadata": {},
   "source": [
    "### 2"
   ]
  },
  {
   "cell_type": "markdown",
   "id": "73d94141",
   "metadata": {},
   "source": [
    "В данных имеется как дата аренды, так и её точное время начала и окончания с точностью до секунд. Примените метод `pd.resample()` и агрегируйте данные по дням. В качестве ответа укажите максимальное число аренд за день."
   ]
  },
  {
   "cell_type": "code",
   "execution_count": 15,
   "id": "8c3dcfae",
   "metadata": {},
   "outputs": [
    {
     "data": {
      "text/plain": [
       "4196"
      ]
     },
     "execution_count": 15,
     "metadata": {},
     "output_type": "execute_result"
    }
   ],
   "source": [
    "bikes_Q1.resample('1d').trip_id.count().max()"
   ]
  },
  {
   "cell_type": "markdown",
   "id": "17c86c7b",
   "metadata": {},
   "source": [
    "### 3"
   ]
  },
  {
   "cell_type": "markdown",
   "id": "2e0b6942",
   "metadata": {},
   "source": [
    "Посмотрим на распределение количества аренд для разных групп пользователей (`usertype`) — customers и subscribers в данных за апрель.\n",
    "\n",
    "Сделайте ресемпл по дням для каждой группы и в качестве ответа укажите число аренд за 18 апреля, сделанных пользователями типа `Subscriber`."
   ]
  },
  {
   "cell_type": "code",
   "execution_count": 110,
   "id": "f08b5387",
   "metadata": {},
   "outputs": [],
   "source": [
    "bikes = pd.read_csv('bikes_april.csv', parse_dates=[0, 2])"
   ]
  },
  {
   "cell_type": "code",
   "execution_count": 111,
   "id": "9098bef2",
   "metadata": {},
   "outputs": [
    {
     "data": {
      "text/plain": [
       "start_time           datetime64[ns]\n",
       "trip_id                       int64\n",
       "end_time             datetime64[ns]\n",
       "bikeid                        int64\n",
       "tripduration                 object\n",
       "from_station_id               int64\n",
       "from_station_name            object\n",
       "to_station_id                 int64\n",
       "to_station_name              object\n",
       "usertype                     object\n",
       "gender                       object\n",
       "birthyear                   float64\n",
       "dtype: object"
      ]
     },
     "execution_count": 111,
     "metadata": {},
     "output_type": "execute_result"
    }
   ],
   "source": [
    "bikes.dtypes"
   ]
  },
  {
   "cell_type": "code",
   "execution_count": 112,
   "id": "8b4679f5",
   "metadata": {},
   "outputs": [],
   "source": [
    "bikes.set_index('start_time', inplace=True)"
   ]
  },
  {
   "cell_type": "code",
   "execution_count": 113,
   "id": "b74add46",
   "metadata": {},
   "outputs": [
    {
     "data": {
      "text/html": [
       "<div>\n",
       "<style scoped>\n",
       "    .dataframe tbody tr th:only-of-type {\n",
       "        vertical-align: middle;\n",
       "    }\n",
       "\n",
       "    .dataframe tbody tr th {\n",
       "        vertical-align: top;\n",
       "    }\n",
       "\n",
       "    .dataframe thead th {\n",
       "        text-align: right;\n",
       "    }\n",
       "</style>\n",
       "<table border=\"1\" class=\"dataframe\">\n",
       "  <thead>\n",
       "    <tr style=\"text-align: right;\">\n",
       "      <th></th>\n",
       "      <th>trip_id</th>\n",
       "      <th>end_time</th>\n",
       "      <th>bikeid</th>\n",
       "      <th>tripduration</th>\n",
       "      <th>from_station_id</th>\n",
       "      <th>from_station_name</th>\n",
       "      <th>to_station_id</th>\n",
       "      <th>to_station_name</th>\n",
       "      <th>usertype</th>\n",
       "      <th>gender</th>\n",
       "      <th>birthyear</th>\n",
       "    </tr>\n",
       "    <tr>\n",
       "      <th>start_time</th>\n",
       "      <th></th>\n",
       "      <th></th>\n",
       "      <th></th>\n",
       "      <th></th>\n",
       "      <th></th>\n",
       "      <th></th>\n",
       "      <th></th>\n",
       "      <th></th>\n",
       "      <th></th>\n",
       "      <th></th>\n",
       "      <th></th>\n",
       "    </tr>\n",
       "  </thead>\n",
       "  <tbody>\n",
       "    <tr>\n",
       "      <th>2018-04-01 00:10:23</th>\n",
       "      <td>18000531</td>\n",
       "      <td>2018-04-01 00:22:12</td>\n",
       "      <td>5065</td>\n",
       "      <td>709.0</td>\n",
       "      <td>228</td>\n",
       "      <td>Damen Ave &amp; Melrose Ave</td>\n",
       "      <td>219</td>\n",
       "      <td>Damen Ave &amp; Cortland St</td>\n",
       "      <td>Subscriber</td>\n",
       "      <td>Male</td>\n",
       "      <td>1983.0</td>\n",
       "    </tr>\n",
       "    <tr>\n",
       "      <th>2018-04-01 00:15:49</th>\n",
       "      <td>18000533</td>\n",
       "      <td>2018-04-01 00:19:47</td>\n",
       "      <td>4570</td>\n",
       "      <td>238.0</td>\n",
       "      <td>128</td>\n",
       "      <td>Damen Ave &amp; Chicago Ave</td>\n",
       "      <td>130</td>\n",
       "      <td>Damen Ave &amp; Division St</td>\n",
       "      <td>Subscriber</td>\n",
       "      <td>Male</td>\n",
       "      <td>1978.0</td>\n",
       "    </tr>\n",
       "    <tr>\n",
       "      <th>2018-04-01 00:17:00</th>\n",
       "      <td>18000534</td>\n",
       "      <td>2018-04-01 00:22:53</td>\n",
       "      <td>1323</td>\n",
       "      <td>353.0</td>\n",
       "      <td>130</td>\n",
       "      <td>Damen Ave &amp; Division St</td>\n",
       "      <td>69</td>\n",
       "      <td>Damen Ave &amp; Pierce Ave</td>\n",
       "      <td>Subscriber</td>\n",
       "      <td>Male</td>\n",
       "      <td>1991.0</td>\n",
       "    </tr>\n",
       "    <tr>\n",
       "      <th>2018-04-01 00:20:00</th>\n",
       "      <td>18000536</td>\n",
       "      <td>2018-04-01 00:26:22</td>\n",
       "      <td>2602</td>\n",
       "      <td>382.0</td>\n",
       "      <td>121</td>\n",
       "      <td>Blackstone Ave &amp; Hyde Park Blvd</td>\n",
       "      <td>351</td>\n",
       "      <td>Cottage Grove Ave &amp; 51st St</td>\n",
       "      <td>Subscriber</td>\n",
       "      <td>Female</td>\n",
       "      <td>1992.0</td>\n",
       "    </tr>\n",
       "    <tr>\n",
       "      <th>2018-04-01 00:23:19</th>\n",
       "      <td>18000538</td>\n",
       "      <td>2018-04-01 00:35:01</td>\n",
       "      <td>4213</td>\n",
       "      <td>702.0</td>\n",
       "      <td>31</td>\n",
       "      <td>Franklin St &amp; Chicago Ave</td>\n",
       "      <td>180</td>\n",
       "      <td>Ritchie Ct &amp; Banks St</td>\n",
       "      <td>Subscriber</td>\n",
       "      <td>Male</td>\n",
       "      <td>1985.0</td>\n",
       "    </tr>\n",
       "  </tbody>\n",
       "</table>\n",
       "</div>"
      ],
      "text/plain": [
       "                      trip_id            end_time  bikeid tripduration  \\\n",
       "start_time                                                               \n",
       "2018-04-01 00:10:23  18000531 2018-04-01 00:22:12    5065        709.0   \n",
       "2018-04-01 00:15:49  18000533 2018-04-01 00:19:47    4570        238.0   \n",
       "2018-04-01 00:17:00  18000534 2018-04-01 00:22:53    1323        353.0   \n",
       "2018-04-01 00:20:00  18000536 2018-04-01 00:26:22    2602        382.0   \n",
       "2018-04-01 00:23:19  18000538 2018-04-01 00:35:01    4213        702.0   \n",
       "\n",
       "                     from_station_id                from_station_name  \\\n",
       "start_time                                                              \n",
       "2018-04-01 00:10:23              228          Damen Ave & Melrose Ave   \n",
       "2018-04-01 00:15:49              128          Damen Ave & Chicago Ave   \n",
       "2018-04-01 00:17:00              130          Damen Ave & Division St   \n",
       "2018-04-01 00:20:00              121  Blackstone Ave & Hyde Park Blvd   \n",
       "2018-04-01 00:23:19               31        Franklin St & Chicago Ave   \n",
       "\n",
       "                     to_station_id              to_station_name    usertype  \\\n",
       "start_time                                                                    \n",
       "2018-04-01 00:10:23            219      Damen Ave & Cortland St  Subscriber   \n",
       "2018-04-01 00:15:49            130      Damen Ave & Division St  Subscriber   \n",
       "2018-04-01 00:17:00             69       Damen Ave & Pierce Ave  Subscriber   \n",
       "2018-04-01 00:20:00            351  Cottage Grove Ave & 51st St  Subscriber   \n",
       "2018-04-01 00:23:19            180        Ritchie Ct & Banks St  Subscriber   \n",
       "\n",
       "                     gender  birthyear  \n",
       "start_time                              \n",
       "2018-04-01 00:10:23    Male     1983.0  \n",
       "2018-04-01 00:15:49    Male     1978.0  \n",
       "2018-04-01 00:17:00    Male     1991.0  \n",
       "2018-04-01 00:20:00  Female     1992.0  \n",
       "2018-04-01 00:23:19    Male     1985.0  "
      ]
     },
     "execution_count": 113,
     "metadata": {},
     "output_type": "execute_result"
    }
   ],
   "source": [
    "bikes.head()"
   ]
  },
  {
   "cell_type": "code",
   "execution_count": 30,
   "id": "82d00c7c",
   "metadata": {},
   "outputs": [],
   "source": [
    "day_bikes_count = bikes.groupby('usertype') \\\n",
    "                       .trip_id.resample('1d') \\\n",
    "                       .count()"
   ]
  },
  {
   "cell_type": "code",
   "execution_count": 34,
   "id": "2a513493",
   "metadata": {},
   "outputs": [
    {
     "data": {
      "text/plain": [
       "2196"
      ]
     },
     "execution_count": 34,
     "metadata": {},
     "output_type": "execute_result"
    }
   ],
   "source": [
    "day_bikes_count.loc[('Subscriber', '2018-04-18')]"
   ]
  },
  {
   "cell_type": "markdown",
   "id": "d7cdf48e",
   "metadata": {},
   "source": [
    "### ★ 4"
   ]
  },
  {
   "cell_type": "markdown",
   "id": "f19e930c",
   "metadata": {},
   "source": [
    "Посмотрим на данные за период с апреля по декабрь."
   ]
  },
  {
   "cell_type": "markdown",
   "id": "e3479805",
   "metadata": {},
   "source": [
    "Объедините сэмплы данных за нужные месяцы в один общий датасет `bikes`. Сделайте преобразование по дням для каждой группы пользователей (`usertype`), затем выберите дни, в которые число аренд, сделанных customers, было больше, чем у subscribers."
   ]
  },
  {
   "cell_type": "markdown",
   "id": "2e60d102",
   "metadata": {},
   "source": [
    "- __2018-09-02__\n",
    "- __2018-05-27__\n",
    "- 2018-02-09\n",
    "- 2018-05-28\n",
    "- 2019-09-02\n",
    "- 2018-05-04"
   ]
  },
  {
   "cell_type": "code",
   "execution_count": 121,
   "id": "6b6b182e",
   "metadata": {},
   "outputs": [],
   "source": [
    "links = [\"https://stepik.org/media/attachments/lesson/367415/bikes_q2_sample_apr.csv\", \n",
    "         \"https://stepik.org/media/attachments/lesson/367415/bikes_q2_sample_may.csv\", \n",
    "         \"https://stepik.org/media/attachments/lesson/367415/bikes_q2_sample_jun.csv\", \n",
    "         \"https://stepik.org/media/attachments/lesson/367415/bikes_q3_sample_july.csv\", \n",
    "         \"https://stepik.org/media/attachments/lesson/367415/bikes_q3_sample_aug.csv\", \n",
    "         \"https://stepik.org/media/attachments/lesson/367415/bikes_q3_sample_sep.csv\",\n",
    "         \"https://stepik.org/media/attachments/lesson/367415/bikes_q4_sample_oct.csv\",\n",
    "         \"https://stepik.org/media/attachments/lesson/367415/bikes_q4_sample_nov.csv\",\n",
    "         \"https://stepik.org/media/attachments/lesson/367415/bikes_q4_sample_dec.csv\"]"
   ]
  },
  {
   "cell_type": "code",
   "execution_count": 125,
   "id": "cc162d57",
   "metadata": {},
   "outputs": [],
   "source": [
    "bikes = []"
   ]
  },
  {
   "cell_type": "code",
   "execution_count": 126,
   "id": "0d32bd16",
   "metadata": {},
   "outputs": [],
   "source": [
    "for link in links:\n",
    "    df = pd.read_csv(link)\n",
    "    bikes.append(df)"
   ]
  },
  {
   "cell_type": "code",
   "execution_count": 127,
   "id": "e4c6676b",
   "metadata": {},
   "outputs": [],
   "source": [
    "bikes = pd.concat(bikes)"
   ]
  },
  {
   "cell_type": "code",
   "execution_count": 128,
   "id": "02198714",
   "metadata": {},
   "outputs": [
    {
     "data": {
      "text/html": [
       "<div>\n",
       "<style scoped>\n",
       "    .dataframe tbody tr th:only-of-type {\n",
       "        vertical-align: middle;\n",
       "    }\n",
       "\n",
       "    .dataframe tbody tr th {\n",
       "        vertical-align: top;\n",
       "    }\n",
       "\n",
       "    .dataframe thead th {\n",
       "        text-align: right;\n",
       "    }\n",
       "</style>\n",
       "<table border=\"1\" class=\"dataframe\">\n",
       "  <thead>\n",
       "    <tr style=\"text-align: right;\">\n",
       "      <th></th>\n",
       "      <th>trip_id</th>\n",
       "      <th>start_time</th>\n",
       "      <th>end_time</th>\n",
       "      <th>bikeid</th>\n",
       "      <th>tripduration</th>\n",
       "      <th>from_station_id</th>\n",
       "      <th>from_station_name</th>\n",
       "      <th>to_station_id</th>\n",
       "      <th>to_station_name</th>\n",
       "      <th>usertype</th>\n",
       "      <th>gender</th>\n",
       "      <th>birthyear</th>\n",
       "    </tr>\n",
       "  </thead>\n",
       "  <tbody>\n",
       "    <tr>\n",
       "      <th>0</th>\n",
       "      <td>18000534</td>\n",
       "      <td>2018-04-01 00:17:00</td>\n",
       "      <td>2018-04-01 00:22:53</td>\n",
       "      <td>1323</td>\n",
       "      <td>353.0</td>\n",
       "      <td>130</td>\n",
       "      <td>Damen Ave &amp; Division St</td>\n",
       "      <td>69</td>\n",
       "      <td>Damen Ave &amp; Pierce Ave</td>\n",
       "      <td>Subscriber</td>\n",
       "      <td>Male</td>\n",
       "      <td>1991.0</td>\n",
       "    </tr>\n",
       "    <tr>\n",
       "      <th>1</th>\n",
       "      <td>18000536</td>\n",
       "      <td>2018-04-01 00:20:00</td>\n",
       "      <td>2018-04-01 00:26:22</td>\n",
       "      <td>2602</td>\n",
       "      <td>382.0</td>\n",
       "      <td>121</td>\n",
       "      <td>Blackstone Ave &amp; Hyde Park Blvd</td>\n",
       "      <td>351</td>\n",
       "      <td>Cottage Grove Ave &amp; 51st St</td>\n",
       "      <td>Subscriber</td>\n",
       "      <td>Female</td>\n",
       "      <td>1992.0</td>\n",
       "    </tr>\n",
       "    <tr>\n",
       "      <th>2</th>\n",
       "      <td>18000538</td>\n",
       "      <td>2018-04-01 00:23:19</td>\n",
       "      <td>2018-04-01 00:35:01</td>\n",
       "      <td>4213</td>\n",
       "      <td>702.0</td>\n",
       "      <td>31</td>\n",
       "      <td>Franklin St &amp; Chicago Ave</td>\n",
       "      <td>180</td>\n",
       "      <td>Ritchie Ct &amp; Banks St</td>\n",
       "      <td>Subscriber</td>\n",
       "      <td>Male</td>\n",
       "      <td>1985.0</td>\n",
       "    </tr>\n",
       "    <tr>\n",
       "      <th>3</th>\n",
       "      <td>18000540</td>\n",
       "      <td>2018-04-01 00:24:46</td>\n",
       "      <td>2018-04-01 00:44:23</td>\n",
       "      <td>6401</td>\n",
       "      <td>1,177.0</td>\n",
       "      <td>596</td>\n",
       "      <td>Benson Ave &amp; Church St</td>\n",
       "      <td>517</td>\n",
       "      <td>Clark St &amp; Jarvis Ave</td>\n",
       "      <td>Subscriber</td>\n",
       "      <td>Male</td>\n",
       "      <td>1974.0</td>\n",
       "    </tr>\n",
       "    <tr>\n",
       "      <th>4</th>\n",
       "      <td>18000541</td>\n",
       "      <td>2018-04-01 00:26:04</td>\n",
       "      <td>2018-04-01 00:31:05</td>\n",
       "      <td>6333</td>\n",
       "      <td>301.0</td>\n",
       "      <td>145</td>\n",
       "      <td>Mies van der Rohe Way &amp; Chestnut St</td>\n",
       "      <td>24</td>\n",
       "      <td>Fairbanks Ct &amp; Grand Ave</td>\n",
       "      <td>Subscriber</td>\n",
       "      <td>Male</td>\n",
       "      <td>1984.0</td>\n",
       "    </tr>\n",
       "  </tbody>\n",
       "</table>\n",
       "</div>"
      ],
      "text/plain": [
       "    trip_id           start_time             end_time  bikeid tripduration  \\\n",
       "0  18000534  2018-04-01 00:17:00  2018-04-01 00:22:53    1323        353.0   \n",
       "1  18000536  2018-04-01 00:20:00  2018-04-01 00:26:22    2602        382.0   \n",
       "2  18000538  2018-04-01 00:23:19  2018-04-01 00:35:01    4213        702.0   \n",
       "3  18000540  2018-04-01 00:24:46  2018-04-01 00:44:23    6401      1,177.0   \n",
       "4  18000541  2018-04-01 00:26:04  2018-04-01 00:31:05    6333        301.0   \n",
       "\n",
       "   from_station_id                    from_station_name  to_station_id  \\\n",
       "0              130              Damen Ave & Division St             69   \n",
       "1              121      Blackstone Ave & Hyde Park Blvd            351   \n",
       "2               31            Franklin St & Chicago Ave            180   \n",
       "3              596               Benson Ave & Church St            517   \n",
       "4              145  Mies van der Rohe Way & Chestnut St             24   \n",
       "\n",
       "               to_station_name    usertype  gender  birthyear  \n",
       "0       Damen Ave & Pierce Ave  Subscriber    Male     1991.0  \n",
       "1  Cottage Grove Ave & 51st St  Subscriber  Female     1992.0  \n",
       "2        Ritchie Ct & Banks St  Subscriber    Male     1985.0  \n",
       "3        Clark St & Jarvis Ave  Subscriber    Male     1974.0  \n",
       "4     Fairbanks Ct & Grand Ave  Subscriber    Male     1984.0  "
      ]
     },
     "execution_count": 128,
     "metadata": {},
     "output_type": "execute_result"
    }
   ],
   "source": [
    "bikes.head()"
   ]
  },
  {
   "cell_type": "code",
   "execution_count": 129,
   "id": "95ef2e55",
   "metadata": {},
   "outputs": [],
   "source": [
    "bikes[['start_time', 'end_time']] = bikes[['start_time', 'end_time']].apply(pd.to_datetime)"
   ]
  },
  {
   "cell_type": "code",
   "execution_count": 130,
   "id": "7040b85d",
   "metadata": {},
   "outputs": [],
   "source": [
    "bikes.set_index('start_time', inplace=True)"
   ]
  },
  {
   "cell_type": "code",
   "execution_count": 131,
   "id": "98b76eb1",
   "metadata": {},
   "outputs": [
    {
     "data": {
      "text/html": [
       "<div>\n",
       "<style scoped>\n",
       "    .dataframe tbody tr th:only-of-type {\n",
       "        vertical-align: middle;\n",
       "    }\n",
       "\n",
       "    .dataframe tbody tr th {\n",
       "        vertical-align: top;\n",
       "    }\n",
       "\n",
       "    .dataframe thead th {\n",
       "        text-align: right;\n",
       "    }\n",
       "</style>\n",
       "<table border=\"1\" class=\"dataframe\">\n",
       "  <thead>\n",
       "    <tr style=\"text-align: right;\">\n",
       "      <th></th>\n",
       "      <th>trip_id</th>\n",
       "      <th>end_time</th>\n",
       "      <th>bikeid</th>\n",
       "      <th>tripduration</th>\n",
       "      <th>from_station_id</th>\n",
       "      <th>from_station_name</th>\n",
       "      <th>to_station_id</th>\n",
       "      <th>to_station_name</th>\n",
       "      <th>usertype</th>\n",
       "      <th>gender</th>\n",
       "      <th>birthyear</th>\n",
       "    </tr>\n",
       "    <tr>\n",
       "      <th>start_time</th>\n",
       "      <th></th>\n",
       "      <th></th>\n",
       "      <th></th>\n",
       "      <th></th>\n",
       "      <th></th>\n",
       "      <th></th>\n",
       "      <th></th>\n",
       "      <th></th>\n",
       "      <th></th>\n",
       "      <th></th>\n",
       "      <th></th>\n",
       "    </tr>\n",
       "  </thead>\n",
       "  <tbody>\n",
       "    <tr>\n",
       "      <th>2018-04-01 00:17:00</th>\n",
       "      <td>18000534</td>\n",
       "      <td>2018-04-01 00:22:53</td>\n",
       "      <td>1323</td>\n",
       "      <td>353.0</td>\n",
       "      <td>130</td>\n",
       "      <td>Damen Ave &amp; Division St</td>\n",
       "      <td>69</td>\n",
       "      <td>Damen Ave &amp; Pierce Ave</td>\n",
       "      <td>Subscriber</td>\n",
       "      <td>Male</td>\n",
       "      <td>1991.0</td>\n",
       "    </tr>\n",
       "    <tr>\n",
       "      <th>2018-04-01 00:20:00</th>\n",
       "      <td>18000536</td>\n",
       "      <td>2018-04-01 00:26:22</td>\n",
       "      <td>2602</td>\n",
       "      <td>382.0</td>\n",
       "      <td>121</td>\n",
       "      <td>Blackstone Ave &amp; Hyde Park Blvd</td>\n",
       "      <td>351</td>\n",
       "      <td>Cottage Grove Ave &amp; 51st St</td>\n",
       "      <td>Subscriber</td>\n",
       "      <td>Female</td>\n",
       "      <td>1992.0</td>\n",
       "    </tr>\n",
       "    <tr>\n",
       "      <th>2018-04-01 00:23:19</th>\n",
       "      <td>18000538</td>\n",
       "      <td>2018-04-01 00:35:01</td>\n",
       "      <td>4213</td>\n",
       "      <td>702.0</td>\n",
       "      <td>31</td>\n",
       "      <td>Franklin St &amp; Chicago Ave</td>\n",
       "      <td>180</td>\n",
       "      <td>Ritchie Ct &amp; Banks St</td>\n",
       "      <td>Subscriber</td>\n",
       "      <td>Male</td>\n",
       "      <td>1985.0</td>\n",
       "    </tr>\n",
       "    <tr>\n",
       "      <th>2018-04-01 00:24:46</th>\n",
       "      <td>18000540</td>\n",
       "      <td>2018-04-01 00:44:23</td>\n",
       "      <td>6401</td>\n",
       "      <td>1,177.0</td>\n",
       "      <td>596</td>\n",
       "      <td>Benson Ave &amp; Church St</td>\n",
       "      <td>517</td>\n",
       "      <td>Clark St &amp; Jarvis Ave</td>\n",
       "      <td>Subscriber</td>\n",
       "      <td>Male</td>\n",
       "      <td>1974.0</td>\n",
       "    </tr>\n",
       "    <tr>\n",
       "      <th>2018-04-01 00:26:04</th>\n",
       "      <td>18000541</td>\n",
       "      <td>2018-04-01 00:31:05</td>\n",
       "      <td>6333</td>\n",
       "      <td>301.0</td>\n",
       "      <td>145</td>\n",
       "      <td>Mies van der Rohe Way &amp; Chestnut St</td>\n",
       "      <td>24</td>\n",
       "      <td>Fairbanks Ct &amp; Grand Ave</td>\n",
       "      <td>Subscriber</td>\n",
       "      <td>Male</td>\n",
       "      <td>1984.0</td>\n",
       "    </tr>\n",
       "  </tbody>\n",
       "</table>\n",
       "</div>"
      ],
      "text/plain": [
       "                      trip_id            end_time  bikeid tripduration  \\\n",
       "start_time                                                               \n",
       "2018-04-01 00:17:00  18000534 2018-04-01 00:22:53    1323        353.0   \n",
       "2018-04-01 00:20:00  18000536 2018-04-01 00:26:22    2602        382.0   \n",
       "2018-04-01 00:23:19  18000538 2018-04-01 00:35:01    4213        702.0   \n",
       "2018-04-01 00:24:46  18000540 2018-04-01 00:44:23    6401      1,177.0   \n",
       "2018-04-01 00:26:04  18000541 2018-04-01 00:31:05    6333        301.0   \n",
       "\n",
       "                     from_station_id                    from_station_name  \\\n",
       "start_time                                                                  \n",
       "2018-04-01 00:17:00              130              Damen Ave & Division St   \n",
       "2018-04-01 00:20:00              121      Blackstone Ave & Hyde Park Blvd   \n",
       "2018-04-01 00:23:19               31            Franklin St & Chicago Ave   \n",
       "2018-04-01 00:24:46              596               Benson Ave & Church St   \n",
       "2018-04-01 00:26:04              145  Mies van der Rohe Way & Chestnut St   \n",
       "\n",
       "                     to_station_id              to_station_name    usertype  \\\n",
       "start_time                                                                    \n",
       "2018-04-01 00:17:00             69       Damen Ave & Pierce Ave  Subscriber   \n",
       "2018-04-01 00:20:00            351  Cottage Grove Ave & 51st St  Subscriber   \n",
       "2018-04-01 00:23:19            180        Ritchie Ct & Banks St  Subscriber   \n",
       "2018-04-01 00:24:46            517        Clark St & Jarvis Ave  Subscriber   \n",
       "2018-04-01 00:26:04             24     Fairbanks Ct & Grand Ave  Subscriber   \n",
       "\n",
       "                     gender  birthyear  \n",
       "start_time                              \n",
       "2018-04-01 00:17:00    Male     1991.0  \n",
       "2018-04-01 00:20:00  Female     1992.0  \n",
       "2018-04-01 00:23:19    Male     1985.0  \n",
       "2018-04-01 00:24:46    Male     1974.0  \n",
       "2018-04-01 00:26:04    Male     1984.0  "
      ]
     },
     "execution_count": 131,
     "metadata": {},
     "output_type": "execute_result"
    }
   ],
   "source": [
    "bikes.head()"
   ]
  },
  {
   "cell_type": "code",
   "execution_count": 70,
   "id": "c1d91acf",
   "metadata": {},
   "outputs": [],
   "source": [
    "day_bikes_count = bikes.groupby('usertype') \\\n",
    "                       .trip_id \\\n",
    "                       .resample('1d') \\\n",
    "                       .count()"
   ]
  },
  {
   "cell_type": "code",
   "execution_count": 72,
   "id": "9b2b8ba9",
   "metadata": {},
   "outputs": [],
   "source": [
    "day_bikes_vs_user_groups = day_bikes_count.unstack(level='usertype')"
   ]
  },
  {
   "cell_type": "code",
   "execution_count": 76,
   "id": "27fb7a83",
   "metadata": {},
   "outputs": [
    {
     "data": {
      "text/html": [
       "<div>\n",
       "<style scoped>\n",
       "    .dataframe tbody tr th:only-of-type {\n",
       "        vertical-align: middle;\n",
       "    }\n",
       "\n",
       "    .dataframe tbody tr th {\n",
       "        vertical-align: top;\n",
       "    }\n",
       "\n",
       "    .dataframe thead th {\n",
       "        text-align: right;\n",
       "    }\n",
       "</style>\n",
       "<table border=\"1\" class=\"dataframe\">\n",
       "  <thead>\n",
       "    <tr style=\"text-align: right;\">\n",
       "      <th></th>\n",
       "      <th>more_customer_than_subscriber</th>\n",
       "    </tr>\n",
       "    <tr>\n",
       "      <th>start_time</th>\n",
       "      <th></th>\n",
       "    </tr>\n",
       "  </thead>\n",
       "  <tbody>\n",
       "    <tr>\n",
       "      <th>2018-05-27</th>\n",
       "      <td>True</td>\n",
       "    </tr>\n",
       "    <tr>\n",
       "      <th>2018-09-02</th>\n",
       "      <td>True</td>\n",
       "    </tr>\n",
       "  </tbody>\n",
       "</table>\n",
       "</div>"
      ],
      "text/plain": [
       "            more_customer_than_subscriber\n",
       "start_time                               \n",
       "2018-05-27                           True\n",
       "2018-09-02                           True"
      ]
     },
     "execution_count": 76,
     "metadata": {},
     "output_type": "execute_result"
    }
   ],
   "source": [
    "(day_bikes_vs_user_groups.Customer > day_bikes_vs_user_groups.Subscriber) \\\n",
    "    .to_frame(name='more_customer_than_subscriber') \\\n",
    "    .query('more_customer_than_subscriber == True')"
   ]
  },
  {
   "cell_type": "markdown",
   "id": "3296d352",
   "metadata": {},
   "source": [
    "### 5"
   ]
  },
  {
   "cell_type": "markdown",
   "id": "0df3db15",
   "metadata": {},
   "source": [
    "Отлично! Следующий шаг – более подробно посмотреть на летний период."
   ]
  },
  {
   "cell_type": "markdown",
   "id": "3f946ec3",
   "metadata": {},
   "source": [
    "Еще один плюс использования дат в качестве индексов – возможность выбрать данные за интересующий нас промежуток времени. В переменную `bikes_summer` сохраните наблюдения с 1 июня по 31 августа. Затем запишите в `top_destination` наиболее популярный пункт назначения (его название). Агрегируйте данные по дням и определите, в какой день в полученный пункт (`top_destination`) было совершено меньше всего поездок. Дату сохраните в `bad_day`, отформатировав timestamp с помощью `.strftime('%Y-%m-%d'`)."
   ]
  },
  {
   "cell_type": "code",
   "execution_count": 148,
   "id": "8332fdd2",
   "metadata": {},
   "outputs": [],
   "source": [
    "bikes_summer = bikes.loc['2018-06-01':'2018-08-31']"
   ]
  },
  {
   "cell_type": "code",
   "execution_count": 133,
   "id": "f233599e",
   "metadata": {},
   "outputs": [],
   "source": [
    "top_destination = bikes_summer.to_station_name.value_counts() \\\n",
    "                                              .idxmax()"
   ]
  },
  {
   "cell_type": "code",
   "execution_count": 134,
   "id": "820092e1",
   "metadata": {},
   "outputs": [],
   "source": [
    "top_destinantion_bikes = bikes_summer.query('to_station_name == @top_destination')"
   ]
  },
  {
   "cell_type": "code",
   "execution_count": 135,
   "id": "88d33a8d",
   "metadata": {},
   "outputs": [
    {
     "data": {
      "text/html": [
       "<div>\n",
       "<style scoped>\n",
       "    .dataframe tbody tr th:only-of-type {\n",
       "        vertical-align: middle;\n",
       "    }\n",
       "\n",
       "    .dataframe tbody tr th {\n",
       "        vertical-align: top;\n",
       "    }\n",
       "\n",
       "    .dataframe thead th {\n",
       "        text-align: right;\n",
       "    }\n",
       "</style>\n",
       "<table border=\"1\" class=\"dataframe\">\n",
       "  <thead>\n",
       "    <tr style=\"text-align: right;\">\n",
       "      <th></th>\n",
       "      <th>trip_id</th>\n",
       "      <th>end_time</th>\n",
       "      <th>bikeid</th>\n",
       "      <th>tripduration</th>\n",
       "      <th>from_station_id</th>\n",
       "      <th>from_station_name</th>\n",
       "      <th>to_station_id</th>\n",
       "      <th>to_station_name</th>\n",
       "      <th>usertype</th>\n",
       "      <th>gender</th>\n",
       "      <th>birthyear</th>\n",
       "    </tr>\n",
       "    <tr>\n",
       "      <th>start_time</th>\n",
       "      <th></th>\n",
       "      <th></th>\n",
       "      <th></th>\n",
       "      <th></th>\n",
       "      <th></th>\n",
       "      <th></th>\n",
       "      <th></th>\n",
       "      <th></th>\n",
       "      <th></th>\n",
       "      <th></th>\n",
       "      <th></th>\n",
       "    </tr>\n",
       "  </thead>\n",
       "  <tbody>\n",
       "    <tr>\n",
       "      <th>2018-06-01 07:04:44</th>\n",
       "      <td>18710193</td>\n",
       "      <td>2018-06-01 07:24:39</td>\n",
       "      <td>4421</td>\n",
       "      <td>1,195.0</td>\n",
       "      <td>192</td>\n",
       "      <td>Canal St &amp; Adams St</td>\n",
       "      <td>35</td>\n",
       "      <td>Streeter Dr &amp; Grand Ave</td>\n",
       "      <td>Subscriber</td>\n",
       "      <td>Male</td>\n",
       "      <td>1960.0</td>\n",
       "    </tr>\n",
       "    <tr>\n",
       "      <th>2018-06-01 07:25:37</th>\n",
       "      <td>18710624</td>\n",
       "      <td>2018-06-01 07:32:31</td>\n",
       "      <td>961</td>\n",
       "      <td>414.0</td>\n",
       "      <td>25</td>\n",
       "      <td>Michigan Ave &amp; Pearson St</td>\n",
       "      <td>35</td>\n",
       "      <td>Streeter Dr &amp; Grand Ave</td>\n",
       "      <td>Subscriber</td>\n",
       "      <td>Male</td>\n",
       "      <td>1987.0</td>\n",
       "    </tr>\n",
       "    <tr>\n",
       "      <th>2018-06-01 07:25:44</th>\n",
       "      <td>18710627</td>\n",
       "      <td>2018-06-01 07:48:45</td>\n",
       "      <td>971</td>\n",
       "      <td>1,381.0</td>\n",
       "      <td>177</td>\n",
       "      <td>Theater on the Lake</td>\n",
       "      <td>35</td>\n",
       "      <td>Streeter Dr &amp; Grand Ave</td>\n",
       "      <td>Subscriber</td>\n",
       "      <td>Male</td>\n",
       "      <td>1978.0</td>\n",
       "    </tr>\n",
       "    <tr>\n",
       "      <th>2018-06-01 07:34:35</th>\n",
       "      <td>18710828</td>\n",
       "      <td>2018-06-01 07:47:26</td>\n",
       "      <td>4268</td>\n",
       "      <td>771.0</td>\n",
       "      <td>140</td>\n",
       "      <td>Dearborn Pkwy &amp; Delaware Pl</td>\n",
       "      <td>35</td>\n",
       "      <td>Streeter Dr &amp; Grand Ave</td>\n",
       "      <td>Customer</td>\n",
       "      <td>NaN</td>\n",
       "      <td>NaN</td>\n",
       "    </tr>\n",
       "    <tr>\n",
       "      <th>2018-06-01 07:34:46</th>\n",
       "      <td>18710830</td>\n",
       "      <td>2018-06-01 07:51:30</td>\n",
       "      <td>5183</td>\n",
       "      <td>1,004.0</td>\n",
       "      <td>18</td>\n",
       "      <td>Wacker Dr &amp; Washington St</td>\n",
       "      <td>35</td>\n",
       "      <td>Streeter Dr &amp; Grand Ave</td>\n",
       "      <td>Subscriber</td>\n",
       "      <td>Female</td>\n",
       "      <td>1955.0</td>\n",
       "    </tr>\n",
       "  </tbody>\n",
       "</table>\n",
       "</div>"
      ],
      "text/plain": [
       "                      trip_id            end_time  bikeid tripduration  \\\n",
       "start_time                                                               \n",
       "2018-06-01 07:04:44  18710193 2018-06-01 07:24:39    4421      1,195.0   \n",
       "2018-06-01 07:25:37  18710624 2018-06-01 07:32:31     961        414.0   \n",
       "2018-06-01 07:25:44  18710627 2018-06-01 07:48:45     971      1,381.0   \n",
       "2018-06-01 07:34:35  18710828 2018-06-01 07:47:26    4268        771.0   \n",
       "2018-06-01 07:34:46  18710830 2018-06-01 07:51:30    5183      1,004.0   \n",
       "\n",
       "                     from_station_id            from_station_name  \\\n",
       "start_time                                                          \n",
       "2018-06-01 07:04:44              192          Canal St & Adams St   \n",
       "2018-06-01 07:25:37               25    Michigan Ave & Pearson St   \n",
       "2018-06-01 07:25:44              177          Theater on the Lake   \n",
       "2018-06-01 07:34:35              140  Dearborn Pkwy & Delaware Pl   \n",
       "2018-06-01 07:34:46               18    Wacker Dr & Washington St   \n",
       "\n",
       "                     to_station_id          to_station_name    usertype  \\\n",
       "start_time                                                                \n",
       "2018-06-01 07:04:44             35  Streeter Dr & Grand Ave  Subscriber   \n",
       "2018-06-01 07:25:37             35  Streeter Dr & Grand Ave  Subscriber   \n",
       "2018-06-01 07:25:44             35  Streeter Dr & Grand Ave  Subscriber   \n",
       "2018-06-01 07:34:35             35  Streeter Dr & Grand Ave    Customer   \n",
       "2018-06-01 07:34:46             35  Streeter Dr & Grand Ave  Subscriber   \n",
       "\n",
       "                     gender  birthyear  \n",
       "start_time                              \n",
       "2018-06-01 07:04:44    Male     1960.0  \n",
       "2018-06-01 07:25:37    Male     1987.0  \n",
       "2018-06-01 07:25:44    Male     1978.0  \n",
       "2018-06-01 07:34:35     NaN        NaN  \n",
       "2018-06-01 07:34:46  Female     1955.0  "
      ]
     },
     "execution_count": 135,
     "metadata": {},
     "output_type": "execute_result"
    }
   ],
   "source": [
    "top_destinantion_bikes.head()"
   ]
  },
  {
   "cell_type": "code",
   "execution_count": 136,
   "id": "cd903447",
   "metadata": {},
   "outputs": [],
   "source": [
    "bad_day = top_destinantion_bikes.resample('1d').to_station_name.count() \\\n",
    "                                                               .idxmin()"
   ]
  },
  {
   "cell_type": "code",
   "execution_count": 137,
   "id": "7a2d4e6e",
   "metadata": {},
   "outputs": [],
   "source": [
    "bad_day = bad_day.strftime('%Y-%m-%d')"
   ]
  },
  {
   "cell_type": "code",
   "execution_count": 138,
   "id": "d3fbfc7e",
   "metadata": {},
   "outputs": [
    {
     "data": {
      "text/plain": [
       "'2018-06-21'"
      ]
     },
     "execution_count": 138,
     "metadata": {},
     "output_type": "execute_result"
    }
   ],
   "source": [
    "bad_day"
   ]
  },
  {
   "cell_type": "markdown",
   "id": "4f433f0b",
   "metadata": {},
   "source": [
    "### 6"
   ]
  },
  {
   "cell_type": "markdown",
   "id": "f3fb33a7",
   "metadata": {},
   "source": [
    "Куда больше всего ездят на выходных? Туда же, куда и в будние дни, или в другие пункты назначения?\n",
    "\n",
    "Используя данные за период с 1 июня по 31 августа, выберите верные утверждения."
   ]
  },
  {
   "cell_type": "markdown",
   "id": "b59f885d",
   "metadata": {},
   "source": [
    "- __Наиболее популярный пункт назначения в субботу – Streeter Dr & Grand Ave__\n",
    "- __Второй по числу поездок в субботу – Lake Shore Dr & North Blvd__\n",
    "- Второй по числу поездок в субботу – Canal St & Adams St\n",
    "- В будние дни больше всего поездок совершено до Canal St & Adams St\n",
    "- __В будние дни больше всего поездок совершается до Streeter Dr & Grand Ave__"
   ]
  },
  {
   "cell_type": "code",
   "execution_count": 149,
   "id": "67fdb9e5",
   "metadata": {},
   "outputs": [
    {
     "name": "stderr",
     "output_type": "stream",
     "text": [
      "C:\\Users\\DNS\\AppData\\Local\\Temp/ipykernel_13772/1442041788.py:1: SettingWithCopyWarning: \n",
      "A value is trying to be set on a copy of a slice from a DataFrame.\n",
      "Try using .loc[row_indexer,col_indexer] = value instead\n",
      "\n",
      "See the caveats in the documentation: https://pandas.pydata.org/pandas-docs/stable/user_guide/indexing.html#returning-a-view-versus-a-copy\n",
      "  bikes_summer['day'] = bikes_summer.index.day_name()\n"
     ]
    }
   ],
   "source": [
    "bikes_summer['day'] = bikes_summer.index.day_name()"
   ]
  },
  {
   "cell_type": "code",
   "execution_count": 150,
   "id": "977d8f86",
   "metadata": {},
   "outputs": [
    {
     "data": {
      "text/html": [
       "<div>\n",
       "<style scoped>\n",
       "    .dataframe tbody tr th:only-of-type {\n",
       "        vertical-align: middle;\n",
       "    }\n",
       "\n",
       "    .dataframe tbody tr th {\n",
       "        vertical-align: top;\n",
       "    }\n",
       "\n",
       "    .dataframe thead th {\n",
       "        text-align: right;\n",
       "    }\n",
       "</style>\n",
       "<table border=\"1\" class=\"dataframe\">\n",
       "  <thead>\n",
       "    <tr style=\"text-align: right;\">\n",
       "      <th></th>\n",
       "      <th>trip_id</th>\n",
       "      <th>end_time</th>\n",
       "      <th>bikeid</th>\n",
       "      <th>tripduration</th>\n",
       "      <th>from_station_id</th>\n",
       "      <th>from_station_name</th>\n",
       "      <th>to_station_id</th>\n",
       "      <th>to_station_name</th>\n",
       "      <th>usertype</th>\n",
       "      <th>gender</th>\n",
       "      <th>birthyear</th>\n",
       "      <th>day</th>\n",
       "    </tr>\n",
       "    <tr>\n",
       "      <th>start_time</th>\n",
       "      <th></th>\n",
       "      <th></th>\n",
       "      <th></th>\n",
       "      <th></th>\n",
       "      <th></th>\n",
       "      <th></th>\n",
       "      <th></th>\n",
       "      <th></th>\n",
       "      <th></th>\n",
       "      <th></th>\n",
       "      <th></th>\n",
       "      <th></th>\n",
       "    </tr>\n",
       "  </thead>\n",
       "  <tbody>\n",
       "    <tr>\n",
       "      <th>2018-06-01 00:04:40</th>\n",
       "      <td>18709077</td>\n",
       "      <td>2018-06-01 00:06:47</td>\n",
       "      <td>3155</td>\n",
       "      <td>127.0</td>\n",
       "      <td>128</td>\n",
       "      <td>Damen Ave &amp; Chicago Ave</td>\n",
       "      <td>214</td>\n",
       "      <td>Damen Ave &amp; Grand Ave</td>\n",
       "      <td>Subscriber</td>\n",
       "      <td>Female</td>\n",
       "      <td>1978.0</td>\n",
       "      <td>Friday</td>\n",
       "    </tr>\n",
       "    <tr>\n",
       "      <th>2018-06-01 00:06:08</th>\n",
       "      <td>18709080</td>\n",
       "      <td>2018-06-01 00:24:18</td>\n",
       "      <td>2807</td>\n",
       "      <td>1,090.0</td>\n",
       "      <td>258</td>\n",
       "      <td>Logan Blvd &amp; Elston Ave</td>\n",
       "      <td>69</td>\n",
       "      <td>Damen Ave &amp; Pierce Ave</td>\n",
       "      <td>Customer</td>\n",
       "      <td>NaN</td>\n",
       "      <td>NaN</td>\n",
       "      <td>Friday</td>\n",
       "    </tr>\n",
       "    <tr>\n",
       "      <th>2018-06-01 00:08:01</th>\n",
       "      <td>18709086</td>\n",
       "      <td>2018-06-01 00:32:55</td>\n",
       "      <td>2737</td>\n",
       "      <td>1,494.0</td>\n",
       "      <td>337</td>\n",
       "      <td>Clark St &amp; Chicago Ave</td>\n",
       "      <td>225</td>\n",
       "      <td>Halsted St &amp; Dickens Ave</td>\n",
       "      <td>Customer</td>\n",
       "      <td>Male</td>\n",
       "      <td>1988.0</td>\n",
       "      <td>Friday</td>\n",
       "    </tr>\n",
       "    <tr>\n",
       "      <th>2018-06-01 00:09:02</th>\n",
       "      <td>18709091</td>\n",
       "      <td>2018-06-01 00:19:21</td>\n",
       "      <td>6089</td>\n",
       "      <td>619.0</td>\n",
       "      <td>210</td>\n",
       "      <td>Ashland Ave &amp; Division St</td>\n",
       "      <td>56</td>\n",
       "      <td>Desplaines St &amp; Kinzie St</td>\n",
       "      <td>Subscriber</td>\n",
       "      <td>Male</td>\n",
       "      <td>1987.0</td>\n",
       "      <td>Friday</td>\n",
       "    </tr>\n",
       "    <tr>\n",
       "      <th>2018-06-01 00:09:28</th>\n",
       "      <td>18709092</td>\n",
       "      <td>2018-06-01 00:14:44</td>\n",
       "      <td>2352</td>\n",
       "      <td>316.0</td>\n",
       "      <td>240</td>\n",
       "      <td>Sheridan Rd &amp; Irving Park Rd</td>\n",
       "      <td>303</td>\n",
       "      <td>Broadway &amp; Cornelia Ave</td>\n",
       "      <td>Subscriber</td>\n",
       "      <td>Male</td>\n",
       "      <td>1997.0</td>\n",
       "      <td>Friday</td>\n",
       "    </tr>\n",
       "  </tbody>\n",
       "</table>\n",
       "</div>"
      ],
      "text/plain": [
       "                      trip_id            end_time  bikeid tripduration  \\\n",
       "start_time                                                               \n",
       "2018-06-01 00:04:40  18709077 2018-06-01 00:06:47    3155        127.0   \n",
       "2018-06-01 00:06:08  18709080 2018-06-01 00:24:18    2807      1,090.0   \n",
       "2018-06-01 00:08:01  18709086 2018-06-01 00:32:55    2737      1,494.0   \n",
       "2018-06-01 00:09:02  18709091 2018-06-01 00:19:21    6089        619.0   \n",
       "2018-06-01 00:09:28  18709092 2018-06-01 00:14:44    2352        316.0   \n",
       "\n",
       "                     from_station_id             from_station_name  \\\n",
       "start_time                                                           \n",
       "2018-06-01 00:04:40              128       Damen Ave & Chicago Ave   \n",
       "2018-06-01 00:06:08              258       Logan Blvd & Elston Ave   \n",
       "2018-06-01 00:08:01              337        Clark St & Chicago Ave   \n",
       "2018-06-01 00:09:02              210     Ashland Ave & Division St   \n",
       "2018-06-01 00:09:28              240  Sheridan Rd & Irving Park Rd   \n",
       "\n",
       "                     to_station_id            to_station_name    usertype  \\\n",
       "start_time                                                                  \n",
       "2018-06-01 00:04:40            214      Damen Ave & Grand Ave  Subscriber   \n",
       "2018-06-01 00:06:08             69     Damen Ave & Pierce Ave    Customer   \n",
       "2018-06-01 00:08:01            225   Halsted St & Dickens Ave    Customer   \n",
       "2018-06-01 00:09:02             56  Desplaines St & Kinzie St  Subscriber   \n",
       "2018-06-01 00:09:28            303    Broadway & Cornelia Ave  Subscriber   \n",
       "\n",
       "                     gender  birthyear     day  \n",
       "start_time                                      \n",
       "2018-06-01 00:04:40  Female     1978.0  Friday  \n",
       "2018-06-01 00:06:08     NaN        NaN  Friday  \n",
       "2018-06-01 00:08:01    Male     1988.0  Friday  \n",
       "2018-06-01 00:09:02    Male     1987.0  Friday  \n",
       "2018-06-01 00:09:28    Male     1997.0  Friday  "
      ]
     },
     "execution_count": 150,
     "metadata": {},
     "output_type": "execute_result"
    }
   ],
   "source": [
    "bikes_summer.head()"
   ]
  },
  {
   "cell_type": "code",
   "execution_count": 154,
   "id": "42522d1b",
   "metadata": {},
   "outputs": [
    {
     "data": {
      "text/plain": [
       "array(['Friday', 'Saturday', 'Sunday', 'Monday', 'Tuesday', 'Wednesday',\n",
       "       'Thursday'], dtype=object)"
      ]
     },
     "execution_count": 154,
     "metadata": {},
     "output_type": "execute_result"
    }
   ],
   "source": [
    "bikes_summer.day.unique()"
   ]
  },
  {
   "cell_type": "code",
   "execution_count": 155,
   "id": "c0b999f8",
   "metadata": {},
   "outputs": [],
   "source": [
    "working_day = ['Friday', 'Monday', 'Tuesday', 'Wednesday', 'Thursday']\n",
    "holidays = ['Saturday', 'Sunday']"
   ]
  },
  {
   "cell_type": "code",
   "execution_count": 158,
   "id": "6851934b",
   "metadata": {},
   "outputs": [
    {
     "name": "stderr",
     "output_type": "stream",
     "text": [
      "C:\\Users\\DNS\\AppData\\Local\\Temp/ipykernel_13772/4154457339.py:1: SettingWithCopyWarning: \n",
      "A value is trying to be set on a copy of a slice from a DataFrame.\n",
      "Try using .loc[row_indexer,col_indexer] = value instead\n",
      "\n",
      "See the caveats in the documentation: https://pandas.pydata.org/pandas-docs/stable/user_guide/indexing.html#returning-a-view-versus-a-copy\n",
      "  bikes_summer['is_working_day'] = np.where(bikes_summer.day.isin(working_day), 1, 0)\n"
     ]
    }
   ],
   "source": [
    "bikes_summer['is_working_day'] = np.where(bikes_summer.day.isin(working_day), 1, 0)"
   ]
  },
  {
   "cell_type": "code",
   "execution_count": 159,
   "id": "1cfbe44d",
   "metadata": {},
   "outputs": [
    {
     "data": {
      "text/plain": [
       "Streeter Dr & Grand Ave       3461\n",
       "Lake Shore Dr & North Blvd    1690\n",
       "Theater on the Lake           1470\n",
       "Lake Shore Dr & Monroe St     1232\n",
       "Millennium Park               1080\n",
       "                              ... \n",
       "Karlov Ave & Madison St          1\n",
       "Stony Island Ave & 82nd St       1\n",
       "Cicero Ave & Flournoy St         1\n",
       "Halsted St & 59th St             1\n",
       "Perry Ave & 69th St              1\n",
       "Name: to_station_name, Length: 557, dtype: int64"
      ]
     },
     "execution_count": 159,
     "metadata": {},
     "output_type": "execute_result"
    }
   ],
   "source": [
    "bikes_summer.query('day == \"Saturday\"') \\\n",
    "            .to_station_name \\\n",
    "            .value_counts()"
   ]
  },
  {
   "cell_type": "code",
   "execution_count": 161,
   "id": "103ec7bf",
   "metadata": {},
   "outputs": [
    {
     "data": {
      "text/html": [
       "<div>\n",
       "<style scoped>\n",
       "    .dataframe tbody tr th:only-of-type {\n",
       "        vertical-align: middle;\n",
       "    }\n",
       "\n",
       "    .dataframe tbody tr th {\n",
       "        vertical-align: top;\n",
       "    }\n",
       "\n",
       "    .dataframe thead th {\n",
       "        text-align: right;\n",
       "    }\n",
       "</style>\n",
       "<table border=\"1\" class=\"dataframe\">\n",
       "  <thead>\n",
       "    <tr style=\"text-align: right;\">\n",
       "      <th></th>\n",
       "      <th>trip_id</th>\n",
       "      <th>end_time</th>\n",
       "      <th>bikeid</th>\n",
       "      <th>tripduration</th>\n",
       "      <th>from_station_id</th>\n",
       "      <th>from_station_name</th>\n",
       "      <th>to_station_id</th>\n",
       "      <th>to_station_name</th>\n",
       "      <th>usertype</th>\n",
       "      <th>gender</th>\n",
       "      <th>birthyear</th>\n",
       "      <th>day</th>\n",
       "      <th>is_working_day</th>\n",
       "    </tr>\n",
       "    <tr>\n",
       "      <th>start_time</th>\n",
       "      <th></th>\n",
       "      <th></th>\n",
       "      <th></th>\n",
       "      <th></th>\n",
       "      <th></th>\n",
       "      <th></th>\n",
       "      <th></th>\n",
       "      <th></th>\n",
       "      <th></th>\n",
       "      <th></th>\n",
       "      <th></th>\n",
       "      <th></th>\n",
       "      <th></th>\n",
       "    </tr>\n",
       "  </thead>\n",
       "  <tbody>\n",
       "    <tr>\n",
       "      <th>2018-06-01 00:04:40</th>\n",
       "      <td>18709077</td>\n",
       "      <td>2018-06-01 00:06:47</td>\n",
       "      <td>3155</td>\n",
       "      <td>127.0</td>\n",
       "      <td>128</td>\n",
       "      <td>Damen Ave &amp; Chicago Ave</td>\n",
       "      <td>214</td>\n",
       "      <td>Damen Ave &amp; Grand Ave</td>\n",
       "      <td>Subscriber</td>\n",
       "      <td>Female</td>\n",
       "      <td>1978.0</td>\n",
       "      <td>Friday</td>\n",
       "      <td>1</td>\n",
       "    </tr>\n",
       "    <tr>\n",
       "      <th>2018-06-01 00:06:08</th>\n",
       "      <td>18709080</td>\n",
       "      <td>2018-06-01 00:24:18</td>\n",
       "      <td>2807</td>\n",
       "      <td>1,090.0</td>\n",
       "      <td>258</td>\n",
       "      <td>Logan Blvd &amp; Elston Ave</td>\n",
       "      <td>69</td>\n",
       "      <td>Damen Ave &amp; Pierce Ave</td>\n",
       "      <td>Customer</td>\n",
       "      <td>NaN</td>\n",
       "      <td>NaN</td>\n",
       "      <td>Friday</td>\n",
       "      <td>1</td>\n",
       "    </tr>\n",
       "    <tr>\n",
       "      <th>2018-06-01 00:08:01</th>\n",
       "      <td>18709086</td>\n",
       "      <td>2018-06-01 00:32:55</td>\n",
       "      <td>2737</td>\n",
       "      <td>1,494.0</td>\n",
       "      <td>337</td>\n",
       "      <td>Clark St &amp; Chicago Ave</td>\n",
       "      <td>225</td>\n",
       "      <td>Halsted St &amp; Dickens Ave</td>\n",
       "      <td>Customer</td>\n",
       "      <td>Male</td>\n",
       "      <td>1988.0</td>\n",
       "      <td>Friday</td>\n",
       "      <td>1</td>\n",
       "    </tr>\n",
       "    <tr>\n",
       "      <th>2018-06-01 00:09:02</th>\n",
       "      <td>18709091</td>\n",
       "      <td>2018-06-01 00:19:21</td>\n",
       "      <td>6089</td>\n",
       "      <td>619.0</td>\n",
       "      <td>210</td>\n",
       "      <td>Ashland Ave &amp; Division St</td>\n",
       "      <td>56</td>\n",
       "      <td>Desplaines St &amp; Kinzie St</td>\n",
       "      <td>Subscriber</td>\n",
       "      <td>Male</td>\n",
       "      <td>1987.0</td>\n",
       "      <td>Friday</td>\n",
       "      <td>1</td>\n",
       "    </tr>\n",
       "    <tr>\n",
       "      <th>2018-06-01 00:09:28</th>\n",
       "      <td>18709092</td>\n",
       "      <td>2018-06-01 00:14:44</td>\n",
       "      <td>2352</td>\n",
       "      <td>316.0</td>\n",
       "      <td>240</td>\n",
       "      <td>Sheridan Rd &amp; Irving Park Rd</td>\n",
       "      <td>303</td>\n",
       "      <td>Broadway &amp; Cornelia Ave</td>\n",
       "      <td>Subscriber</td>\n",
       "      <td>Male</td>\n",
       "      <td>1997.0</td>\n",
       "      <td>Friday</td>\n",
       "      <td>1</td>\n",
       "    </tr>\n",
       "  </tbody>\n",
       "</table>\n",
       "</div>"
      ],
      "text/plain": [
       "                      trip_id            end_time  bikeid tripduration  \\\n",
       "start_time                                                               \n",
       "2018-06-01 00:04:40  18709077 2018-06-01 00:06:47    3155        127.0   \n",
       "2018-06-01 00:06:08  18709080 2018-06-01 00:24:18    2807      1,090.0   \n",
       "2018-06-01 00:08:01  18709086 2018-06-01 00:32:55    2737      1,494.0   \n",
       "2018-06-01 00:09:02  18709091 2018-06-01 00:19:21    6089        619.0   \n",
       "2018-06-01 00:09:28  18709092 2018-06-01 00:14:44    2352        316.0   \n",
       "\n",
       "                     from_station_id             from_station_name  \\\n",
       "start_time                                                           \n",
       "2018-06-01 00:04:40              128       Damen Ave & Chicago Ave   \n",
       "2018-06-01 00:06:08              258       Logan Blvd & Elston Ave   \n",
       "2018-06-01 00:08:01              337        Clark St & Chicago Ave   \n",
       "2018-06-01 00:09:02              210     Ashland Ave & Division St   \n",
       "2018-06-01 00:09:28              240  Sheridan Rd & Irving Park Rd   \n",
       "\n",
       "                     to_station_id            to_station_name    usertype  \\\n",
       "start_time                                                                  \n",
       "2018-06-01 00:04:40            214      Damen Ave & Grand Ave  Subscriber   \n",
       "2018-06-01 00:06:08             69     Damen Ave & Pierce Ave    Customer   \n",
       "2018-06-01 00:08:01            225   Halsted St & Dickens Ave    Customer   \n",
       "2018-06-01 00:09:02             56  Desplaines St & Kinzie St  Subscriber   \n",
       "2018-06-01 00:09:28            303    Broadway & Cornelia Ave  Subscriber   \n",
       "\n",
       "                     gender  birthyear     day  is_working_day  \n",
       "start_time                                                      \n",
       "2018-06-01 00:04:40  Female     1978.0  Friday               1  \n",
       "2018-06-01 00:06:08     NaN        NaN  Friday               1  \n",
       "2018-06-01 00:08:01    Male     1988.0  Friday               1  \n",
       "2018-06-01 00:09:02    Male     1987.0  Friday               1  \n",
       "2018-06-01 00:09:28    Male     1997.0  Friday               1  "
      ]
     },
     "execution_count": 161,
     "metadata": {},
     "output_type": "execute_result"
    }
   ],
   "source": [
    "bikes_summer.head()"
   ]
  },
  {
   "cell_type": "code",
   "execution_count": 163,
   "id": "7ec50593",
   "metadata": {},
   "outputs": [
    {
     "data": {
      "text/plain": [
       "Streeter Dr & Grand Ave         7614\n",
       "Canal St & Adams St             6142\n",
       "Clinton St & Washington Blvd    4857\n",
       "Clinton St & Madison St         4694\n",
       "Lake Shore Dr & North Blvd      4213\n",
       "                                ... \n",
       "Racine Ave & 61st St               2\n",
       "Laramie Ave & Madison St           2\n",
       "Marion St & South Blvd             1\n",
       "Central Ave & Madison St           1\n",
       "Throop St & 52nd St                1\n",
       "Name: to_station_name, Length: 578, dtype: int64"
      ]
     },
     "execution_count": 163,
     "metadata": {},
     "output_type": "execute_result"
    }
   ],
   "source": [
    "bikes_summer.query('is_working_day == 1') \\\n",
    "            .to_station_name \\\n",
    "            .value_counts()"
   ]
  },
  {
   "cell_type": "code",
   "execution_count": null,
   "id": "be2acc30",
   "metadata": {},
   "outputs": [],
   "source": []
  }
 ],
 "metadata": {
  "kernelspec": {
   "display_name": "Python 3 (ipykernel)",
   "language": "python",
   "name": "python3"
  },
  "language_info": {
   "codemirror_mode": {
    "name": "ipython",
    "version": 3
   },
   "file_extension": ".py",
   "mimetype": "text/x-python",
   "name": "python",
   "nbconvert_exporter": "python",
   "pygments_lexer": "ipython3",
   "version": "3.9.7"
  }
 },
 "nbformat": 4,
 "nbformat_minor": 5
}
