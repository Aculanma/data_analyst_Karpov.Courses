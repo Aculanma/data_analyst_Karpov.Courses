{
 "cells": [
  {
   "cell_type": "markdown",
   "id": "f485f498",
   "metadata": {},
   "source": [
    "## Урок 1. ВВЕДЕНИЕ В ПИТОН И ИНТЕРФЕЙС JUPYTER-NOTEBOOK"
   ]
  },
  {
   "cell_type": "markdown",
   "id": "bf77ec42",
   "metadata": {},
   "source": [
    "#### 1"
   ]
  },
  {
   "cell_type": "markdown",
   "id": "c3360dca",
   "metadata": {},
   "source": [
    "Начнём с простого: сохраните в переменную __age__ произвольный возраст, выраженный целым числом, а в переменную __name__ – какое-нибудь имя в виде строки."
   ]
  },
  {
   "cell_type": "code",
   "execution_count": 5,
   "id": "aa5fe1b4",
   "metadata": {},
   "outputs": [],
   "source": [
    "age = 25\n",
    "name = 'Ildus'"
   ]
  },
  {
   "cell_type": "markdown",
   "id": "396aa654",
   "metadata": {},
   "source": [
    "### 2"
   ]
  },
  {
   "cell_type": "markdown",
   "id": "e64ddc3d",
   "metadata": {},
   "source": [
    "Создайте список __user_info__, содержащий 4 элемента в следующем порядке:\n",
    "\n",
    "· 2 строки (имя и фамилия пользователя)    \n",
    "· 1 дробное число (зарплата)  \n",
    "· 1 целое число (стаж)  "
   ]
  },
  {
   "cell_type": "code",
   "execution_count": 6,
   "id": "4511bd57",
   "metadata": {},
   "outputs": [],
   "source": [
    "user_info = [\"Ildus\", \"Iskhakov\", 61900.0, 1]"
   ]
  },
  {
   "cell_type": "markdown",
   "id": "fac13681",
   "metadata": {},
   "source": [
    "### 3"
   ]
  },
  {
   "cell_type": "markdown",
   "id": "6853ae91",
   "metadata": {},
   "source": [
    "Поместите в переменную __first__ первый (т.е. нулевой) элемент из списка __salaries__."
   ]
  },
  {
   "cell_type": "code",
   "execution_count": null,
   "id": "e04cef87",
   "metadata": {},
   "outputs": [],
   "source": [
    "first = salaries[0]"
   ]
  },
  {
   "cell_type": "markdown",
   "id": "23d78277",
   "metadata": {},
   "source": [
    "### 4"
   ]
  },
  {
   "cell_type": "markdown",
   "id": "4c78564f",
   "metadata": {},
   "source": [
    "Добавьте в уже созданный список __users__ элементы 'Voronov' и 42."
   ]
  },
  {
   "cell_type": "code",
   "execution_count": null,
   "id": "c8d3ec5b",
   "metadata": {},
   "outputs": [],
   "source": [
    "users.append(\"Voronov\")\n",
    "users.append(42)"
   ]
  },
  {
   "cell_type": "markdown",
   "id": "07330191",
   "metadata": {},
   "source": [
    "### 5"
   ]
  },
  {
   "cell_type": "markdown",
   "id": "800a8714",
   "metadata": {},
   "source": [
    "В переменной __user_ages__ содержится список возрастов клиентов. Напишите цикл, выводящий на печать элементы больше 18."
   ]
  },
  {
   "cell_type": "code",
   "execution_count": 22,
   "id": "e0b91459",
   "metadata": {
    "collapsed": true
   },
   "outputs": [
    {
     "name": "stdout",
     "output_type": "stream",
     "text": [
      "35\n",
      "26\n",
      "22\n",
      "44\n",
      "31\n"
     ]
    }
   ],
   "source": [
    "user_ages = [17, 35, 26, 16, 22, 44, 31]\n",
    "\n",
    "for i in user_ages:\n",
    "    if 18 < i:\n",
    "        print(i)"
   ]
  },
  {
   "cell_type": "markdown",
   "id": "7e594dcb",
   "metadata": {},
   "source": [
    "### 6"
   ]
  },
  {
   "cell_type": "markdown",
   "id": "cdf0541e",
   "metadata": {},
   "source": [
    "Напишите программу, проверяющую стаж работы сотрудника. В переменной __worker__ уже содержится список, содержащий значения как во 2-м задании (имя, фамилия, зарплата, стаж). Поместите в переменную status следующую строку:\n",
    "\n",
    "__user_name user_family__ is __position__\n",
    "\n",
    "где __user_name__ и __user_family__ — имя и фамилия сотрудника, а __position__ — одно из следующих значений:\n",
    "\n",
    "'junior' — стаж меньше 2 лет  \n",
    "'middle' — стаж больше либо равен 2 лет и меньше или равен 5  \n",
    "'senior' — стаж больше 5 лет "
   ]
  },
  {
   "cell_type": "code",
   "execution_count": 23,
   "id": "e7c92c50",
   "metadata": {},
   "outputs": [],
   "source": [
    "worker = ['Olya', 'Silyutina', 350000, 3]\n",
    "\n",
    "if worker[3] < 2:\n",
    "    status = 'junior'\n",
    "elif 2 <= worker[3] <= 5: \n",
    "    status = 'middle'   \n",
    "else:\n",
    "    status = 'senior'\n",
    "status = f\"{worker[0]} {worker[1]} is {status}\""
   ]
  },
  {
   "cell_type": "markdown",
   "id": "4a8d7752",
   "metadata": {},
   "source": [
    "### 7"
   ]
  },
  {
   "cell_type": "markdown",
   "id": "95fc05aa",
   "metadata": {},
   "source": [
    "В списке __values__ содержатся числовые значения. Создайте список __tens__ и добавьте в него все числа из __values__, которые делятся на 10 нацело."
   ]
  },
  {
   "cell_type": "code",
   "execution_count": 25,
   "id": "8aa73285",
   "metadata": {},
   "outputs": [],
   "source": [
    "values = [145, 30, 65, 100, 22, 47, 50]\n",
    "\n",
    "tens = []\n",
    "for i in values:\n",
    "    if i % 10 == 0:\n",
    "        tens.append(i)"
   ]
  },
  {
   "cell_type": "markdown",
   "id": "997c7308",
   "metadata": {},
   "source": [
    "### ★ 8"
   ]
  },
  {
   "cell_type": "markdown",
   "id": "0a674d37",
   "metadata": {},
   "source": [
    "Реализуйте цикл, который пробегается по уже созданному списку __workers__ со значениями как в 2-м и 6-м заданиях и выводит для каждого сотрудника следующую строку (то есть печатает её для каждого элемента списка):\n",
    "\n",
    "__user_name user_family__ is __position__\n",
    "\n",
    "где __user_name__ и __user_family__ — имя и фамилия сотрудника, а __position__ — одна из следующих строк:  \n",
    "\n",
    "'junior' — стаж меньше 2 лет  \n",
    "'middle' — стаж больше либо равен 2 и меньше или равен 5  \n",
    "'senior' — стаж строго больше 5 лет"
   ]
  },
  {
   "cell_type": "code",
   "execution_count": 27,
   "id": "ea21c2f9",
   "metadata": {
    "collapsed": true
   },
   "outputs": [
    {
     "name": "stdout",
     "output_type": "stream",
     "text": [
      "Olya Silyutina is middle\n",
      "Ildus Dobro is middle\n",
      "George Khop is senior\n"
     ]
    }
   ],
   "source": [
    "workers = [['Olya', 'Silyutina', 350000, 3], ['Ildus', 'Dobro', 99999, 2], ['George', 'Khop', 400000, 8]]\n",
    "\n",
    "for worker in workers:\n",
    "    user_name, user_family = worker[:2]\n",
    "    experience = worker[-1]\n",
    "    if experience < 2:\n",
    "        grade = 'junior'\n",
    "    elif 2 <= experience <= 5:\n",
    "        grade = 'middle'\n",
    "    else:\n",
    "        grade = 'senior'\n",
    "    status = f'{user_name} {user_family} is {grade}'\n",
    "    print(status)"
   ]
  },
  {
   "cell_type": "markdown",
   "id": "af2415fe",
   "metadata": {},
   "source": [
    "### ★ 9 "
   ]
  },
  {
   "cell_type": "markdown",
   "id": "6ef69543",
   "metadata": {},
   "source": [
    "Поместите в список __lst__ числа от 0 (n = 0) до 10 включительно (N = 10) c шагом 2 (dn = 2). Для этого используйте условие while."
   ]
  },
  {
   "cell_type": "code",
   "execution_count": 37,
   "id": "e6fb9c36",
   "metadata": {},
   "outputs": [
    {
     "data": {
      "text/plain": [
       "[0, 2, 4, 6, 8, 10]"
      ]
     },
     "execution_count": 37,
     "metadata": {},
     "output_type": "execute_result"
    }
   ],
   "source": [
    "d = 0\n",
    "N = 10\n",
    "dn = 2\n",
    "\n",
    "lst = []\n",
    "while d <= N:\n",
    "    lst.append(d)\n",
    "    d += dn\n",
    "lst"
   ]
  },
  {
   "cell_type": "markdown",
   "id": "1164d5db",
   "metadata": {},
   "source": [
    "### 10"
   ]
  },
  {
   "cell_type": "markdown",
   "id": "4aa4425b",
   "metadata": {},
   "source": [
    "На предыдущих шагах вы сталкивались с различными характеристиками пользователей, которые были сохранены в списках. Теперь попробуем собрать нужную информацию в словарь!\n",
    "\n",
    "Начнем с небольшого, где:  \n",
    "\n",
    "· ключом будет название характеристики    \n",
    "· значением – её значение   \n",
    "\n",
    "В словарь поместите следующую информацию:  \n",
    "    name - Masha    \n",
    "    surname - Volkova  \n",
    "    age - 25    \n",
    "    salary - 60000  \n",
    "    position - junior"
   ]
  },
  {
   "cell_type": "code",
   "execution_count": null,
   "id": "98a6252f",
   "metadata": {},
   "outputs": [],
   "source": [
    "salaries_dict = {\n",
    "    \"name\": \"Masha\",\n",
    "    \"surname\": \"Volkova\", \n",
    "    \"age\": 25, \n",
    "    \"salary\": 60000, \n",
    "    \"position\": \"junior\"\n",
    "}"
   ]
  },
  {
   "cell_type": "markdown",
   "id": "73110ab6",
   "metadata": {},
   "source": [
    "### 11"
   ]
  },
  {
   "cell_type": "markdown",
   "id": "4f57ea39",
   "metadata": {},
   "source": [
    "Теперь усложним задачу. Создайте словарь, где:\n",
    "\n",
    "· Ключом будет логин пользователя (login)  \n",
    "· В качестве значения – словарь с характеристиками (как на предыдущем шаге) для этого пользователя"
   ]
  },
  {
   "attachments": {
    "image.png": {
     "image/png": "[encoded data removed]"
    }
   },
   "cell_type": "markdown",
   "id": "0babf066",
   "metadata": {},
   "source": [
    "![image.png](attachment:image.png)"
   ]
  },
  {
   "cell_type": "code",
   "execution_count": 39,
   "id": "f65b0a11",
   "metadata": {},
   "outputs": [],
   "source": [
    "users_dict = {\n",
    "    \"mvolkova\": {\"name\": \"Masha\",\n",
    "                 \"surname\": \"Volkova\",\n",
    "                 \"age\": 25,\n",
    "                 \"salary\": 60000,\n",
    "                 \"position\": \"junior\"\n",
    "                }, \n",
    "    \"pvoronov\": {\"name\": \"Peter\", \n",
    "                 \"surname\": \"Voronov\", \n",
    "                 \"age\": 27, \n",
    "                 \"salary\": 100000, \n",
    "                 \"position\": \"junior\"},\n",
    "    \"pparker\": {\"name\": \"Peter\", \n",
    "                \"surname\": \"Parker\", \n",
    "                \"age\": 35, \n",
    "                \"salary\": 150000, \n",
    "                \"position\": \"middle\"}, \n",
    "    \"akarpov\": {\"name\": \"Anatoly\", \n",
    "                \"surname\": \"Karpov\", \n",
    "                \"age\": 30, \n",
    "                \"salary\": 250000, \n",
    "                \"position\": \"senior\"}\n",
    "}"
   ]
  }
 ],
 "metadata": {
  "kernelspec": {
   "display_name": "Python 3 (ipykernel)",
   "language": "python",
   "name": "python3"
  },
  "language_info": {
   "codemirror_mode": {
    "name": "ipython",
    "version": 3
   },
   "file_extension": ".py",
   "mimetype": "text/x-python",
   "name": "python",
   "nbconvert_exporter": "python",
   "pygments_lexer": "ipython3",
   "version": "3.9.7"
  }
 },
 "nbformat": 4,
 "nbformat_minor": 5
}
