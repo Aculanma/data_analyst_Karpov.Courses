{
 "cells": [
  {
   "cell_type": "markdown",
   "metadata": {},
   "source": [
    "# Финальный проект"
   ]
  },
  {
   "cell_type": "markdown",
   "metadata": {},
   "source": [
    "Импортируем необходимые для работы библиотеки:"
   ]
  },
  {
   "cell_type": "code",
   "execution_count": 1,
   "metadata": {},
   "outputs": [],
   "source": [
    "import pandas as pd\n",
    "import numpy as np\n",
    "import seaborn as sns\n",
    "from scipy import stats\n",
    "from tqdm.auto import tqdm\n",
    "from scipy.stats import norm\n",
    "import matplotlib.pyplot as plt\n",
    "import pandahouse as ph"
   ]
  },
  {
   "cell_type": "markdown",
   "metadata": {},
   "source": [
    "## Задание 1. A/B–тестирование\n",
    "#### 1.1 Условие "
   ]
  },
  {
   "cell_type": "markdown",
   "metadata": {},
   "source": [
    "Одной из основных задач аналитика в нашей команде является корректное проведение экспериментов. Для этого мы применяем метод A/B–тестирования. В ходе тестирования одной гипотезы целевой группе была предложена новая механика оплаты услуг на сайте, у контрольной группы оставалась базовая механика. В качестве задания Вам необходимо проанализировать итоги эксперимента и сделать вывод, стоит ли запускать новую механику оплаты на всех пользователей."
   ]
  },
  {
   "cell_type": "markdown",
   "metadata": {},
   "source": [
    "#### 1.2 Входные данные"
   ]
  },
  {
   "cell_type": "markdown",
   "metadata": {},
   "source": [
    "Имеем 4 csv-файла:"
   ]
  },
  {
   "cell_type": "code",
   "execution_count": 31,
   "metadata": {},
   "outputs": [],
   "source": [
    "groups       = pd.read_csv('groups.csv', sep=';') # - таблица о принадлежности пользователя к контрольной или экспериментальной\n",
    "                                                  #   группе (А – контроль, B – целевая группа); \n",
    "group_add    = pd.read_csv('group_add.csv')       # - таблица с пользователями, которую вам прислали спустя 2 дня после передачи\n",
    "                                                  #   данных;\n",
    "active_studs = pd.read_csv('active_studs.csv')    # - таблица с информацией о пользователях, которые зашли на платформу в \n",
    "                                                  #   дни проведения эксперимента;\n",
    "checks       = pd.read_csv('checks.csv', sep=';') # - таблица с информацией об оплатах пользователей в дни проведения                                              \n",
    "                                                  #   эксперимента. "
   ]
  },
  {
   "cell_type": "markdown",
   "metadata": {},
   "source": [
    "#### 1.3 Вопросы"
   ]
  },
  {
   "cell_type": "markdown",
   "metadata": {},
   "source": [
    "__Проведем развездывательный анализ:__"
   ]
  },
  {
   "cell_type": "markdown",
   "metadata": {},
   "source": [
    "Посмотрим на типы данных, пропуски и наполнение таблиц:"
   ]
  },
  {
   "cell_type": "code",
   "execution_count": 85,
   "metadata": {},
   "outputs": [
    {
     "name": "stdout",
     "output_type": "stream",
     "text": [
      "<class 'pandas.core.frame.DataFrame'>\n",
      "RangeIndex: 74484 entries, 0 to 74483\n",
      "Data columns (total 2 columns):\n",
      " #   Column  Non-Null Count  Dtype \n",
      "---  ------  --------------  ----- \n",
      " 0   id      74484 non-null  int64 \n",
      " 1   grp     74484 non-null  object\n",
      "dtypes: int64(1), object(1)\n",
      "memory usage: 1.1+ MB\n"
     ]
    }
   ],
   "source": [
    "groups.info()"
   ]
  },
  {
   "cell_type": "code",
   "execution_count": 86,
   "metadata": {},
   "outputs": [
    {
     "data": {
      "text/html": [
       "<div>\n",
       "<style scoped>\n",
       "    .dataframe tbody tr th:only-of-type {\n",
       "        vertical-align: middle;\n",
       "    }\n",
       "\n",
       "    .dataframe tbody tr th {\n",
       "        vertical-align: top;\n",
       "    }\n",
       "\n",
       "    .dataframe thead th {\n",
       "        text-align: right;\n",
       "    }\n",
       "</style>\n",
       "<table border=\"1\" class=\"dataframe\">\n",
       "  <thead>\n",
       "    <tr style=\"text-align: right;\">\n",
       "      <th></th>\n",
       "      <th>id</th>\n",
       "      <th>grp</th>\n",
       "    </tr>\n",
       "  </thead>\n",
       "  <tbody>\n",
       "    <tr>\n",
       "      <th>0</th>\n",
       "      <td>1489</td>\n",
       "      <td>B</td>\n",
       "    </tr>\n",
       "    <tr>\n",
       "      <th>1</th>\n",
       "      <td>1627</td>\n",
       "      <td>A</td>\n",
       "    </tr>\n",
       "    <tr>\n",
       "      <th>2</th>\n",
       "      <td>1768</td>\n",
       "      <td>B</td>\n",
       "    </tr>\n",
       "  </tbody>\n",
       "</table>\n",
       "</div>"
      ],
      "text/plain": [
       "     id grp\n",
       "0  1489   B\n",
       "1  1627   A\n",
       "2  1768   B"
      ]
     },
     "execution_count": 86,
     "metadata": {},
     "output_type": "execute_result"
    }
   ],
   "source": [
    "groups.head(3)"
   ]
  },
  {
   "cell_type": "code",
   "execution_count": 87,
   "metadata": {},
   "outputs": [
    {
     "name": "stdout",
     "output_type": "stream",
     "text": [
      "<class 'pandas.core.frame.DataFrame'>\n",
      "RangeIndex: 92 entries, 0 to 91\n",
      "Data columns (total 2 columns):\n",
      " #   Column  Non-Null Count  Dtype \n",
      "---  ------  --------------  ----- \n",
      " 0   id      92 non-null     int64 \n",
      " 1   grp     92 non-null     object\n",
      "dtypes: int64(1), object(1)\n",
      "memory usage: 1.6+ KB\n"
     ]
    }
   ],
   "source": [
    "group_add.info()"
   ]
  },
  {
   "cell_type": "code",
   "execution_count": 142,
   "metadata": {},
   "outputs": [
    {
     "data": {
      "text/html": [
       "<div>\n",
       "<style scoped>\n",
       "    .dataframe tbody tr th:only-of-type {\n",
       "        vertical-align: middle;\n",
       "    }\n",
       "\n",
       "    .dataframe tbody tr th {\n",
       "        vertical-align: top;\n",
       "    }\n",
       "\n",
       "    .dataframe thead th {\n",
       "        text-align: right;\n",
       "    }\n",
       "</style>\n",
       "<table border=\"1\" class=\"dataframe\">\n",
       "  <thead>\n",
       "    <tr style=\"text-align: right;\">\n",
       "      <th></th>\n",
       "      <th>id</th>\n",
       "      <th>grp</th>\n",
       "    </tr>\n",
       "  </thead>\n",
       "  <tbody>\n",
       "    <tr>\n",
       "      <th>0</th>\n",
       "      <td>5694584</td>\n",
       "      <td>B</td>\n",
       "    </tr>\n",
       "    <tr>\n",
       "      <th>1</th>\n",
       "      <td>5694830</td>\n",
       "      <td>B</td>\n",
       "    </tr>\n",
       "    <tr>\n",
       "      <th>2</th>\n",
       "      <td>5695057</td>\n",
       "      <td>B</td>\n",
       "    </tr>\n",
       "  </tbody>\n",
       "</table>\n",
       "</div>"
      ],
      "text/plain": [
       "        id grp\n",
       "0  5694584   B\n",
       "1  5694830   B\n",
       "2  5695057   B"
      ]
     },
     "execution_count": 142,
     "metadata": {},
     "output_type": "execute_result"
    }
   ],
   "source": [
    "group_add.head(3)"
   ]
  },
  {
   "cell_type": "code",
   "execution_count": 143,
   "metadata": {},
   "outputs": [
    {
     "name": "stdout",
     "output_type": "stream",
     "text": [
      "<class 'pandas.core.frame.DataFrame'>\n",
      "RangeIndex: 8341 entries, 0 to 8340\n",
      "Data columns (total 1 columns):\n",
      " #   Column      Non-Null Count  Dtype\n",
      "---  ------      --------------  -----\n",
      " 0   student_id  8341 non-null   int64\n",
      "dtypes: int64(1)\n",
      "memory usage: 65.3 KB\n"
     ]
    }
   ],
   "source": [
    "active_studs.info()"
   ]
  },
  {
   "cell_type": "code",
   "execution_count": 144,
   "metadata": {},
   "outputs": [
    {
     "data": {
      "text/html": [
       "<div>\n",
       "<style scoped>\n",
       "    .dataframe tbody tr th:only-of-type {\n",
       "        vertical-align: middle;\n",
       "    }\n",
       "\n",
       "    .dataframe tbody tr th {\n",
       "        vertical-align: top;\n",
       "    }\n",
       "\n",
       "    .dataframe thead th {\n",
       "        text-align: right;\n",
       "    }\n",
       "</style>\n",
       "<table border=\"1\" class=\"dataframe\">\n",
       "  <thead>\n",
       "    <tr style=\"text-align: right;\">\n",
       "      <th></th>\n",
       "      <th>student_id</th>\n",
       "    </tr>\n",
       "  </thead>\n",
       "  <tbody>\n",
       "    <tr>\n",
       "      <th>0</th>\n",
       "      <td>581585</td>\n",
       "    </tr>\n",
       "    <tr>\n",
       "      <th>1</th>\n",
       "      <td>5723133</td>\n",
       "    </tr>\n",
       "    <tr>\n",
       "      <th>2</th>\n",
       "      <td>3276743</td>\n",
       "    </tr>\n",
       "  </tbody>\n",
       "</table>\n",
       "</div>"
      ],
      "text/plain": [
       "   student_id\n",
       "0      581585\n",
       "1     5723133\n",
       "2     3276743"
      ]
     },
     "execution_count": 144,
     "metadata": {},
     "output_type": "execute_result"
    }
   ],
   "source": [
    "active_studs.head(3)"
   ]
  },
  {
   "cell_type": "code",
   "execution_count": 91,
   "metadata": {},
   "outputs": [
    {
     "name": "stdout",
     "output_type": "stream",
     "text": [
      "<class 'pandas.core.frame.DataFrame'>\n",
      "RangeIndex: 541 entries, 0 to 540\n",
      "Data columns (total 2 columns):\n",
      " #   Column      Non-Null Count  Dtype  \n",
      "---  ------      --------------  -----  \n",
      " 0   student_id  541 non-null    int64  \n",
      " 1   rev         541 non-null    float64\n",
      "dtypes: float64(1), int64(1)\n",
      "memory usage: 8.6 KB\n"
     ]
    }
   ],
   "source": [
    "checks.info()"
   ]
  },
  {
   "cell_type": "code",
   "execution_count": 92,
   "metadata": {},
   "outputs": [
    {
     "data": {
      "text/html": [
       "<div>\n",
       "<style scoped>\n",
       "    .dataframe tbody tr th:only-of-type {\n",
       "        vertical-align: middle;\n",
       "    }\n",
       "\n",
       "    .dataframe tbody tr th {\n",
       "        vertical-align: top;\n",
       "    }\n",
       "\n",
       "    .dataframe thead th {\n",
       "        text-align: right;\n",
       "    }\n",
       "</style>\n",
       "<table border=\"1\" class=\"dataframe\">\n",
       "  <thead>\n",
       "    <tr style=\"text-align: right;\">\n",
       "      <th></th>\n",
       "      <th>student_id</th>\n",
       "      <th>rev</th>\n",
       "    </tr>\n",
       "  </thead>\n",
       "  <tbody>\n",
       "    <tr>\n",
       "      <th>0</th>\n",
       "      <td>1627</td>\n",
       "      <td>990.0</td>\n",
       "    </tr>\n",
       "    <tr>\n",
       "      <th>1</th>\n",
       "      <td>3185</td>\n",
       "      <td>690.0</td>\n",
       "    </tr>\n",
       "    <tr>\n",
       "      <th>2</th>\n",
       "      <td>25973</td>\n",
       "      <td>690.0</td>\n",
       "    </tr>\n",
       "  </tbody>\n",
       "</table>\n",
       "</div>"
      ],
      "text/plain": [
       "   student_id    rev\n",
       "0        1627  990.0\n",
       "1        3185  690.0\n",
       "2       25973  690.0"
      ]
     },
     "execution_count": 92,
     "metadata": {},
     "output_type": "execute_result"
    }
   ],
   "source": [
    "checks.head(3)"
   ]
  },
  {
   "cell_type": "markdown",
   "metadata": {},
   "source": [
    "Доболним таблицу с пользователями наших групп с новыми пользователями, добавленными спустя 2 дня после передачи данных: "
   ]
  },
  {
   "cell_type": "code",
   "execution_count": 32,
   "metadata": {},
   "outputs": [],
   "source": [
    "all_students = pd.concat([groups, group_add]).reset_index(drop=True)"
   ]
  },
  {
   "cell_type": "code",
   "execution_count": 33,
   "metadata": {},
   "outputs": [
    {
     "data": {
      "text/html": [
       "<div>\n",
       "<style scoped>\n",
       "    .dataframe tbody tr th:only-of-type {\n",
       "        vertical-align: middle;\n",
       "    }\n",
       "\n",
       "    .dataframe tbody tr th {\n",
       "        vertical-align: top;\n",
       "    }\n",
       "\n",
       "    .dataframe thead th {\n",
       "        text-align: right;\n",
       "    }\n",
       "</style>\n",
       "<table border=\"1\" class=\"dataframe\">\n",
       "  <thead>\n",
       "    <tr style=\"text-align: right;\">\n",
       "      <th></th>\n",
       "      <th>id</th>\n",
       "      <th>grp</th>\n",
       "    </tr>\n",
       "  </thead>\n",
       "  <tbody>\n",
       "    <tr>\n",
       "      <th>0</th>\n",
       "      <td>1489</td>\n",
       "      <td>B</td>\n",
       "    </tr>\n",
       "    <tr>\n",
       "      <th>1</th>\n",
       "      <td>1627</td>\n",
       "      <td>A</td>\n",
       "    </tr>\n",
       "    <tr>\n",
       "      <th>2</th>\n",
       "      <td>1768</td>\n",
       "      <td>B</td>\n",
       "    </tr>\n",
       "    <tr>\n",
       "      <th>3</th>\n",
       "      <td>1783</td>\n",
       "      <td>B</td>\n",
       "    </tr>\n",
       "    <tr>\n",
       "      <th>4</th>\n",
       "      <td>1794</td>\n",
       "      <td>A</td>\n",
       "    </tr>\n",
       "    <tr>\n",
       "      <th>...</th>\n",
       "      <td>...</td>\n",
       "      <td>...</td>\n",
       "    </tr>\n",
       "    <tr>\n",
       "      <th>74571</th>\n",
       "      <td>200247820</td>\n",
       "      <td>B</td>\n",
       "    </tr>\n",
       "    <tr>\n",
       "      <th>74572</th>\n",
       "      <td>201032527</td>\n",
       "      <td>B</td>\n",
       "    </tr>\n",
       "    <tr>\n",
       "      <th>74573</th>\n",
       "      <td>201067612</td>\n",
       "      <td>B</td>\n",
       "    </tr>\n",
       "    <tr>\n",
       "      <th>74574</th>\n",
       "      <td>201067653</td>\n",
       "      <td>B</td>\n",
       "    </tr>\n",
       "    <tr>\n",
       "      <th>74575</th>\n",
       "      <td>201067659</td>\n",
       "      <td>B</td>\n",
       "    </tr>\n",
       "  </tbody>\n",
       "</table>\n",
       "<p>74576 rows × 2 columns</p>\n",
       "</div>"
      ],
      "text/plain": [
       "              id grp\n",
       "0           1489   B\n",
       "1           1627   A\n",
       "2           1768   B\n",
       "3           1783   B\n",
       "4           1794   A\n",
       "...          ...  ..\n",
       "74571  200247820   B\n",
       "74572  201032527   B\n",
       "74573  201067612   B\n",
       "74574  201067653   B\n",
       "74575  201067659   B\n",
       "\n",
       "[74576 rows x 2 columns]"
      ]
     },
     "execution_count": 33,
     "metadata": {},
     "output_type": "execute_result"
    }
   ],
   "source": [
    "all_students"
   ]
  },
  {
   "cell_type": "markdown",
   "metadata": {},
   "source": [
    "Проверим полученный датасет на дубликаты:"
   ]
  },
  {
   "cell_type": "code",
   "execution_count": 34,
   "metadata": {},
   "outputs": [
    {
     "name": "stdout",
     "output_type": "stream",
     "text": [
      "Дубликатов в полученном датасете: 0\n"
     ]
    }
   ],
   "source": [
    "print(f'Дубликатов в полученном датасете: {all_students.duplicated().sum()}')"
   ]
  },
  {
   "cell_type": "markdown",
   "metadata": {},
   "source": [
    "Посмотрим на активных пользователей и их наличие в датасете, где происходило деление по группам:"
   ]
  },
  {
   "cell_type": "code",
   "execution_count": 35,
   "metadata": {},
   "outputs": [],
   "source": [
    "all_students = all_students.rename(columns={'id': 'student_id'})"
   ]
  },
  {
   "cell_type": "code",
   "execution_count": 36,
   "metadata": {},
   "outputs": [],
   "source": [
    "search1 = all_students.merge(active_studs, on='student_id', how='inner')"
   ]
  },
  {
   "cell_type": "code",
   "execution_count": 37,
   "metadata": {},
   "outputs": [
    {
     "data": {
      "text/plain": [
       "True"
      ]
     },
     "execution_count": 37,
     "metadata": {},
     "output_type": "execute_result"
    }
   ],
   "source": [
    "search1.shape[0] == active_studs.shape[0]"
   ]
  },
  {
   "cell_type": "markdown",
   "metadata": {},
   "source": [
    "Посмотрим на активных пользователей и тех, кто совершил попупку:"
   ]
  },
  {
   "cell_type": "code",
   "execution_count": 38,
   "metadata": {},
   "outputs": [],
   "source": [
    "search2 = active_studs.merge(checks, on='student_id', how='left')"
   ]
  },
  {
   "cell_type": "code",
   "execution_count": 39,
   "metadata": {},
   "outputs": [
    {
     "data": {
      "text/html": [
       "<div>\n",
       "<style scoped>\n",
       "    .dataframe tbody tr th:only-of-type {\n",
       "        vertical-align: middle;\n",
       "    }\n",
       "\n",
       "    .dataframe tbody tr th {\n",
       "        vertical-align: top;\n",
       "    }\n",
       "\n",
       "    .dataframe thead th {\n",
       "        text-align: right;\n",
       "    }\n",
       "</style>\n",
       "<table border=\"1\" class=\"dataframe\">\n",
       "  <thead>\n",
       "    <tr style=\"text-align: right;\">\n",
       "      <th></th>\n",
       "      <th>student_id</th>\n",
       "      <th>rev</th>\n",
       "    </tr>\n",
       "  </thead>\n",
       "  <tbody>\n",
       "    <tr>\n",
       "      <th>0</th>\n",
       "      <td>581585</td>\n",
       "      <td>NaN</td>\n",
       "    </tr>\n",
       "    <tr>\n",
       "      <th>1</th>\n",
       "      <td>5723133</td>\n",
       "      <td>NaN</td>\n",
       "    </tr>\n",
       "    <tr>\n",
       "      <th>2</th>\n",
       "      <td>3276743</td>\n",
       "      <td>NaN</td>\n",
       "    </tr>\n",
       "    <tr>\n",
       "      <th>3</th>\n",
       "      <td>4238589</td>\n",
       "      <td>NaN</td>\n",
       "    </tr>\n",
       "    <tr>\n",
       "      <th>4</th>\n",
       "      <td>4475369</td>\n",
       "      <td>NaN</td>\n",
       "    </tr>\n",
       "    <tr>\n",
       "      <th>...</th>\n",
       "      <td>...</td>\n",
       "      <td>...</td>\n",
       "    </tr>\n",
       "    <tr>\n",
       "      <th>8336</th>\n",
       "      <td>1794344</td>\n",
       "      <td>NaN</td>\n",
       "    </tr>\n",
       "    <tr>\n",
       "      <th>8337</th>\n",
       "      <td>296883</td>\n",
       "      <td>NaN</td>\n",
       "    </tr>\n",
       "    <tr>\n",
       "      <th>8338</th>\n",
       "      <td>3598448</td>\n",
       "      <td>NaN</td>\n",
       "    </tr>\n",
       "    <tr>\n",
       "      <th>8339</th>\n",
       "      <td>3610547</td>\n",
       "      <td>290.0</td>\n",
       "    </tr>\n",
       "    <tr>\n",
       "      <th>8340</th>\n",
       "      <td>205705</td>\n",
       "      <td>NaN</td>\n",
       "    </tr>\n",
       "  </tbody>\n",
       "</table>\n",
       "<p>8341 rows × 2 columns</p>\n",
       "</div>"
      ],
      "text/plain": [
       "      student_id    rev\n",
       "0         581585    NaN\n",
       "1        5723133    NaN\n",
       "2        3276743    NaN\n",
       "3        4238589    NaN\n",
       "4        4475369    NaN\n",
       "...          ...    ...\n",
       "8336     1794344    NaN\n",
       "8337      296883    NaN\n",
       "8338     3598448    NaN\n",
       "8339     3610547  290.0\n",
       "8340      205705    NaN\n",
       "\n",
       "[8341 rows x 2 columns]"
      ]
     },
     "execution_count": 39,
     "metadata": {},
     "output_type": "execute_result"
    }
   ],
   "source": [
    "search2"
   ]
  },
  {
   "cell_type": "code",
   "execution_count": 40,
   "metadata": {},
   "outputs": [],
   "source": [
    "not_in_groups = checks.shape[0] - search2.query('rev != \"NaN\"').shape[0]"
   ]
  },
  {
   "cell_type": "code",
   "execution_count": 41,
   "metadata": {},
   "outputs": [
    {
     "data": {
      "text/plain": [
       "149"
      ]
     },
     "execution_count": 41,
     "metadata": {},
     "output_type": "execute_result"
    }
   ],
   "source": [
    "not_in_groups"
   ]
  },
  {
   "cell_type": "code",
   "execution_count": 42,
   "metadata": {},
   "outputs": [
    {
     "name": "stdout",
     "output_type": "stream",
     "text": [
      "149 пользователей купили услугу, но по неизвестной причине не оказались среди активных пользователей и среди наших выборочных групп. Данная ситуация при работе требовала бы разбирательства.\n"
     ]
    }
   ],
   "source": [
    "print(f'{not_in_groups} пользователей купили услугу, но по неизвестной причине не оказались среди активных пользователей \\\n",
    "и среди наших выборочных групп. Данная ситуация при работе требовала бы разбирательства.')"
   ]
  },
  {
   "cell_type": "markdown",
   "metadata": {},
   "source": [
    "Пользователи, которые купили услугу и есть в таблице активных:"
   ]
  },
  {
   "cell_type": "code",
   "execution_count": 43,
   "metadata": {},
   "outputs": [],
   "source": [
    "checks_filtered = checks.merge(active_studs, on='student_id', how='inner')"
   ]
  },
  {
   "cell_type": "code",
   "execution_count": 44,
   "metadata": {},
   "outputs": [
    {
     "data": {
      "text/html": [
       "<div>\n",
       "<style scoped>\n",
       "    .dataframe tbody tr th:only-of-type {\n",
       "        vertical-align: middle;\n",
       "    }\n",
       "\n",
       "    .dataframe tbody tr th {\n",
       "        vertical-align: top;\n",
       "    }\n",
       "\n",
       "    .dataframe thead th {\n",
       "        text-align: right;\n",
       "    }\n",
       "</style>\n",
       "<table border=\"1\" class=\"dataframe\">\n",
       "  <thead>\n",
       "    <tr style=\"text-align: right;\">\n",
       "      <th></th>\n",
       "      <th>student_id</th>\n",
       "      <th>rev</th>\n",
       "    </tr>\n",
       "  </thead>\n",
       "  <tbody>\n",
       "    <tr>\n",
       "      <th>0</th>\n",
       "      <td>1627</td>\n",
       "      <td>990.0000</td>\n",
       "    </tr>\n",
       "    <tr>\n",
       "      <th>1</th>\n",
       "      <td>100300</td>\n",
       "      <td>990.0000</td>\n",
       "    </tr>\n",
       "    <tr>\n",
       "      <th>2</th>\n",
       "      <td>108270</td>\n",
       "      <td>290.0000</td>\n",
       "    </tr>\n",
       "    <tr>\n",
       "      <th>3</th>\n",
       "      <td>264473</td>\n",
       "      <td>1900.0001</td>\n",
       "    </tr>\n",
       "    <tr>\n",
       "      <th>4</th>\n",
       "      <td>274352</td>\n",
       "      <td>690.0000</td>\n",
       "    </tr>\n",
       "    <tr>\n",
       "      <th>...</th>\n",
       "      <td>...</td>\n",
       "      <td>...</td>\n",
       "    </tr>\n",
       "    <tr>\n",
       "      <th>387</th>\n",
       "      <td>5645737</td>\n",
       "      <td>1900.0000</td>\n",
       "    </tr>\n",
       "    <tr>\n",
       "      <th>388</th>\n",
       "      <td>5651566</td>\n",
       "      <td>1900.0000</td>\n",
       "    </tr>\n",
       "    <tr>\n",
       "      <th>389</th>\n",
       "      <td>5662322</td>\n",
       "      <td>1900.0000</td>\n",
       "    </tr>\n",
       "    <tr>\n",
       "      <th>390</th>\n",
       "      <td>5681918</td>\n",
       "      <td>1900.0000</td>\n",
       "    </tr>\n",
       "    <tr>\n",
       "      <th>391</th>\n",
       "      <td>5740903</td>\n",
       "      <td>1900.0000</td>\n",
       "    </tr>\n",
       "  </tbody>\n",
       "</table>\n",
       "<p>392 rows × 2 columns</p>\n",
       "</div>"
      ],
      "text/plain": [
       "     student_id        rev\n",
       "0          1627   990.0000\n",
       "1        100300   990.0000\n",
       "2        108270   290.0000\n",
       "3        264473  1900.0001\n",
       "4        274352   690.0000\n",
       "..          ...        ...\n",
       "387     5645737  1900.0000\n",
       "388     5651566  1900.0000\n",
       "389     5662322  1900.0000\n",
       "390     5681918  1900.0000\n",
       "391     5740903  1900.0000\n",
       "\n",
       "[392 rows x 2 columns]"
      ]
     },
     "execution_count": 44,
     "metadata": {},
     "output_type": "execute_result"
    }
   ],
   "source": [
    "checks_filtered"
   ]
  },
  {
   "cell_type": "markdown",
   "metadata": {},
   "source": [
    "Дальнейшую работу будем проводить по имеющейся таблице с активностью пользователей - __active_studs__ и теми пользователями, которые совершили покупку и попали в эту таблицу активных - __checks_filtered__:"
   ]
  },
  {
   "cell_type": "markdown",
   "metadata": {},
   "source": [
    "В качестве метрик, по которым будем давать оценку новой механике оплаты услуг на сайте, примем: ARPU, CR и дополнительно посчитаем AVG check. Данные метрики являются базовыми и служат хорошим индикатором положения дел в бизнесе.\n",
    "\n"
   ]
  },
  {
   "cell_type": "markdown",
   "metadata": {},
   "source": [
    "Объединим имеющиеся таблицы в одну для расчета метрик:"
   ]
  },
  {
   "cell_type": "code",
   "execution_count": 45,
   "metadata": {},
   "outputs": [],
   "source": [
    "df = active_studs.merge(all_students, on='student_id', how='left') \\\n",
    "                 .merge(checks_filtered, on='student_id', how='left')"
   ]
  },
  {
   "cell_type": "code",
   "execution_count": 46,
   "metadata": {},
   "outputs": [
    {
     "data": {
      "text/html": [
       "<div>\n",
       "<style scoped>\n",
       "    .dataframe tbody tr th:only-of-type {\n",
       "        vertical-align: middle;\n",
       "    }\n",
       "\n",
       "    .dataframe tbody tr th {\n",
       "        vertical-align: top;\n",
       "    }\n",
       "\n",
       "    .dataframe thead th {\n",
       "        text-align: right;\n",
       "    }\n",
       "</style>\n",
       "<table border=\"1\" class=\"dataframe\">\n",
       "  <thead>\n",
       "    <tr style=\"text-align: right;\">\n",
       "      <th></th>\n",
       "      <th>student_id</th>\n",
       "      <th>grp</th>\n",
       "      <th>rev</th>\n",
       "    </tr>\n",
       "  </thead>\n",
       "  <tbody>\n",
       "    <tr>\n",
       "      <th>0</th>\n",
       "      <td>581585</td>\n",
       "      <td>A</td>\n",
       "      <td>NaN</td>\n",
       "    </tr>\n",
       "    <tr>\n",
       "      <th>1</th>\n",
       "      <td>5723133</td>\n",
       "      <td>A</td>\n",
       "      <td>NaN</td>\n",
       "    </tr>\n",
       "    <tr>\n",
       "      <th>2</th>\n",
       "      <td>3276743</td>\n",
       "      <td>B</td>\n",
       "      <td>NaN</td>\n",
       "    </tr>\n",
       "    <tr>\n",
       "      <th>3</th>\n",
       "      <td>4238589</td>\n",
       "      <td>A</td>\n",
       "      <td>NaN</td>\n",
       "    </tr>\n",
       "    <tr>\n",
       "      <th>4</th>\n",
       "      <td>4475369</td>\n",
       "      <td>B</td>\n",
       "      <td>NaN</td>\n",
       "    </tr>\n",
       "    <tr>\n",
       "      <th>...</th>\n",
       "      <td>...</td>\n",
       "      <td>...</td>\n",
       "      <td>...</td>\n",
       "    </tr>\n",
       "    <tr>\n",
       "      <th>8336</th>\n",
       "      <td>1794344</td>\n",
       "      <td>B</td>\n",
       "      <td>NaN</td>\n",
       "    </tr>\n",
       "    <tr>\n",
       "      <th>8337</th>\n",
       "      <td>296883</td>\n",
       "      <td>B</td>\n",
       "      <td>NaN</td>\n",
       "    </tr>\n",
       "    <tr>\n",
       "      <th>8338</th>\n",
       "      <td>3598448</td>\n",
       "      <td>B</td>\n",
       "      <td>NaN</td>\n",
       "    </tr>\n",
       "    <tr>\n",
       "      <th>8339</th>\n",
       "      <td>3610547</td>\n",
       "      <td>B</td>\n",
       "      <td>290.0</td>\n",
       "    </tr>\n",
       "    <tr>\n",
       "      <th>8340</th>\n",
       "      <td>205705</td>\n",
       "      <td>B</td>\n",
       "      <td>NaN</td>\n",
       "    </tr>\n",
       "  </tbody>\n",
       "</table>\n",
       "<p>8341 rows × 3 columns</p>\n",
       "</div>"
      ],
      "text/plain": [
       "      student_id grp    rev\n",
       "0         581585   A    NaN\n",
       "1        5723133   A    NaN\n",
       "2        3276743   B    NaN\n",
       "3        4238589   A    NaN\n",
       "4        4475369   B    NaN\n",
       "...          ...  ..    ...\n",
       "8336     1794344   B    NaN\n",
       "8337      296883   B    NaN\n",
       "8338     3598448   B    NaN\n",
       "8339     3610547   B  290.0\n",
       "8340      205705   B    NaN\n",
       "\n",
       "[8341 rows x 3 columns]"
      ]
     },
     "execution_count": 46,
     "metadata": {},
     "output_type": "execute_result"
    }
   ],
   "source": [
    "df"
   ]
  },
  {
   "cell_type": "markdown",
   "metadata": {},
   "source": [
    "Проверим на наличие дубликатов нашу таблицу и пропуски:"
   ]
  },
  {
   "cell_type": "code",
   "execution_count": 47,
   "metadata": {},
   "outputs": [
    {
     "data": {
      "text/plain": [
       "0"
      ]
     },
     "execution_count": 47,
     "metadata": {},
     "output_type": "execute_result"
    }
   ],
   "source": [
    "df.duplicated().sum()"
   ]
  },
  {
   "cell_type": "code",
   "execution_count": 48,
   "metadata": {},
   "outputs": [
    {
     "data": {
      "text/plain": [
       "student_id       0\n",
       "grp              0\n",
       "rev           7949\n",
       "dtype: int64"
      ]
     },
     "execution_count": 48,
     "metadata": {},
     "output_type": "execute_result"
    }
   ],
   "source": [
    "df.isna().sum()"
   ]
  },
  {
   "cell_type": "markdown",
   "metadata": {},
   "source": [
    "Рассчитаем метрики:"
   ]
  },
  {
   "cell_type": "code",
   "execution_count": 49,
   "metadata": {
    "scrolled": true
   },
   "outputs": [
    {
     "data": {
      "text/html": [
       "<div>\n",
       "<style scoped>\n",
       "    .dataframe tbody tr th:only-of-type {\n",
       "        vertical-align: middle;\n",
       "    }\n",
       "\n",
       "    .dataframe tbody tr th {\n",
       "        vertical-align: top;\n",
       "    }\n",
       "\n",
       "    .dataframe thead th {\n",
       "        text-align: right;\n",
       "    }\n",
       "</style>\n",
       "<table border=\"1\" class=\"dataframe\">\n",
       "  <thead>\n",
       "    <tr style=\"text-align: right;\">\n",
       "      <th></th>\n",
       "      <th>student_id</th>\n",
       "      <th>grp</th>\n",
       "      <th>rev</th>\n",
       "    </tr>\n",
       "  </thead>\n",
       "  <tbody>\n",
       "    <tr>\n",
       "      <th>0</th>\n",
       "      <td>581585</td>\n",
       "      <td>A</td>\n",
       "      <td>NaN</td>\n",
       "    </tr>\n",
       "    <tr>\n",
       "      <th>1</th>\n",
       "      <td>5723133</td>\n",
       "      <td>A</td>\n",
       "      <td>NaN</td>\n",
       "    </tr>\n",
       "    <tr>\n",
       "      <th>2</th>\n",
       "      <td>3276743</td>\n",
       "      <td>B</td>\n",
       "      <td>NaN</td>\n",
       "    </tr>\n",
       "    <tr>\n",
       "      <th>3</th>\n",
       "      <td>4238589</td>\n",
       "      <td>A</td>\n",
       "      <td>NaN</td>\n",
       "    </tr>\n",
       "    <tr>\n",
       "      <th>4</th>\n",
       "      <td>4475369</td>\n",
       "      <td>B</td>\n",
       "      <td>NaN</td>\n",
       "    </tr>\n",
       "    <tr>\n",
       "      <th>...</th>\n",
       "      <td>...</td>\n",
       "      <td>...</td>\n",
       "      <td>...</td>\n",
       "    </tr>\n",
       "    <tr>\n",
       "      <th>8336</th>\n",
       "      <td>1794344</td>\n",
       "      <td>B</td>\n",
       "      <td>NaN</td>\n",
       "    </tr>\n",
       "    <tr>\n",
       "      <th>8337</th>\n",
       "      <td>296883</td>\n",
       "      <td>B</td>\n",
       "      <td>NaN</td>\n",
       "    </tr>\n",
       "    <tr>\n",
       "      <th>8338</th>\n",
       "      <td>3598448</td>\n",
       "      <td>B</td>\n",
       "      <td>NaN</td>\n",
       "    </tr>\n",
       "    <tr>\n",
       "      <th>8339</th>\n",
       "      <td>3610547</td>\n",
       "      <td>B</td>\n",
       "      <td>290.0</td>\n",
       "    </tr>\n",
       "    <tr>\n",
       "      <th>8340</th>\n",
       "      <td>205705</td>\n",
       "      <td>B</td>\n",
       "      <td>NaN</td>\n",
       "    </tr>\n",
       "  </tbody>\n",
       "</table>\n",
       "<p>8341 rows × 3 columns</p>\n",
       "</div>"
      ],
      "text/plain": [
       "      student_id grp    rev\n",
       "0         581585   A    NaN\n",
       "1        5723133   A    NaN\n",
       "2        3276743   B    NaN\n",
       "3        4238589   A    NaN\n",
       "4        4475369   B    NaN\n",
       "...          ...  ..    ...\n",
       "8336     1794344   B    NaN\n",
       "8337      296883   B    NaN\n",
       "8338     3598448   B    NaN\n",
       "8339     3610547   B  290.0\n",
       "8340      205705   B    NaN\n",
       "\n",
       "[8341 rows x 3 columns]"
      ]
     },
     "execution_count": 49,
     "metadata": {},
     "output_type": "execute_result"
    }
   ],
   "source": [
    "df"
   ]
  },
  {
   "cell_type": "code",
   "execution_count": 50,
   "metadata": {},
   "outputs": [],
   "source": [
    "income = df.groupby('grp', as_index=False) \\\n",
    "           .agg({'rev': 'sum'}).round(2) \\\n",
    "           .rename(columns={'rev': 'income'})\n",
    "\n",
    "results = df.groupby('grp', as_index=False) \\\n",
    "            .agg({'student_id': 'count',\n",
    "                  'rev': 'count'}) \\\n",
    "            .rename(columns={'student_id': 'users',\n",
    "                             'rev': 'pay_users'})\n",
    "results = results.merge(income, on='grp')\n",
    "results['ARPU'] = round(results.income / results.users, 2)\n",
    "results['CR'] = round(results.pay_users / results.users, 3)\n",
    "results['AVG_check'] = round(results.income / results.pay_users, 2)"
   ]
  },
  {
   "cell_type": "code",
   "execution_count": 51,
   "metadata": {},
   "outputs": [
    {
     "data": {
      "text/html": [
       "<div>\n",
       "<style scoped>\n",
       "    .dataframe tbody tr th:only-of-type {\n",
       "        vertical-align: middle;\n",
       "    }\n",
       "\n",
       "    .dataframe tbody tr th {\n",
       "        vertical-align: top;\n",
       "    }\n",
       "\n",
       "    .dataframe thead th {\n",
       "        text-align: right;\n",
       "    }\n",
       "</style>\n",
       "<table border=\"1\" class=\"dataframe\">\n",
       "  <thead>\n",
       "    <tr style=\"text-align: right;\">\n",
       "      <th></th>\n",
       "      <th>grp</th>\n",
       "      <th>users</th>\n",
       "      <th>pay_users</th>\n",
       "      <th>income</th>\n",
       "      <th>ARPU</th>\n",
       "      <th>CR</th>\n",
       "      <th>AVG_check</th>\n",
       "    </tr>\n",
       "  </thead>\n",
       "  <tbody>\n",
       "    <tr>\n",
       "      <th>0</th>\n",
       "      <td>A</td>\n",
       "      <td>1538</td>\n",
       "      <td>78</td>\n",
       "      <td>72820.0</td>\n",
       "      <td>47.35</td>\n",
       "      <td>0.051</td>\n",
       "      <td>933.59</td>\n",
       "    </tr>\n",
       "    <tr>\n",
       "      <th>1</th>\n",
       "      <td>B</td>\n",
       "      <td>6803</td>\n",
       "      <td>314</td>\n",
       "      <td>394974.0</td>\n",
       "      <td>58.06</td>\n",
       "      <td>0.046</td>\n",
       "      <td>1257.88</td>\n",
       "    </tr>\n",
       "  </tbody>\n",
       "</table>\n",
       "</div>"
      ],
      "text/plain": [
       "  grp  users  pay_users    income   ARPU     CR  AVG_check\n",
       "0   A   1538         78   72820.0  47.35  0.051     933.59\n",
       "1   B   6803        314  394974.0  58.06  0.046    1257.88"
      ]
     },
     "execution_count": 51,
     "metadata": {},
     "output_type": "execute_result"
    }
   ],
   "source": [
    "results"
   ]
  },
  {
   "cell_type": "markdown",
   "metadata": {},
   "source": [
    "Проверим, является разница в средних чеках(__AVG_check__) между группами статистически значимой. Сформулируем гипотезы для проверки вклада новой механики:  \n",
    "·Нулевая гипотеза (H0): Разницы между средними чеками в группах нет;  \n",
    "·Альтернативная гипотеза (H1): Разница между средними чеками в группах есть."
   ]
  },
  {
   "cell_type": "markdown",
   "metadata": {},
   "source": [
    "Посмотрим на размеры наших групп:"
   ]
  },
  {
   "cell_type": "code",
   "execution_count": 52,
   "metadata": {},
   "outputs": [
    {
     "data": {
      "text/html": [
       "<div>\n",
       "<style scoped>\n",
       "    .dataframe tbody tr th:only-of-type {\n",
       "        vertical-align: middle;\n",
       "    }\n",
       "\n",
       "    .dataframe tbody tr th {\n",
       "        vertical-align: top;\n",
       "    }\n",
       "\n",
       "    .dataframe thead th {\n",
       "        text-align: right;\n",
       "    }\n",
       "</style>\n",
       "<table border=\"1\" class=\"dataframe\">\n",
       "  <thead>\n",
       "    <tr style=\"text-align: right;\">\n",
       "      <th></th>\n",
       "      <th>grp</th>\n",
       "      <th>student_id</th>\n",
       "    </tr>\n",
       "  </thead>\n",
       "  <tbody>\n",
       "    <tr>\n",
       "      <th>0</th>\n",
       "      <td>A</td>\n",
       "      <td>78</td>\n",
       "    </tr>\n",
       "    <tr>\n",
       "      <th>1</th>\n",
       "      <td>B</td>\n",
       "      <td>314</td>\n",
       "    </tr>\n",
       "  </tbody>\n",
       "</table>\n",
       "</div>"
      ],
      "text/plain": [
       "  grp  student_id\n",
       "0   A          78\n",
       "1   B         314"
      ]
     },
     "execution_count": 52,
     "metadata": {},
     "output_type": "execute_result"
    }
   ],
   "source": [
    "size_groups = df.query('rev > 0') \\\n",
    "                .groupby('grp', as_index=False) \\\n",
    "                .agg({'student_id': 'count'})\n",
    "size_groups"
   ]
  },
  {
   "cell_type": "markdown",
   "metadata": {},
   "source": [
    "Посмотрим боксплоты для наших групп:"
   ]
  },
  {
   "cell_type": "code",
   "execution_count": 53,
   "metadata": {},
   "outputs": [
    {
     "data": {
      "image/png": "[encoded data removed]",
      "text/plain": [
       "<Figure size 1152x720 with 1 Axes>"
      ]
     },
     "metadata": {},
     "output_type": "display_data"
    }
   ],
   "source": [
    "AB_df = df.query('rev > 0')\n",
    "sns.boxplot(x='grp', y='rev', data=AB_df)\n",
    "sns.set(rc={'figure.figsize':(10,6)})"
   ]
  },
  {
   "cell_type": "markdown",
   "metadata": {},
   "source": [
    "Посмотрим на распредление чеков:"
   ]
  },
  {
   "cell_type": "code",
   "execution_count": 55,
   "metadata": {},
   "outputs": [
    {
     "name": "stderr",
     "output_type": "stream",
     "text": [
      "/opt/tljh/user/lib/python3.7/site-packages/seaborn/distributions.py:2557: FutureWarning: `distplot` is a deprecated function and will be removed in a future version. Please adapt your code to use either `displot` (a figure-level function with similar flexibility) or `histplot` (an axes-level function for histograms).\n",
      "  warnings.warn(msg, FutureWarning)\n"
     ]
    },
    {
     "data": {
      "text/plain": [
       "<matplotlib.axes._subplots.AxesSubplot at 0x7f4ab8321160>"
      ]
     },
     "execution_count": 55,
     "metadata": {},
     "output_type": "execute_result"
    },
    {
     "data": {
      "image/png": "[encoded data removed]",
      "text/plain": [
       "<Figure size 720x432 with 1 Axes>"
      ]
     },
     "metadata": {},
     "output_type": "display_data"
    }
   ],
   "source": [
    "sns.distplot(AB_df[AB_df.grp == 'A'].rev, kde=False)\n",
    "sns.distplot(AB_df[AB_df.grp == 'B'].rev, kde=False)"
   ]
  },
  {
   "cell_type": "markdown",
   "metadata": {},
   "source": [
    "Распределения в группах имеют выбросы и с виду являются ненормальными, убедимся в этом с помощью теста Шапиро-Уилка. В качестве критического уровня примем α=0.05:"
   ]
  },
  {
   "cell_type": "code",
   "execution_count": 56,
   "metadata": {},
   "outputs": [
    {
     "name": "stdout",
     "output_type": "stream",
     "text": [
      "Уровень значимости p-value группы А = 0.0\n",
      "Уровень значимости p-value группы В = 0.0\n"
     ]
    }
   ],
   "source": [
    "pv_A = stats.shapiro(AB_df[AB_df.grp == 'A'].rev)\n",
    "print(f'Уровень значимости p-value группы А = {round(pv_A[1],3)}')\n",
    "pv_B = stats.shapiro(AB_df[AB_df.grp == 'B'].rev)\n",
    "print(f'Уровень значимости p-value группы В = {round(pv_B[1],3)}')"
   ]
  },
  {
   "cell_type": "markdown",
   "metadata": {},
   "source": [
    "Как результат: распределения изучаемого признака ненормальны. "
   ]
  },
  {
   "cell_type": "markdown",
   "metadata": {},
   "source": [
    "Статистическую значимость исследуемого признака определим с помощью бутстрапа, поскольку бутстрап проверяет статистические гипотезы без опоры на определенное теоретическое распределение данных в отличие от классических стат. критериев, которые не приветливы к дисбалансу. Это сказывается в первую очередь на мощности критерия - чем сильнее дисбаланс, тем реже критерий будет обнаруживать реальную разницу (эффект):"
   ]
  },
  {
   "cell_type": "code",
   "execution_count": 84,
   "metadata": {},
   "outputs": [],
   "source": [
    "def get_bootstrap(\n",
    "    data_column_1, # числовые значения первой выборки\n",
    "    data_column_2, # числовые значения второй выборки\n",
    "    boot_it = 1000, # количество бутстрэп-подвыборок\n",
    "    statistic = np.mean, # интересующая нас статистика\n",
    "    bootstrap_conf_level = 0.95 # уровень значимости\n",
    "):\n",
    "    boot_data = []\n",
    "    for i in tqdm(range(boot_it)): # извлекаем подвыборки\n",
    "        samples_1 = data_column_1.sample(\n",
    "            len(data_column_1), \n",
    "            replace = True # параметр возвращения\n",
    "        ).values\n",
    "        \n",
    "        samples_2 = data_column_2.sample(\n",
    "            len(data_column_1), \n",
    "            replace = True\n",
    "        ).values\n",
    "        \n",
    "        boot_data.append(statistic(samples_1)-statistic(samples_2)) # mean() - применяем статистику\n",
    "        \n",
    "    pd_boot_data = pd.DataFrame(boot_data)\n",
    "        \n",
    "    left_quant = (1 - bootstrap_conf_level)/2\n",
    "    right_quant = 1 - (1 - bootstrap_conf_level) / 2\n",
    "    quants = pd_boot_data.quantile([left_quant, right_quant])\n",
    "        \n",
    "    p_1 = norm.cdf(\n",
    "        x = 0, \n",
    "        loc = np.mean(boot_data), \n",
    "        scale = np.std(boot_data)\n",
    "    )\n",
    "    p_2 = norm.cdf(\n",
    "        x = 0, \n",
    "        loc = -np.mean(boot_data), \n",
    "        scale = np.std(boot_data)\n",
    "    )\n",
    "    p_value = min(p_1, p_2) * 2\n",
    "        \n",
    "    # Визуализация\n",
    "    _, _, bars = plt.hist(pd_boot_data[0], bins = 50)\n",
    "    for bar in bars:\n",
    "        if bar.get_x() <= quants.iloc[0][0] or bar.get_x() >= quants.iloc[1][0]:\n",
    "            bar.set_facecolor('red')\n",
    "        else: \n",
    "            bar.set_facecolor('grey')\n",
    "            bar.set_edgecolor('black')\n",
    "    \n",
    "    plt.style.use('ggplot')\n",
    "    plt.vlines(quants,ymin=0,ymax=50,linestyle='--')\n",
    "    plt.xlabel('boot_data')\n",
    "    plt.ylabel('frequency')\n",
    "    plt.title(\"Histogram of boot_data\")\n",
    "    plt.show()\n",
    "       \n",
    "    return {\"boot_data\": boot_data, \n",
    "            \"quants\": quants, \n",
    "            \"p_value\": p_value}"
   ]
  },
  {
   "cell_type": "code",
   "execution_count": 77,
   "metadata": {
    "scrolled": true
   },
   "outputs": [
    {
     "data": {
      "application/vnd.jupyter.widget-view+json": {
       "model_id": "3887b17f0ee54b97805a4ccf58842595",
       "version_major": 2,
       "version_minor": 0
      },
      "text/plain": [
       "HBox(children=(FloatProgress(value=0.0, max=1000.0), HTML(value='')))"
      ]
     },
     "metadata": {},
     "output_type": "display_data"
    },
    {
     "name": "stdout",
     "output_type": "stream",
     "text": [
      "\n"
     ]
    },
    {
     "data": {
      "image/png": "[encoded data removed]",
      "text/plain": [
       "<Figure size 720x432 with 1 Axes>"
      ]
     },
     "metadata": {},
     "output_type": "display_data"
    },
    {
     "data": {
      "text/plain": [
       "{'boot_data': [-252.64103717948717,\n",
       "  -514.8974461538463,\n",
       "  -279.9359089743592,\n",
       "  -308.2051397435897,\n",
       "  -149.76924102564112,\n",
       "  -339.4230871794872,\n",
       "  -286.6794974358976,\n",
       "  -220.7564269230768,\n",
       "  -286.5256487179489,\n",
       "  -331.47437564102574,\n",
       "  -376.19231666666667,\n",
       "  -486.6923205128204,\n",
       "  45.08973846153822,\n",
       "  -106.65385897435908,\n",
       "  -145.9230923076925,\n",
       "  -99.8974461538462,\n",
       "  -354.025655128205,\n",
       "  -310.3718089743588,\n",
       "  -438.3718,\n",
       "  -296.8461666666668,\n",
       "  -421.41026923076936,\n",
       "  -448.0897525641027,\n",
       "  -498.48718974358985,\n",
       "  -478.33334615384626,\n",
       "  -308.4615500000001,\n",
       "  -109.91026666666676,\n",
       "  -451.23077692307686,\n",
       "  -276.02565384615366,\n",
       "  -28.11539358974369,\n",
       "  -534.923094871795,\n",
       "  -234.24359230769232,\n",
       "  -265.7564243589742,\n",
       "  -34.00001153846142,\n",
       "  -22.166682051282123,\n",
       "  -419.53847564102557,\n",
       "  -498.34616282051286,\n",
       "  -464.5256538461539,\n",
       "  -331.7436,\n",
       "  -418.17949999999996,\n",
       "  -398.21796153846174,\n",
       "  -298.2692358974359,\n",
       "  -564.1282141025642,\n",
       "  -336.8333410256413,\n",
       "  -250.21795641025642,\n",
       "  -521.8846307692307,\n",
       "  -453.0384730769233,\n",
       "  -339.7179641025642,\n",
       "  -346.14103846153864,\n",
       "  -134.0384743589741,\n",
       "  -130.94872692307695,\n",
       "  -366.79489102564116,\n",
       "  -483.7051435897438,\n",
       "  -446.6666807692309,\n",
       "  -378.1282128205128,\n",
       "  -346.94873205128204,\n",
       "  -344.6282115384614,\n",
       "  -262.96155641025643,\n",
       "  -296.8077089743589,\n",
       "  -247.15385128205105,\n",
       "  -233.03846923076935,\n",
       "  -517.3846307692309,\n",
       "  -318.51283333333333,\n",
       "  -313.8846243589744,\n",
       "  -402.1025807692307,\n",
       "  -308.98718461538476,\n",
       "  -179.32052179487187,\n",
       "  -246.67950256410268,\n",
       "  -408.17950641025664,\n",
       "  -387.65385256410275,\n",
       "  -244.19231794871814,\n",
       "  -154.48718589743567,\n",
       "  -296.6666807692309,\n",
       "  -197.28206153846168,\n",
       "  -257.8974474358977,\n",
       "  -376.8461679487182,\n",
       "  -41.71796025641038,\n",
       "  -348.91026666666687,\n",
       "  -360.56411538461543,\n",
       "  -148.51283205128198,\n",
       "  -394.4615525641026,\n",
       "  -116.60257307692314,\n",
       "  -401.82051923076915,\n",
       "  10.012811538461392,\n",
       "  -387.3077012820512,\n",
       "  -419.88462820512825,\n",
       "  -417.6666846153846,\n",
       "  -298.07693205128203,\n",
       "  -353.3461692307694,\n",
       "  -392.60257564102585,\n",
       "  -243.56411153846147,\n",
       "  -333.67949871794883,\n",
       "  -442.97437307692314,\n",
       "  -221.69232179487176,\n",
       "  -466.0641115384616,\n",
       "  -457.91027435897433,\n",
       "  -410.65386153846146,\n",
       "  -196.58975384615405,\n",
       "  -361.1923256410257,\n",
       "  -189.60257948717936,\n",
       "  -422.3077128205132,\n",
       "  -379.83334358974366,\n",
       "  -110.58975256410258,\n",
       "  -323.8846294871796,\n",
       "  -432.9230897435898,\n",
       "  -557.4102692307694,\n",
       "  -213.21795897435902,\n",
       "  -260.8333474358973,\n",
       "  -19.28205769230749,\n",
       "  -320.52565384615366,\n",
       "  -324.58974871794874,\n",
       "  -199.15385512820524,\n",
       "  -313.9487256410256,\n",
       "  -501.15385769230784,\n",
       "  -92.56410897435899,\n",
       "  -260.8077089743591,\n",
       "  -374.448730769231,\n",
       "  -537.6538589743592,\n",
       "  -259.11539487179493,\n",
       "  -275.0128320512821,\n",
       "  -489.5897551282054,\n",
       "  -375.79488205128223,\n",
       "  -510.30770256410267,\n",
       "  -247.82052051282062,\n",
       "  -514.4743666666667,\n",
       "  -377.39745256410265,\n",
       "  -167.98719743589743,\n",
       "  -360.15386282051304,\n",
       "  -461.39744743589756,\n",
       "  -13.076934615384516,\n",
       "  -376.8076987179486,\n",
       "  -236.00000384615385,\n",
       "  -389.2820679487181,\n",
       "  -279.62821666666673,\n",
       "  -274.2820628205129,\n",
       "  -334.0512897435898,\n",
       "  -503.4871846153844,\n",
       "  -474.6025717948718,\n",
       "  -479.346162820513,\n",
       "  -208.26923846153863,\n",
       "  -273.3718051282053,\n",
       "  -500.6666756410258,\n",
       "  -117.03847307692308,\n",
       "  -292.6282153846155,\n",
       "  -285.8718076923077,\n",
       "  -325.07693333333316,\n",
       "  -532.5384782051282,\n",
       "  -144.44873205128204,\n",
       "  -468.602576923077,\n",
       "  -147.70513846153858,\n",
       "  -397.80771025641036,\n",
       "  -457.1666743589743,\n",
       "  -447.7051371794872,\n",
       "  -380.65386153846157,\n",
       "  -334.16668461538484,\n",
       "  -461.294882051282,\n",
       "  -369.93591282051295,\n",
       "  -134.56410512820503,\n",
       "  -183.60257179487166,\n",
       "  -334.88462307692316,\n",
       "  -189.39745256410265,\n",
       "  -537.8846346153848,\n",
       "  -174.94872692307695,\n",
       "  -308.8461666666668,\n",
       "  -97.6666743589742,\n",
       "  -393.74360000000024,\n",
       "  -518.9487346153845,\n",
       "  -238.1666794871794,\n",
       "  -212.07693461538497,\n",
       "  -275.0512897435899,\n",
       "  -485.47437051282066,\n",
       "  -538.9615487179489,\n",
       "  -227.5128294871796,\n",
       "  -590.7692487179489,\n",
       "  -230.00000769230792,\n",
       "  -469.38462307692305,\n",
       "  -446.03847435897444,\n",
       "  -396.9487282051282,\n",
       "  -450.4871948717948,\n",
       "  -431.2436025641026,\n",
       "  -140.06412051282064,\n",
       "  -380.243603846154,\n",
       "  -549.5897512820513,\n",
       "  -290.6666871794873,\n",
       "  -27.73077948717969,\n",
       "  -558.0000076923077,\n",
       "  -478.0000051282051,\n",
       "  -421.0128358974358,\n",
       "  -392.1923166666668,\n",
       "  -325.6282205128206,\n",
       "  -391.21795897435914,\n",
       "  -171.46155128205146,\n",
       "  -323.4743628205131,\n",
       "  63.20512435897399,\n",
       "  -202.756412820513,\n",
       "  -193.0128346153848,\n",
       "  -200.00001666666662,\n",
       "  -159.33334615384592,\n",
       "  -184.3718076923077,\n",
       "  -368.000014102564,\n",
       "  -368.1666717948717,\n",
       "  -359.9359115384615,\n",
       "  -29.269244871794854,\n",
       "  -225.57693717948723,\n",
       "  -202.5000076923077,\n",
       "  -501.1666794871795,\n",
       "  -184.39744743589745,\n",
       "  -323.884626923077,\n",
       "  -461.41027051282094,\n",
       "  -297.71795897435914,\n",
       "  -290.26923461538433,\n",
       "  -458.0897538461538,\n",
       "  -304.5256512820515,\n",
       "  -9.833346153846378,\n",
       "  -594.7564166666666,\n",
       "  -379.0512897435898,\n",
       "  -626.4359051282051,\n",
       "  -659.2692448717947,\n",
       "  -420.525655128205,\n",
       "  -455.61539487179493,\n",
       "  -284.02564487179507,\n",
       "  -466.07693461538463,\n",
       "  -238.2820653846154,\n",
       "  -252.78206410256394,\n",
       "  -589.1666897435899,\n",
       "  -199.30770512820504,\n",
       "  -201.20513846153858,\n",
       "  -251.62821538461537,\n",
       "  -269.8205256410257,\n",
       "  -330.42309358974376,\n",
       "  -324.98718974358985,\n",
       "  -496.6666871794873,\n",
       "  -498.93591025641024,\n",
       "  -202.78205512820546,\n",
       "  -202.37180897435894,\n",
       "  -192.0897551282054,\n",
       "  -306.7820641025643,\n",
       "  -249.93590769230775,\n",
       "  -403.08975641025654,\n",
       "  -488.53847179487184,\n",
       "  -513.3461705128205,\n",
       "  -377.8974474358977,\n",
       "  -123.26923461538468,\n",
       "  -277.00000897435893,\n",
       "  -97.67949487179499,\n",
       "  -161.26923461538445,\n",
       "  -473.2435974358975,\n",
       "  -181.06411025641023,\n",
       "  -378.6666743589743,\n",
       "  -268.5384756410258,\n",
       "  -333.52565641025626,\n",
       "  -217.43590769230786,\n",
       "  -94.47437051282077,\n",
       "  -469.7051384615386,\n",
       "  -297.89744743589733,\n",
       "  -594.52565,\n",
       "  -458.02565256410276,\n",
       "  -92.00001153846176,\n",
       "  -299.8718000000001,\n",
       "  -560.8333397435898,\n",
       "  -313.8077051282055,\n",
       "  -212.8205205128204,\n",
       "  -416.35898461538466,\n",
       "  -524.5384679487179,\n",
       "  -344.42308333333324,\n",
       "  -341.19232179487176,\n",
       "  -322.576935897436,\n",
       "  -86.3974461538462,\n",
       "  -130.05129102564115,\n",
       "  -595.9102756410256,\n",
       "  -252.6153961538464,\n",
       "  -161.05129358974386,\n",
       "  -428.6666820512821,\n",
       "  -476.3974474358977,\n",
       "  -305.4615435897434,\n",
       "  -168.1794974358976,\n",
       "  -401.6154025641025,\n",
       "  -89.96154871794874,\n",
       "  -296.5769294871794,\n",
       "  -281.4487358974361,\n",
       "  -558.5256564102565,\n",
       "  -446.5897551282052,\n",
       "  -106.84617051282066,\n",
       "  -275.7948820512821,\n",
       "  -331.61539487179505,\n",
       "  -440.38462435897463,\n",
       "  -471.512832051282,\n",
       "  -510.1666743589743,\n",
       "  -347.6025692307692,\n",
       "  -356.80770000000007,\n",
       "  -348.128217948718,\n",
       "  -199.69231282051283,\n",
       "  -356.1666743589743,\n",
       "  -135.4102628205128,\n",
       "  -467.06411666666645,\n",
       "  -439.14103589743615,\n",
       "  -180.02564615384597,\n",
       "  -497.19231794871814,\n",
       "  -348.50001410256425,\n",
       "  -437.666680769231,\n",
       "  -490.34617051282044,\n",
       "  -283.69232051282063,\n",
       "  -364.58974999999987,\n",
       "  -377.6666730769231,\n",
       "  -295.2948884615387,\n",
       "  -472.8718076923078,\n",
       "  -284.62822179487193,\n",
       "  -180.34616282051275,\n",
       "  -353.0128294871796,\n",
       "  -441.1538589743592,\n",
       "  -513.7051410256411,\n",
       "  -416.91026923076925,\n",
       "  -304.4359012820513,\n",
       "  44.03845128205148,\n",
       "  -0.2564179487178535,\n",
       "  -411.1410371794873,\n",
       "  -29.166676923076693,\n",
       "  -346.6538602564102,\n",
       "  -358.2692384615385,\n",
       "  -184.8718076923078,\n",
       "  -487.97436794871805,\n",
       "  -233.79488205128212,\n",
       "  -333.05128846153843,\n",
       "  -149.02564487179507,\n",
       "  -432.3718076923076,\n",
       "  -237.9102653846154,\n",
       "  -129.52565512820524,\n",
       "  -259.89744743589756,\n",
       "  -213.08975512820507,\n",
       "  -291.37180384615385,\n",
       "  -425.461548717949,\n",
       "  -63.07693589743599,\n",
       "  -370.03847948717964,\n",
       "  -327.1153923076922,\n",
       "  -450.8077089743591,\n",
       "  -436.42308846153855,\n",
       "  -222.51283461538446,\n",
       "  -224.28206410256405,\n",
       "  -374.71797051282056,\n",
       "  -271.71795897435914,\n",
       "  -384.50001666666674,\n",
       "  -94.14103205128208,\n",
       "  -384.1154025641026,\n",
       "  -314.7948858974362,\n",
       "  -414.4743743589743,\n",
       "  -279.01282820512836,\n",
       "  -658.7948807692309,\n",
       "  -324.9871935897436,\n",
       "  -486.7307794871796,\n",
       "  -442.0000128205128,\n",
       "  -310.05128846153843,\n",
       "  -246.51282820512824,\n",
       "  -295.4230897435897,\n",
       "  -318.7307794871797,\n",
       "  -411.884626923077,\n",
       "  -271.6153935897437,\n",
       "  -69.64103333333355,\n",
       "  -509.26923974358976,\n",
       "  -513.8718089743589,\n",
       "  -518.8205217948719,\n",
       "  -375.83334871794875,\n",
       "  -285.0384730769231,\n",
       "  -185.9615474358975,\n",
       "  -308.3077012820514,\n",
       "  -278.2307820512822,\n",
       "  -431.7564217948717,\n",
       "  -413.10258461538467,\n",
       "  -456.01283076923096,\n",
       "  -340.9743692307692,\n",
       "  -260.2179564102563,\n",
       "  -302.10257820512857,\n",
       "  -409.5128320512822,\n",
       "  -465.397455128205,\n",
       "  -171.6410397435899,\n",
       "  -280.8461692307692,\n",
       "  -479.1795012820511,\n",
       "  -403.2179576923078,\n",
       "  -496.14103846153864,\n",
       "  -117.91026410256404,\n",
       "  -227.64103717948728,\n",
       "  -238.5128397435899,\n",
       "  -266.84616794871795,\n",
       "  -421.7564230769234,\n",
       "  -334.320521794872,\n",
       "  -242.0641115384616,\n",
       "  -111.0384705128206,\n",
       "  -265.08975384615405,\n",
       "  -160.87180641025645,\n",
       "  -440.1666782051284,\n",
       "  -112.56411282051295,\n",
       "  -256.7435974358975,\n",
       "  -60.14103717948706,\n",
       "  -529.0641179487178,\n",
       "  -171.42308846153878,\n",
       "  -97.3589884615385,\n",
       "  -386.73077820512833,\n",
       "  -248.3718102564103,\n",
       "  -421.1153987179488,\n",
       "  -71.76924102564112,\n",
       "  -209.10257307692314,\n",
       "  -223.2692384615384,\n",
       "  -263.56411282051295,\n",
       "  -124.17949358974374,\n",
       "  -292.70514358974356,\n",
       "  -180.6153884615387,\n",
       "  -431.9487256410256,\n",
       "  -400.76924743589757,\n",
       "  -259.5897538461538,\n",
       "  -437.92308846153844,\n",
       "  -289.5641128205127,\n",
       "  -318.1538538461539,\n",
       "  -289.26924102564124,\n",
       "  -366.1666807692309,\n",
       "  -285.67949487179476,\n",
       "  -183.1538589743592,\n",
       "  -494.94873205128204,\n",
       "  -348.8077012820513,\n",
       "  -280.1923179487179,\n",
       "  -506.52565641025683,\n",
       "  -241.71796282051287,\n",
       "  -335.65386153846157,\n",
       "  -476.2820679487179,\n",
       "  -423.6025769230772,\n",
       "  -355.64104615384645,\n",
       "  -521.4230923076924,\n",
       "  -306.26924743589734,\n",
       "  -364.4871884615386,\n",
       "  -253.52565256410276,\n",
       "  -638.3718025641026,\n",
       "  -191.65385897435908,\n",
       "  -250.24359871794877,\n",
       "  -153.3077012820513,\n",
       "  -359.38462307692305,\n",
       "  -355.4230871794873,\n",
       "  -224.70514230769243,\n",
       "  -315.4871910256412,\n",
       "  -421.06411538461566,\n",
       "  -171.42308589743607,\n",
       "  -433.3077012820513,\n",
       "  -535.2307833333335,\n",
       "  -337.07693717948723,\n",
       "  -144.29488333333347,\n",
       "  -200.6025743589746,\n",
       "  -489.41026410256404,\n",
       "  -382.9871910256411,\n",
       "  -300.8846243589744,\n",
       "  1.846142307692162,\n",
       "  -71.75642307692283,\n",
       "  -229.74359358974368,\n",
       "  -340.0000166666666,\n",
       "  -173.46154487179467,\n",
       "  -383.75642051282057,\n",
       "  -247.8333371794871,\n",
       "  -375.64103205128197,\n",
       "  -525.4102666666668,\n",
       "  -181.83334230769242,\n",
       "  -480.16667564102556,\n",
       "  -333.98719230769245,\n",
       "  -233.16668076923088,\n",
       "  -319.55129102564104,\n",
       "  -318.96155128205123,\n",
       "  -282.2564217948719,\n",
       "  -733.858991025641,\n",
       "  -175.26923846153863,\n",
       "  -293.19232435897425,\n",
       "  -386.1923179487178,\n",
       "  -183.79488333333347,\n",
       "  -334.9743692307694,\n",
       "  -513.9487307692308,\n",
       "  -386.6795000000002,\n",
       "  -205.75641794871808,\n",
       "  -397.43590512820515,\n",
       "  -399.11540128205127,\n",
       "  -278.83334102564106,\n",
       "  -297.10257564102574,\n",
       "  -297.5000128205128,\n",
       "  -203.70513717948722,\n",
       "  -514.3718064102565,\n",
       "  -252.28205897435896,\n",
       "  -259.2948794871796,\n",
       "  -160.01283461538446,\n",
       "  -112.57693461538474,\n",
       "  -551.4359166666669,\n",
       "  -439.07692820512796,\n",
       "  -351.75642564102577,\n",
       "  -209.08975769230756,\n",
       "  -292.9615512820516,\n",
       "  -317.20514358974367,\n",
       "  -160.35898333333353,\n",
       "  -473.74359871794866,\n",
       "  -503.43590769230775,\n",
       "  -242.94872435897423,\n",
       "  -361.30770769230764,\n",
       "  -52.987191025641096,\n",
       "  -342.73077692307686,\n",
       "  -410.0641179487179,\n",
       "  -249.2564166666666,\n",
       "  -332.6666794871795,\n",
       "  -45.56411025641023,\n",
       "  -311.53846923076924,\n",
       "  -264.21796538461547,\n",
       "  -282.0513000000001,\n",
       "  -360.07693076923067,\n",
       "  -433.38462307692305,\n",
       "  -345.37180641025657,\n",
       "  -326.0641141025642,\n",
       "  -262.5897525641026,\n",
       "  -289.44872435897435,\n",
       "  -170.79488205128223,\n",
       "  -519.8718102564104,\n",
       "  -331.3077025641023,\n",
       "  -623.948730769231,\n",
       "  -178.15385897435908,\n",
       "  -261.97437307692326,\n",
       "  -202.00001794871787,\n",
       "  -319.0000128205128,\n",
       "  -520.1538653846154,\n",
       "  -590.8974525641027,\n",
       "  -504.56411025641023,\n",
       "  -309.91026666666687,\n",
       "  -205.41027051282072,\n",
       "  -183.62821666666684,\n",
       "  155.17948076923062,\n",
       "  -517.89745,\n",
       "  -315.8077025641028,\n",
       "  -114.42309102564082,\n",
       "  -423.7692423076925,\n",
       "  -205.26924102564124,\n",
       "  -219.20514102564107,\n",
       "  -313.92308333333347,\n",
       "  -373.3333435897438,\n",
       "  -314.2564205128207,\n",
       "  -273.7948871794872,\n",
       "  -354.3846320512821,\n",
       "  -337.93591794871793,\n",
       "  -314.34616538461523,\n",
       "  -154.05129358974386,\n",
       "  -415.14103205128197,\n",
       "  -350.9615525641025,\n",
       "  -266.50000897435905,\n",
       "  -686.9359064102565,\n",
       "  -320.06411282051295,\n",
       "  -529.8077076923078,\n",
       "  -323.5512871794871,\n",
       "  -407.9487294871798,\n",
       "  -367.3205269230767,\n",
       "  -352.89744743589756,\n",
       "  -257.0384730769233,\n",
       "  -582.0000102564103,\n",
       "  -409.25642051282057,\n",
       "  -403.00001153846154,\n",
       "  -288.91026666666676,\n",
       "  -520.8589858974358,\n",
       "  -212.96154487179479,\n",
       "  -276.16667307692296,\n",
       "  -359.7564230769233,\n",
       "  -126.43590384615379,\n",
       "  -255.21795769230778,\n",
       "  -107.08975256410258,\n",
       "  -448.14103333333344,\n",
       "  -92.65385512820512,\n",
       "  -371.33334102564106,\n",
       "  -233.48718974358985,\n",
       "  -272.6538589743592,\n",
       "  -536.6538615384617,\n",
       "  -500.88462692307724,\n",
       "  -165.6153910256412,\n",
       "  -482.692317948718,\n",
       "  -304.7307858974359,\n",
       "  -483.84616282051286,\n",
       "  -348.1025833333334,\n",
       "  -283.2564166666666,\n",
       "  -306.6538564102566,\n",
       "  -481.42308333333335,\n",
       "  -170.1410397435899,\n",
       "  -276.25641794871797,\n",
       "  -476.73078461538455,\n",
       "  -188.75642179487193,\n",
       "  -318.65385769230784,\n",
       "  -153.92309102564116,\n",
       "  -319.1666730769232,\n",
       "  -388.5897576923078,\n",
       "  -401.666682051282,\n",
       "  -295.65385769230784,\n",
       "  -150.1153999999999,\n",
       "  -467.8461666666666,\n",
       "  -485.48718974358985,\n",
       "  -300.98718461538465,\n",
       "  -421.74360128205126,\n",
       "  -429.16668076923077,\n",
       "  -333.1282115384614,\n",
       "  -569.4102692307691,\n",
       "  -364.5897551282053,\n",
       "  -136.01283333333367,\n",
       "  -113.97437179487179,\n",
       "  -207.24359615384628,\n",
       "  -398.66667051282036,\n",
       "  -331.08975641025665,\n",
       "  -457.2436012820515,\n",
       "  -434.910267948718,\n",
       "  -216.80771153846183,\n",
       "  -344.30770256410267,\n",
       "  -281.58975,\n",
       "  -382.4102705128206,\n",
       "  -259.7948807692309,\n",
       "  -441.1410358974359,\n",
       "  -390.7436051282052,\n",
       "  -495.2307794871796,\n",
       "  -285.66667435897443,\n",
       "  -269.1410346153847,\n",
       "  -458.858978205128,\n",
       "  -488.32052179487187,\n",
       "  -189.3974435897435,\n",
       "  -238.16667948717964,\n",
       "  -260.9487256410256,\n",
       "  -285.1153961538462,\n",
       "  -328.32053205128227,\n",
       "  -339.42308333333324,\n",
       "  -307.4871884615385,\n",
       "  -36.69231923076927,\n",
       "  -525.9743679487179,\n",
       "  -306.8205230769232,\n",
       "  -84.07693846153848,\n",
       "  -441.82052435897447,\n",
       "  -103.19231410256418,\n",
       "  -424.62821794871775,\n",
       "  -576.2435974358976,\n",
       "  -196.3846294871796,\n",
       "  -350.16667435897455,\n",
       "  -258.3461653846157,\n",
       "  -349.26924487179474,\n",
       "  -321.0000102564102,\n",
       "  -350.2564230769233,\n",
       "  -284.7436102564102,\n",
       "  -324.07693205128203,\n",
       "  -509.0769358974359,\n",
       "  -213.19231794871803,\n",
       "  -137.15385897435897,\n",
       "  -372.15386025641044,\n",
       "  -385.44872948717955,\n",
       "  -357.57693461538474,\n",
       "  -358.78206410256416,\n",
       "  -429.57693846153836,\n",
       "  -156.3589833333333,\n",
       "  -402.1666756410258,\n",
       "  -332.7692358974358,\n",
       "  -207.42308461538448,\n",
       "  -407.9487307692309,\n",
       "  -172.71795384615393,\n",
       "  -269.14103461538457,\n",
       "  -260.07693205128226,\n",
       "  -148.1410346153848,\n",
       "  -368.0769307692308,\n",
       "  -60.10257564102585,\n",
       "  -422.4743743589743,\n",
       "  -379.11539487179505,\n",
       "  -413.884626923077,\n",
       "  -505.1666756410258,\n",
       "  -297.4487307692307,\n",
       "  -248.2948871794871,\n",
       "  -362.2820628205129,\n",
       "  -526.6410371794874,\n",
       "  -264.03847179487195,\n",
       "  -134.79488589743573,\n",
       "  -151.35898205128228,\n",
       "  -541.6666807692308,\n",
       "  -236.46154871794897,\n",
       "  -220.20513333333326,\n",
       "  -632.6794961538461,\n",
       "  -97.51282564102576,\n",
       "  -398.02565000000004,\n",
       "  -339.50000897435905,\n",
       "  -245.7179602564105,\n",
       "  -193.92309102564104,\n",
       "  -560.9871935897435,\n",
       "  -392.2051448717949,\n",
       "  -373.46155128205123,\n",
       "  -292.64103974358954,\n",
       "  -382.0513000000001,\n",
       "  -342.7948820512821,\n",
       "  -446.9230897435899,\n",
       "  -396.76923974358976,\n",
       "  -473.1410346153847,\n",
       "  -552.7051384615384,\n",
       "  -132.55129615384612,\n",
       "  -324.5128269230768,\n",
       "  -518.3974487179488,\n",
       "  -234.51282564102576,\n",
       "  -289.78206153846156,\n",
       "  -272.60257820512834,\n",
       "  -559.5641192307692,\n",
       "  -355.0000115384614,\n",
       "  -337.1794974358975,\n",
       "  -236.96155128205157,\n",
       "  -297.21796538461535,\n",
       "  -398.7179615384616,\n",
       "  -191.16668076923088,\n",
       "  -259.8461641025641,\n",
       "  -667.3077000000001,\n",
       "  -224.85899615384596,\n",
       "  -238.3333500000001,\n",
       "  -401.3205307692309,\n",
       "  -311.8718051282053,\n",
       "  -321.78205897435896,\n",
       "  -289.7435974358973,\n",
       "  -346.5128371794873,\n",
       "  -232.9615474358975,\n",
       "  14.038449999999784,\n",
       "  -297.92308589743595,\n",
       "  -93.03846794871788,\n",
       "  -456.3589858974359,\n",
       "  -443.93590512820526,\n",
       "  -179.50000897435905,\n",
       "  -345.44873461538475,\n",
       "  -503.923094871795,\n",
       "  -358.39744743589733,\n",
       "  -248.4615448717949,\n",
       "  -291.15386153846157,\n",
       "  -373.8846192307693,\n",
       "  -476.0128346153847,\n",
       "  -372.50001410256414,\n",
       "  -305.28206153846156,\n",
       "  -547.7948794871795,\n",
       "  -292.91026923076936,\n",
       "  -123.47436666666658,\n",
       "  -332.4487217948721,\n",
       "  -247.65385256410275,\n",
       "  -335.08975128205157,\n",
       "  -377.9487256410257,\n",
       "  -286.70514358974344,\n",
       "  -390.6410397435898,\n",
       "  -418.0000153846156,\n",
       "  -538.128217948718,\n",
       "  -394.34616538461546,\n",
       "  -320.6923192307695,\n",
       "  -309.80770897435934,\n",
       "  -356.6923192307694,\n",
       "  -383.55129102564115,\n",
       "  -133.01283461538492,\n",
       "  -225.2564205128208,\n",
       "  -100.02565384615377,\n",
       "  -247.6025782051281,\n",
       "  -87.53846794871788,\n",
       "  -265.56411538461543,\n",
       "  -503.94873461538475,\n",
       "  -332.3461576923079,\n",
       "  -426.69232051282063,\n",
       "  -640.8077051282052,\n",
       "  -248.23077564102573,\n",
       "  -580.2051384615385,\n",
       "  -469.884626923077,\n",
       "  -308.1666769230769,\n",
       "  -630.8205307692308,\n",
       "  -197.83333974358993,\n",
       "  -506.448735897436,\n",
       "  -421.01283333333345,\n",
       "  -381.73077948717946,\n",
       "  -603.6025782051283,\n",
       "  -313.5000076923076,\n",
       "  -406.5641205128205,\n",
       "  -471.19231923076916,\n",
       "  -468.52565256410276,\n",
       "  -365.5769333333334,\n",
       "  -238.38462307692305,\n",
       "  -399.9615410256413,\n",
       "  -508.38462820512814,\n",
       "  -503.8718076923078,\n",
       "  -440.487191025641,\n",
       "  -25.871806410256568,\n",
       "  -242.15385769230795,\n",
       "  -312.62821410256413,\n",
       "  -412.0897512820512,\n",
       "  -283.0769384615385,\n",
       "  -158.60257435897438,\n",
       "  -432.6666743589743,\n",
       "  -267.6923153846154,\n",
       "  -274.58975384615405,\n",
       "  -20.064111538461475,\n",
       "  -240.6282153846156,\n",
       "  -107.55128974358968,\n",
       "  -482.19231794871814,\n",
       "  -221.0256512820514,\n",
       "  -356.10257564102585,\n",
       "  -243.92308974359003,\n",
       "  -223.17949743589747,\n",
       "  -278.42309102564116,\n",
       "  -179.64103846153841,\n",
       "  -42.423083333333466,\n",
       "  -602.8205205128206,\n",
       "  -275.42308846153855,\n",
       "  -408.61540000000014,\n",
       "  -235.8846217948717,\n",
       "  -613.8846346153848,\n",
       "  -420.9871858974359,\n",
       "  -258.0512923076924,\n",
       "  -396.11539743589765,\n",
       "  -306.16667692307715,\n",
       "  -236.1410371794874,\n",
       "  -452.6666756410258,\n",
       "  -350.4871897435896,\n",
       "  -355.1795012820513,\n",
       "  -179.9102628205128,\n",
       "  -343.5641115384617,\n",
       "  -400.7435974358974,\n",
       "  -216.2692384615384,\n",
       "  -577.5641153846155,\n",
       "  -119.96154871794897,\n",
       "  -312.1538576923076,\n",
       "  -311.9871884615386,\n",
       "  -438.35898205128206,\n",
       "  -319.33333846153835,\n",
       "  -346.8205256410256,\n",
       "  -410.56411025641034,\n",
       "  -310.76924487179485,\n",
       "  -242.16667948717952,\n",
       "  -515.1795012820512,\n",
       "  -420.6025692307694,\n",
       "  -113.61539358974323,\n",
       "  -559.3718000000001,\n",
       "  -453.46155384615395,\n",
       "  -401.66667564102556,\n",
       "  -193.51283333333356,\n",
       "  -313.0769358974359,\n",
       "  -250.17949615384623,\n",
       "  -245.46155384615395,\n",
       "  -238.71796282051298,\n",
       "  -227.8461589743589,\n",
       "  -210.10257307692302,\n",
       "  -463.12821025641006,\n",
       "  -467.58975128205134,\n",
       "  -192.02565000000004,\n",
       "  -269.06411538461543,\n",
       "  -83.5256487179488,\n",
       "  -140.33334230769242,\n",
       "  -44.16667564102568,\n",
       "  -243.5128320512822,\n",
       "  -127.55129743589737,\n",
       "  -428.7179615384616,\n",
       "  -150.82052179487187,\n",
       "  -366.7948833333335,\n",
       "  -253.3589858974358,\n",
       "  -306.1282153846154,\n",
       "  -160.80769871794894,\n",
       "  -263.24360384615386,\n",
       "  -75.82052307692334,\n",
       "  -133.64103846153853,\n",
       "  -335.9487256410258,\n",
       "  -258.1282115384614,\n",
       "  -298.9102628205127,\n",
       "  -502.14104358974384,\n",
       "  -420.35898205128194,\n",
       "  -64.46154615384614,\n",
       "  -320.42308589743584,\n",
       "  -407.11539230769233,\n",
       "  -371.7435974358975,\n",
       "  -267.08975384615394,\n",
       "  -337.57693846153836,\n",
       "  -298.32052435897424,\n",
       "  -197.02565256410253,\n",
       "  -363.92308589743607,\n",
       "  -318.6794974358977,\n",
       "  -248.61539743589753,\n",
       "  -418.448723076923,\n",
       "  -341.15385769230784,\n",
       "  -56.05129615384635,\n",
       "  -371.6795038461539,\n",
       "  -189.69231923076916,\n",
       "  -171.41026666666676,\n",
       "  -292.7051410256413,\n",
       "  -281.46154615384614,\n",
       "  -131.06411025641023,\n",
       "  -93.39744871794858,\n",
       "  -329.1538564102566,\n",
       "  -192.5256512820515,\n",
       "  -343.0256487179487,\n",
       "  -44.82052435897447,\n",
       "  -258.14103846153876,\n",
       "  -384.25642564102577,\n",
       "  -413.32052179487175,\n",
       "  -210.8846320512821,\n",
       "  -531.2564205128206,\n",
       "  -272.8718051282053,\n",
       "  -373.79489102564094,\n",
       "  -547.8974525641025,\n",
       "  -180.76923846153863,\n",
       "  -425.4871910256413,\n",
       "  -341.30769999999995,\n",
       "  -291.3718051282052,\n",
       "  -370.93591153846137,\n",
       "  -215.14103461538457,\n",
       "  -285.0128358974357,\n",
       "  -450.3205256410256,\n",
       "  -295.4871910256411,\n",
       "  -365.8589884615385,\n",
       "  -351.0256564102564,\n",
       "  -599.4102717948717,\n",
       "  -353.9102653846155,\n",
       "  -264.2564153846156,\n",
       "  -135.07692948717954,\n",
       "  -268.38462564102565,\n",
       "  -414.8974435897437,\n",
       "  -285.88462820512837,\n",
       "  -149.21795769230766,\n",
       "  -468.92308333333335,\n",
       "  -134.8461641025641,\n",
       "  -481.42309102564116,\n",
       "  -461.6153910256412,\n",
       "  -407.3461653846151,\n",
       "  21.79486153846142,\n",
       "  -462.5641141025644,\n",
       "  -241.82052564102582,\n",
       "  -338.5512910256409,\n",
       "  -440.19231666666667,\n",
       "  -338.1282230769232,\n",
       "  -528.1794948717951,\n",
       "  -57.39744743589745,\n",
       "  -445.2564294871795,\n",
       "  -124.16667307692319,\n",
       "  -171.50001410256414,\n",
       "  -319.0128346153847,\n",
       "  -313.38462564102565,\n",
       "  -253.85898717948726,\n",
       "  -0.21795769230766382,\n",
       "  -247.84616923076953,\n",
       "  -266.8589858974361,\n",
       "  -307.7948858974361,\n",
       "  -317.7948794871795,\n",
       "  -274.6153961538463,\n",
       "  -363.2179551282052,\n",
       "  -491.525658974359,\n",
       "  -142.47437051282077,\n",
       "  -317.44872435897446,\n",
       "  -181.93591282051284,\n",
       "  -437.12821923076945,\n",
       "  -165.25642051282057,\n",
       "  -185.32052307692322,\n",
       "  -193.2692461538461,\n",
       "  -330.717962820513,\n",
       "  -413.7948846153846,\n",
       "  -459.4359128205127,\n",
       "  -196.19232051282052,\n",
       "  -400.3846243589744,\n",
       "  -568.9359115384616,\n",
       "  53.7051217948715,\n",
       "  -252.35898333333353,\n",
       "  -378.4871961538463,\n",
       "  -570.2948833333336,\n",
       "  -281.8461666666668,\n",
       "  -499.8205179487179,\n",
       "  79.9743410256408,\n",
       "  -120.92308461538482,\n",
       "  -301.7435974358973,\n",
       "  -158.6666730769232,\n",
       "  -376.4359089743589,\n",
       "  -534.397444871795,\n",
       "  -248.85898205128206,\n",
       "  -431.3589858974361,\n",
       "  -269.7307846153848,\n",
       "  0.7948615384614186,\n",
       "  -230.92309102564116,\n",
       "  -308.41026666666676,\n",
       "  -137.21796282051287,\n",
       "  -134.85898205128206,\n",
       "  -354.82052435897447,\n",
       "  -270.0256512820514,\n",
       "  -186.1282153846155,\n",
       "  -327.3205256410256,\n",
       "  -218.7948858974362,\n",
       "  -377.30769999999995,\n",
       "  -719.2179576923077,\n",
       "  -582.346167948718,\n",
       "  -223.89744487179485,\n",
       "  -314.48718974358985,\n",
       "  -278.3846179487181,\n",
       "  -205.29488205128223,\n",
       "  -97.78206153846145,\n",
       "  -325.8205230769232,\n",
       "  -379.8718076923076,\n",
       "  -306.85898205128206,\n",
       "  -91.96154487179501,\n",
       "  -351.50001153846165,\n",
       "  -96.07692692307683,\n",
       "  -256.69231923076916,\n",
       "  -380.2436038461541,\n",
       "  -362.6538551282051,\n",
       "  -133.37180256410284,\n",
       "  -378.025655128205,\n",
       "  -365.576937179487,\n",
       "  -404.5128333333332,\n",
       "  -411.6025769230771,\n",
       "  -292.83334102564095,\n",
       "  -169.62821410256424,\n",
       "  -20.14103589743604,\n",
       "  -86.42309102564104,\n",
       "  -179.93590769230775,\n",
       "  -482.76924230769237,\n",
       "  -187.0897551282053,\n",
       "  -348.9487256410256,\n",
       "  -261.6666756410257,\n",
       "  -398.0641115384616,\n",
       "  -447.9743743589743],\n",
       " 'quants':                 0\n",
       " 0.025 -577.630141\n",
       " 0.975  -36.625012,\n",
       " 'p_value': 0.02064847394963468}"
      ]
     },
     "execution_count": 77,
     "metadata": {},
     "output_type": "execute_result"
    }
   ],
   "source": [
    "get_bootstrap(\n",
    "    AB_df[AB_df.grp == 'A'].rev, # числовые значения первой выборки\n",
    "    AB_df[AB_df.grp == 'B'].rev, # числовые значения второй выборки\n",
    "    boot_it = 1000, # количество бутстрэп-подвыборок\n",
    "    statistic = np.mean, # интересующая нас статистика\n",
    "    bootstrap_conf_level = 0.95 # уровень значимости\n",
    "             )"
   ]
  },
  {
   "cell_type": "markdown",
   "metadata": {},
   "source": [
    "P value получили равным 0.0206. На полученной гистограмме мы можем наблюдать распределение разностей между средними бутстрапированных выборок. Если бы разница между средними отсутстовавала, то средняя разность между средними равнялась бы нулю. Здесь же мы наблюдаем, что усредненная разность между средними равняется примерно -300.  \n",
    "Применяя бутстрап с оценкой среднего, в данном конкретном эксмперименте мы отклоняем нулевую гипотезу о равенстве средних при критическом уровне α=0.05 и делаем вывод, что тестовая и контрольная выборки различаются.  \n",
    "Что касается метрик, то вместе с 10% снижением показателся CR, средний чек увеличился на 34%, а ARPU вырос на 23%. При этом на данном этапе не стоит запускать новую механику на всех пользователей, поскольку остался открытым вопрос о 149 пользователях, которые не попали в таблицу активных пользователей и составляют 27,5% от числа наших платящих пользователей."
   ]
  },
  {
   "cell_type": "markdown",
   "metadata": {},
   "source": [
    "## __Задание 2. SQL__\n",
    "#### 2.1 Очень усердные ученики\n",
    "#### 2.1.1 Условие"
   ]
  },
  {
   "cell_type": "markdown",
   "metadata": {},
   "source": [
    "Образовательные курсы состоят из различных уроков, каждый из которых состоит из нескольких маленьких заданий. Каждое такое маленькое задание называется \"горошиной\".\n",
    "\n",
    "Назовём очень усердным учеником того пользователя, который хотя бы раз за текущий месяц __правильно__ решил 20 горошин."
   ]
  },
  {
   "cell_type": "markdown",
   "metadata": {},
   "source": [
    "#### 2.1.2 Задача"
   ]
  },
  {
   "cell_type": "markdown",
   "metadata": {},
   "source": [
    "Дана таблица default.peas:"
   ]
  },
  {
   "attachments": {
    "image.png": {
     "image/png": "[encoded data removed]"
    }
   },
   "cell_type": "markdown",
   "metadata": {},
   "source": [
    "![image.png](attachment:image.png)"
   ]
  },
  {
   "cell_type": "markdown",
   "metadata": {},
   "source": [
    "Необходимо написать __оптимальный запрос__, который даст информацию о количестве очень усердных студентов за март 2020 года. \n",
    "\n",
    "*NB! Под усердным студентом мы понимаем студента, который правильно решил 20 задач за текущий месяц.*"
   ]
  },
  {
   "cell_type": "markdown",
   "metadata": {},
   "source": [
    "__Решение__"
   ]
  },
  {
   "cell_type": "markdown",
   "metadata": {},
   "source": [
    "Подключимся сперва к ClickHouse:"
   ]
  },
  {
   "cell_type": "code",
   "execution_count": 5,
   "metadata": {},
   "outputs": [],
   "source": [
    "connection_default = {'host': 'https://clickhouse.lab.karpov.courses',\n",
    "                      'database': 'default',\n",
    "                      'user': 'student',\n",
    "                      'password': 'dpo_python_2020'\n",
    "                     }"
   ]
  },
  {
   "cell_type": "markdown",
   "metadata": {},
   "source": [
    "Проведем разведывательный анализ:"
   ]
  },
  {
   "cell_type": "markdown",
   "metadata": {},
   "source": [
    "Выясним диапазон дат в нашем датасете:"
   ]
  },
  {
   "cell_type": "code",
   "execution_count": 62,
   "metadata": {},
   "outputs": [],
   "source": [
    "q1 = '''\n",
    "     SELECT MIN(toDate(timest)),\n",
    "            MAX(toDate(timest))\n",
    "       FROM peas;\n",
    "     '''"
   ]
  },
  {
   "cell_type": "code",
   "execution_count": 63,
   "metadata": {},
   "outputs": [
    {
     "data": {
      "text/html": [
       "<div>\n",
       "<style scoped>\n",
       "    .dataframe tbody tr th:only-of-type {\n",
       "        vertical-align: middle;\n",
       "    }\n",
       "\n",
       "    .dataframe tbody tr th {\n",
       "        vertical-align: top;\n",
       "    }\n",
       "\n",
       "    .dataframe thead th {\n",
       "        text-align: right;\n",
       "    }\n",
       "</style>\n",
       "<table border=\"1\" class=\"dataframe\">\n",
       "  <thead>\n",
       "    <tr style=\"text-align: right;\">\n",
       "      <th></th>\n",
       "      <th>min(toDate(timest))</th>\n",
       "      <th>max(toDate(timest))</th>\n",
       "    </tr>\n",
       "  </thead>\n",
       "  <tbody>\n",
       "    <tr>\n",
       "      <th>0</th>\n",
       "      <td>2021-10-30</td>\n",
       "      <td>2021-10-31</td>\n",
       "    </tr>\n",
       "  </tbody>\n",
       "</table>\n",
       "</div>"
      ],
      "text/plain": [
       "  min(toDate(timest)) max(toDate(timest))\n",
       "0          2021-10-30          2021-10-31"
      ]
     },
     "execution_count": 63,
     "metadata": {},
     "output_type": "execute_result"
    }
   ],
   "source": [
    "df1 = ph.read_clickhouse(query=q1, connection=connection_default)\n",
    "df1"
   ]
  },
  {
   "cell_type": "code",
   "execution_count": null,
   "metadata": {},
   "outputs": [],
   "source": [
    "Несмотря на отсутствие необходимой даты - март 2020 года, отразим необходимый запрос:"
   ]
  },
  {
   "cell_type": "code",
   "execution_count": 75,
   "metadata": {},
   "outputs": [],
   "source": [
    "q2 = '''\n",
    "     SELECT COUNT(st_id) AS active_users_march\n",
    "       FROM (SELECT st_id, toStartOfMonth(timest) AS time,\n",
    "                    SUM(correct) AS score\n",
    "               FROM peas\n",
    "              WHERE correct = 1\n",
    "              GROUP BY st_id, time\n",
    "             HAVING score >= 20 \n",
    "                AND time = '2020-03-01')\n",
    "     '''"
   ]
  },
  {
   "cell_type": "code",
   "execution_count": 76,
   "metadata": {},
   "outputs": [
    {
     "data": {
      "text/html": [
       "<div>\n",
       "<style scoped>\n",
       "    .dataframe tbody tr th:only-of-type {\n",
       "        vertical-align: middle;\n",
       "    }\n",
       "\n",
       "    .dataframe tbody tr th {\n",
       "        vertical-align: top;\n",
       "    }\n",
       "\n",
       "    .dataframe thead th {\n",
       "        text-align: right;\n",
       "    }\n",
       "</style>\n",
       "<table border=\"1\" class=\"dataframe\">\n",
       "  <thead>\n",
       "    <tr style=\"text-align: right;\">\n",
       "      <th></th>\n",
       "      <th>active_users_march</th>\n",
       "    </tr>\n",
       "  </thead>\n",
       "  <tbody>\n",
       "    <tr>\n",
       "      <th>0</th>\n",
       "      <td>0</td>\n",
       "    </tr>\n",
       "  </tbody>\n",
       "</table>\n",
       "</div>"
      ],
      "text/plain": [
       "   active_users_march\n",
       "0                   0"
      ]
     },
     "execution_count": 76,
     "metadata": {},
     "output_type": "execute_result"
    }
   ],
   "source": [
    "df2 = ph.read_clickhouse(query=q2, connection=connection_default)\n",
    "df2"
   ]
  },
  {
   "cell_type": "markdown",
   "metadata": {},
   "source": [
    "#### 2.2  Оптимизация воронки"
   ]
  },
  {
   "cell_type": "markdown",
   "metadata": {},
   "source": [
    "#### 2.2.1 Условие"
   ]
  },
  {
   "cell_type": "markdown",
   "metadata": {},
   "source": [
    "Образовательная платформа предлагает пройти студентам курсы по модели trial: студент может решить бесплатно лишь 30 горошин в день. Для неограниченного количества заданий в определенной дисциплине студенту необходимо приобрести полный доступ. Команда провела эксперимент, где был протестирован новый экран оплаты."
   ]
  },
  {
   "cell_type": "markdown",
   "metadata": {},
   "source": [
    "#### 2.2.2 Задачи"
   ]
  },
  {
   "cell_type": "markdown",
   "metadata": {},
   "source": [
    "Даны таблицы: __default.peas (см. выше)__, __default.studs__:"
   ]
  },
  {
   "attachments": {
    "image.png": {
     "image/png": "[encoded data removed]"
    }
   },
   "cell_type": "markdown",
   "metadata": {},
   "source": [
    "![image.png](attachment:image.png)"
   ]
  },
  {
   "cell_type": "markdown",
   "metadata": {},
   "source": [
    "и __default.final_project_check__:"
   ]
  },
  {
   "attachments": {
    "image.png": {
     "image/png": "[encoded data removed]"
    }
   },
   "cell_type": "markdown",
   "metadata": {},
   "source": [
    "![image.png](attachment:image.png)"
   ]
  },
  {
   "cell_type": "markdown",
   "metadata": {},
   "source": [
    "Необходимо __в одном запросе__ выгрузить следующую информацию о группах пользователей:"
   ]
  },
  {
   "cell_type": "markdown",
   "metadata": {},
   "source": [
    "·ARPU     \n",
    "·ARPAU   \n",
    "·CR в покупку   \n",
    "·СR активного пользователя в покупку   \n",
    "·CR пользователя из активности по математике (subject = ’math’) в покупку курса по математике  \n",
    "\n",
    "__ARPU считается относительно всех пользователей, попавших в группы.__\n",
    "\n",
    "__Активным считается пользователь, за все время решивший больше 10 задач правильно в любых дисциплинах.__  \n",
    "\n",
    "__Активным по математике считается пользователь, за все время решивший 2 или больше задач правильно по математике.__  "
   ]
  },
  {
   "cell_type": "markdown",
   "metadata": {},
   "source": [
    "__Решение__"
   ]
  },
  {
   "cell_type": "markdown",
   "metadata": {},
   "source": [
    "Пояснения к подзапросам:  \n",
    "    ·sq1 - деление юзеров по группам;  \n",
    "    ·sq2 - заработанные деньги по группам;  \n",
    "    ·sq3 - юзеры, набравшие больше 10 очков;  \n",
    "    ·sq4 - деление юзеров, набравших больше 10 очков, по группам;  \n",
    "    ·sq5 - деление юзеров, которые купили курс(ы), по группам;  \n",
    "    ·sq6, sq8 - юзеры, набравшие 2 и более очков по математике;  \n",
    "    ·sq7 - деление юзеров, набравших 2 и более очков по математике, по группам;  \n",
    "    ·sq9 - юзеры, купившие курс по математике;  \n",
    "    ·sq10 - деление активных юезров, купивших курс по математике, по группам.  "
   ]
  },
  {
   "cell_type": "code",
   "execution_count": 22,
   "metadata": {},
   "outputs": [],
   "source": [
    "q3 = '''\n",
    "     SELECT sq1.test_grp as test_grp, \n",
    "            ROUND(sq2.money / sq1.count_test_grp, 2) AS ARPU,\n",
    "            ROUND(sq2.money / sq4.active_users, 2) AS ARPAU,\n",
    "            ROUND(sq5.premium_users / sq1.count_test_grp, 2) AS CR,\n",
    "            ROUND(sq5.premium_users / sq4.active_users, 2) AS CR_active,\n",
    "            ROUND(sq10.premium_active_math_users / sq7.active_math_users, 2) AS CR_active_math \n",
    "       FROM (SELECT test_grp, COUNT(test_grp) AS count_test_grp \n",
    "               FROM studs\n",
    "              GROUP BY test_grp\n",
    "            ) AS sq1\n",
    "            JOIN \n",
    "            (SELECT test_grp, SUM(money) AS money\n",
    "               FROM studs \n",
    "                    LEFT JOIN final_project_check\n",
    "                    ON studs.st_id = final_project_check.st_id\n",
    "              GROUP BY test_grp\n",
    "            ) AS sq2\n",
    "            ON sq1.test_grp = sq2.test_grp\n",
    "       \n",
    "            JOIN \n",
    "            (SELECT test_grp, COUNT(sq3.st_id) AS active_users\n",
    "               FROM studs \n",
    "                    LEFT JOIN\n",
    "                    (SELECT st_id, SUM(correct) AS score\n",
    "                       FROM peas \n",
    "                      GROUP BY st_id\n",
    "                     HAVING score > 10\n",
    "                    ) AS sq3\n",
    "                    ON studs.st_id = sq3.st_id\n",
    "              WHERE score != 0 \n",
    "              GROUP BY test_grp\n",
    "            ) AS sq4\n",
    "            ON sq2.test_grp = sq4.test_grp\n",
    "\n",
    "            JOIN\n",
    "            (SELECT test_grp,\n",
    "                    COUNT(DISTINCT final_project_check.st_id) AS premium_users\n",
    "               FROM studs LEFT JOIN final_project_check\n",
    "                          ON studs.st_id = final_project_check.st_id\n",
    "              WHERE final_project_check.money != 0\n",
    "              GROUP BY test_grp\n",
    "            ) AS sq5\n",
    "            ON sq4.test_grp = sq5.test_grp\n",
    "            \n",
    "            JOIN \n",
    "            (SELECT test_grp, COUNT(test_grp) AS active_math_users\n",
    "               FROM studs LEFT JOIN\n",
    "                          (SELECT st_id, SUM(correct) AS score_math\n",
    "                             FROM peas\n",
    "                            WHERE subject = 'Math'\n",
    "                            GROUP BY st_id, subject\n",
    "                           HAVING score_math >= 2\n",
    "                          ) AS sq6\n",
    "                          ON studs.st_id = sq6.st_id\n",
    "              WHERE score_math != 0\n",
    "              GROUP BY test_grp) AS sq7\n",
    "            ON sq5.test_grp = sq7.test_grp\n",
    "              \n",
    "            JOIN\n",
    "            (SELECT test_grp,\n",
    "                    COUNT(*) AS premium_active_math_users\n",
    "               FROM (SELECT st_id, \n",
    "                            SUM(correct) AS score_math\n",
    "                       FROM peas\n",
    "                      WHERE subject = 'Math'\n",
    "                      GROUP BY st_id, subject\n",
    "                     HAVING score_math >= 2\n",
    "                      ORDER BY score_math\n",
    "                    ) AS sq8\n",
    "            \n",
    "            JOIN \n",
    "            (SELECT *\n",
    "               FROM final_project_check\n",
    "              WHERE subject = 'Math'\n",
    "            ) AS sq9\n",
    "            ON sq8.st_id = sq9.st_id\n",
    "            \n",
    "            JOIN studs\n",
    "            ON sq9.st_id = studs.st_id\n",
    "              GROUP BY test_grp) AS sq10\n",
    "            ON sq7.test_grp = sq10.test_grp\n",
    "     '''"
   ]
  },
  {
   "cell_type": "code",
   "execution_count": 23,
   "metadata": {},
   "outputs": [
    {
     "data": {
      "text/html": [
       "<div>\n",
       "<style scoped>\n",
       "    .dataframe tbody tr th:only-of-type {\n",
       "        vertical-align: middle;\n",
       "    }\n",
       "\n",
       "    .dataframe tbody tr th {\n",
       "        vertical-align: top;\n",
       "    }\n",
       "\n",
       "    .dataframe thead th {\n",
       "        text-align: right;\n",
       "    }\n",
       "</style>\n",
       "<table border=\"1\" class=\"dataframe\">\n",
       "  <thead>\n",
       "    <tr style=\"text-align: right;\">\n",
       "      <th></th>\n",
       "      <th>test_grp</th>\n",
       "      <th>ARPU</th>\n",
       "      <th>ARPAU</th>\n",
       "      <th>CR</th>\n",
       "      <th>CR_active</th>\n",
       "      <th>CR_active_math</th>\n",
       "    </tr>\n",
       "  </thead>\n",
       "  <tbody>\n",
       "    <tr>\n",
       "      <th>0</th>\n",
       "      <td>control</td>\n",
       "      <td>4540.98</td>\n",
       "      <td>10905.51</td>\n",
       "      <td>0.05</td>\n",
       "      <td>0.12</td>\n",
       "      <td>0.06</td>\n",
       "    </tr>\n",
       "    <tr>\n",
       "      <th>1</th>\n",
       "      <td>pilot</td>\n",
       "      <td>11508.47</td>\n",
       "      <td>35364.58</td>\n",
       "      <td>0.11</td>\n",
       "      <td>0.33</td>\n",
       "      <td>0.10</td>\n",
       "    </tr>\n",
       "  </tbody>\n",
       "</table>\n",
       "</div>"
      ],
      "text/plain": [
       "  test_grp      ARPU     ARPAU    CR  CR_active  CR_active_math\n",
       "0  control   4540.98  10905.51  0.05       0.12            0.06\n",
       "1    pilot  11508.47  35364.58  0.11       0.33            0.10"
      ]
     },
     "execution_count": 23,
     "metadata": {},
     "output_type": "execute_result"
    }
   ],
   "source": [
    "df3 = ph.read_clickhouse(query=q3, connection=connection_default)\n",
    "df3"
   ]
  },
  {
   "cell_type": "markdown",
   "metadata": {},
   "source": [
    "## __Задание 3. Python__\n",
    "#### 3.1 Задача"
   ]
  },
  {
   "cell_type": "markdown",
   "metadata": {},
   "source": [
    "1. Реализуйте функцию, которая будет автоматически подгружать информацию из дополнительного файла groups_add.csv (заголовки могут отличаться) и на основании дополнительных параметров пересчитывать метрики.  \n",
    "2. Реализуйте функцию, которая будет строить графики по получаемым метрикам."
   ]
  },
  {
   "cell_type": "code",
   "execution_count": 2,
   "metadata": {},
   "outputs": [],
   "source": [
    "def actual_metrics(new_users):\n",
    "    '''Функция автоматически подгружает из дополнительного \n",
    "       файла информацию о пользователях, меняет заголовки,\n",
    "       т.к. они могут отличаться и пересчитвает метрики.\n",
    "    '''\n",
    "    new_users = pd.read_csv(new_users)\n",
    "    new_users.rename(columns={new_users.columns[0]: 'student_id', new_users.columns[1]: 'grp'}, inplace=True)\n",
    "    groups = pd.read_csv('groups.csv', sep=';')\n",
    "    groups.rename(columns={'id': 'student_id'}, inplace=True)\n",
    "    active_studs = pd.read_csv('active_studs.csv')\n",
    "    checks = pd.read_csv('checks.csv', sep=';')\n",
    "    all_students = pd.concat([groups, new_users]).reset_index(drop=True)\n",
    "    checks_filtered = checks.merge(active_studs, on='student_id', how='inner')\n",
    "    df = active_studs.merge(all_students, on='student_id', how='left') \\\n",
    "                 .merge(checks_filtered, on='student_id', how='left')\n",
    "    income = df.groupby('grp', as_index=False) \\\n",
    "           .agg({'rev': 'sum'}).round(2) \\\n",
    "           .rename(columns={'rev': 'income'})\n",
    "    results = df.groupby('grp', as_index=False) \\\n",
    "                .agg({'student_id': 'count',\n",
    "                      'rev': 'count'}) \\\n",
    "                .rename(columns={'student_id': 'users',\n",
    "                                 'rev': 'pay_users'})\n",
    "    results = results.merge(income, on='grp')\n",
    "    results['ARPU'] = round(results.income / results.users, 2)\n",
    "    results['CR'] = round(results.pay_users / results.users, 3)\n",
    "    results['AVG_check'] = round(results.income / results.pay_users, 2)\n",
    "    return results"
   ]
  },
  {
   "cell_type": "code",
   "execution_count": 3,
   "metadata": {},
   "outputs": [
    {
     "data": {
      "text/html": [
       "<div>\n",
       "<style scoped>\n",
       "    .dataframe tbody tr th:only-of-type {\n",
       "        vertical-align: middle;\n",
       "    }\n",
       "\n",
       "    .dataframe tbody tr th {\n",
       "        vertical-align: top;\n",
       "    }\n",
       "\n",
       "    .dataframe thead th {\n",
       "        text-align: right;\n",
       "    }\n",
       "</style>\n",
       "<table border=\"1\" class=\"dataframe\">\n",
       "  <thead>\n",
       "    <tr style=\"text-align: right;\">\n",
       "      <th></th>\n",
       "      <th>grp</th>\n",
       "      <th>users</th>\n",
       "      <th>pay_users</th>\n",
       "      <th>income</th>\n",
       "      <th>ARPU</th>\n",
       "      <th>CR</th>\n",
       "      <th>AVG_check</th>\n",
       "    </tr>\n",
       "  </thead>\n",
       "  <tbody>\n",
       "    <tr>\n",
       "      <th>0</th>\n",
       "      <td>A</td>\n",
       "      <td>1538</td>\n",
       "      <td>78</td>\n",
       "      <td>72820.0</td>\n",
       "      <td>47.35</td>\n",
       "      <td>0.051</td>\n",
       "      <td>933.59</td>\n",
       "    </tr>\n",
       "    <tr>\n",
       "      <th>1</th>\n",
       "      <td>B</td>\n",
       "      <td>6803</td>\n",
       "      <td>314</td>\n",
       "      <td>394974.0</td>\n",
       "      <td>58.06</td>\n",
       "      <td>0.046</td>\n",
       "      <td>1257.88</td>\n",
       "    </tr>\n",
       "  </tbody>\n",
       "</table>\n",
       "</div>"
      ],
      "text/plain": [
       "  grp  users  pay_users    income   ARPU     CR  AVG_check\n",
       "0   A   1538         78   72820.0  47.35  0.051     933.59\n",
       "1   B   6803        314  394974.0  58.06  0.046    1257.88"
      ]
     },
     "execution_count": 3,
     "metadata": {},
     "output_type": "execute_result"
    }
   ],
   "source": [
    "actual_metrics('group_add.csv')"
   ]
  },
  {
   "cell_type": "code",
   "execution_count": 4,
   "metadata": {},
   "outputs": [],
   "source": [
    "actual_metrics = actual_metrics('group_add.csv')"
   ]
  },
  {
   "cell_type": "code",
   "execution_count": 57,
   "metadata": {},
   "outputs": [],
   "source": [
    "def graphics(actual_metrics):\n",
    "    '''Функция, которая строит графики по полученным метрикам\n",
    "    '''\n",
    "    sns.set(rc={'figure.figsize':(16,10)})\n",
    "    fig, axes = plt.subplots(nrows=1, ncols=3)\n",
    "    \n",
    "    sns.barplot(x=actual_metrics.grp, y=actual_metrics.ARPU, ax=axes[0], palette='colorblind').set_title('ARPU')\n",
    "    sns.barplot(x=actual_metrics.grp, y=actual_metrics.CR, ax=axes[1], palette='colorblind').set_title('CR')\n",
    "    sns.barplot(x=actual_metrics.grp, y=actual_metrics.AVG_check, ax=axes[2], palette='colorblind').set_title('AVG_check')   "
   ]
  },
  {
   "cell_type": "code",
   "execution_count": 58,
   "metadata": {
    "scrolled": true
   },
   "outputs": [
    {
     "data": {
      "image/png": "[encoded data removed]",
      "text/plain": [
       "<Figure size 1152x720 with 3 Axes>"
      ]
     },
     "metadata": {},
     "output_type": "display_data"
    }
   ],
   "source": [
    "graphics(actual_metrics)"
   ]
  }
 ],
 "metadata": {
  "kernelspec": {
   "display_name": "Python 3 (ipykernel)",
   "language": "python",
   "name": "python3"
  },
  "language_info": {
   "codemirror_mode": {
    "name": "ipython",
    "version": 3
   },
   "file_extension": ".py",
   "mimetype": "text/x-python",
   "name": "python",
   "nbconvert_exporter": "python",
   "pygments_lexer": "ipython3",
   "version": "3.9.7"
  }
 },
 "nbformat": 4,
 "nbformat_minor": 4
}
