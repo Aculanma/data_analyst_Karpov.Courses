{
 "cells": [
  {
   "cell_type": "markdown",
   "id": "1e238db4",
   "metadata": {},
   "source": [
    "# ОБЪЕДИНЕНИЕ ТАБЛИЦ – JOIN"
   ]
  },
  {
   "cell_type": "markdown",
   "id": "e22c7f31",
   "metadata": {},
   "source": [
    "Описание данных:\n",
    "    \n",
    "`installs` — содержит данные об установках приложения по дням.\n",
    "\n",
    "· DeviceID — идентификатор устройства, на которое было установлено приложение;  \n",
    "· InstallationDate — дата установки приложения;  \n",
    "· InstallCost — цена установки приложения в рублях;  \n",
    "· Platform — платформа, на которой было установлено приложение (iOS/ Android);  \n",
    "· Source — источник установки приложения (магазин приложения/ рекламная система/ переход с сайта).  \n",
    "\n",
    "`events` — содержит данные о том, как активно пользователи просматривают товары в приложении по дням.  \n",
    "\n",
    "· DeviceID — идентификатор устройства, на котором используется приложение;  \n",
    "· AppPlatform — платформа, на которой используется приложение (iOS/ Android);  \n",
    "· EventDate — дата, за которую собрана статистика;  \n",
    "· events — количество просмотров всех товаров за этот день у этого DeviceID.  \n",
    "  \n",
    "`checks` — содержит данные о покупках пользователей в приложении по дням  \n",
    "\n",
    "· UserID — идентификатор пользователя;  \n",
    "· Rub — суммарный чек пользователя на дату;  \n",
    "· BuyDate — дата, за которую собрана статистика.  \n",
    "\n",
    "Особенность приложения заключается в том, что для просмотра товаров не нужна авторизация. До момента авторизации про пользователя известен только его DeviceID — идентификатор устройства. При этом для совершения покупки логин обязателен. На моменте авторизации пользователю присваивается UserID, и тогда мы уже знаем два его идентификатора: DeviceID (устройство) и UserID (логин). Так как на этапах установки приложения и просмотра каталога пользователь еще может быть не авторизован, там мы сохраняем только DeviceID. Но так как покупки нельзя совершить без авторизации, то покупки сохраняются только с UserID. Для того чтобы просмотры и установки можно было объединить с покупками, нам нужна таблица соответствия DeviceID к UserID, то есть таблица `devices`:  \n",
    "\n",
    "· DeviceID — идентификатор устройства;  \n",
    "· UserID — идентификатор пользователя."
   ]
  },
  {
   "cell_type": "markdown",
   "id": "60b90b15",
   "metadata": {},
   "source": [
    "### 1"
   ]
  },
  {
   "cell_type": "markdown",
   "id": "3cfe21db",
   "metadata": {},
   "source": [
    "У пользователя может быть два идентификатора – UserID и DeviceID. В таблице checks есть только UserID, в остальных – только DeviceID. Во вспомогательной таблице devices есть и UserID, и DeviceID. \n",
    "\n",
    "Давайте с помощью JOIN дополним таблицу events (left) данными о UserID пользователей из таблицы devices (right). Для некоторых DeviceID не будет пары UserID из таблицы devices – подумайте, какой вид JOIN подойдет, чтобы не потерять те строки, где DeviceID есть в events, но нет в devices.\n",
    "\n",
    "Укажите UserID из первой строки результирующей таблицы, используя сортировку по убыванию по полю DeviceID."
   ]
  },
  {
   "cell_type": "code",
   "execution_count": null,
   "id": "d333546c",
   "metadata": {},
   "outputs": [],
   "source": [
    "SELECT e.AppPlatform AS AppPlatform,\n",
    "       e.events AS events,\n",
    "       e.EventDate AS EventDate,\n",
    "       e.DeviceID AS DeviceID,\n",
    "       d.UserID AS UserID\n",
    "  FROM events AS e \n",
    "       LEFT JOIN devices AS d\n",
    "       on e.DeviceID = d.DeviceID\n",
    " ORDER BY DeviceID DESC\n",
    " LIMIT 1"
   ]
  },
  {
   "cell_type": "markdown",
   "id": "46185c9c",
   "metadata": {},
   "source": [
    "### 2"
   ]
  },
  {
   "cell_type": "markdown",
   "id": "0490fb5c",
   "metadata": {},
   "source": [
    "Давайте проверим, пользователи пришедшие из какого источника совершили наибольшее число покупок. В качестве ответа выберите название Source, юзеры которого совершили больше всего покупок.\n",
    "\n",
    "Hint: Для этого используйте UserID, DeviceID и Source из соответствующих таблиц. Считать уникальные значения здесь не нужно."
   ]
  },
  {
   "cell_type": "code",
   "execution_count": null,
   "id": "3090232b",
   "metadata": {},
   "outputs": [],
   "source": [
    "SELECT i.Source AS Source,\n",
    "       COUNT(c.UserID) AS cnt\n",
    "  FROM checks AS c\n",
    "  JOIN devices AS d\n",
    "    ON c.UserID = d.UserID\n",
    "  JOIN installs AS i\n",
    "    ON d.DeviceID = i.DeviceID\n",
    " GROUP BY i.Source\n",
    " ORDER BY cnt DESC\n",
    " LIMIT 1"
   ]
  },
  {
   "cell_type": "markdown",
   "id": "2c33c529",
   "metadata": {},
   "source": [
    "### 3"
   ]
  },
  {
   "cell_type": "markdown",
   "id": "540043b2",
   "metadata": {},
   "source": [
    "Теперь выясним, сколько всего уникальных юзеров что-то купили в нашем приложении.\n",
    "\n",
    "Объедините нужные таблицы, посчитайте число уникальных UserID для каждого источника (Source), и в качестве ответа укажите число пользователей, пришедших из Source_7.\n",
    "\n",
    "Hint: checks – покупки, devices – соответствие, installs – информация об источнике."
   ]
  },
  {
   "cell_type": "code",
   "execution_count": null,
   "id": "acc6a398",
   "metadata": {},
   "outputs": [],
   "source": [
    "SELECT i.Source AS Source,\n",
    "       COUNT(DISTINCT c.UserID) AS uniq_users\n",
    "  FROM checks AS c\n",
    "  JOIN devices AS d\n",
    "    ON c.UserID = d.UserID\n",
    "  JOIN installs AS i\n",
    "    ON d.DeviceID = i.DeviceID\n",
    " WHERE Source = 'Source_7'\n",
    " GROUP BY i.Source"
   ]
  },
  {
   "cell_type": "markdown",
   "id": "6442add0",
   "metadata": {},
   "source": [
    "### 4"
   ]
  },
  {
   "cell_type": "markdown",
   "id": "0138eca8",
   "metadata": {},
   "source": [
    "Самое время посмотреть на общую выручку, а также минимальный, максимальный и средний чек. Рассчитайте нужные показатели."
   ]
  },
  {
   "cell_type": "markdown",
   "id": "aa1477a7",
   "metadata": {},
   "source": [
    "SELECT i.Source AS Source,\n",
    "       SUM(Rub) as Revenue,\n",
    "       MIN(Rub) as MinRub,\n",
    "       MAX(Rub) AS MaxRub,\n",
    "       AVG(Rub) as AvgRub\n",
    "  FROM checks as c\n",
    "  JOIN devices as d\n",
    "    ON c.UserID = d.UserID\n",
    "  JOIN installs as i\n",
    "    ON d.DeviceID = i.DeviceID\n",
    " GROUP BY i.Source"
   ]
  },
  {
   "cell_type": "markdown",
   "id": "9aa13b16",
   "metadata": {},
   "source": [
    "### 5"
   ]
  },
  {
   "cell_type": "markdown",
   "id": "0fc03ac0",
   "metadata": {},
   "source": [
    "Выведите идентификаторы устройств пользователей, которые совершили как минимум одну покупку за последний месяц (октябрь 2019). Используйте сортировку по возрастанию DeviceID и укажите минимальное значение.\n",
    "\n",
    "Hint: для извлечения месяца из даты можно использовать toMonth() или  toStartOfMonth(), предварительно приведя BuyDate к типу date."
   ]
  },
  {
   "cell_type": "code",
   "execution_count": null,
   "id": "17e20b64",
   "metadata": {},
   "outputs": [],
   "source": [
    "SELECT *\n",
    "  FROM checks AS c\n",
    "  JOIN devices AS d\n",
    "    ON c.UserID = d.UserID\n",
    " WHERE toStartOfMonth(CAST(BuyDate AS date)) = '2019-10-01'\n",
    " ORDER BY DeviceID\n",
    " LIMIT 10"
   ]
  },
  {
   "cell_type": "markdown",
   "id": "696d6dab",
   "metadata": {},
   "source": [
    "### 6"
   ]
  },
  {
   "cell_type": "markdown",
   "id": "23abe40c",
   "metadata": {},
   "source": [
    "Проверим, сколько товаров (events) в среднем просматривают пользователи с разных платформ (Platform), и пришедшие из разных источников  (Source). Для этого объедините таблицы events и installs, и посчитайте, сколько просмотров в среднем приходится на каждую пару платформа-канал привлечения.\n",
    "\n",
    "Отсортируйте полученную табличку по убыванию среднего числа просмотров. "
   ]
  },
  {
   "cell_type": "code",
   "execution_count": null,
   "id": "2adb6892",
   "metadata": {},
   "outputs": [],
   "source": [
    "SELECT e.AppPlatform AS AppPlatform,\n",
    "       i.Source AS Source,\n",
    "       AVG(e.events) AS avg_events\n",
    "  FROM events AS e\n",
    "  JOIN installs AS i\n",
    "    ON e.DeviceID = i.DeviceID\n",
    "\n",
    " GROUP BY e.AppPlatform,\n",
    "         i.Source \n",
    " ORDER BY avg_events DESC\n",
    " LIMIT 10"
   ]
  },
  {
   "cell_type": "markdown",
   "id": "99efdb71",
   "metadata": {},
   "source": [
    "### 7"
   ]
  },
  {
   "cell_type": "markdown",
   "id": "1425cef7",
   "metadata": {},
   "source": [
    "Давайте посчитаем число уникальных DeviceID в инсталлах, для которых присутствуют просмотры в таблице events с разбивкой по платформам (поле Platform). Для этого можно отобрать все строки только из таблицы installs, для которых нашлось соответствие в таблице events. "
   ]
  },
  {
   "cell_type": "code",
   "execution_count": null,
   "id": "89ac8f9b",
   "metadata": {},
   "outputs": [],
   "source": [
    "SELECT Platform,\n",
    "       Count(distinct DeviceID) AS devices_nubmer\n",
    "  FROM installs AS i \n",
    "       LEFT SEMI JOIN events AS e \n",
    "       ON i.DeviceID = e.DeviceID \n",
    " GROUP BY i.Platform\n",
    " LIMIT 10"
   ]
  },
  {
   "cell_type": "markdown",
   "id": "1dc808c2",
   "metadata": {},
   "source": [
    "### 8"
   ]
  },
  {
   "cell_type": "markdown",
   "id": "b041a7a1",
   "metadata": {},
   "source": [
    "Давайте теперь посчитаем конверсию из инсталла в просмотр с разбивкой по платформе инсталла – в данном случае это доля DeviceID, для которых есть просмотры, от всех DeviceID в инсталлах. \n",
    "\n",
    "Для этого нужно объединить таблицы installs и events так, чтобы получить все DeviceID инсталлов и соответствующие им DeviceID из events, посчитать число уникальных DeviceID инсталлов (1) и соответствующих DeviceID из events (2) и вычислить долю (2) от (1). В качестве ответа укажите значение конверсии из инсталла в просмотр на платформе ios. "
   ]
  },
  {
   "cell_type": "code",
   "execution_count": null,
   "id": "549cf125",
   "metadata": {},
   "outputs": [],
   "source": [
    "SELECT Platform, \n",
    "       COUNT(DISTINCT ev.DeviceID) / COUNT(DISTINCT i.DeviceID) AS Conversion\n",
    "  FROM installs AS i \n",
    "       LEFT JOIN events AS e\n",
    "       ON i.DeviceID = e.DeviceID \n",
    " GROUP BY Platform"
   ]
  },
  {
   "cell_type": "markdown",
   "id": "c3b6067c",
   "metadata": {},
   "source": [
    "### 9"
   ]
  },
  {
   "cell_type": "markdown",
   "id": "53194887",
   "metadata": {},
   "source": [
    "Представим, что в логирование DeviceID в событиях закралась ошибка - часть ID была записана в базу некорректно. Это привело к тому, что в таблице с событиями появились DeviceID, для которых нет инсталлов. Нам надо отобрать примеры DeviceID из таблицы event, которых нет в таблице installs, чтобы отправить их команде разработчиков на исправление. \n",
    "\n",
    "Выведите 10 уникальных DeviceID, которые присутствуют в таблице events, но отсутствуют в installs, отсортировав их в порядке убывания."
   ]
  },
  {
   "cell_type": "code",
   "execution_count": null,
   "id": "c27aee24",
   "metadata": {},
   "outputs": [],
   "source": [
    "SELECT DISTINCT(DeviceID)\n",
    "  FROM events AS e\n",
    "       LEFT ANTI JOIN installs AS i\n",
    "       ON i.DeviceID = e.DeviceID\n",
    " ORDER BY DeviceID DESC\n",
    " LIMIT 10"
   ]
  }
 ],
 "metadata": {
  "kernelspec": {
   "display_name": "Python 3 (ipykernel)",
   "language": "python",
   "name": "python3"
  },
  "language_info": {
   "codemirror_mode": {
    "name": "ipython",
    "version": 3
   },
   "file_extension": ".py",
   "mimetype": "text/x-python",
   "name": "python",
   "nbconvert_exporter": "python",
   "pygments_lexer": "ipython3",
   "version": "3.9.7"
  }
 },
 "nbformat": 4,
 "nbformat_minor": 5
}
