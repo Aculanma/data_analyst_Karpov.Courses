{
 "cells": [
  {
   "cell_type": "markdown",
   "id": "2972ea0d",
   "metadata": {},
   "source": [
    "# Урок 4. ТИПЫ ДАННЫХ И ИХ ПРЕОБРАЗОВАНИЕ"
   ]
  },
  {
   "cell_type": "markdown",
   "id": "7fe34435",
   "metadata": {},
   "source": [
    "Далее в заданиях используются данные с платформы Airbnb в Берлине ✈️.\n",
    "\n",
    "Имеются следующие таблицы:\n",
    "    \n",
    "1. `listings` – информация о жилье, включая полные описания, характеристики и средние оценки в отзывах; поскольку столбцов очень много, нужные перечислены в текстах самих задач;  \n",
    "2. `calendar_summary` – информация о доступности и цене того или иного жилья по дням  \n",
    "    listing_id – идентификатор жилья (объявления)  \n",
    "    date       – дата  \n",
    "    available  – доступность жилья в данный день (t/f)  \n",
    "    price      – цена за ночь  \n",
    "\n",
    "3. `reviews` – отзывы  \n",
    "    listing_id   –  идентификатор жилья      \n",
    "    id  – id отзыва   \n",
    "    date  – дата отзыва      \n",
    "    reviewer_id  – id ревьюера (автора отзыва)  \n",
    "    reviewer_name  – имя автора  \n",
    "    comments – сам отзыв  "
   ]
  },
  {
   "cell_type": "markdown",
   "id": "8eb96c68",
   "metadata": {},
   "source": [
    "### 1"
   ]
  },
  {
   "cell_type": "markdown",
   "id": "6234be5e",
   "metadata": {},
   "source": [
    "На Airbnb есть две основные группы пользователей:\n",
    "\n",
    "· Хозяева (хосты, hosts) – сдают жилье  \n",
    "· Путешественники (travelers) – снимают  \n",
    "Начнем с анализа характеристик хозяев в таблице listings!   \n",
    "\n",
    "Пользователи, сдающие квартиры на Airbnb, зарегистрировались в разное время. Кто-то – очень давно, а кто-то совсем недавно. Давайте проверим, в какой месяц и год зарегистрировалось наибольшее количество новых хостов. В качестве ответа введите дату следующего формата: 2010-12\n",
    "\n",
    "· host_id – идентификатор хозяина  \n",
    "· host_since – дата регистрации как хост  \n",
    "Note: Сам хост может встретиться в таблице несколько раз, если сдает несколько помещений, поэтому не забудьте оставить уникальные значения host_id. Также обратите внимание на тип данных в host_since, возможно вам пригодится toStartOfMonth() для извлечения части даты и toDateOrNull() для обработки пустых значений."
   ]
  },
  {
   "cell_type": "code",
   "execution_count": null,
   "id": "6e67d654",
   "metadata": {},
   "outputs": [],
   "source": [
    "SELECT toStartOfMonth(toDateOrNull(host_since)) AS StartMonth,\n",
    "       COUNT (DISTINCT  host_id) AS NumHosts \n",
    "  FROM listings\n",
    " GROUP BY StartMonth\n",
    " ORDER BY NumHosts DESC\n",
    " LIMIT 10"
   ]
  },
  {
   "cell_type": "markdown",
   "id": "24874b1f",
   "metadata": {},
   "source": [
    "### 2"
   ]
  },
  {
   "cell_type": "markdown",
   "id": "0aeffa7c",
   "metadata": {},
   "source": [
    "Посмотрим на среднюю частоту ответа среди хозяев (f) и суперхозяев (t).\n",
    "\n",
    "Значения частоты ответа хранятся как строки и включают значок %, который необходимо заменить на пустоту (''). После этого приведите столбец к нужному типу данных с помощью toInt32OrNull() и посчитайте среднюю частоту отклика в разбивке по тому, является ли хост суперхозяином или нет. В качестве ответа укажите наибольшее среднее.\n",
    "\n",
    "· host_response_rate – частота ответа  \n",
    "· host_is_superhost – является ли суперхозяином  \n",
    "Важный момент: у каждого host_id есть только одно уникальное значение частоты ответа, а также одна единая отметка суперхозяина. Чтобы посчитать показатели честно, нужно использовать подзапрос и взять уникальные комбинации с помощью DISTINCT."
   ]
  },
  {
   "cell_type": "code",
   "execution_count": null,
   "id": "f8b6676f",
   "metadata": {},
   "outputs": [],
   "source": [
    "SELECT host_is_superhost,\n",
    "       AVG(toInt32OrNull(replaceAll(host_response_rate, '%', ''))) AS AVG_rate\n",
    "  FROM (SELECT DISTINCT\n",
    "               host_id,\n",
    "               host_is_superhost,\n",
    "               host_response_rate\n",
    "          FROM listings\n",
    "       )\n",
    " WHERE host_is_superhost != ''\n",
    " GROUP BY host_is_superhost"
   ]
  },
  {
   "cell_type": "markdown",
   "id": "98a38289",
   "metadata": {},
   "source": [
    "### 3"
   ]
  },
  {
   "cell_type": "markdown",
   "id": "2981154d",
   "metadata": {},
   "source": [
    "Сгруппируйте данные из listings по хозяевам (host_id) и посчитайте, какую цену за ночь в среднем каждый из них устанавливает (у одного хоста может быть несколько объявлений). Идентификаторы сдаваемого жилья объедините в отдельный массив. Таблицу отсортируйте по убыванию средней цены и убыванию host_id (в таком порядке). В качестве ответа укажите первый массив в результирующей таблице, состоящий более чем из двух id.  \n",
    "· host_id – идентификатор хозяина  \n",
    "· id – идентификатор жилья  \n",
    "· price – цена за ночь в конкретном месте"
   ]
  },
  {
   "cell_type": "code",
   "execution_count": null,
   "id": "17adb9e8",
   "metadata": {},
   "outputs": [],
   "source": [
    "SELECT host_id,\n",
    "       AVG(toFloat32OrNull(replaceRegexpAll(price, '[$,]', ''))) AS AVG_price,\n",
    "       groupArray(id) AS host_listings\n",
    "  FROM listings\n",
    " GROUP BY host_id\n",
    " ORDER BY AVG_price DESC\n",
    " LIMIT 10"
   ]
  },
  {
   "cell_type": "markdown",
   "id": "45f4dde5",
   "metadata": {},
   "source": [
    "### 4"
   ]
  },
  {
   "cell_type": "markdown",
   "id": "187cb73c",
   "metadata": {},
   "source": [
    "Немного усложним предыдущую задачу, и посчитаем разницу между максимальной и минимальной установленной ценой у каждого хозяина. В качестве ответа укажите идентификатор хоста, у которого разница оказалась наибольшей. \n",
    "\n",
    "· host_id – идентификатор хозяина  \n",
    "· id – идентификатор жилья  \n",
    "· price – цена за ночь в конкретном месте  "
   ]
  },
  {
   "cell_type": "code",
   "execution_count": null,
   "id": "c11fb120",
   "metadata": {},
   "outputs": [],
   "source": [
    "SELECT host_id,\n",
    "       groupArray(id) AS host_listings,\n",
    "       MAX(toFloat32OrNull(replaceRegexpAll(price, '[$,]', ''))) AS MaxPricePerHost,\n",
    "       MIN(toFloat32OrNull(replaceRegexpAll(price, '[$,]', ''))) AS MinPricePerHost,\n",
    "       MaxPricePerHost - MinPricePerHost AS Diff_price\n",
    "  FROM listings\n",
    " GROUP BY host_id\n",
    " ORDER BY Diff_price DESC\n",
    " LIMIT 10"
   ]
  },
  {
   "cell_type": "markdown",
   "id": "2a48dca9",
   "metadata": {},
   "source": [
    "### 5"
   ]
  },
  {
   "cell_type": "markdown",
   "id": "03f9900c",
   "metadata": {},
   "source": [
    "Теперь сгруппируйте данные по типу жилья и выведите средние значения цены за ночь, размера депозита и цены уборки. Обратите внимание на тип данных, наличие значка $ и запятых в больших суммах. Для какого типа жилья среднее значение залога наибольшее? \n",
    "\n",
    "· room_type – тип сдаваемого жилья   \n",
    "· price – цена за ночь   \n",
    "· security_deposit – залог за сохранность имущества  \n",
    "· cleaning_fee – плата за уборку"
   ]
  },
  {
   "cell_type": "code",
   "execution_count": null,
   "id": "c6cb8fa2",
   "metadata": {},
   "outputs": [],
   "source": [
    "SELECT room_type,\n",
    "       AVG(toFloat32OrNull(replaceRegexpAll(price, '[$,]', ''))) AS AVG_price,\n",
    "       AVG(toFloat32OrNull(replaceRegexpAll(security_deposit, '[$,]', ''))) AS AVG_deposit,\n",
    "       AVG(toFloat32OrNull(replaceRegexpAll(cleaning_fee, '[$,]', ''))) AS AVG_clean\n",
    "  FROM listings\n",
    " GROUP BY room_type\n",
    " ORDER BY AVG_deposit DESC"
   ]
  },
  {
   "cell_type": "markdown",
   "id": "b452da57",
   "metadata": {},
   "source": [
    "### 6"
   ]
  },
  {
   "cell_type": "markdown",
   "id": "630fd379",
   "metadata": {},
   "source": [
    "Отлично! В каких частях города средняя стоимость за ночь является наиболее низкой? \n",
    "\n",
    "Сгруппируйте данные по neighbourhood_cleansed и посчитайте среднюю цену за ночь в каждом районе. В качестве ответа введите название места, где средняя стоимость за ночь ниже всего.\n",
    "\n",
    "· price – цена за ночь  \n",
    "· neighbourhood_cleansed – район/округ города\n"
   ]
  },
  {
   "cell_type": "code",
   "execution_count": null,
   "id": "add6ec77",
   "metadata": {},
   "outputs": [],
   "source": [
    "SELECT neighbourhood_cleansed,\n",
    "       AVG(toFloat32OrNull(replaceRegexpAll(price, '[$,]',''))) AS AVG_price\n",
    "  FROM listings\n",
    " GROUP BY neighbourhood_cleansed \n",
    " ORDER BY AVG_price \n",
    " LIMIT 10 "
   ]
  },
  {
   "cell_type": "markdown",
   "id": "d37611ba",
   "metadata": {},
   "source": [
    "### 7"
   ]
  },
  {
   "cell_type": "markdown",
   "id": "0283b653",
   "metadata": {},
   "source": [
    "В каких районах Берлина средняя площадь жилья, которое сдаётся целиком, является наибольшей? Отсортируйте по среднему и выберите топ-3. \n",
    "\n",
    "· neighbourhood_cleansed – район   \n",
    "· square_feet – площадь  \n",
    "· room_type – тип (нужный – 'Entire home/apt')"
   ]
  },
  {
   "cell_type": "code",
   "execution_count": null,
   "id": "dcdff14b",
   "metadata": {},
   "outputs": [],
   "source": [
    "SELECT neighbourhood_cleansed,\n",
    "       AVG(toFloat32OrNull(square_feet)) AS AVG_square\n",
    "  FROM listings\n",
    " WHERE room_type = 'Entire home/apt'\n",
    " GROUP BY neighbourhood_cleansed \n",
    " ORDER BY AVG_square DESC\n",
    " LIMIT 10"
   ]
  },
  {
   "cell_type": "markdown",
   "id": "17606afe",
   "metadata": {},
   "source": [
    "### 8"
   ]
  },
  {
   "cell_type": "markdown",
   "id": "35196c51",
   "metadata": {},
   "source": [
    "Напоследок давайте посмотрим, какая из представленных комнат расположена ближе всего к центру города. В качестве ответа укажите id объявления.\n",
    "\n",
    "· id – идентификатор жилья (объявления)  \n",
    "· room_type – тип жилья ('Private room')  \n",
    "· latitude – широта  \n",
    "· longitude – долгота  \n",
    "52.5200 с.ш., 13.4050 в.д – координаты центра Берлина"
   ]
  },
  {
   "cell_type": "code",
   "execution_count": null,
   "id": "061cb308",
   "metadata": {},
   "outputs": [],
   "source": [
    "SELECT id,\n",
    "       room_type,\n",
    "       toFloat64OrNull(latitude) AS latitude,\n",
    "       toFloat64OrNull(longitude) AS longitude,\n",
    "       geoDistance(52.5200, 13.4050, latitude, longitude) AS distance   \n",
    "  FROM listings\n",
    " WHERE room_type = 'Private room'\n",
    " ORDER BY distance ASC\n",
    " LIMIT 10"
   ]
  }
 ],
 "metadata": {
  "kernelspec": {
   "display_name": "Python 3 (ipykernel)",
   "language": "python",
   "name": "python3"
  },
  "language_info": {
   "codemirror_mode": {
    "name": "ipython",
    "version": 3
   },
   "file_extension": ".py",
   "mimetype": "text/x-python",
   "name": "python",
   "nbconvert_exporter": "python",
   "pygments_lexer": "ipython3",
   "version": "3.9.7"
  }
 },
 "nbformat": 4,
 "nbformat_minor": 5
}
