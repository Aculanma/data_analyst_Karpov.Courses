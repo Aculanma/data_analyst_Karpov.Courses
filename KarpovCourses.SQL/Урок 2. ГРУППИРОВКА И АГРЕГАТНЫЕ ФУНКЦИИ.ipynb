{
 "cells": [
  {
   "cell_type": "markdown",
   "id": "598dad66",
   "metadata": {},
   "source": [
    "# ГРУППИРОВКА И АГРЕГАТНЫЕ ФУНКЦИИ"
   ]
  },
  {
   "cell_type": "markdown",
   "id": "c8125cc8",
   "metadata": {},
   "source": [
    "В следующих задачах продолжим работать с данными мобильного приложения крупной розничной сети. В этих данных отражено то, как наше приложение устанавливают (__installs__), как активно в нем просматривают товары (events), как активно в нем покупают (checks), и данные о склейке устройств с логинами (__devices__)."
   ]
  },
  {
   "cell_type": "markdown",
   "id": "d6c30f27",
   "metadata": {},
   "source": [
    "Описание данных:"
   ]
  },
  {
   "cell_type": "markdown",
   "id": "17d62910",
   "metadata": {},
   "source": [
    "`installs` — содержит данные об установках приложения по дням.\n",
    "\n",
    "· DeviceID — идентификатор устройства, на которое было установлено приложение;  \n",
    "· InstallationDate — дата установки приложения;  \n",
    "· InstallCost — цена установки приложения в рублях;  \n",
    "· Platform — платформа, на которой было установлено приложение (iOS/ Android);  \n",
    "· Source — источник установки приложения (магазин приложения/ рекламная система/ переход с сайта).  \n",
    "\n",
    "`events` — содержит данные о том, как активно пользователи просматривают товары в приложении по дням.  \n",
    "\n",
    "· DeviceID — идентификатор устройства, на котором используется приложение;  \n",
    "· AppPlatform — платформа, на которой используется приложение (iOS/ Android);  \n",
    "· EventDate — дата, за которую собрана статистика;  \n",
    "· events — количество просмотров всех товаров за этот день у этого DeviceID.  \n",
    "  \n",
    "`checks` — содержит данные о покупках пользователей в приложении по дням  \n",
    "\n",
    "· UserID — идентификатор пользователя;  \n",
    "· Rub — суммарный чек пользователя на дату;  \n",
    "· BuyDate — дата, за которую собрана статистика.  \n",
    "\n",
    "Особенность приложения заключается в том, что для просмотра товаров не нужна авторизация. До момента авторизации про пользователя известен только его DeviceID — идентификатор устройства. При этом для совершения покупки логин обязателен. На моменте авторизации пользователю присваивается UserID, и тогда мы уже знаем два его идентификатора: DeviceID (устройство) и UserID (логин). Так как на этапах установки приложения и просмотра каталога пользователь еще может быть не авторизован, там мы сохраняем только DeviceID. Но так как покупки нельзя совершить без авторизации, то покупки сохраняются только с UserID. Для того чтобы просмотры и установки можно было объединить с покупками, нам нужна таблица соответствия DeviceID к UserID, то есть таблица `devices`:\n",
    "\n",
    "· DeviceID — идентификатор устройства;  \n",
    "· UserID — идентификатор пользователя."
   ]
  },
  {
   "cell_type": "markdown",
   "id": "7cfe4f11",
   "metadata": {},
   "source": [
    "### 1"
   ]
  },
  {
   "cell_type": "markdown",
   "id": "2f0959ed",
   "metadata": {},
   "source": [
    "Продолжим работать с таблицей checks!\n",
    "\n",
    "Посчитайте, сколько покупок приходится на каждого клиента, указав имя столбца как NumChecks. Результирующую таблицу с UserID, NumChecks отсортируйте по убыванию (DESC) нового столбца. Ограничение вывода – 10."
   ]
  },
  {
   "cell_type": "code",
   "execution_count": null,
   "id": "e5090ba6",
   "metadata": {},
   "outputs": [],
   "source": [
    "SELECT UserID, \n",
    "       COUNT(*) AS NumChecks\n",
    "  FROM checks\n",
    " GROUP BY UserID\n",
    " ORDER BY NumChecks DESC\n",
    " LIMIT 10"
   ]
  },
  {
   "cell_type": "markdown",
   "id": "ecd7d667",
   "metadata": {},
   "source": [
    "### 2"
   ]
  },
  {
   "cell_type": "markdown",
   "id": "5f5b655a",
   "metadata": {},
   "source": [
    "Давайте немного усложним задачу, и посчитаем ещё и сумму сделанных покупок в рублях (Rub).\n",
    "\n",
    "Выведите в результирующую таблицу UserID клиентов, количество сделанных покупок (NumChecks) и сумму потраченных денег (Revenue). Результат отсортируйте по убыванию Revenue, оставив 10 записей."
   ]
  },
  {
   "cell_type": "code",
   "execution_count": null,
   "id": "aa69952d",
   "metadata": {},
   "outputs": [],
   "source": [
    "SELECT UserID, \n",
    "       COUNT(1) AS NumChecks,\n",
    "       SUM(Rub) AS Revenue\n",
    "  FROM checks\n",
    " GROUP BY UserID\n",
    " ORDER BY NumChecks DESC\n",
    " LIMIT 10"
   ]
  },
  {
   "cell_type": "markdown",
   "id": "c2bd1da9",
   "metadata": {},
   "source": [
    "### 3"
   ]
  },
  {
   "cell_type": "markdown",
   "id": "368cfbc1",
   "metadata": {},
   "source": [
    "Теперь давайте попробуем с помощью группировки и агрегатных функций посмотреть динамику трат клиентов. Для этого нужно посчитать по дням минимальный, средний, и максимальный чек. Иными словами, необходимо сгруппироваться по датам, и использовать агрегатные функции MIN, AVG, MAX.\n",
    "\n",
    "Выведите минимальный (MinCheck), максимальный (MaxCheck) и средний (AvgCheck) чек по дням. В результирующей таблице используйте сортировку по убыванию (DESC) столбца BuyDate. Как и на предыдущем шаге, ограничение на вывод равно 10."
   ]
  },
  {
   "cell_type": "code",
   "execution_count": null,
   "id": "15c35510",
   "metadata": {},
   "outputs": [],
   "source": [
    "SELECT BuyDate,\n",
    "       MIN(Rub) AS MinCheck,\n",
    "       MAX(Rub) AS MaxCheck,\n",
    "       AVG(Rub) AS AvgCheck\n",
    "  FROM checks\n",
    " GROUP BY BuyDate\n",
    " ORDER BY BuyDate DESC\n",
    " LIMIT 10"
   ]
  },
  {
   "cell_type": "markdown",
   "id": "d000d1e2",
   "metadata": {},
   "source": [
    "### 4"
   ]
  },
  {
   "cell_type": "markdown",
   "id": "326c1a35",
   "metadata": {},
   "source": [
    "Представим, что для проведения новой акции нам потребовалось выгрузить сегмент пользователей, которые приносят наибольшую выручку.\n",
    "\n",
    "Найдите покупателей, сумма покупок которых превышает 10 000 рублей (Rub). Для этого сгруппируйте пользователей по UserID, затем примените нужную агрегатную функцию и назовите новую колонку Revenue. Отфильтруйте нужные значения, результат отсортируйте по убыванию UserID и выведите 10 строк."
   ]
  },
  {
   "cell_type": "code",
   "execution_count": null,
   "id": "6c1ad83e",
   "metadata": {},
   "outputs": [],
   "source": [
    "SELECT UserID,\n",
    "       SUM(Rub) AS Revenue\n",
    "  FROM checks\n",
    " GROUP BY UserID\n",
    "HAVING Revenue > 10000\n",
    " ORDER BY UserID DESC\n",
    " LIMIT 10"
   ]
  },
  {
   "cell_type": "markdown",
   "id": "0c4ee063",
   "metadata": {},
   "source": [
    "### 5"
   ]
  },
  {
   "cell_type": "markdown",
   "id": "2b0972dd",
   "metadata": {},
   "source": [
    "В этой и последующих задачах мы будем работать с таблицей `retail`.\n",
    "\n",
    "Таблица включает следующие поля: \n",
    "\n",
    "· InvoiceNo — идентификатор покупки  \n",
    "· StockCode — идентификатор товара на складе  \n",
    "· Description — текстовое описание товара  \n",
    "· Quantity — количество товара  \n",
    "· InvoiceDate — дата покупки  \n",
    "· UnitPrice — цена товара  \n",
    "· CustomerID — идентификатор покупателя  \n",
    "· Country — страна  \n",
    "\n",
    "Представим, что к вам пришел менеджер с проблемой: за последний месяц он наблюдает снижение выручки в некоторых регионах и хочет определить возможную причину этого снижения. Для начала можно сгруппировать данные о выручке по странам и найти среди них топ-5 стран по величине выручки, так как интереснее всего нам будет смотреть именно на данные этих стран.\n",
    "\n",
    "Посчитайте выручку (Revenue) по странам и отсортируйте таблицу в порядке убывания выручки."
   ]
  },
  {
   "cell_type": "code",
   "execution_count": null,
   "id": "dd8cf362",
   "metadata": {},
   "outputs": [],
   "source": [
    "SELECT Country,\n",
    "       SUM(Quantity * UnitPrice) AS Revenue\n",
    "  FROM retail\n",
    " GROUP BY Country\n",
    " ORDER BY Revenue DESC\n",
    " LIMIT 5"
   ]
  },
  {
   "cell_type": "markdown",
   "id": "2e5a03e0",
   "metadata": {},
   "source": [
    "### 6"
   ]
  },
  {
   "cell_type": "markdown",
   "id": "4754e518",
   "metadata": {},
   "source": [
    "В качестве более подробного описания выручки по странам можно посмотреть, каково среднее количество купленных товаров и средняя цена товара в покупках, совершенных в определенной стране.\n",
    "\n",
    "Посчитайте среднее число купленных товаров по стране и среднюю цену товара, сгруппировав данные по странам и используя агрегирующую функцию Avg, и отсортируйте по убыванию средней цены товара (DESC).\n",
    "\n",
    "Обратите внимание, что в данных встречаются строки с Description 'Manual', которые включают данные об удаленных из чека позициях. Для получения правильного ответа такие строки необходимо отфильтровать с использованием операторов WHERE и неравенства !=."
   ]
  },
  {
   "cell_type": "code",
   "execution_count": null,
   "id": "6d6a9dbf",
   "metadata": {},
   "outputs": [],
   "source": [
    "SELECT Country,\n",
    "       AVG(Quantity) AS AVG_quantity,\n",
    "       AVG(UnitPrice) AS AVG_price\n",
    "  FROM retail\n",
    " WHERE Description != 'Manual'\n",
    " GROUP BY Country\n",
    " ORDER BY AVG_price DESC"
   ]
  },
  {
   "cell_type": "markdown",
   "id": "a62b4923",
   "metadata": {},
   "source": [
    "### 7"
   ]
  },
  {
   "cell_type": "markdown",
   "id": "fe799f61",
   "metadata": {},
   "source": [
    "Теперь посмотрим на динамику общей суммы выручки по месяцам.\n",
    "\n",
    "Посчитайте выручку (Revenue) по месяцам (обратите внимание, что в таблице указана цена одной единицы товара и количество купленного товара), округлив InvoiceDate к началу месяца с помощью toStartOfMonth().\n",
    "\n",
    "Отсортируйте по убыванию (DESC) по столбцу Revenue."
   ]
  },
  {
   "cell_type": "code",
   "execution_count": null,
   "id": "5eb3367d",
   "metadata": {},
   "outputs": [],
   "source": [
    "SELECT toStartOfMonth(InvoiceDate) AS Month,\n",
    "       SUM(Quantity * UnitPrice) AS Revenue\n",
    "  FROM retail\n",
    " WHERE Description != 'Manual'\n",
    " GROUP BY toStartOfMonth(InvoiceDate)\n",
    " ORDER BY Revenue DESC"
   ]
  },
  {
   "cell_type": "markdown",
   "id": "de27a5c5",
   "metadata": {},
   "source": [
    "### 8"
   ]
  },
  {
   "cell_type": "markdown",
   "id": "6de77314",
   "metadata": {},
   "source": [
    "Давайте посмотрим на динамику выручки от покупателей, которые в среднем покупают самые дорогие товары.  В качестве целевой метрики будем использовать среднюю цену купленного товара (UnitPrice), данные посмотрим за март 2011 года.\n",
    "\n",
    "Посчитайте среднюю цену товара клиента (UnitPrice) с группировкой по id покупателя, используя агрегирующую функцию Avg, затем выведите строки с покупками тех покупателей, у которых самая высокая средняя цена купленного товара в марте. Не забывайте отфильтровать строки по условию Description != 'Manual'. В качестве ответа впишите CustomerID покупателя с самой высокой средней ценой купленного товара. "
   ]
  },
  {
   "cell_type": "code",
   "execution_count": null,
   "id": "2ecd7d7a",
   "metadata": {},
   "outputs": [],
   "source": [
    "SELECT CustomerID,\n",
    "       AVG(UnitPrice) AS avg_price\n",
    "  FROM retail\n",
    " WHERE Description!='Manual' \n",
    "   AND toStartOfMonth(InvoiceDate) = '2011-03-01'\n",
    " GROUP BY CustomerID\n",
    " ORDER BY avg_price DESC\n",
    " LIMIT 1"
   ]
  },
  {
   "cell_type": "markdown",
   "id": "a5b74307",
   "metadata": {},
   "source": [
    "### 9"
   ]
  },
  {
   "cell_type": "markdown",
   "id": "86e8e385",
   "metadata": {},
   "source": [
    "Давайте попробуем ответить на следующий вопрос: \"Как изменилось среднее, минимальное и максимальное количество купленного товара в стране с наибольшей выручкой в течение последних месяцев?\"\n",
    "\n",
    "Для этого нужно сгруппировать данные по странам и месяцам, посчитать среднее (Avg), минимальное (Min) и максимальное (Max) количество купленных товаров (Quantity), и отсортировать данные по месяцу, применить фильтр по стране (нам нужны данные из страны с наибольшей выручкой из задания 8 (step 8)). Если обратить внимание на полученное значение минимального количества товаров, то станет понятно, что там есть отрицательные значения, которые следует отфильтровать (также не забывайте отфильтровывать значения с Description != 'Manual')."
   ]
  },
  {
   "cell_type": "code",
   "execution_count": null,
   "id": "4cff6884",
   "metadata": {},
   "outputs": [],
   "source": [
    "SELECT toStartOfMonth(InvoiceDate) AS Month,\n",
    "       AVG(Quantity) AS AVG_quantity,\n",
    "       MIN(Quantity) AS Min_quantity,\n",
    "       MAX(Quantity) AS Max_quantity\n",
    "  FROM retail\n",
    " WHERE Description!='Manual' \n",
    "       AND Country = 'United Kingdom' \n",
    "       AND Quantity > 0\n",
    " GROUP BY Month\n",
    " ORDER BY AVG_quantity DESC"
   ]
  }
 ],
 "metadata": {
  "kernelspec": {
   "display_name": "Python 3 (ipykernel)",
   "language": "python",
   "name": "python3"
  },
  "language_info": {
   "codemirror_mode": {
    "name": "ipython",
    "version": 3
   },
   "file_extension": ".py",
   "mimetype": "text/x-python",
   "name": "python",
   "nbconvert_exporter": "python",
   "pygments_lexer": "ipython3",
   "version": "3.9.7"
  }
 },
 "nbformat": 4,
 "nbformat_minor": 5
}
