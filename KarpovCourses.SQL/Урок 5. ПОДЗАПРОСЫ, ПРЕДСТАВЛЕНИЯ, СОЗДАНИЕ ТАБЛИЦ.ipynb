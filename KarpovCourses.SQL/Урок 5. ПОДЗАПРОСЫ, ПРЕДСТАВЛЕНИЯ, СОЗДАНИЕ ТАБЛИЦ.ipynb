{
 "cells": [
  {
   "cell_type": "markdown",
   "id": "02cf8d8d",
   "metadata": {},
   "source": [
    "# ПОДЗАПРОСЫ, ПРЕДСТАВЛЕНИЯ, СОЗДАНИЕ ТАБЛИЦ"
   ]
  },
  {
   "cell_type": "markdown",
   "id": "6122705d",
   "metadata": {},
   "source": [
    "Далее в заданиях используются данные с платформы Airbnb в Берлине ✈️.\n",
    "\n",
    "Имеются следующие таблицы:\n",
    "    \n",
    "1. `listings` – информация о жилье, включая полные описания, характеристики и средние оценки в отзывах; поскольку столбцов очень много, нужные перечислены в текстах самих задач;  \n",
    "2. `calendar_summary` – информация о доступности и цене того или иного жилья по дням  \n",
    "    listing_id – идентификатор жилья (объявления)  \n",
    "    date       – дата  \n",
    "    available  – доступность жилья в данный день (t/f)  \n",
    "    price      – цена за ночь  \n",
    "\n",
    "3. `reviews` – отзывы  \n",
    "    listing_id   –  идентификатор жилья      \n",
    "    id  – id отзыва   \n",
    "    date  – дата отзыва      \n",
    "    reviewer_id  – id ревьюера (автора отзыва)  \n",
    "    reviewer_name  – имя автора  \n",
    "    comments – сам отзыв  "
   ]
  },
  {
   "cell_type": "markdown",
   "id": "5de40b0f",
   "metadata": {},
   "source": [
    "### 1"
   ]
  },
  {
   "cell_type": "markdown",
   "id": "b2d46bef",
   "metadata": {},
   "source": [
    "Подзапросы можно использовать в разных частях запроса, в том числе и в блоке WHERE. Потренируемся!"
   ]
  },
  {
   "cell_type": "markdown",
   "id": "990c66d7",
   "metadata": {},
   "source": [
    "Сначала оставьте только те объявления, в которых оценка на основе отзывов выше среднего, а число отзывов в месяц составляет строго меньше трёх. Затем отсортируйте по убыванию две колонки: сначала по числу отзывов в месяц, потом по оценке. В качестве ответа укажите id объявления из первой строки.\n",
    "\n",
    "· review_scores_rating – оценка на основе отзывов  \n",
    "· reviews_per_month – число отзывов в месяц  \n",
    "· id – идентификатор объявления"
   ]
  },
  {
   "cell_type": "code",
   "execution_count": null,
   "id": "867400d0",
   "metadata": {},
   "outputs": [],
   "source": [
    "SELECT id, \n",
    "       toFloat64OrNull(review_scores_rating) AS review_scores_rating,\n",
    "       reviews_per_month \n",
    "  FROM listings \n",
    " WHERE review_scores_rating > (SELECT AVG(toFloat64OrNull(review_scores_rating))\n",
    "                                 FROM listings) \n",
    "   AND reviews_per_month < 3\n",
    " ORDER BY reviews_per_month DESC,\n",
    "         review_scores_rating DESC\n",
    " LIMIT 100"
   ]
  },
  {
   "cell_type": "markdown",
   "id": "b3d7ad96",
   "metadata": {},
   "source": [
    "### 2"
   ]
  },
  {
   "cell_type": "markdown",
   "id": "19786e90",
   "metadata": {},
   "source": [
    "Посчитайте среднее расстояние до центра города и выведите идентификаторы объявлений о сдаче отдельных комнат, для которых расстояние оказалось меньше среднего. Результат отсортируйте по убыванию, тем самым выбрав комнату, которая является наиболее удаленной от центра, но при этом расположена ближе, чем остальные комнаты в среднем. \n",
    "\n",
    "· id – идентификатор объявления  \n",
    "· host_id – идентификатор хозяина  \n",
    "· room_type – тип жилья ('Private room')  \n",
    "· latitude – широта  \n",
    "· longitude – долгота  \n",
    "· 52.5200 с.ш., 13.4050 в.д – координаты центра Берлина  "
   ]
  },
  {
   "cell_type": "code",
   "execution_count": null,
   "id": "67e0e882",
   "metadata": {},
   "outputs": [],
   "source": [
    "SELECT id,\n",
    "       host_id,\n",
    "       latitude,\n",
    "       longitude,\n",
    "       geoDistance(13.4050, 52.5200, toFloat64OrNull(longitude), toFloat64OrNull(latitude)) AS distance\n",
    "  FROM listings\n",
    " WHERE distance < (SELECT AVG(geoDistance(13.4050, 52.5200, toFloat64OrNull(longitude), toFloat64OrNull(latitude))) \n",
    "                     FROM listings \n",
    "                    WHERE room_type = 'Private room')\n",
    " ORDER BY distance DESC\n",
    " LIMIT 10"
   ]
  },
  {
   "cell_type": "markdown",
   "id": "00c0d832",
   "metadata": {},
   "source": [
    "### 3"
   ]
  },
  {
   "cell_type": "markdown",
   "id": "db0872f8",
   "metadata": {},
   "source": [
    "Представим, что вы планируете снять жилье в Берлине на 7 дней, используя более хитрые фильтры, чем предлагаются на сайте.\n",
    "\n",
    "В этой задаче можно потренироваться в написании подзапросов, но задание можно решить и без них.\n",
    "\n",
    "Отберите объявления из таблицы listings, которые:\n",
    "\n",
    "· находятся на расстоянии от центра меньше среднего (здесь нам пригодится запрос из предыдущего задания)  \n",
    "· обойдутся дешевле 100$ в день (price с учетом cleaning_fee, который добавляется к общей сумме за неделю, т.е его нужно делить на кол-во дней)  \n",
    "· имеют последние отзывы (last_review), начиная с 1 сентября 2018 года  \n",
    "· имеют WiFi в списке удобств (amenities)  \n",
    "Отсортируйте полученные значения по убыванию review_scores_rating (не забудьте перевести строку к численному виду) и в качестве ответа укажите host_id из первой строки. "
   ]
  },
  {
   "cell_type": "code",
   "execution_count": null,
   "id": "b7ea8111",
   "metadata": {},
   "outputs": [],
   "source": [
    "SELECT id,\n",
    "       host_id,\n",
    "       geoDistance(13.4050, 52.5200, toFloat64OrNull(longitude), toFloat64OrNull(latitude)) AS distance,\n",
    "       toFloat32OrNull(review_scores_rating) AS review_scores_rating,\n",
    "       price,\n",
    "       cleaning_fee,\n",
    "       toFloat64OrNull(replaceRegexpAll(price,'[$,]','')) + toFloat64OrNull(replaceRegexpAll(cleaning_fee,'[$,]','')) / 7 AS price_per_week,\n",
    "       last_review,\n",
    "       amenities\n",
    "  FROM listings\n",
    " WHERE distance < (SELECT AVG(geoDistance(13.4050, 52.5200, toFloat64OrNull(longitude), toFloat64OrNull(latitude)))\n",
    "                     FROM listings)\n",
    "   AND price_per_week < 100\n",
    "   AND last_review >= '2018-09-01'\n",
    "   AND multiSearchAnyCaseInsensitive(amenities, ['wifi']) != 0\n",
    " ORDER BY review_scores_rating DESC\n",
    " LIMIT 10"
   ]
  },
  {
   "cell_type": "markdown",
   "id": "24c7a246",
   "metadata": {},
   "source": [
    "### 4"
   ]
  },
  {
   "cell_type": "markdown",
   "id": "33484a02",
   "metadata": {},
   "source": [
    "Давайте найдем в таблице calendar_summary те доступные (available='t') объявления, у которых число отзывов от уникальных пользователей в таблице reviews выше среднего.\n",
    "\n",
    "Для этого с помощью конструкции WITH посчитайте среднее число уникальных reviewer_id из таблицы reviews на каждое жильё, потом проведите джойн таблиц calendar_summary и reviews по полю listing_id (при этом из таблицы calendar_summary должны быть отобраны уникальные listing_id, отфильтрованные по правилу available='t'). Результат отфильтруйте так, чтобы остались только записи, у которых число отзывов от уникальных людей выше среднего.\n",
    "\n",
    "Отсортируйте результат по возрастанию listing_id и в качестве ответа впишите количество отзывов от уникальных пользователей из первой строки."
   ]
  },
  {
   "cell_type": "code",
   "execution_count": null,
   "id": "e5162efb",
   "metadata": {},
   "outputs": [],
   "source": [
    "WITH (SELECT AVG(review_num)\n",
    "        FROM (SELECT listing_id,\n",
    "                     COUNT (DISTINCT reviewer_id) AS review_num\n",
    "                FROM reviews\n",
    "               GROUP BY listing_id\n",
    "     )) AS AVG_review_num\n",
    "SELECT listing_id,\n",
    "       review_num\n",
    "  FROM (SELECT listing_id\n",
    "          FROM calendar_summary\n",
    "         WHERE available = 't'\n",
    "         GROUP BY listing_id\n",
    "       ) AS l\n",
    "  JOIN \n",
    "       (SELECT listing_id,\n",
    "               COUNT(DISTINCT reviewer_id) AS review_num\n",
    "          FROM reviews\n",
    "         GROUP BY listing_id\n",
    "       ) AS r\n",
    "    ON l.listing_id = r.listing_id\n",
    " WHERE review_num > AVG_review_num\n",
    " ORDER BY listing_id\n",
    " LIMIT 10"
   ]
  },
  {
   "cell_type": "markdown",
   "id": "954824bb",
   "metadata": {},
   "source": [
    "Возвращаемся к данными мобильного приложения!\n",
    "\n",
    "`installs` — содержит данные об установках приложения по дням.\n",
    "\n",
    "· DeviceID — идентификатор устройства, на которое было установлено приложение;  \n",
    "· InstallationDate — дата установки приложения;  \n",
    "· InstallCost — цена установки приложения в рублях;  \n",
    "· Platform — платформа, на которой было установлено приложение (iOS/ Android);  \n",
    "· Source — источник установки приложения (магазин приложения/ рекламная система/ переход с сайта).  \n",
    "\n",
    "`events` — содержит данные о том, как активно пользователи просматривают товары в приложении по дням.  \n",
    "\n",
    "· DeviceID — идентификатор устройства, на котором используется приложение;  \n",
    "· AppPlatform — платформа, на которой используется приложение (iOS/ Android);  \n",
    "· EventDate — дата, за которую собрана статистика;  \n",
    "· events — количество просмотров всех товаров за этот день у этого DeviceID.  \n",
    "\n",
    "`checks` — содержит данные о покупках пользователей в приложении по дням  \n",
    "  \n",
    "· UserID — идентификатор пользователя;  \n",
    "· Rub — суммарный чек пользователя на дату;  \n",
    "· BuyDate — дата, за которую собрана статистика.  \n",
    "   \n",
    "`devices` – чтобы просмотры и установки можно было объединить с покупками  \n",
    "\n",
    "· DeviceID — идентификатор устройства;  \n",
    "· UserID — идентификатор пользователя.  "
   ]
  },
  {
   "cell_type": "markdown",
   "id": "c890a702",
   "metadata": {},
   "source": [
    "### 5"
   ]
  },
  {
   "cell_type": "markdown",
   "id": "84d12d1b",
   "metadata": {},
   "source": [
    "С помощью оператора CASE в SQL можно составлять условные конструкции, выполнять проверку условий и возвращать результат в зависимости от их выполнения. Самих условий под оператором WHEN может быть сколько угодно, конструкцию необходимо завершить оператором END."
   ]
  },
  {
   "cell_type": "markdown",
   "id": "b6bf5c4b",
   "metadata": {},
   "source": [
    "Какие из перечисленных условных конструкций составлены некорректно?\n",
    "\n",
    "__· WHERE price > 1000 THEN 'ok' ELSE 'not ok' END__   \n",
    "__· CASE WHEN price > 1000 THEN 'ok' ELSE 'not ok'__    \n",
    "· CASE WHEN price>1000 THEN 'ok' WHEN price<500 THEN 'not ok' ELSE 'normal' END"
   ]
  },
  {
   "cell_type": "markdown",
   "id": "f7df3855",
   "metadata": {},
   "source": [
    "### 6"
   ]
  },
  {
   "cell_type": "markdown",
   "id": "ff4ab2a1",
   "metadata": {},
   "source": [
    "Теперь задача! Используйте таблицу checks и разделите всех покупателей на сегменты:\n",
    "\n",
    "NB! Правые границы берутся не включительно, например, чек в 10 рублей будет относиться к сегменту С\n",
    "\n",
    "А — средний чек покупателя менее 5 ₽  \n",
    "B — средний чек покупателя от 5-10 ₽  \n",
    "C — средний чек покупателя от 10-20 ₽    \n",
    "D — средний чек покупателя от 20 ₽  \n",
    "Отсортируйте результирующую таблицу по возрастанию UserID и укажите сегмент четвертого пользователя."
   ]
  },
  {
   "cell_type": "code",
   "execution_count": null,
   "id": "501331c7",
   "metadata": {},
   "outputs": [],
   "source": [
    "SELECT UserID, \n",
    "       AVG(Rub) AS AVG_check,\n",
    "       CASE WHEN AVG_check < 5 THEN 'A'\n",
    "            WHEN 5 <= AVG_check AND AVG_check < 10 THEN 'B'\n",
    "            WHEN 10 <= AVG_check AND AVG_check < 20 THEN 'C'\n",
    "            ELSE 'D'\n",
    "       END AS abcd\n",
    "  FROM checks\n",
    " GROUP BY UserID\n",
    " ORDER BY UserID \n",
    " LIMIT 10"
   ]
  },
  {
   "cell_type": "markdown",
   "id": "e00ab6b0",
   "metadata": {},
   "source": [
    "### 7"
   ]
  },
  {
   "cell_type": "markdown",
   "id": "d88759f3",
   "metadata": {},
   "source": [
    "Используйте предыдущий запрос как подзапрос и посчитайте, сколько клиентов приходится на каждый сегмент и сколько доходов он приносит. Отсортируйте результат по убыванию суммы доходов на сегмент и в качестве ответа укажите наибольшую сумму."
   ]
  },
  {
   "cell_type": "code",
   "execution_count": null,
   "id": "8239372e",
   "metadata": {},
   "outputs": [],
   "source": [
    "SELECT segment, \n",
    "       COUNT(UserID) AS users,\n",
    "       SUM(SUM_rub) AS SUM_per_segment\n",
    "  FROM (SELECT UserID, \n",
    "               AVG(Rub) AS AVG_check,\n",
    "               SUM(Rub) AS SUM_rub,\n",
    "               CASE WHEN AVG_check < 5 THEN 'A'\n",
    "                    WHEN 5 <= AVG_check AND AVG_check < 10 THEN 'B'\n",
    "                    WHEN 10 <= AVG_check AND AVG_check < 20 THEN 'C'\n",
    "                    ELSE 'D'\n",
    "                END AS segment\n",
    "          FROM checks\n",
    "         GROUP BY UserID\n",
    "         ORDER BY UserID \n",
    "       )\n",
    " GROUP BY segment\n",
    " ORDER BY SUM_per_segment DESC"
   ]
  },
  {
   "cell_type": "markdown",
   "id": "91a275d1",
   "metadata": {},
   "source": [
    "### 8"
   ]
  },
  {
   "cell_type": "markdown",
   "id": "d051478b",
   "metadata": {},
   "source": [
    "Вернемся к таблице AirBnb. Предположим, что в выборе жилья нас интересует только два параметра: наличие кухни (kitchen) и гибкой системы отмены (flexible), причем первый в приоритете.\n",
    "\n",
    "Создайте с помощью оператора CASE колонку с обозначением группы, в которую попадает жилье из таблицы listings:\n",
    "\n",
    "1. 'good', если в удобствах (amenities) присутствует кухня и система отмены (cancellation_policy) гибкая\n",
    "2. 'ok', если в удобствах есть кухня, но система отмены не гибкая\n",
    "3. 'not ok' во всех остальных случаях  \n",
    "\n",
    "Результат отсортируйте по новой колонке по возрастанию, установите ограничение в 5 строк, в качестве ответа укажите host_id первой строки.\n",
    "\n",
    "Обратите внимание, что cancellation_policy - это отдельная колонка, по ней необходимо смотреть систему отмены"
   ]
  },
  {
   "cell_type": "code",
   "execution_count": null,
   "id": "9606ae47",
   "metadata": {},
   "outputs": [],
   "source": [
    "SELECT host_id,\n",
    "       CASE WHEN multiSearchAnyCaseInsensitive(amenities, ['kitchen']) \n",
    "             AND cancellation_policy = 'flexible' THEN 'good'\n",
    "            WHEN multiSearchAnyCaseInsensitive(amenities, ['kitchen']) \n",
    "             AND cancellation_policy != 'flexible' THEN 'ok'\n",
    "            ELSE 'not ok'\n",
    "        END AS needs\n",
    "  FROM listings\n",
    " ORDER BY needs \n",
    " LIMIT 5"
   ]
  },
  {
   "cell_type": "markdown",
   "id": "12b65f0e",
   "metadata": {},
   "source": [
    "### 9"
   ]
  },
  {
   "cell_type": "markdown",
   "id": "88a84c57",
   "metadata": {},
   "source": [
    "Напишите запрос для создания таблицы со следующими параметрами, также подобрав подходящий тип данных.\n",
    "\n",
    "Название таблицы: `reviews`  \n",
    "База данных: test  \n",
    "Столбцы:\n",
    "- listing_id – идентификатор объявления, может быть только положительным и целым числом, 32-битный тип данных\n",
    "\n",
    "- id – идентификатор хозяина, может быть только положительным и целым числом, 32-битный тип данных\n",
    "\n",
    "- created_at – дата со временем (2020-01-01 00:00:00), часовой пояс – 'Europe/Moscow'\n",
    "\n",
    "- reviewer_id – идентификатор ревьюера, может быть только положительным и целым числом, 32-битный тип данных\n",
    "\n",
    "- reviewer_name – имя того, кто оставил отзыв\n",
    "\n",
    "- comments - текст отзыва\n",
    "\n",
    "Движок: MergeTree  \n",
    "Сортировка: listing_id, id  "
   ]
  },
  {
   "cell_type": "code",
   "execution_count": null,
   "id": "cd8610a3",
   "metadata": {},
   "outputs": [],
   "source": [
    "CREATE TABLE test.reviews (listing_id UInt32,\n",
    "                                   id UInt32,\n",
    "                                 date DateTime('Europe/Moscow'),\n",
    "                          reviewer_id UInt32,\n",
    "                        reviewer_name String,\n",
    "                             comments String\n",
    "                          )\n",
    "Engine = MergeTree \n",
    "ORDER BY (listing_id, id) "
   ]
  },
  {
   "cell_type": "markdown",
   "id": "c6c32e21",
   "metadata": {},
   "source": [
    "### 10"
   ]
  },
  {
   "cell_type": "markdown",
   "id": "bd5908a4",
   "metadata": {},
   "source": [
    "К вам пришел коллега с новостями: оказывается, в поле date будет записываться только дата, без времени, поэтому нужно изменить тип данных!\n",
    "\n",
    "Напишите запрос, который модифицирует тип данных, и введите его в поле ниже без кавычек и лишних пробелов. Не забудьте указать базу данных test перед названием таблицы! "
   ]
  },
  {
   "cell_type": "code",
   "execution_count": null,
   "id": "1cbe493f",
   "metadata": {},
   "outputs": [],
   "source": [
    "ALTER TABLE test.reviews MODIFY COLUMN date Date"
   ]
  },
  {
   "cell_type": "markdown",
   "id": "dc5614b5",
   "metadata": {},
   "source": [
    "### 11"
   ]
  },
  {
   "cell_type": "markdown",
   "id": "aab1d4ba",
   "metadata": {},
   "source": [
    "Предположим, ваш коллега вставил данные, но что-то перепутал. Часть строк с комментариями осталась совершенно пустой! \n",
    "\n",
    "Напишите запрос, который удалит из таблицы test.reviews те строки, где в столбце comments встречаются пустые значения (''). Введите его в поле ниже без кавычек и лишних пробелов."
   ]
  },
  {
   "cell_type": "code",
   "execution_count": null,
   "id": "a5674d54",
   "metadata": {},
   "outputs": [],
   "source": [
    "ALTER TABLE test.reviews DELETE WHERE comments=''"
   ]
  },
  {
   "cell_type": "markdown",
   "id": "b0747d84",
   "metadata": {},
   "source": [
    "### 12"
   ]
  },
  {
   "cell_type": "markdown",
   "id": "a35b5d82",
   "metadata": {},
   "source": [
    "С помощью какого запроса можно создать обычное представление над таблицей test.reviews, которое будет содержать все записи из test.reviews, сгруппированные по reviewer_id с подсчитанным количеством отзывов (id) на каждого пользователя?"
   ]
  },
  {
   "cell_type": "code",
   "execution_count": null,
   "id": "445af8d0",
   "metadata": {},
   "outputs": [],
   "source": [
    "CREATE VIEW test.reviews_number AS (SELECT reviewer_id, COUNT(id) reviews_count FROM test.reviews GROUP BY reviewer_id)"
   ]
  },
  {
   "cell_type": "markdown",
   "id": "2870ba58",
   "metadata": {},
   "source": [
    "### 13"
   ]
  },
  {
   "cell_type": "markdown",
   "id": "d334708e",
   "metadata": {},
   "source": [
    "С помощью какого запроса можно создать новый столбец reviewer_score в таблице reviews после столбца reviewer_name?"
   ]
  },
  {
   "cell_type": "code",
   "execution_count": null,
   "id": "d53f2923",
   "metadata": {},
   "outputs": [],
   "source": [
    "ALTER TABLE test.reviews ADD COLUMN reviewer_score UInt8 AFTER reviewer_name"
   ]
  },
  {
   "cell_type": "markdown",
   "id": "0785d095",
   "metadata": {},
   "source": [
    "### 14"
   ]
  },
  {
   "cell_type": "markdown",
   "id": "1b601bac",
   "metadata": {},
   "source": [
    "Напишите запрос для добавления в таблицу test.reviews колонки price после колонки comments, которая может быть числом с плавающей точкой, 32-битный тип данных."
   ]
  },
  {
   "cell_type": "code",
   "execution_count": null,
   "id": "f0cf223e",
   "metadata": {},
   "outputs": [],
   "source": [
    "ALTER TABLE test.reviews ADD COLUMN price Float32 AFTER comments"
   ]
  },
  {
   "cell_type": "markdown",
   "id": "57fab5ce",
   "metadata": {},
   "source": [
    "#### 15"
   ]
  },
  {
   "cell_type": "markdown",
   "id": "3790c297",
   "metadata": {},
   "source": [
    "Напишите запрос, который удвоит price для всех строк с датой (date) после 2019-01-01.\n",
    "\n",
    "Обратите внимание, что для сравнения с датой в формате '2019-01-01' можно не преобразовывать данные в колонке date."
   ]
  },
  {
   "cell_type": "code",
   "execution_count": null,
   "id": "b3869817",
   "metadata": {},
   "outputs": [],
   "source": [
    "ALTER TABLE test.reviews UPDATE price=price*2 WHERE date>'2019-01-01'"
   ]
  }
 ],
 "metadata": {
  "kernelspec": {
   "display_name": "Python 3 (ipykernel)",
   "language": "python",
   "name": "python3"
  },
  "language_info": {
   "codemirror_mode": {
    "name": "ipython",
    "version": 3
   },
   "file_extension": ".py",
   "mimetype": "text/x-python",
   "name": "python",
   "nbconvert_exporter": "python",
   "pygments_lexer": "ipython3",
   "version": "3.9.7"
  }
 },
 "nbformat": 4,
 "nbformat_minor": 5
}
