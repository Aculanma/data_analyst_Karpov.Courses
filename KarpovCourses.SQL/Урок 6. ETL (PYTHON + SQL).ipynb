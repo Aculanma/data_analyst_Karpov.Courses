{
 "cells": [
  {
   "cell_type": "markdown",
   "id": "8684cb57",
   "metadata": {},
   "source": [
    "# Урок 6. ETL (PYTHON + SQL)"
   ]
  },
  {
   "cell_type": "markdown",
   "id": "efa797d6",
   "metadata": {},
   "source": [
    "Применим знания на практике: с помощью pandahouse попробуем выгрузить нужные данные из ClickHouse и проанализируем их в python. \n",
    "\n",
    "На этот раз новый датасет, содержащий информацию об объявлениях на Airbnb в Лондоне 🇬🇧.\n",
    "\n",
    "`ldn_listings` – информация о жилье, включая полные описания, характеристики и средние оценки в отзывах; поскольку столбцов очень много, нужные перечислены в текстах самих задач"
   ]
  },
  {
   "cell_type": "code",
   "execution_count": 15,
   "id": "b9c9ea29",
   "metadata": {},
   "outputs": [],
   "source": [
    "import pandahouse as ph\n",
    "import pandas as pd\n",
    "import seaborn as sns\n",
    "import numpy as np\n",
    "import pandahouse as ph\n",
    "import matplotlib.pyplot as plt\n",
    "\n",
    "sns.set(rc={'figure.figsize':(16,6)}, style='whitegrid')"
   ]
  },
  {
   "cell_type": "markdown",
   "id": "8df2698a",
   "metadata": {},
   "source": [
    "### 1"
   ]
  },
  {
   "cell_type": "markdown",
   "id": "467603d3",
   "metadata": {},
   "source": [
    "Для начала, проверим правильность подключения к ClickHouse через pandahouse, отправив простой запрос: выведите количество строк в таблице ldn_listings."
   ]
  },
  {
   "cell_type": "code",
   "execution_count": 2,
   "id": "b49ab009",
   "metadata": {},
   "outputs": [],
   "source": [
    "import pandahouse as ph\n",
    "connection = {'database':'default',\n",
    "              'host': 'http://clickhouse.beslan.pro:8080',\n",
    "              'user':'student', \n",
    "              'password':'dpo_python_2020'\n",
    "             }"
   ]
  },
  {
   "cell_type": "code",
   "execution_count": 25,
   "id": "56ce691d",
   "metadata": {},
   "outputs": [],
   "source": [
    "q1 = \"\"\"\n",
    "     SELECT COUNT(*) AS rows\n",
    "       FROM ldn_listings\n",
    "     \"\"\""
   ]
  },
  {
   "cell_type": "code",
   "execution_count": 29,
   "id": "e464fa16",
   "metadata": {},
   "outputs": [
    {
     "data": {
      "text/html": [
       "<div>\n",
       "<style scoped>\n",
       "    .dataframe tbody tr th:only-of-type {\n",
       "        vertical-align: middle;\n",
       "    }\n",
       "\n",
       "    .dataframe tbody tr th {\n",
       "        vertical-align: top;\n",
       "    }\n",
       "\n",
       "    .dataframe thead th {\n",
       "        text-align: right;\n",
       "    }\n",
       "</style>\n",
       "<table border=\"1\" class=\"dataframe\">\n",
       "  <thead>\n",
       "    <tr style=\"text-align: right;\">\n",
       "      <th></th>\n",
       "      <th>rows</th>\n",
       "    </tr>\n",
       "  </thead>\n",
       "  <tbody>\n",
       "    <tr>\n",
       "      <th>0</th>\n",
       "      <td>85207</td>\n",
       "    </tr>\n",
       "  </tbody>\n",
       "</table>\n",
       "</div>"
      ],
      "text/plain": [
       "    rows\n",
       "0  85207"
      ]
     },
     "execution_count": 29,
     "metadata": {},
     "output_type": "execute_result"
    }
   ],
   "source": [
    "q_test1 = ph.read_clickhouse(query=q1, connection=connection)\n",
    "q_test1"
   ]
  },
  {
   "cell_type": "markdown",
   "id": "a482fff7",
   "metadata": {},
   "source": [
    "### 2"
   ]
  },
  {
   "cell_type": "markdown",
   "id": "9d1a34d0",
   "metadata": {},
   "source": [
    "Выгрузите из таблицы данные о цене в зависимости от типа жилья. Необходимые столбцы:\n",
    "\n",
    "· price – цена за ночь  \n",
    "· room_type – тип сдаваемого жилья (доступные варианты: Entire home/apt, Private room, Hotel room, Shared room)  \n",
    "Ограничение поставьте на 1000 строк. Результат должен быть отсортирован по возрастанию id.\n",
    "\n",
    "Пример результирующей таблицы:"
   ]
  },
  {
   "cell_type": "code",
   "execution_count": null,
   "id": "48766961",
   "metadata": {},
   "outputs": [],
   "source": [
    "+-----------------+------------+\n",
    "| room_type       | price      |\n",
    "+-----------------+------------+\n",
    "| Private room    |         65 | \n",
    "| Entire home/apt |        100 | \n",
    "+-----------------+------------+"
   ]
  },
  {
   "cell_type": "markdown",
   "id": "533e79b5",
   "metadata": {},
   "source": [
    "Сгруппируйте полученный датафрейм по типу жилья и посчитайте 75-й перцентиль цены.\n",
    "\n",
    "В качестве ответа впишите полученное значение 75 перцентиля цены для комнат типа Private room."
   ]
  },
  {
   "cell_type": "code",
   "execution_count": 28,
   "id": "4cfb406c",
   "metadata": {},
   "outputs": [],
   "source": [
    "q2 = \"\"\"\n",
    "     SELECT room_type,\n",
    "            toFloat32OrNull(replaceRegexpAll(price, '[$,]','')) AS price\n",
    "       FROM ldn_listings \n",
    "      ORDER BY id\n",
    "      LIMIT 1000     \n",
    "      \"\"\""
   ]
  },
  {
   "cell_type": "code",
   "execution_count": 30,
   "id": "481e8ed3",
   "metadata": {},
   "outputs": [
    {
     "data": {
      "text/html": [
       "<div>\n",
       "<style scoped>\n",
       "    .dataframe tbody tr th:only-of-type {\n",
       "        vertical-align: middle;\n",
       "    }\n",
       "\n",
       "    .dataframe tbody tr th {\n",
       "        vertical-align: top;\n",
       "    }\n",
       "\n",
       "    .dataframe thead th {\n",
       "        text-align: right;\n",
       "    }\n",
       "</style>\n",
       "<table border=\"1\" class=\"dataframe\">\n",
       "  <thead>\n",
       "    <tr style=\"text-align: right;\">\n",
       "      <th></th>\n",
       "      <th>room_type</th>\n",
       "      <th>price</th>\n",
       "    </tr>\n",
       "  </thead>\n",
       "  <tbody>\n",
       "    <tr>\n",
       "      <th>0</th>\n",
       "      <td>Private room</td>\n",
       "      <td>65.0</td>\n",
       "    </tr>\n",
       "    <tr>\n",
       "      <th>1</th>\n",
       "      <td>Entire home/apt</td>\n",
       "      <td>100.0</td>\n",
       "    </tr>\n",
       "    <tr>\n",
       "      <th>2</th>\n",
       "      <td>Entire home/apt</td>\n",
       "      <td>300.0</td>\n",
       "    </tr>\n",
       "    <tr>\n",
       "      <th>3</th>\n",
       "      <td>Private room</td>\n",
       "      <td>150.0</td>\n",
       "    </tr>\n",
       "    <tr>\n",
       "      <th>4</th>\n",
       "      <td>Entire home/apt</td>\n",
       "      <td>65.0</td>\n",
       "    </tr>\n",
       "    <tr>\n",
       "      <th>...</th>\n",
       "      <td>...</td>\n",
       "      <td>...</td>\n",
       "    </tr>\n",
       "    <tr>\n",
       "      <th>995</th>\n",
       "      <td>Entire home/apt</td>\n",
       "      <td>110.0</td>\n",
       "    </tr>\n",
       "    <tr>\n",
       "      <th>996</th>\n",
       "      <td>Entire home/apt</td>\n",
       "      <td>110.0</td>\n",
       "    </tr>\n",
       "    <tr>\n",
       "      <th>997</th>\n",
       "      <td>Private room</td>\n",
       "      <td>65.0</td>\n",
       "    </tr>\n",
       "    <tr>\n",
       "      <th>998</th>\n",
       "      <td>Entire home/apt</td>\n",
       "      <td>100.0</td>\n",
       "    </tr>\n",
       "    <tr>\n",
       "      <th>999</th>\n",
       "      <td>Entire home/apt</td>\n",
       "      <td>80.0</td>\n",
       "    </tr>\n",
       "  </tbody>\n",
       "</table>\n",
       "<p>1000 rows × 2 columns</p>\n",
       "</div>"
      ],
      "text/plain": [
       "           room_type  price\n",
       "0       Private room   65.0\n",
       "1    Entire home/apt  100.0\n",
       "2    Entire home/apt  300.0\n",
       "3       Private room  150.0\n",
       "4    Entire home/apt   65.0\n",
       "..               ...    ...\n",
       "995  Entire home/apt  110.0\n",
       "996  Entire home/apt  110.0\n",
       "997     Private room   65.0\n",
       "998  Entire home/apt  100.0\n",
       "999  Entire home/apt   80.0\n",
       "\n",
       "[1000 rows x 2 columns]"
      ]
     },
     "execution_count": 30,
     "metadata": {},
     "output_type": "execute_result"
    }
   ],
   "source": [
    "q_test2 = ph.read_clickhouse(query=q2, connection=connection)\n",
    "q_test2"
   ]
  },
  {
   "cell_type": "code",
   "execution_count": 31,
   "id": "3f5bd004",
   "metadata": {},
   "outputs": [
    {
     "data": {
      "text/plain": [
       "room_type     object\n",
       "price        float32\n",
       "dtype: object"
      ]
     },
     "execution_count": 31,
     "metadata": {},
     "output_type": "execute_result"
    }
   ],
   "source": [
    "q_test2.dtypes"
   ]
  },
  {
   "cell_type": "code",
   "execution_count": 39,
   "id": "2702d984",
   "metadata": {},
   "outputs": [],
   "source": [
    "df2 = q_test2.groupby(\"room_type\").quantile(q=0.75).reset_index()"
   ]
  },
  {
   "cell_type": "code",
   "execution_count": 40,
   "id": "7b1f3b85",
   "metadata": {},
   "outputs": [
    {
     "data": {
      "text/html": [
       "<div>\n",
       "<style scoped>\n",
       "    .dataframe tbody tr th:only-of-type {\n",
       "        vertical-align: middle;\n",
       "    }\n",
       "\n",
       "    .dataframe tbody tr th {\n",
       "        vertical-align: top;\n",
       "    }\n",
       "\n",
       "    .dataframe thead th {\n",
       "        text-align: right;\n",
       "    }\n",
       "</style>\n",
       "<table border=\"1\" class=\"dataframe\">\n",
       "  <thead>\n",
       "    <tr style=\"text-align: right;\">\n",
       "      <th></th>\n",
       "      <th>room_type</th>\n",
       "      <th>price</th>\n",
       "    </tr>\n",
       "  </thead>\n",
       "  <tbody>\n",
       "    <tr>\n",
       "      <th>2</th>\n",
       "      <td>Private room</td>\n",
       "      <td>70.0</td>\n",
       "    </tr>\n",
       "  </tbody>\n",
       "</table>\n",
       "</div>"
      ],
      "text/plain": [
       "      room_type  price\n",
       "2  Private room   70.0"
      ]
     },
     "execution_count": 40,
     "metadata": {},
     "output_type": "execute_result"
    }
   ],
   "source": [
    "df2.query('room_type == \"Private room\"') # df[df['room_type'] == 'Private room']"
   ]
  },
  {
   "cell_type": "markdown",
   "id": "35b83d65",
   "metadata": {},
   "source": [
    "### 3"
   ]
  },
  {
   "cell_type": "markdown",
   "id": "1eed2e20",
   "metadata": {},
   "source": [
    "К данным о цене и типе комнаты дополнительно выгрузите данные о рейтинге жилья (review_scores_rating). В запросе необходимо будет отфильтровать пустые значения review_scores_rating и сконвертировать эту колонку в тип float32.\n",
    "\n",
    "Давайте построим график рассеивания, который покажет зависимость средней цены от средней оценки в зависимости от типа жилья. Ограничение поставьте на 1000 строк. \n",
    "\n",
    "Исходная таблица должна выглядеть так:"
   ]
  },
  {
   "cell_type": "code",
   "execution_count": null,
   "id": "fa29fc91",
   "metadata": {},
   "outputs": [],
   "source": [
    "+-----------------+------------+--------------------+\n",
    "| room_type       | price      |review_scores_rating|\n",
    "+-----------------+------------+--------------------+\n",
    "| Private room    |         65 | 96.0               |\n",
    "| Entire home/apt |        100 | 78.0               |\n",
    "+-----------------+------------+--------------------+"
   ]
  },
  {
   "cell_type": "markdown",
   "id": "9ba77945",
   "metadata": {},
   "source": [
    "1. сгруппируйте датафрейм по типу жилья и посчитайте среднее для цены и рейтинга (не забудьте привести рейтинг к типу float)\n",
    "\n",
    "2. используйте sns.scatterplot, чтобы построить график рассеивания средней цены (ось X) и рейтинга (ось Y) c разбивкой по типу жилья (параметр hue)"
   ]
  },
  {
   "cell_type": "code",
   "execution_count": 42,
   "id": "8454b1b9",
   "metadata": {},
   "outputs": [],
   "source": [
    "q3 = \"\"\"\n",
    "     SELECT room_type,\n",
    "            toFloat32OrNull(replaceRegexpAll(price, '[$,]','')) AS price,\n",
    "            toFloat32OrNull(review_scores_rating) AS review_scores_rating\n",
    "       FROM ldn_listings \n",
    "      WHERE review_scores_rating IS NOT Null\n",
    "      ORDER BY id\n",
    "      LIMIT 1000     \n",
    "      \"\"\""
   ]
  },
  {
   "cell_type": "code",
   "execution_count": 43,
   "id": "b6ebf10b",
   "metadata": {},
   "outputs": [
    {
     "data": {
      "text/html": [
       "<div>\n",
       "<style scoped>\n",
       "    .dataframe tbody tr th:only-of-type {\n",
       "        vertical-align: middle;\n",
       "    }\n",
       "\n",
       "    .dataframe tbody tr th {\n",
       "        vertical-align: top;\n",
       "    }\n",
       "\n",
       "    .dataframe thead th {\n",
       "        text-align: right;\n",
       "    }\n",
       "</style>\n",
       "<table border=\"1\" class=\"dataframe\">\n",
       "  <thead>\n",
       "    <tr style=\"text-align: right;\">\n",
       "      <th></th>\n",
       "      <th>room_type</th>\n",
       "      <th>price</th>\n",
       "      <th>review_scores_rating</th>\n",
       "    </tr>\n",
       "  </thead>\n",
       "  <tbody>\n",
       "    <tr>\n",
       "      <th>0</th>\n",
       "      <td>Private room</td>\n",
       "      <td>65.0</td>\n",
       "      <td>97.0</td>\n",
       "    </tr>\n",
       "    <tr>\n",
       "      <th>1</th>\n",
       "      <td>Entire home/apt</td>\n",
       "      <td>100.0</td>\n",
       "      <td>96.0</td>\n",
       "    </tr>\n",
       "    <tr>\n",
       "      <th>2</th>\n",
       "      <td>Entire home/apt</td>\n",
       "      <td>300.0</td>\n",
       "      <td>94.0</td>\n",
       "    </tr>\n",
       "    <tr>\n",
       "      <th>3</th>\n",
       "      <td>Entire home/apt</td>\n",
       "      <td>65.0</td>\n",
       "      <td>93.0</td>\n",
       "    </tr>\n",
       "    <tr>\n",
       "      <th>4</th>\n",
       "      <td>Private room</td>\n",
       "      <td>29.0</td>\n",
       "      <td>96.0</td>\n",
       "    </tr>\n",
       "    <tr>\n",
       "      <th>...</th>\n",
       "      <td>...</td>\n",
       "      <td>...</td>\n",
       "      <td>...</td>\n",
       "    </tr>\n",
       "    <tr>\n",
       "      <th>995</th>\n",
       "      <td>Entire home/apt</td>\n",
       "      <td>165.0</td>\n",
       "      <td>100.0</td>\n",
       "    </tr>\n",
       "    <tr>\n",
       "      <th>996</th>\n",
       "      <td>Private room</td>\n",
       "      <td>99.0</td>\n",
       "      <td>93.0</td>\n",
       "    </tr>\n",
       "    <tr>\n",
       "      <th>997</th>\n",
       "      <td>Private room</td>\n",
       "      <td>45.0</td>\n",
       "      <td>100.0</td>\n",
       "    </tr>\n",
       "    <tr>\n",
       "      <th>998</th>\n",
       "      <td>Private room</td>\n",
       "      <td>20.0</td>\n",
       "      <td>88.0</td>\n",
       "    </tr>\n",
       "    <tr>\n",
       "      <th>999</th>\n",
       "      <td>Entire home/apt</td>\n",
       "      <td>100.0</td>\n",
       "      <td>90.0</td>\n",
       "    </tr>\n",
       "  </tbody>\n",
       "</table>\n",
       "<p>1000 rows × 3 columns</p>\n",
       "</div>"
      ],
      "text/plain": [
       "           room_type  price  review_scores_rating\n",
       "0       Private room   65.0                  97.0\n",
       "1    Entire home/apt  100.0                  96.0\n",
       "2    Entire home/apt  300.0                  94.0\n",
       "3    Entire home/apt   65.0                  93.0\n",
       "4       Private room   29.0                  96.0\n",
       "..               ...    ...                   ...\n",
       "995  Entire home/apt  165.0                 100.0\n",
       "996     Private room   99.0                  93.0\n",
       "997     Private room   45.0                 100.0\n",
       "998     Private room   20.0                  88.0\n",
       "999  Entire home/apt  100.0                  90.0\n",
       "\n",
       "[1000 rows x 3 columns]"
      ]
     },
     "execution_count": 43,
     "metadata": {},
     "output_type": "execute_result"
    }
   ],
   "source": [
    "q_test3 = ph.read_clickhouse(query=q3, connection=connection)\n",
    "q_test3"
   ]
  },
  {
   "cell_type": "code",
   "execution_count": 44,
   "id": "804e0931",
   "metadata": {},
   "outputs": [],
   "source": [
    "df3 = q_test3.groupby(\"room_type\", as_index=False) \\\n",
    "             .agg({\"price\": \"mean\",\n",
    "                   \"review_scores_rating\": \"mean\"})"
   ]
  },
  {
   "cell_type": "code",
   "execution_count": 45,
   "id": "4993d6e9",
   "metadata": {},
   "outputs": [
    {
     "data": {
      "text/html": [
       "<div>\n",
       "<style scoped>\n",
       "    .dataframe tbody tr th:only-of-type {\n",
       "        vertical-align: middle;\n",
       "    }\n",
       "\n",
       "    .dataframe tbody tr th {\n",
       "        vertical-align: top;\n",
       "    }\n",
       "\n",
       "    .dataframe thead th {\n",
       "        text-align: right;\n",
       "    }\n",
       "</style>\n",
       "<table border=\"1\" class=\"dataframe\">\n",
       "  <thead>\n",
       "    <tr style=\"text-align: right;\">\n",
       "      <th></th>\n",
       "      <th>room_type</th>\n",
       "      <th>price</th>\n",
       "      <th>review_scores_rating</th>\n",
       "    </tr>\n",
       "  </thead>\n",
       "  <tbody>\n",
       "    <tr>\n",
       "      <th>0</th>\n",
       "      <td>Entire home/apt</td>\n",
       "      <td>135.882950</td>\n",
       "      <td>93.568787</td>\n",
       "    </tr>\n",
       "    <tr>\n",
       "      <th>1</th>\n",
       "      <td>Hotel room</td>\n",
       "      <td>134.000000</td>\n",
       "      <td>92.500000</td>\n",
       "    </tr>\n",
       "    <tr>\n",
       "      <th>2</th>\n",
       "      <td>Private room</td>\n",
       "      <td>54.642437</td>\n",
       "      <td>94.766205</td>\n",
       "    </tr>\n",
       "    <tr>\n",
       "      <th>3</th>\n",
       "      <td>Shared room</td>\n",
       "      <td>21.000000</td>\n",
       "      <td>90.000000</td>\n",
       "    </tr>\n",
       "  </tbody>\n",
       "</table>\n",
       "</div>"
      ],
      "text/plain": [
       "         room_type       price  review_scores_rating\n",
       "0  Entire home/apt  135.882950             93.568787\n",
       "1       Hotel room  134.000000             92.500000\n",
       "2     Private room   54.642437             94.766205\n",
       "3      Shared room   21.000000             90.000000"
      ]
     },
     "execution_count": 45,
     "metadata": {},
     "output_type": "execute_result"
    }
   ],
   "source": [
    "df3"
   ]
  },
  {
   "cell_type": "code",
   "execution_count": 46,
   "id": "4f24e216",
   "metadata": {},
   "outputs": [
    {
     "data": {
      "text/plain": [
       "<AxesSubplot:xlabel='price', ylabel='review_scores_rating'>"
      ]
     },
     "execution_count": 46,
     "metadata": {},
     "output_type": "execute_result"
    },
    {
     "data": {
      "image/png": "[encoded data removed]",
      "text/plain": [
       "<Figure size 432x288 with 1 Axes>"
      ]
     },
     "metadata": {
      "needs_background": "light"
     },
     "output_type": "display_data"
    }
   ],
   "source": [
    "sns.scatterplot(data=df3, x=\"price\", y=\"review_scores_rating\", hue=\"room_type\")"
   ]
  },
  {
   "cell_type": "markdown",
   "id": "d82ceba3",
   "metadata": {},
   "source": [
    "### 4"
   ]
  },
  {
   "cell_type": "markdown",
   "id": "4a4deb70",
   "metadata": {},
   "source": [
    "Итак, помимо аренды жилья, на Airbnb также есть \"Впечатления\" — мероприятия, которые организуют местные жители.\n",
    "\n",
    "Проверим, какие способы верификации аккаунта использовали хозяева, предлагающие различные впечатления (experiences_offered != 'none'). Для каждого уникального пользователя выгрузите только две колонки:\n",
    "\n",
    "· host_id – идентификатор хозяина (уникальный)  \n",
    "· host_verifications – какими способами хост подтвердил свой профиль\n",
    "\n",
    "Затем обработайте столбец host_verifications:\n",
    "\n",
    "1. В ячейках находятся строковые представления списка (например, как результат str([1, 2, 3])). Приведите их к настоящему списку, где в качестве элементов будут храниться использованные способы подтверждения аккаунта: \n",
    "\n",
    "\"['email', 'phone', 'facebook']\" -> ['email', 'phone', 'facebook']\n",
    "\n",
    "2. Используйте методы explode и value_counts, чтобы посчитать, сколько раз встречается каждый способ верификации\n",
    "\n",
    "Сколько хозяев подтвердили профиль с помощью аккаунта Google?"
   ]
  },
  {
   "cell_type": "code",
   "execution_count": 47,
   "id": "c90fb649",
   "metadata": {},
   "outputs": [],
   "source": [
    "q4 = '''\n",
    "     SELECT DISTINCT host_id,\n",
    "            host_verifications\n",
    "       FROM ldn_listings\n",
    "      WHERE experiences_offered != 'none' \n",
    "     '''"
   ]
  },
  {
   "cell_type": "code",
   "execution_count": 48,
   "id": "7094bae1",
   "metadata": {},
   "outputs": [
    {
     "data": {
      "text/html": [
       "<div>\n",
       "<style scoped>\n",
       "    .dataframe tbody tr th:only-of-type {\n",
       "        vertical-align: middle;\n",
       "    }\n",
       "\n",
       "    .dataframe tbody tr th {\n",
       "        vertical-align: top;\n",
       "    }\n",
       "\n",
       "    .dataframe thead th {\n",
       "        text-align: right;\n",
       "    }\n",
       "</style>\n",
       "<table border=\"1\" class=\"dataframe\">\n",
       "  <thead>\n",
       "    <tr style=\"text-align: right;\">\n",
       "      <th></th>\n",
       "      <th>host_id</th>\n",
       "      <th>host_verifications</th>\n",
       "    </tr>\n",
       "  </thead>\n",
       "  <tbody>\n",
       "    <tr>\n",
       "      <th>0</th>\n",
       "      <td>54730</td>\n",
       "      <td>['email', 'phone', 'facebook', 'reviews', 'off...</td>\n",
       "    </tr>\n",
       "    <tr>\n",
       "      <th>1</th>\n",
       "      <td>60302</td>\n",
       "      <td>['email', 'phone', 'reviews', 'jumio', 'govern...</td>\n",
       "    </tr>\n",
       "    <tr>\n",
       "      <th>2</th>\n",
       "      <td>67915</td>\n",
       "      <td>['email', 'phone', 'jumio', 'selfie', 'governm...</td>\n",
       "    </tr>\n",
       "    <tr>\n",
       "      <th>3</th>\n",
       "      <td>167107</td>\n",
       "      <td>['email', 'phone', 'manual_offline', 'jumio', ...</td>\n",
       "    </tr>\n",
       "    <tr>\n",
       "      <th>4</th>\n",
       "      <td>103583</td>\n",
       "      <td>['email', 'phone', 'reviews', 'offline_governm...</td>\n",
       "    </tr>\n",
       "    <tr>\n",
       "      <th>...</th>\n",
       "      <td>...</td>\n",
       "      <td>...</td>\n",
       "    </tr>\n",
       "    <tr>\n",
       "      <th>1356</th>\n",
       "      <td>21558962</td>\n",
       "      <td>['email', 'phone', 'reviews', 'jumio', 'govern...</td>\n",
       "    </tr>\n",
       "    <tr>\n",
       "      <th>1357</th>\n",
       "      <td>21257846</td>\n",
       "      <td>['email', 'phone', 'reviews', 'jumio', 'offlin...</td>\n",
       "    </tr>\n",
       "    <tr>\n",
       "      <th>1358</th>\n",
       "      <td>34219613</td>\n",
       "      <td>['email', 'phone', 'reviews', 'jumio', 'govern...</td>\n",
       "    </tr>\n",
       "    <tr>\n",
       "      <th>1359</th>\n",
       "      <td>34299581</td>\n",
       "      <td>['email', 'phone', 'google', 'reviews', 'jumio...</td>\n",
       "    </tr>\n",
       "    <tr>\n",
       "      <th>1360</th>\n",
       "      <td>26917573</td>\n",
       "      <td>['email', 'phone', 'reviews', 'manual_offline'...</td>\n",
       "    </tr>\n",
       "  </tbody>\n",
       "</table>\n",
       "<p>1361 rows × 2 columns</p>\n",
       "</div>"
      ],
      "text/plain": [
       "       host_id                                 host_verifications\n",
       "0        54730  ['email', 'phone', 'facebook', 'reviews', 'off...\n",
       "1        60302  ['email', 'phone', 'reviews', 'jumio', 'govern...\n",
       "2        67915  ['email', 'phone', 'jumio', 'selfie', 'governm...\n",
       "3       167107  ['email', 'phone', 'manual_offline', 'jumio', ...\n",
       "4       103583  ['email', 'phone', 'reviews', 'offline_governm...\n",
       "...        ...                                                ...\n",
       "1356  21558962  ['email', 'phone', 'reviews', 'jumio', 'govern...\n",
       "1357  21257846  ['email', 'phone', 'reviews', 'jumio', 'offlin...\n",
       "1358  34219613  ['email', 'phone', 'reviews', 'jumio', 'govern...\n",
       "1359  34299581  ['email', 'phone', 'google', 'reviews', 'jumio...\n",
       "1360  26917573  ['email', 'phone', 'reviews', 'manual_offline'...\n",
       "\n",
       "[1361 rows x 2 columns]"
      ]
     },
     "execution_count": 48,
     "metadata": {},
     "output_type": "execute_result"
    }
   ],
   "source": [
    "q_test4 = ph.read_clickhouse(query=q4, connection=connection)\n",
    "q_test4"
   ]
  },
  {
   "cell_type": "code",
   "execution_count": 60,
   "id": "bc78a825",
   "metadata": {},
   "outputs": [],
   "source": [
    "df4 = q_test4.host_verifications.apply(lambda x: x.strip('[]').replace(\"'\", '').split(', ')) \\\n",
    "                             .explode() \\\n",
    "                             .value_counts()"
   ]
  },
  {
   "cell_type": "code",
   "execution_count": 61,
   "id": "e8ff1a49",
   "metadata": {},
   "outputs": [
    {
     "data": {
      "text/plain": [
       "phone                    1361\n",
       "email                    1345\n",
       "reviews                  1309\n",
       "government_id            1196\n",
       "jumio                    1115\n",
       "offline_government_id     469\n",
       "work_email                279\n",
       "facebook                  270\n",
       "selfie                    252\n",
       "identity_manual           227\n",
       "manual_offline             70\n",
       "google                     34\n",
       "kba                        27\n",
       "manual_online              16\n",
       "sent_id                     6\n",
       "Name: host_verifications, dtype: int64"
      ]
     },
     "execution_count": 61,
     "metadata": {},
     "output_type": "execute_result"
    }
   ],
   "source": [
    "df4"
   ]
  },
  {
   "cell_type": "markdown",
   "id": "d5d016a8",
   "metadata": {},
   "source": [
    "### 5"
   ]
  },
  {
   "cell_type": "markdown",
   "id": "32d97132",
   "metadata": {},
   "source": [
    "Теперь посмотрим, для скольких объявлений и в каких районах хозяева указали впечатления. Сгруппируйте данные по району и виду впечатления и посчитайте количество объявлений. Новый столбец назовите experiences_count.\n",
    "\n",
    "Пример трёх строк результирующей таблицы: в районе City of London для 7 объявлений указан тип впечатления business, для одного – family."
   ]
  },
  {
   "cell_type": "code",
   "execution_count": null,
   "id": "eaf7a487",
   "metadata": {},
   "outputs": [],
   "source": [
    "+------------------------+---------------------+-------------------+\n",
    "| neighbourhood_cleansed | experiences_offered | experiences_count |\n",
    "+------------------------+---------------------+-------------------+\n",
    "| City of London         | business            |                 7 |\n",
    "| City of London         | family              |                 1 |\n",
    "| City of London         | romantic            |                 1 |\n",
    "+------------------------+---------------------+-------------------+"
   ]
  },
  {
   "cell_type": "markdown",
   "id": "6de87032",
   "metadata": {},
   "source": [
    "Отсортируйте данные по убыванию experiences_count и выгрузите первые 100 строк. Затем преобразуйте данные с помощью pivot, поместив в индексы название района, столбцы – вид впечатления, а значения – число объявлений с таким впечатлением для каждого района. Визуализируйте результат с помощью sns.heatmap() c палитрой cmap=sns.cubehelix_palette(as_cmap=True). "
   ]
  },
  {
   "cell_type": "code",
   "execution_count": 74,
   "id": "85339956",
   "metadata": {},
   "outputs": [],
   "source": [
    "q5 = '''\n",
    "     SELECT neighbourhood_cleansed,\n",
    "            experiences_offered,\n",
    "            COUNT(*) AS experiences_count\n",
    "       FROM ldn_listings\n",
    "      WHERE experiences_offered != 'none'\n",
    "      GROUP BY neighbourhood_cleansed,\n",
    "              experiences_offered\n",
    "      ORDER bY experiences_count DESC\n",
    "      LIMIT 100 \n",
    "     '''"
   ]
  },
  {
   "cell_type": "code",
   "execution_count": 75,
   "id": "194c8a98",
   "metadata": {},
   "outputs": [
    {
     "data": {
      "text/html": [
       "<div>\n",
       "<style scoped>\n",
       "    .dataframe tbody tr th:only-of-type {\n",
       "        vertical-align: middle;\n",
       "    }\n",
       "\n",
       "    .dataframe tbody tr th {\n",
       "        vertical-align: top;\n",
       "    }\n",
       "\n",
       "    .dataframe thead th {\n",
       "        text-align: right;\n",
       "    }\n",
       "</style>\n",
       "<table border=\"1\" class=\"dataframe\">\n",
       "  <thead>\n",
       "    <tr style=\"text-align: right;\">\n",
       "      <th></th>\n",
       "      <th>neighbourhood_cleansed</th>\n",
       "      <th>experiences_offered</th>\n",
       "      <th>experiences_count</th>\n",
       "    </tr>\n",
       "  </thead>\n",
       "  <tbody>\n",
       "    <tr>\n",
       "      <th>0</th>\n",
       "      <td>Hackney</td>\n",
       "      <td>family</td>\n",
       "      <td>61</td>\n",
       "    </tr>\n",
       "    <tr>\n",
       "      <th>1</th>\n",
       "      <td>Tower Hamlets</td>\n",
       "      <td>business</td>\n",
       "      <td>58</td>\n",
       "    </tr>\n",
       "    <tr>\n",
       "      <th>2</th>\n",
       "      <td>Westminster</td>\n",
       "      <td>business</td>\n",
       "      <td>50</td>\n",
       "    </tr>\n",
       "    <tr>\n",
       "      <th>3</th>\n",
       "      <td>Hackney</td>\n",
       "      <td>social</td>\n",
       "      <td>49</td>\n",
       "    </tr>\n",
       "    <tr>\n",
       "      <th>4</th>\n",
       "      <td>Hammersmith and Fulham</td>\n",
       "      <td>business</td>\n",
       "      <td>48</td>\n",
       "    </tr>\n",
       "    <tr>\n",
       "      <th>...</th>\n",
       "      <td>...</td>\n",
       "      <td>...</td>\n",
       "      <td>...</td>\n",
       "    </tr>\n",
       "    <tr>\n",
       "      <th>95</th>\n",
       "      <td>Redbridge</td>\n",
       "      <td>social</td>\n",
       "      <td>2</td>\n",
       "    </tr>\n",
       "    <tr>\n",
       "      <th>96</th>\n",
       "      <td>Barking and Dagenham</td>\n",
       "      <td>social</td>\n",
       "      <td>2</td>\n",
       "    </tr>\n",
       "    <tr>\n",
       "      <th>97</th>\n",
       "      <td>Newham</td>\n",
       "      <td>romantic</td>\n",
       "      <td>1</td>\n",
       "    </tr>\n",
       "    <tr>\n",
       "      <th>98</th>\n",
       "      <td>Bexley</td>\n",
       "      <td>business</td>\n",
       "      <td>1</td>\n",
       "    </tr>\n",
       "    <tr>\n",
       "      <th>99</th>\n",
       "      <td>City of London</td>\n",
       "      <td>family</td>\n",
       "      <td>1</td>\n",
       "    </tr>\n",
       "  </tbody>\n",
       "</table>\n",
       "<p>100 rows × 3 columns</p>\n",
       "</div>"
      ],
      "text/plain": [
       "    neighbourhood_cleansed experiences_offered  experiences_count\n",
       "0                  Hackney              family                 61\n",
       "1            Tower Hamlets            business                 58\n",
       "2              Westminster            business                 50\n",
       "3                  Hackney              social                 49\n",
       "4   Hammersmith and Fulham            business                 48\n",
       "..                     ...                 ...                ...\n",
       "95               Redbridge              social                  2\n",
       "96    Barking and Dagenham              social                  2\n",
       "97                  Newham            romantic                  1\n",
       "98                  Bexley            business                  1\n",
       "99          City of London              family                  1\n",
       "\n",
       "[100 rows x 3 columns]"
      ]
     },
     "execution_count": 75,
     "metadata": {},
     "output_type": "execute_result"
    }
   ],
   "source": [
    "q_test5 = ph.read_clickhouse(query=q5, connection=connection)\n",
    "q_test5"
   ]
  },
  {
   "cell_type": "code",
   "execution_count": 76,
   "id": "226696f4",
   "metadata": {},
   "outputs": [
    {
     "data": {
      "text/html": [
       "<div>\n",
       "<style scoped>\n",
       "    .dataframe tbody tr th:only-of-type {\n",
       "        vertical-align: middle;\n",
       "    }\n",
       "\n",
       "    .dataframe tbody tr th {\n",
       "        vertical-align: top;\n",
       "    }\n",
       "\n",
       "    .dataframe thead th {\n",
       "        text-align: right;\n",
       "    }\n",
       "</style>\n",
       "<table border=\"1\" class=\"dataframe\">\n",
       "  <thead>\n",
       "    <tr style=\"text-align: right;\">\n",
       "      <th>experiences_offered</th>\n",
       "      <th>business</th>\n",
       "      <th>family</th>\n",
       "      <th>romantic</th>\n",
       "      <th>social</th>\n",
       "    </tr>\n",
       "    <tr>\n",
       "      <th>neighbourhood_cleansed</th>\n",
       "      <th></th>\n",
       "      <th></th>\n",
       "      <th></th>\n",
       "      <th></th>\n",
       "    </tr>\n",
       "  </thead>\n",
       "  <tbody>\n",
       "    <tr>\n",
       "      <th>Barking and Dagenham</th>\n",
       "      <td>NaN</td>\n",
       "      <td>NaN</td>\n",
       "      <td>NaN</td>\n",
       "      <td>2.0</td>\n",
       "    </tr>\n",
       "    <tr>\n",
       "      <th>Barnet</th>\n",
       "      <td>7.0</td>\n",
       "      <td>7.0</td>\n",
       "      <td>3.0</td>\n",
       "      <td>5.0</td>\n",
       "    </tr>\n",
       "    <tr>\n",
       "      <th>Bexley</th>\n",
       "      <td>1.0</td>\n",
       "      <td>NaN</td>\n",
       "      <td>NaN</td>\n",
       "      <td>NaN</td>\n",
       "    </tr>\n",
       "    <tr>\n",
       "      <th>Brent</th>\n",
       "      <td>9.0</td>\n",
       "      <td>21.0</td>\n",
       "      <td>5.0</td>\n",
       "      <td>6.0</td>\n",
       "    </tr>\n",
       "    <tr>\n",
       "      <th>Bromley</th>\n",
       "      <td>3.0</td>\n",
       "      <td>2.0</td>\n",
       "      <td>NaN</td>\n",
       "      <td>4.0</td>\n",
       "    </tr>\n",
       "  </tbody>\n",
       "</table>\n",
       "</div>"
      ],
      "text/plain": [
       "experiences_offered     business  family  romantic  social\n",
       "neighbourhood_cleansed                                    \n",
       "Barking and Dagenham         NaN     NaN       NaN     2.0\n",
       "Barnet                       7.0     7.0       3.0     5.0\n",
       "Bexley                       1.0     NaN       NaN     NaN\n",
       "Brent                        9.0    21.0       5.0     6.0\n",
       "Bromley                      3.0     2.0       NaN     4.0"
      ]
     },
     "execution_count": 76,
     "metadata": {},
     "output_type": "execute_result"
    }
   ],
   "source": [
    "q_test5 = q_test5.pivot(index=\"neighbourhood_cleansed\", columns=\"experiences_offered\", values=\"experiences_count\")\n",
    "q_test5.head()"
   ]
  },
  {
   "cell_type": "code",
   "execution_count": 77,
   "id": "a6fa2ed7",
   "metadata": {},
   "outputs": [
    {
     "data": {
      "text/plain": [
       "<AxesSubplot:xlabel='experiences_offered', ylabel='neighbourhood_cleansed'>"
      ]
     },
     "execution_count": 77,
     "metadata": {},
     "output_type": "execute_result"
    },
    {
     "data": {
      "image/png": "[encoded data removed]",
      "text/plain": [
       "<Figure size 432x288 with 2 Axes>"
      ]
     },
     "metadata": {
      "needs_background": "light"
     },
     "output_type": "display_data"
    }
   ],
   "source": [
    "sns.heatmap(data=q_test5,cmap=sns.cubehelix_palette(as_cmap=True))"
   ]
  },
  {
   "cell_type": "markdown",
   "id": "eabf9753",
   "metadata": {},
   "source": [
    "### 6"
   ]
  },
  {
   "cell_type": "markdown",
   "id": "d554e3b7",
   "metadata": {},
   "source": [
    "Выгрузите данные о ценах за ночь для разных типов жилья, для которых также доступен какой-либо вид впечатления. Необходимые для составления запроса столбцы:\n",
    "\n",
    "· room_type – тип сдаваемого жилья (доступные варианты: Entire home/apt, Private room, Hotel room, Shared room)  \n",
    "· price – цена за ночь   \n",
    "· experiences_offered – вид доступного впечатления (оставить не 'none')  \n",
    "\n",
    "Пример части результирующей таблицы:"
   ]
  },
  {
   "cell_type": "markdown",
   "id": "79028b2a",
   "metadata": {},
   "source": [
    "+-----------------+------------+\n",
    "| room_type       | price_corr |\n",
    "+-----------------+------------+\n",
    "| Private room    |         65 |\n",
    "| Entire home/apt |        100 |\n",
    "| Entire home/apt |        ... |\n",
    "+-----------------+------------+"
   ]
  },
  {
   "cell_type": "markdown",
   "id": "7f2aae07",
   "metadata": {},
   "source": [
    "· room_type – тип сдаваемого жилья (доступные варианты: Entire home/apt, Private room, Hotel room, Shared room)  \n",
    "· price – цена за ночь     \n",
    "· experiences_offered – вид доступного впечатления (оставить не 'none')  \n",
    "\n",
    "Далее постройте два графика, используя distplot из библиотеки seaborn:\n",
    "\n",
    "· На первом отобразите исходные распределения цен для каждого типа жилья  \n",
    "· На втором – логарифмированные значения (np.log())"
   ]
  },
  {
   "cell_type": "code",
   "execution_count": 3,
   "id": "923eeba3",
   "metadata": {},
   "outputs": [],
   "source": [
    "q6 = '''\n",
    "     SELECT toFloat32OrNull(replaceRegexpAll(price, '[$,]', '')) AS price_corr,\n",
    "            room_type\n",
    "       FROM ldn_listings\n",
    "      WHERE experiences_offered != 'none'\n",
    "     '''"
   ]
  },
  {
   "cell_type": "code",
   "execution_count": 4,
   "id": "e182130a",
   "metadata": {},
   "outputs": [
    {
     "data": {
      "text/html": [
       "<div>\n",
       "<style scoped>\n",
       "    .dataframe tbody tr th:only-of-type {\n",
       "        vertical-align: middle;\n",
       "    }\n",
       "\n",
       "    .dataframe tbody tr th {\n",
       "        vertical-align: top;\n",
       "    }\n",
       "\n",
       "    .dataframe thead th {\n",
       "        text-align: right;\n",
       "    }\n",
       "</style>\n",
       "<table border=\"1\" class=\"dataframe\">\n",
       "  <thead>\n",
       "    <tr style=\"text-align: right;\">\n",
       "      <th></th>\n",
       "      <th>price_corr</th>\n",
       "      <th>room_type</th>\n",
       "    </tr>\n",
       "  </thead>\n",
       "  <tbody>\n",
       "    <tr>\n",
       "      <th>0</th>\n",
       "      <td>65.0</td>\n",
       "      <td>Private room</td>\n",
       "    </tr>\n",
       "    <tr>\n",
       "      <th>1</th>\n",
       "      <td>100.0</td>\n",
       "      <td>Entire home/apt</td>\n",
       "    </tr>\n",
       "    <tr>\n",
       "      <th>2</th>\n",
       "      <td>150.0</td>\n",
       "      <td>Private room</td>\n",
       "    </tr>\n",
       "    <tr>\n",
       "      <th>3</th>\n",
       "      <td>45.0</td>\n",
       "      <td>Private room</td>\n",
       "    </tr>\n",
       "    <tr>\n",
       "      <th>4</th>\n",
       "      <td>25.0</td>\n",
       "      <td>Private room</td>\n",
       "    </tr>\n",
       "    <tr>\n",
       "      <th>...</th>\n",
       "      <td>...</td>\n",
       "      <td>...</td>\n",
       "    </tr>\n",
       "    <tr>\n",
       "      <th>1543</th>\n",
       "      <td>100.0</td>\n",
       "      <td>Entire home/apt</td>\n",
       "    </tr>\n",
       "    <tr>\n",
       "      <th>1544</th>\n",
       "      <td>125.0</td>\n",
       "      <td>Entire home/apt</td>\n",
       "    </tr>\n",
       "    <tr>\n",
       "      <th>1545</th>\n",
       "      <td>185.0</td>\n",
       "      <td>Entire home/apt</td>\n",
       "    </tr>\n",
       "    <tr>\n",
       "      <th>1546</th>\n",
       "      <td>110.0</td>\n",
       "      <td>Entire home/apt</td>\n",
       "    </tr>\n",
       "    <tr>\n",
       "      <th>1547</th>\n",
       "      <td>39.0</td>\n",
       "      <td>Private room</td>\n",
       "    </tr>\n",
       "  </tbody>\n",
       "</table>\n",
       "<p>1548 rows × 2 columns</p>\n",
       "</div>"
      ],
      "text/plain": [
       "      price_corr        room_type\n",
       "0           65.0     Private room\n",
       "1          100.0  Entire home/apt\n",
       "2          150.0     Private room\n",
       "3           45.0     Private room\n",
       "4           25.0     Private room\n",
       "...          ...              ...\n",
       "1543       100.0  Entire home/apt\n",
       "1544       125.0  Entire home/apt\n",
       "1545       185.0  Entire home/apt\n",
       "1546       110.0  Entire home/apt\n",
       "1547        39.0     Private room\n",
       "\n",
       "[1548 rows x 2 columns]"
      ]
     },
     "execution_count": 4,
     "metadata": {},
     "output_type": "execute_result"
    }
   ],
   "source": [
    "q_test6 = ph.read_clickhouse(query=q6, connection=connection)\n",
    "q_test6"
   ]
  },
  {
   "cell_type": "code",
   "execution_count": 16,
   "id": "bcd0969f",
   "metadata": {},
   "outputs": [
    {
     "data": {
      "image/png": "[encoded data removed]",
      "text/plain": [
       "<Figure size 1152x432 with 1 Axes>"
      ]
     },
     "metadata": {},
     "output_type": "display_data"
    }
   ],
   "source": [
    "sns.distplot((q_test6.query(\"room_type == 'Entire home/apt'\").price_corr), kde=False, label='entire home/apt')\n",
    "sns.distplot((q_test6.query(\"room_type == 'Private room'\").price_corr), kde=False, label='private room')\n",
    "sns.distplot((q_test6.query(\"room_type == 'Hotel room'\").price_corr), kde=False, label='hotel room')\n",
    "sns.distplot((q_test6.query(\"room_type == 'Shared room'\").price_corr), kde=False, label='shared room')\n",
    "plt.legend()\n",
    "plt.show()"
   ]
  },
  {
   "cell_type": "code",
   "execution_count": 17,
   "id": "c6e53607",
   "metadata": {},
   "outputs": [
    {
     "data": {
      "image/png": "[encoded data removed]",
      "text/plain": [
       "<Figure size 1152x432 with 1 Axes>"
      ]
     },
     "metadata": {},
     "output_type": "display_data"
    }
   ],
   "source": [
    "sns.distplot(np.log(q_test6.query(\"room_type == 'Entire home/apt'\").price_corr), kde=False, label='entire home/apt')\n",
    "sns.distplot(np.log(q_test6.query(\"room_type == 'Private room'\").price_corr), kde=False, label='private room')\n",
    "sns.distplot(np.log(q_test6.query(\"room_type == 'Hotel room'\").price_corr), kde=False, label='hotel room')\n",
    "sns.distplot(np.log(q_test6.query(\"room_type == 'Shared room'\").price_corr), kde=False, label='shared room')\n",
    "plt.legend()\n",
    "plt.show()"
   ]
  },
  {
   "cell_type": "markdown",
   "id": "f9c289f8",
   "metadata": {},
   "source": [
    "### 7"
   ]
  },
  {
   "cell_type": "markdown",
   "id": "4a62b66d",
   "metadata": {},
   "source": [
    "Выгрузите данные о цене, типе жилья и дате первого отзыва, начиная со 2 января 2010 года. Необходимые столбцы:\n",
    "\n",
    "· room_type – тип сдаваемого жилья (доступные варианты: Entire home/apt, Private room, Hotel room, Shared room)  \n",
    "· price – цена за ночь  \n",
    "· first_review – дата первого отзыва (отфильтровать по правилу \"строго больше 2010-01-01\")  \n",
    "Ограничение поставьте на 1000 строк.\n",
    "\n",
    "Пример результирующей таблицы:"
   ]
  },
  {
   "cell_type": "code",
   "execution_count": null,
   "id": "9d7f7af2",
   "metadata": {},
   "outputs": [],
   "source": [
    "+-----------------+------------+------------+\n",
    "| room_type       | price_corr |first_review|\n",
    "+-----------------+------------+------------+\n",
    "| Private room    |         65 | 2010-03-23 |\n",
    "| Entire home/apt |        100 | 2012-01-01 |\n",
    "+-----------------+------------+------------+"
   ]
  },
  {
   "cell_type": "markdown",
   "id": "10051fcf",
   "metadata": {},
   "source": [
    "Используя библиотеку seaborn и функцию lineplot, постройте график динамики средних цен на жилье (ось Y) в зависимости от типа комнаты (цвет линии, параметр 'hue') по годам (ось X). Датафрейм должен быть отсортирован по годам.\n",
    "\n",
    "Пример датафрейма, который будет служить основой для графика:"
   ]
  },
  {
   "cell_type": "code",
   "execution_count": null,
   "id": "923d290c",
   "metadata": {},
   "outputs": [],
   "source": [
    "+-----------------+------------+------------+\n",
    "| room_type       | avg_price  | year       |\n",
    "+-----------------+------------+------------+\n",
    "| Private room    |         54 | 2010       |\n",
    "| Entire home/apt |        168 | 2012       |\n",
    "+-----------------+------------+------------+"
   ]
  },
  {
   "cell_type": "markdown",
   "id": "c18ff5f2",
   "metadata": {},
   "source": [
    "Hints: line plot; удалите последние 6 символов у значений в столбце даты, чтобы получить год, например, с помощью применения lambda-функции ."
   ]
  },
  {
   "cell_type": "code",
   "execution_count": 25,
   "id": "6ec3c86f",
   "metadata": {},
   "outputs": [],
   "source": [
    "q7 = '''\n",
    "     SELECT room_type,\n",
    "            toFloat32OrNull(replaceRegexpAll(price, '[$,]', '')) AS price_corr,\n",
    "            first_review\n",
    "       FROM ldn_listings\n",
    "      WHERE first_review > '2010-01-01'\n",
    "      LIMIT 1000\n",
    "     '''"
   ]
  },
  {
   "cell_type": "code",
   "execution_count": 30,
   "id": "3e4c7c43",
   "metadata": {},
   "outputs": [
    {
     "data": {
      "text/html": [
       "<div>\n",
       "<style scoped>\n",
       "    .dataframe tbody tr th:only-of-type {\n",
       "        vertical-align: middle;\n",
       "    }\n",
       "\n",
       "    .dataframe tbody tr th {\n",
       "        vertical-align: top;\n",
       "    }\n",
       "\n",
       "    .dataframe thead th {\n",
       "        text-align: right;\n",
       "    }\n",
       "</style>\n",
       "<table border=\"1\" class=\"dataframe\">\n",
       "  <thead>\n",
       "    <tr style=\"text-align: right;\">\n",
       "      <th></th>\n",
       "      <th>room_type</th>\n",
       "      <th>price_corr</th>\n",
       "      <th>first_review</th>\n",
       "    </tr>\n",
       "  </thead>\n",
       "  <tbody>\n",
       "    <tr>\n",
       "      <th>0</th>\n",
       "      <td>Private room</td>\n",
       "      <td>65.0</td>\n",
       "      <td>2010-08-18</td>\n",
       "    </tr>\n",
       "    <tr>\n",
       "      <th>1</th>\n",
       "      <td>Entire home/apt</td>\n",
       "      <td>300.0</td>\n",
       "      <td>2011-03-21</td>\n",
       "    </tr>\n",
       "    <tr>\n",
       "      <th>2</th>\n",
       "      <td>Entire home/apt</td>\n",
       "      <td>65.0</td>\n",
       "      <td>2016-03-05</td>\n",
       "    </tr>\n",
       "    <tr>\n",
       "      <th>3</th>\n",
       "      <td>Private room</td>\n",
       "      <td>29.0</td>\n",
       "      <td>2010-04-14</td>\n",
       "    </tr>\n",
       "    <tr>\n",
       "      <th>4</th>\n",
       "      <td>Private room</td>\n",
       "      <td>100.0</td>\n",
       "      <td>2010-10-16</td>\n",
       "    </tr>\n",
       "    <tr>\n",
       "      <th>...</th>\n",
       "      <td>...</td>\n",
       "      <td>...</td>\n",
       "      <td>...</td>\n",
       "    </tr>\n",
       "    <tr>\n",
       "      <th>995</th>\n",
       "      <td>Private room</td>\n",
       "      <td>45.0</td>\n",
       "      <td>2012-11-07</td>\n",
       "    </tr>\n",
       "    <tr>\n",
       "      <th>996</th>\n",
       "      <td>Private room</td>\n",
       "      <td>51.0</td>\n",
       "      <td>2013-03-18</td>\n",
       "    </tr>\n",
       "    <tr>\n",
       "      <th>997</th>\n",
       "      <td>Entire home/apt</td>\n",
       "      <td>79.0</td>\n",
       "      <td>2012-09-17</td>\n",
       "    </tr>\n",
       "    <tr>\n",
       "      <th>998</th>\n",
       "      <td>Entire home/apt</td>\n",
       "      <td>110.0</td>\n",
       "      <td>2012-09-24</td>\n",
       "    </tr>\n",
       "    <tr>\n",
       "      <th>999</th>\n",
       "      <td>Private room</td>\n",
       "      <td>70.0</td>\n",
       "      <td>2012-11-26</td>\n",
       "    </tr>\n",
       "  </tbody>\n",
       "</table>\n",
       "<p>1000 rows × 3 columns</p>\n",
       "</div>"
      ],
      "text/plain": [
       "           room_type  price_corr first_review\n",
       "0       Private room        65.0   2010-08-18\n",
       "1    Entire home/apt       300.0   2011-03-21\n",
       "2    Entire home/apt        65.0   2016-03-05\n",
       "3       Private room        29.0   2010-04-14\n",
       "4       Private room       100.0   2010-10-16\n",
       "..               ...         ...          ...\n",
       "995     Private room        45.0   2012-11-07\n",
       "996     Private room        51.0   2013-03-18\n",
       "997  Entire home/apt        79.0   2012-09-17\n",
       "998  Entire home/apt       110.0   2012-09-24\n",
       "999     Private room        70.0   2012-11-26\n",
       "\n",
       "[1000 rows x 3 columns]"
      ]
     },
     "execution_count": 30,
     "metadata": {},
     "output_type": "execute_result"
    }
   ],
   "source": [
    "q_test7 = ph.read_clickhouse(query=q7, connection=connection)\n",
    "q_test7"
   ]
  },
  {
   "cell_type": "code",
   "execution_count": 31,
   "id": "23010525",
   "metadata": {},
   "outputs": [],
   "source": [
    "q_test7['first_review_year'] = q_test7.first_review.apply(lambda x: x[:4])"
   ]
  },
  {
   "cell_type": "code",
   "execution_count": 32,
   "id": "0be2fb84",
   "metadata": {},
   "outputs": [
    {
     "data": {
      "text/html": [
       "<div>\n",
       "<style scoped>\n",
       "    .dataframe tbody tr th:only-of-type {\n",
       "        vertical-align: middle;\n",
       "    }\n",
       "\n",
       "    .dataframe tbody tr th {\n",
       "        vertical-align: top;\n",
       "    }\n",
       "\n",
       "    .dataframe thead th {\n",
       "        text-align: right;\n",
       "    }\n",
       "</style>\n",
       "<table border=\"1\" class=\"dataframe\">\n",
       "  <thead>\n",
       "    <tr style=\"text-align: right;\">\n",
       "      <th></th>\n",
       "      <th>room_type</th>\n",
       "      <th>price_corr</th>\n",
       "      <th>first_review</th>\n",
       "      <th>first_review_year</th>\n",
       "    </tr>\n",
       "  </thead>\n",
       "  <tbody>\n",
       "    <tr>\n",
       "      <th>0</th>\n",
       "      <td>Private room</td>\n",
       "      <td>65.0</td>\n",
       "      <td>2010-08-18</td>\n",
       "      <td>2010</td>\n",
       "    </tr>\n",
       "    <tr>\n",
       "      <th>1</th>\n",
       "      <td>Entire home/apt</td>\n",
       "      <td>300.0</td>\n",
       "      <td>2011-03-21</td>\n",
       "      <td>2011</td>\n",
       "    </tr>\n",
       "    <tr>\n",
       "      <th>2</th>\n",
       "      <td>Entire home/apt</td>\n",
       "      <td>65.0</td>\n",
       "      <td>2016-03-05</td>\n",
       "      <td>2016</td>\n",
       "    </tr>\n",
       "    <tr>\n",
       "      <th>3</th>\n",
       "      <td>Private room</td>\n",
       "      <td>29.0</td>\n",
       "      <td>2010-04-14</td>\n",
       "      <td>2010</td>\n",
       "    </tr>\n",
       "    <tr>\n",
       "      <th>4</th>\n",
       "      <td>Private room</td>\n",
       "      <td>100.0</td>\n",
       "      <td>2010-10-16</td>\n",
       "      <td>2010</td>\n",
       "    </tr>\n",
       "    <tr>\n",
       "      <th>...</th>\n",
       "      <td>...</td>\n",
       "      <td>...</td>\n",
       "      <td>...</td>\n",
       "      <td>...</td>\n",
       "    </tr>\n",
       "    <tr>\n",
       "      <th>995</th>\n",
       "      <td>Private room</td>\n",
       "      <td>45.0</td>\n",
       "      <td>2012-11-07</td>\n",
       "      <td>2012</td>\n",
       "    </tr>\n",
       "    <tr>\n",
       "      <th>996</th>\n",
       "      <td>Private room</td>\n",
       "      <td>51.0</td>\n",
       "      <td>2013-03-18</td>\n",
       "      <td>2013</td>\n",
       "    </tr>\n",
       "    <tr>\n",
       "      <th>997</th>\n",
       "      <td>Entire home/apt</td>\n",
       "      <td>79.0</td>\n",
       "      <td>2012-09-17</td>\n",
       "      <td>2012</td>\n",
       "    </tr>\n",
       "    <tr>\n",
       "      <th>998</th>\n",
       "      <td>Entire home/apt</td>\n",
       "      <td>110.0</td>\n",
       "      <td>2012-09-24</td>\n",
       "      <td>2012</td>\n",
       "    </tr>\n",
       "    <tr>\n",
       "      <th>999</th>\n",
       "      <td>Private room</td>\n",
       "      <td>70.0</td>\n",
       "      <td>2012-11-26</td>\n",
       "      <td>2012</td>\n",
       "    </tr>\n",
       "  </tbody>\n",
       "</table>\n",
       "<p>1000 rows × 4 columns</p>\n",
       "</div>"
      ],
      "text/plain": [
       "           room_type  price_corr first_review first_review_year\n",
       "0       Private room        65.0   2010-08-18              2010\n",
       "1    Entire home/apt       300.0   2011-03-21              2011\n",
       "2    Entire home/apt        65.0   2016-03-05              2016\n",
       "3       Private room        29.0   2010-04-14              2010\n",
       "4       Private room       100.0   2010-10-16              2010\n",
       "..               ...         ...          ...               ...\n",
       "995     Private room        45.0   2012-11-07              2012\n",
       "996     Private room        51.0   2013-03-18              2013\n",
       "997  Entire home/apt        79.0   2012-09-17              2012\n",
       "998  Entire home/apt       110.0   2012-09-24              2012\n",
       "999     Private room        70.0   2012-11-26              2012\n",
       "\n",
       "[1000 rows x 4 columns]"
      ]
     },
     "execution_count": 32,
     "metadata": {},
     "output_type": "execute_result"
    }
   ],
   "source": [
    "q_test7"
   ]
  },
  {
   "cell_type": "code",
   "execution_count": 34,
   "id": "4f972ef8",
   "metadata": {},
   "outputs": [
    {
     "data": {
      "text/plain": [
       "<AxesSubplot:xlabel='first_review_year', ylabel='price_corr'>"
      ]
     },
     "execution_count": 34,
     "metadata": {},
     "output_type": "execute_result"
    },
    {
     "data": {
      "image/png": "[encoded data removed]",
      "text/plain": [
       "<Figure size 1152x432 with 1 Axes>"
      ]
     },
     "metadata": {},
     "output_type": "display_data"
    }
   ],
   "source": [
    "q_test7 = q_test7.groupby(['first_review_year', 'room_type'], as_index=False) \\\n",
    "                 .agg({'price_corr': 'mean'})\n",
    "sns.lineplot(data=q_test7, hue='room_type', x='first_review_year', y='price_corr')"
   ]
  }
 ],
 "metadata": {
  "kernelspec": {
   "display_name": "Python 3 (ipykernel)",
   "language": "python",
   "name": "python3"
  },
  "language_info": {
   "codemirror_mode": {
    "name": "ipython",
    "version": 3
   },
   "file_extension": ".py",
   "mimetype": "text/x-python",
   "name": "python",
   "nbconvert_exporter": "python",
   "pygments_lexer": "ipython3",
   "version": "3.9.7"
  }
 },
 "nbformat": 4,
 "nbformat_minor": 5
}
