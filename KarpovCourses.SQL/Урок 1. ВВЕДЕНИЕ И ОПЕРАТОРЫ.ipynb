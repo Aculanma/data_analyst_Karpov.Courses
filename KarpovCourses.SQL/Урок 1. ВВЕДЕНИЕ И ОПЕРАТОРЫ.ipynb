{
 "cells": [
  {
   "cell_type": "markdown",
   "id": "11b08b1e",
   "metadata": {},
   "source": [
    "# Урок 1. ВВЕДЕНИЕ И ОПЕРАТОРЫ"
   ]
  },
  {
   "cell_type": "markdown",
   "id": "10cf121a",
   "metadata": {},
   "source": [
    "### 1"
   ]
  },
  {
   "cell_type": "markdown",
   "id": "dd2a5f74",
   "metadata": {},
   "source": [
    "Дана таблица __checks:__    \n",
    "    __Rub__ - UInt32  \n",
    "    __BuyDate__ - String  \n",
    "    __UserID__ - UInt64  \n",
    "    \n",
    "Чтобы взглянуть на колонки этой таблицы и получить первое представление о ее данных, выведите первые 10 строк таблицы __checks__"
   ]
  },
  {
   "cell_type": "markdown",
   "id": "b3977068",
   "metadata": {},
   "source": [
    "SELECT *\n",
    "  FROM checks\n",
    " LIMIT 10"
   ]
  },
  {
   "cell_type": "markdown",
   "id": "6efa55ab",
   "metadata": {},
   "source": [
    "### 2"
   ]
  },
  {
   "cell_type": "markdown",
   "id": "6d81c592",
   "metadata": {},
   "source": [
    "Давайте посмотрим на топ-10 платежей по сумме в рублях. Выведите первые 10 строк таблицы __checks__, но теперь отсортировав значения __Rub__ по убыванию."
   ]
  },
  {
   "cell_type": "markdown",
   "id": "a1b0fffd",
   "metadata": {},
   "source": [
    "SELECT *\n",
    "  FROM checks\n",
    " ORDER BY Rub DESC\n",
    " LIMIT 10"
   ]
  },
  {
   "cell_type": "markdown",
   "id": "aaa76dfb",
   "metadata": {},
   "source": [
    "### 3"
   ]
  },
  {
   "cell_type": "markdown",
   "id": "12a57411",
   "metadata": {},
   "source": [
    "Для работы бывает удобно переименовать колонки таблицы. Выведите первые 15 строк таблицы checks, переименовав поле __Rub__ в __Revenue__ и используя сортировку по возрастанию столбца __UserID__. Разместите столбцы в запросе в следующем порядке __revenue__, __buydate__, __userid__."
   ]
  },
  {
   "cell_type": "markdown",
   "id": "bb3b0be8",
   "metadata": {},
   "source": [
    "SELECT Rub AS Revenue,\n",
    "       BuyDate,\n",
    "       UserID\n",
    "  FROM checks\n",
    " ORDER BY UserID \n",
    " LIMIT 15"
   ]
  },
  {
   "cell_type": "markdown",
   "id": "20a02f06",
   "metadata": {},
   "source": [
    "### 4"
   ]
  },
  {
   "cell_type": "markdown",
   "id": "3a4b897d",
   "metadata": {},
   "source": [
    "Проверьте, данные за какой период имеются в таблице. Для этого используйте __MIN__ и __MAX__ по колонке __BuyDate__. Колонки с минимальным и максимальным значением назовите __MinDate__ и __MaxDate__ соответственно."
   ]
  },
  {
   "cell_type": "markdown",
   "id": "bf0a131f",
   "metadata": {},
   "source": [
    "SELECT MIN(BuyDate) as MinDate,\n",
    "       MAX(BuyDate) as MaxDate\n",
    "  FROM checks"
   ]
  },
  {
   "cell_type": "markdown",
   "id": "91136daf",
   "metadata": {},
   "source": [
    "### 5"
   ]
  },
  {
   "cell_type": "markdown",
   "id": "87940cc2",
   "metadata": {},
   "source": [
    "Предположим, что перед нами стоит задача отобрать несколько групп пользователей по разным критериям, чтобы отправить им персональные сообщения об акциях. Например, первым 10 пользователям, зарегистрировавшимся на сайте (чем раньше зарегистрировался пользователь, тем меньше его __UserID__), мы хотим подарить скидку на следующую покупку.\n",
    "\n",
    "Выведите __UserID__ 10 уникальных покупателей, используя оператор __DISTINCT__. Таблицу отсортируйте по __UserID__ в порядке возрастания."
   ]
  },
  {
   "cell_type": "markdown",
   "id": "ec6f1d81",
   "metadata": {},
   "source": [
    "SELECT DISTINCT UserID\n",
    "  FROM checks\n",
    " ORDER BY UserID \n",
    " LIMIT 10"
   ]
  },
  {
   "cell_type": "markdown",
   "id": "b4297384",
   "metadata": {},
   "source": [
    "### 6"
   ]
  },
  {
   "cell_type": "markdown",
   "id": "3a59660e",
   "metadata": {},
   "source": [
    "Мы хотим сформировать новую акцию к 8 марта, и для этого нас интересуют самые крупные покупки, совершенные в этот день в прошлом году.\n",
    "\n",
    "Выведите информацию о продажах, которые были совершены 8 марта 2019 года, используя блок __WHERE__ применительно к полю __BuyDate__. Значения отсортируйте по убыванию __Rub__. Количество строк для извлечения – 10. Дата хранится в таблице в текстовом виде и имеет формат год-месяц-день (‘YYYY-MM-DD’)."
   ]
  },
  {
   "cell_type": "markdown",
   "id": "efa0d31e",
   "metadata": {},
   "source": [
    "SELECT *\n",
    "  FROM checks\n",
    " WHERE BuyDate = '2019-03-08'\n",
    " ORDER BY Rub DESC\n",
    " LIMIT 10"
   ]
  },
  {
   "cell_type": "markdown",
   "id": "20993500",
   "metadata": {},
   "source": [
    "### 7"
   ]
  },
  {
   "cell_type": "markdown",
   "id": "a3bf220e",
   "metadata": {},
   "source": [
    "Мы предполагаем, что пользователи, которые совершили крупные покупки 1 сентября в прошлом году - родители школьников, и в следующем году можно будет подготовить для них акцию на группу товаров.\n",
    "\n",
    "Давайте применим __WHERE__ к полям __BuyDate__ и __Rub__, и посмотрим на уникальные __id__ покупателей из __checks__, которые совершили покупку 1 сентября 2019 года на сумму более 2 000 рублей. Значения отсортируйте по убыванию __UserID__."
   ]
  },
  {
   "cell_type": "markdown",
   "id": "72a613bf",
   "metadata": {},
   "source": [
    "SELECT DISTINCT UserID\n",
    "  FROM checks\n",
    " WHERE BuyDate = '2019-09-01' \n",
    "   AND Rub > 2000\n",
    " ORDER BY UserID DESC"
   ]
  }
 ],
 "metadata": {
  "kernelspec": {
   "display_name": "Python 3 (ipykernel)",
   "language": "python",
   "name": "python3"
  },
  "language_info": {
   "codemirror_mode": {
    "name": "ipython",
    "version": 3
   },
   "file_extension": ".py",
   "mimetype": "text/x-python",
   "name": "python",
   "nbconvert_exporter": "python",
   "pygments_lexer": "ipython3",
   "version": "3.9.7"
  }
 },
 "nbformat": 4,
 "nbformat_minor": 5
}
