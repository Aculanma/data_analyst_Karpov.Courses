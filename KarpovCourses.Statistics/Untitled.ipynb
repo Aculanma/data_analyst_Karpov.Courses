{
 "cells": [
  {
   "cell_type": "code",
   "execution_count": 16,
   "id": "8b18b322",
   "metadata": {},
   "outputs": [],
   "source": [
    "import math\n",
    "import pandas as pd\n",
    "\n",
    "data={'A':[1, 5, 2, 7, 1, 9, 3, 8, 5, 9]}\n",
    "\n",
    "df=pd.DataFrame(data)"
   ]
  },
  {
   "cell_type": "code",
   "execution_count": 17,
   "id": "4c354823",
   "metadata": {},
   "outputs": [
    {
     "data": {
      "text/plain": [
       "A    3.162278\n",
       "dtype: float64"
      ]
     },
     "execution_count": 17,
     "metadata": {},
     "output_type": "execute_result"
    }
   ],
   "source": [
    "df.std()"
   ]
  },
  {
   "cell_type": "code",
   "execution_count": 25,
   "id": "7b14c99e",
   "metadata": {},
   "outputs": [],
   "source": [
    "x=186.2-175"
   ]
  },
  {
   "cell_type": "code",
   "execution_count": 26,
   "id": "522525f8",
   "metadata": {},
   "outputs": [
    {
     "data": {
      "text/plain": [
       "1.3999999999999986"
      ]
     },
     "execution_count": 26,
     "metadata": {},
     "output_type": "execute_result"
    }
   ],
   "source": [
    "x/8"
   ]
  },
  {
   "cell_type": "code",
   "execution_count": 28,
   "id": "aa4bcb88",
   "metadata": {},
   "outputs": [
    {
     "data": {
      "text/plain": [
       "1.6666666666666667"
      ]
     },
     "execution_count": 28,
     "metadata": {},
     "output_type": "execute_result"
    }
   ],
   "source": [
    "(125-100)/15"
   ]
  },
  {
   "cell_type": "code",
   "execution_count": 29,
   "id": "6d695f56",
   "metadata": {},
   "outputs": [
    {
     "data": {
      "text/plain": [
       "0.8"
      ]
     },
     "execution_count": 29,
     "metadata": {},
     "output_type": "execute_result"
    }
   ],
   "source": [
    "12/15"
   ]
  },
  {
   "cell_type": "code",
   "execution_count": null,
   "id": "f325591d",
   "metadata": {},
   "outputs": [],
   "source": []
  }
 ],
 "metadata": {
  "kernelspec": {
   "display_name": "Python 3 (ipykernel)",
   "language": "python",
   "name": "python3"
  },
  "language_info": {
   "codemirror_mode": {
    "name": "ipython",
    "version": 3
   },
   "file_extension": ".py",
   "mimetype": "text/x-python",
   "name": "python",
   "nbconvert_exporter": "python",
   "pygments_lexer": "ipython3",
   "version": "3.9.7"
  }
 },
 "nbformat": 4,
 "nbformat_minor": 5
}
