{
 "cells": [
  {
   "cell_type": "markdown",
   "id": "a8a73a20",
   "metadata": {},
   "source": [
    "# Урок 5. СРАВНЕНИЕ СРЕДНИХ ЗНАЧЕНИЙ (ДИСПЕРСИОННЫЙ АНАЛИЗ)"
   ]
  },
  {
   "cell_type": "markdown",
   "id": "0b9d3929",
   "metadata": {},
   "source": [
    "На этот раз ситуация следующая: вы работаете в приложении по доставке готовых продуктов. К вам пришел коллега с результатами двух тестов:\n",
    "\n",
    "· В первом тестировали разрешение фотографий блюд в приложении: пользователям показывались либо прямоугольные, либо новые квадратные   \n",
    "· Во втором: была обновлена кнопка заказа, и часть юзеров видела старый вариант, а часть – новый\n",
    "Коллега пришел к вам с просьбой: он посмотрел на графики и предположил, что среди групп могут встретиться различия. Ваша задача – помочь ему проверить гипотезы, сделать соответствующие выводы на основе статистических тестов и принять решения.\n",
    "\n",
    "Описание данных\n",
    "\n",
    "`5_task_1`:  \n",
    "\n",
    "· id – id клиента в эксперименте  \n",
    "· group – в каком разрешении показывались картинки (A – прямоугольные 16:9, B – квадратные, C – прямоугольные 12:4)  \n",
    "· events – сколько блюд суммарно было заказано за период  \n",
    "\n",
    "`5_task_2`:\n",
    "\n",
    "· id – id клиента в эксперименте  \n",
    "· segment – сегмент (high/low)  \n",
    "· group – вид кнопки (control – старая версия, test – новая версия)  \n",
    "· events – сколько блюд суммарно было заказано за период"
   ]
  },
  {
   "cell_type": "code",
   "execution_count": 3,
   "id": "e797406c",
   "metadata": {},
   "outputs": [],
   "source": [
    "import pandas as pd\n",
    "import numpy as np\n",
    "import seaborn as sns\n",
    "import matplotlib.pyplot as plt\n",
    "\n",
    "sns.set(rc={'figure.figsize':(16,6)}, style='whitegrid')\n",
    "\n",
    "import scipy.stats as stats\n",
    "import statsmodels.formula.api as smf\n",
    "from statsmodels.stats.anova import anova_lm\n",
    "from statsmodels.stats.multicomp import pairwise_tukeyhsd"
   ]
  },
  {
   "cell_type": "markdown",
   "id": "954c3d54",
   "metadata": {},
   "source": [
    "### 1"
   ]
  },
  {
   "cell_type": "markdown",
   "id": "baee86d9",
   "metadata": {},
   "source": [
    "Итак, первая задача: нужно проверить, какой формат фотографий блюд является наилучшим, т.е. в какой из групп в среднем покупали больше всего. Всего пользователям показывались три варианта:\n",
    "\n",
    "· A – прямоугольные 16:9\n",
    "· B – квадратные\n",
    "· C – прямоугольные 12:4\n",
    "Каким статистическим тестом нужно воспользоваться для сравнения средних в данном случае?\n",
    "\n",
    "__· ANOVA (потому что три группы)__  \n",
    "· посчитаю хи-квадрат  \n",
    "· t-test  \n",
    "· сделаю вывод исключительно по графику"
   ]
  },
  {
   "cell_type": "markdown",
   "id": "cd8f3f68",
   "metadata": {},
   "source": [
    "### 2"
   ]
  },
  {
   "cell_type": "markdown",
   "id": "28a6e88d",
   "metadata": {},
   "source": [
    "Проверьте, являются ли дисперсии внутри групп примерно одинаковыми (гомогенными) с помощью теста Левена.\n",
    "\n",
    "· p-value < 0.05, отклоняем нулевую гипотезу  \n",
    "· p-value < 0.05, не отклоняем нулевую гипотезу  \n",
    "__· p-value > 0.05, не отклоняем нулевую гипотезу__  \n",
    "· p-value > 0.05, отклоняем нулевую гипотезу  "
   ]
  },
  {
   "cell_type": "code",
   "execution_count": 28,
   "id": "1a0b1e0c",
   "metadata": {},
   "outputs": [],
   "source": [
    "df1 = pd.read_csv('5_task_1.csv')"
   ]
  },
  {
   "cell_type": "code",
   "execution_count": 29,
   "id": "20015464",
   "metadata": {},
   "outputs": [
    {
     "data": {
      "text/html": [
       "<div>\n",
       "<style scoped>\n",
       "    .dataframe tbody tr th:only-of-type {\n",
       "        vertical-align: middle;\n",
       "    }\n",
       "\n",
       "    .dataframe tbody tr th {\n",
       "        vertical-align: top;\n",
       "    }\n",
       "\n",
       "    .dataframe thead th {\n",
       "        text-align: right;\n",
       "    }\n",
       "</style>\n",
       "<table border=\"1\" class=\"dataframe\">\n",
       "  <thead>\n",
       "    <tr style=\"text-align: right;\">\n",
       "      <th></th>\n",
       "      <th>id</th>\n",
       "      <th>group</th>\n",
       "      <th>events</th>\n",
       "    </tr>\n",
       "  </thead>\n",
       "  <tbody>\n",
       "    <tr>\n",
       "      <th>0</th>\n",
       "      <td>16046</td>\n",
       "      <td>A</td>\n",
       "      <td>14</td>\n",
       "    </tr>\n",
       "    <tr>\n",
       "      <th>1</th>\n",
       "      <td>18712</td>\n",
       "      <td>A</td>\n",
       "      <td>41</td>\n",
       "    </tr>\n",
       "    <tr>\n",
       "      <th>2</th>\n",
       "      <td>3268</td>\n",
       "      <td>A</td>\n",
       "      <td>30</td>\n",
       "    </tr>\n",
       "    <tr>\n",
       "      <th>3</th>\n",
       "      <td>22633</td>\n",
       "      <td>A</td>\n",
       "      <td>37</td>\n",
       "    </tr>\n",
       "    <tr>\n",
       "      <th>4</th>\n",
       "      <td>28071</td>\n",
       "      <td>A</td>\n",
       "      <td>38</td>\n",
       "    </tr>\n",
       "  </tbody>\n",
       "</table>\n",
       "</div>"
      ],
      "text/plain": [
       "      id group  events\n",
       "0  16046     A      14\n",
       "1  18712     A      41\n",
       "2   3268     A      30\n",
       "3  22633     A      37\n",
       "4  28071     A      38"
      ]
     },
     "execution_count": 29,
     "metadata": {},
     "output_type": "execute_result"
    }
   ],
   "source": [
    "df1.head()"
   ]
  },
  {
   "cell_type": "code",
   "execution_count": 8,
   "id": "b6358962",
   "metadata": {},
   "outputs": [],
   "source": [
    "A = df1.query('group == \"A\"').events\n",
    "B = df1.query('group == \"B\"').events\n",
    "C = df1.query('group == \"C\"').events"
   ]
  },
  {
   "cell_type": "code",
   "execution_count": 14,
   "id": "e66a21bd",
   "metadata": {},
   "outputs": [
    {
     "data": {
      "text/plain": [
       "LeveneResult(statistic=2.2622596339318037, pvalue=0.1041327199523974)"
      ]
     },
     "execution_count": 14,
     "metadata": {},
     "output_type": "execute_result"
    }
   ],
   "source": [
    "stats.levene(A, B, C)"
   ]
  },
  {
   "cell_type": "markdown",
   "id": "fef18074",
   "metadata": {},
   "source": [
    "### 3"
   ]
  },
  {
   "cell_type": "markdown",
   "id": "adfe8ae1",
   "metadata": {},
   "source": [
    "Также убедитесь, что данные распределены нормально, применив тест Шапиро-Уилка. Перед применением критерия при проверке на нормальность обязательно сделайте семплирование (1000 наблюдений), так как на больших выборках могут получаться неверные результаты. Для воспроизводимости результата используйте параметр random_state=17 в методе sample.\n",
    "\n",
    "Дополнительно: попробуйте посчитать тест Шапиро-Уилка без использования метода sample. Сравните  результат с normaltest, а также qq-графиками. Какой вывод можно сделать по совокупности этих методов?\n",
    "\n",
    "Выберите верные утверждения:\n",
    "\n",
    "__· Распределение events в группе B является нормальным__    \n",
    "__· Распределение events в группе С является нормальным__    \n",
    "__· Распределение events в группе A является нормальным__    \n",
    "· Все утверждения не верны"
   ]
  },
  {
   "cell_type": "code",
   "execution_count": 17,
   "id": "dfb574f3",
   "metadata": {},
   "outputs": [
    {
     "data": {
      "text/plain": [
       "ShapiroResult(statistic=0.9973153471946716, pvalue=0.09609563648700714)"
      ]
     },
     "execution_count": 17,
     "metadata": {},
     "output_type": "execute_result"
    }
   ],
   "source": [
    "stats.shapiro(A.sample(1000, random_state=17))"
   ]
  },
  {
   "cell_type": "code",
   "execution_count": 18,
   "id": "c3f07ffd",
   "metadata": {},
   "outputs": [
    {
     "data": {
      "text/plain": [
       "ShapiroResult(statistic=0.9980798363685608, pvalue=0.31768906116485596)"
      ]
     },
     "execution_count": 18,
     "metadata": {},
     "output_type": "execute_result"
    }
   ],
   "source": [
    "stats.shapiro(B.sample(1000, random_state=17))"
   ]
  },
  {
   "cell_type": "code",
   "execution_count": 19,
   "id": "4f8b7a94",
   "metadata": {},
   "outputs": [
    {
     "data": {
      "text/plain": [
       "ShapiroResult(statistic=0.9981185793876648, pvalue=0.3359004259109497)"
      ]
     },
     "execution_count": 19,
     "metadata": {},
     "output_type": "execute_result"
    }
   ],
   "source": [
    "stats.shapiro(C.sample(1000, random_state=17))"
   ]
  },
  {
   "cell_type": "markdown",
   "id": "0ff072e1",
   "metadata": {},
   "source": [
    "### 4"
   ]
  },
  {
   "cell_type": "markdown",
   "id": "adc7f497",
   "metadata": {},
   "source": [
    "Самое время провести тест! \n",
    "\n",
    "Для сравнения средних я использую __ОДНОФАКТОРНЫЙ ДИСПЕРСИОННЫЙ АНАЛИЗ__. Значение статистики равно (окр. до целого) __2886__, а р-уровень значимости составил __0__."
   ]
  },
  {
   "cell_type": "code",
   "execution_count": 21,
   "id": "06af13bc",
   "metadata": {},
   "outputs": [
    {
     "data": {
      "text/plain": [
       "F_onewayResult(statistic=2886.166657438961, pvalue=0.0)"
      ]
     },
     "execution_count": 21,
     "metadata": {},
     "output_type": "execute_result"
    }
   ],
   "source": [
    "stats.f_oneway(A, B, C)"
   ]
  },
  {
   "cell_type": "code",
   "execution_count": 22,
   "id": "fe71bf45",
   "metadata": {},
   "outputs": [
    {
     "data": {
      "text/plain": [
       "2886"
      ]
     },
     "execution_count": 22,
     "metadata": {},
     "output_type": "execute_result"
    }
   ],
   "source": [
    "round(stats.f_oneway(A, B, C)[0])"
   ]
  },
  {
   "cell_type": "markdown",
   "id": "de06f2a7",
   "metadata": {},
   "source": [
    "### 5"
   ]
  },
  {
   "cell_type": "markdown",
   "id": "cf58975e",
   "metadata": {},
   "source": [
    "Теперь используйте критерий Тьюки и определите, между какими группами есть статистически значимые различия. "
   ]
  },
  {
   "cell_type": "markdown",
   "id": "bb015f58",
   "metadata": {},
   "source": [
    "__· B и C__  \n",
    "__· A и C__  \n",
    "· Нет значимых  \n",
    "__· A и B__"
   ]
  },
  {
   "cell_type": "code",
   "execution_count": 26,
   "id": "8f2812eb",
   "metadata": {},
   "outputs": [
    {
     "name": "stdout",
     "output_type": "stream",
     "text": [
      "Multiple Comparison of Means - Tukey HSD, FWER=0.05 \n",
      "====================================================\n",
      "group1 group2 meandiff p-adj  lower    upper  reject\n",
      "----------------------------------------------------\n",
      "     A      B    8.034 0.001   7.7038  8.3642   True\n",
      "     A      C  -2.1093 0.001  -2.4395 -1.7791   True\n",
      "     B      C -10.1433 0.001 -10.4735 -9.8131   True\n",
      "----------------------------------------------------\n"
     ]
    }
   ],
   "source": [
    "print(pairwise_tukeyhsd(df1['events'], df1['group']).summary())"
   ]
  },
  {
   "cell_type": "code",
   "execution_count": 27,
   "id": "f93e0ba6",
   "metadata": {},
   "outputs": [
    {
     "data": {
      "text/plain": [
       "Text(0, 0.5, 'Число покупок')"
      ]
     },
     "execution_count": 27,
     "metadata": {},
     "output_type": "execute_result"
    },
    {
     "data": {
      "image/png": "[encoded data removed]",
      "text/plain": [
       "<Figure size 1152x432 with 1 Axes>"
      ]
     },
     "metadata": {},
     "output_type": "display_data"
    }
   ],
   "source": [
    "sns.pointplot(x='group', y='events', data=df1, capsize=.1)\n",
    "plt.title('Число покупок и формат фотографий еды')\n",
    "plt.xlabel('Формат')\n",
    "plt.ylabel('Число покупок')"
   ]
  },
  {
   "cell_type": "markdown",
   "id": "2c171d16",
   "metadata": {},
   "source": [
    "### 6"
   ]
  },
  {
   "cell_type": "markdown",
   "id": "9ac22e81",
   "metadata": {},
   "source": [
    "Так какие картинки в итоге будем использовать?\n",
    "\n",
    "· A – Прямоугольные, 16:9  \n",
    "__· B – Квадратные (потому что среднее наибольшее и статистически значимо отличается от А & С)__  \n",
    "· C – Прямоугольные, 12:4"
   ]
  },
  {
   "cell_type": "markdown",
   "id": "f7ad2b6f",
   "metadata": {},
   "source": [
    "### 7"
   ]
  },
  {
   "cell_type": "markdown",
   "id": "d33eaf99",
   "metadata": {},
   "source": [
    "Во втором эксперименте требуется проверить, как пользователи отреагируют на изменение формата кнопки оформления заказа, с разбивкой по сегменту клиента.\n",
    "\n",
    "Какой метод скорее всего пригодится в данном случае?\n",
    "\n",
    "· t-test  \n",
    "· хи-квадрат  \n",
    "· однофакторный дисперсионный анализ  \n",
    "__· многофакторный дисперсионный анализ (поскольку два фактора)__"
   ]
  },
  {
   "cell_type": "code",
   "execution_count": 30,
   "id": "8e19586d",
   "metadata": {},
   "outputs": [],
   "source": [
    "df2 = pd.read_csv('5_task_2.csv')"
   ]
  },
  {
   "cell_type": "code",
   "execution_count": 31,
   "id": "d8e57f4d",
   "metadata": {},
   "outputs": [
    {
     "data": {
      "text/html": [
       "<div>\n",
       "<style scoped>\n",
       "    .dataframe tbody tr th:only-of-type {\n",
       "        vertical-align: middle;\n",
       "    }\n",
       "\n",
       "    .dataframe tbody tr th {\n",
       "        vertical-align: top;\n",
       "    }\n",
       "\n",
       "    .dataframe thead th {\n",
       "        text-align: right;\n",
       "    }\n",
       "</style>\n",
       "<table border=\"1\" class=\"dataframe\">\n",
       "  <thead>\n",
       "    <tr style=\"text-align: right;\">\n",
       "      <th></th>\n",
       "      <th>id</th>\n",
       "      <th>group</th>\n",
       "      <th>segment</th>\n",
       "      <th>events</th>\n",
       "    </tr>\n",
       "  </thead>\n",
       "  <tbody>\n",
       "    <tr>\n",
       "      <th>0</th>\n",
       "      <td>83440</td>\n",
       "      <td>test</td>\n",
       "      <td>high</td>\n",
       "      <td>78.0</td>\n",
       "    </tr>\n",
       "    <tr>\n",
       "      <th>1</th>\n",
       "      <td>96723</td>\n",
       "      <td>test</td>\n",
       "      <td>high</td>\n",
       "      <td>71.0</td>\n",
       "    </tr>\n",
       "    <tr>\n",
       "      <th>2</th>\n",
       "      <td>68719</td>\n",
       "      <td>test</td>\n",
       "      <td>high</td>\n",
       "      <td>80.0</td>\n",
       "    </tr>\n",
       "    <tr>\n",
       "      <th>3</th>\n",
       "      <td>50399</td>\n",
       "      <td>test</td>\n",
       "      <td>high</td>\n",
       "      <td>80.0</td>\n",
       "    </tr>\n",
       "    <tr>\n",
       "      <th>4</th>\n",
       "      <td>95613</td>\n",
       "      <td>test</td>\n",
       "      <td>high</td>\n",
       "      <td>78.0</td>\n",
       "    </tr>\n",
       "  </tbody>\n",
       "</table>\n",
       "</div>"
      ],
      "text/plain": [
       "      id group segment  events\n",
       "0  83440  test    high    78.0\n",
       "1  96723  test    high    71.0\n",
       "2  68719  test    high    80.0\n",
       "3  50399  test    high    80.0\n",
       "4  95613  test    high    78.0"
      ]
     },
     "execution_count": 31,
     "metadata": {},
     "output_type": "execute_result"
    }
   ],
   "source": [
    "df2.head()"
   ]
  },
  {
   "cell_type": "markdown",
   "id": "69d2c985",
   "metadata": {},
   "source": [
    "### 8"
   ]
  },
  {
   "cell_type": "markdown",
   "id": "9520c51e",
   "metadata": {},
   "source": [
    "Посмотрим на данные. Визуализируйте распределение events для контрольной и тестовой групп."
   ]
  },
  {
   "cell_type": "code",
   "execution_count": 33,
   "id": "d219d948",
   "metadata": {},
   "outputs": [
    {
     "name": "stderr",
     "output_type": "stream",
     "text": [
      "C:\\Users\\DNS\\anaconda3\\lib\\site-packages\\seaborn\\distributions.py:2619: FutureWarning: `distplot` is a deprecated function and will be removed in a future version. Please adapt your code to use either `displot` (a figure-level function with similar flexibility) or `histplot` (an axes-level function for histograms).\n",
      "  warnings.warn(msg, FutureWarning)\n"
     ]
    },
    {
     "data": {
      "text/plain": [
       "<AxesSubplot:xlabel='events'>"
      ]
     },
     "execution_count": 33,
     "metadata": {},
     "output_type": "execute_result"
    },
    {
     "data": {
      "image/png": "[encoded data removed]",
      "text/plain": [
       "<Figure size 1152x432 with 1 Axes>"
      ]
     },
     "metadata": {},
     "output_type": "display_data"
    }
   ],
   "source": [
    "sns.distplot(df2.query('group==\"control\"').events, kde=False)"
   ]
  },
  {
   "cell_type": "code",
   "execution_count": 34,
   "id": "eecebccc",
   "metadata": {},
   "outputs": [
    {
     "data": {
      "text/plain": [
       "<AxesSubplot:xlabel='events'>"
      ]
     },
     "execution_count": 34,
     "metadata": {},
     "output_type": "execute_result"
    },
    {
     "data": {
      "image/png": "[encoded data removed]",
      "text/plain": [
       "<Figure size 1152x432 with 1 Axes>"
      ]
     },
     "metadata": {},
     "output_type": "display_data"
    }
   ],
   "source": [
    "sns.distplot(df2.query('group==\"test\"').events, kde=False)"
   ]
  },
  {
   "cell_type": "markdown",
   "id": "0700b06a",
   "metadata": {},
   "source": [
    "### 9"
   ]
  },
  {
   "cell_type": "markdown",
   "id": "b5b1a040",
   "metadata": {},
   "source": [
    "Посчитайте среднее, медиану и стандартное отклонение events в разбивке по группе и по сегменту пользователя. \n",
    "\n",
    "В качестве ответа укажите стандартное отклонение для пользователей из сегмента high и контрольной группы, с точностью до 2 знаков после точки."
   ]
  },
  {
   "cell_type": "code",
   "execution_count": 36,
   "id": "3a2b9049",
   "metadata": {},
   "outputs": [
    {
     "data": {
      "text/html": [
       "<div>\n",
       "<style scoped>\n",
       "    .dataframe tbody tr th:only-of-type {\n",
       "        vertical-align: middle;\n",
       "    }\n",
       "\n",
       "    .dataframe tbody tr th {\n",
       "        vertical-align: top;\n",
       "    }\n",
       "\n",
       "    .dataframe thead tr th {\n",
       "        text-align: left;\n",
       "    }\n",
       "</style>\n",
       "<table border=\"1\" class=\"dataframe\">\n",
       "  <thead>\n",
       "    <tr>\n",
       "      <th>group</th>\n",
       "      <th colspan=\"2\" halign=\"left\">control</th>\n",
       "      <th colspan=\"2\" halign=\"left\">test</th>\n",
       "    </tr>\n",
       "    <tr>\n",
       "      <th>segment</th>\n",
       "      <th>high</th>\n",
       "      <th>low</th>\n",
       "      <th>high</th>\n",
       "      <th>low</th>\n",
       "    </tr>\n",
       "  </thead>\n",
       "  <tbody>\n",
       "    <tr>\n",
       "      <th>count</th>\n",
       "      <td>10000.00</td>\n",
       "      <td>40000.00</td>\n",
       "      <td>10000.00</td>\n",
       "      <td>40000.00</td>\n",
       "    </tr>\n",
       "    <tr>\n",
       "      <th>mean</th>\n",
       "      <td>59.97</td>\n",
       "      <td>20.03</td>\n",
       "      <td>69.94</td>\n",
       "      <td>33.03</td>\n",
       "    </tr>\n",
       "    <tr>\n",
       "      <th>std</th>\n",
       "      <td>7.81</td>\n",
       "      <td>4.47</td>\n",
       "      <td>8.40</td>\n",
       "      <td>5.72</td>\n",
       "    </tr>\n",
       "    <tr>\n",
       "      <th>min</th>\n",
       "      <td>31.00</td>\n",
       "      <td>4.00</td>\n",
       "      <td>40.00</td>\n",
       "      <td>13.00</td>\n",
       "    </tr>\n",
       "    <tr>\n",
       "      <th>25%</th>\n",
       "      <td>55.00</td>\n",
       "      <td>17.00</td>\n",
       "      <td>64.00</td>\n",
       "      <td>29.00</td>\n",
       "    </tr>\n",
       "    <tr>\n",
       "      <th>50%</th>\n",
       "      <td>60.00</td>\n",
       "      <td>20.00</td>\n",
       "      <td>70.00</td>\n",
       "      <td>33.00</td>\n",
       "    </tr>\n",
       "    <tr>\n",
       "      <th>75%</th>\n",
       "      <td>65.00</td>\n",
       "      <td>23.00</td>\n",
       "      <td>76.00</td>\n",
       "      <td>37.00</td>\n",
       "    </tr>\n",
       "    <tr>\n",
       "      <th>max</th>\n",
       "      <td>89.00</td>\n",
       "      <td>41.00</td>\n",
       "      <td>102.00</td>\n",
       "      <td>59.00</td>\n",
       "    </tr>\n",
       "  </tbody>\n",
       "</table>\n",
       "</div>"
      ],
      "text/plain": [
       "group     control                test          \n",
       "segment      high       low      high       low\n",
       "count    10000.00  40000.00  10000.00  40000.00\n",
       "mean        59.97     20.03     69.94     33.03\n",
       "std          7.81      4.47      8.40      5.72\n",
       "min         31.00      4.00     40.00     13.00\n",
       "25%         55.00     17.00     64.00     29.00\n",
       "50%         60.00     20.00     70.00     33.00\n",
       "75%         65.00     23.00     76.00     37.00\n",
       "max         89.00     41.00    102.00     59.00"
      ]
     },
     "execution_count": 36,
     "metadata": {},
     "output_type": "execute_result"
    }
   ],
   "source": [
    "df2.groupby(['group', 'segment']).events.describe().T.round(2)"
   ]
  },
  {
   "cell_type": "markdown",
   "id": "009ee130",
   "metadata": {},
   "source": [
    "### 10"
   ]
  },
  {
   "cell_type": "markdown",
   "id": "4a35823b",
   "metadata": {},
   "source": [
    "Почти у цели – осталось выбрать формулу для модели. Напомним, что мы хотим проверить эффект нескольких переменных – group и segment – на events, с взаимодействием факторов.\n",
    "\n",
    "Если вы прибегнете к statsmodels, то какую формулу используете?"
   ]
  },
  {
   "cell_type": "markdown",
   "id": "8f26e5a3",
   "metadata": {},
   "source": [
    "· events = segment + group  \n",
    "· events = segment + group + segment:group  \n",
    "__· events ~ segment + group + segment:group__  \n",
    "· events ~ segment + group  \n",
    "· events ~ segment, group"
   ]
  },
  {
   "cell_type": "markdown",
   "id": "04d98352",
   "metadata": {},
   "source": [
    "### 11"
   ]
  },
  {
   "cell_type": "markdown",
   "id": "4d1e1b06",
   "metadata": {},
   "source": [
    "Проведите тест (через anova_lm либо pg.anova), а затем используйте критерий Тьюки, чтобы понять между какими группами есть статистически значимые различия.\n",
    "\n",
    "В данном случае для последующих сравнений между группами можно проделать следующую операцию: соединить колонки group и segment в combination, чтобы потом передать в аргумент groups в MultiComparison либо pairwise_tukey:"
   ]
  },
  {
   "cell_type": "markdown",
   "id": "d68454f1",
   "metadata": {},
   "source": [
    "+-------+---------+-------------+  \n",
    "| group | segment | combination |  \n",
    "+-------+---------+-------------+  \n",
    "| test  | high    | test / high |  \n",
    "| test  | high    | test / high |  \n",
    "+-------+---------+-------------+  "
   ]
  },
  {
   "cell_type": "markdown",
   "id": "6ba1d2e6",
   "metadata": {},
   "source": [
    "Между какими группами были обнаружены статистически значимые различия? Выберите верные утверждения:\n",
    "\n",
    "· Для обоих сегментов показатели статистически значимо _уменьшились_ по сравнению с контрольной группой  \n",
    "__· Для обоих сегментов показатели статистически значимо _увеличились_ по сравнению с контрольной группой__  \n",
    "· Разница между значением у тестовой группы сегмента low и контрольной группой этого же сегмента равна примерно 36  \n",
    "__· Разница между значением у тестовой группы сегмента low и контрольной группой этого же сегмента равна примерно 13__    \n",
    "__· Разница между control/high и test/high составила около 10__  \n",
    "· Различий совсем не оказалось :("
   ]
  },
  {
   "cell_type": "code",
   "execution_count": 40,
   "id": "b5c2cd7a",
   "metadata": {},
   "outputs": [],
   "source": [
    "model = smf.ols(formula='events ~ segment + group + segment:group', data=df2).fit()\n",
    "aov_table = anova_lm(model, typ=2)"
   ]
  },
  {
   "cell_type": "code",
   "execution_count": 41,
   "id": "10f07782",
   "metadata": {},
   "outputs": [
    {
     "name": "stdout",
     "output_type": "stream",
     "text": [
      "                    sum_sq       df          F  PR(>F)\n",
      "segment        23624796.65      1.0  689756.38     0.0\n",
      "group           3837195.41      1.0  112031.86     0.0\n",
      "segment:group     36642.44      1.0    1069.82     0.0\n",
      "Residual        3424955.89  99996.0        NaN     NaN\n"
     ]
    }
   ],
   "source": [
    "print(round(aov_table, 2))"
   ]
  },
  {
   "cell_type": "code",
   "execution_count": 44,
   "id": "75c4ba81",
   "metadata": {},
   "outputs": [],
   "source": [
    "df2['combination'] = df2.group + ' \\ ' + df2.segment"
   ]
  },
  {
   "cell_type": "code",
   "execution_count": 46,
   "id": "785d1e63",
   "metadata": {},
   "outputs": [
    {
     "data": {
      "text/html": [
       "<div>\n",
       "<style scoped>\n",
       "    .dataframe tbody tr th:only-of-type {\n",
       "        vertical-align: middle;\n",
       "    }\n",
       "\n",
       "    .dataframe tbody tr th {\n",
       "        vertical-align: top;\n",
       "    }\n",
       "\n",
       "    .dataframe thead th {\n",
       "        text-align: right;\n",
       "    }\n",
       "</style>\n",
       "<table border=\"1\" class=\"dataframe\">\n",
       "  <thead>\n",
       "    <tr style=\"text-align: right;\">\n",
       "      <th></th>\n",
       "      <th>id</th>\n",
       "      <th>group</th>\n",
       "      <th>segment</th>\n",
       "      <th>events</th>\n",
       "      <th>combination</th>\n",
       "    </tr>\n",
       "  </thead>\n",
       "  <tbody>\n",
       "    <tr>\n",
       "      <th>0</th>\n",
       "      <td>83440</td>\n",
       "      <td>test</td>\n",
       "      <td>high</td>\n",
       "      <td>78.0</td>\n",
       "      <td>test \\ high</td>\n",
       "    </tr>\n",
       "    <tr>\n",
       "      <th>1</th>\n",
       "      <td>96723</td>\n",
       "      <td>test</td>\n",
       "      <td>high</td>\n",
       "      <td>71.0</td>\n",
       "      <td>test \\ high</td>\n",
       "    </tr>\n",
       "    <tr>\n",
       "      <th>2</th>\n",
       "      <td>68719</td>\n",
       "      <td>test</td>\n",
       "      <td>high</td>\n",
       "      <td>80.0</td>\n",
       "      <td>test \\ high</td>\n",
       "    </tr>\n",
       "    <tr>\n",
       "      <th>3</th>\n",
       "      <td>50399</td>\n",
       "      <td>test</td>\n",
       "      <td>high</td>\n",
       "      <td>80.0</td>\n",
       "      <td>test \\ high</td>\n",
       "    </tr>\n",
       "    <tr>\n",
       "      <th>4</th>\n",
       "      <td>95613</td>\n",
       "      <td>test</td>\n",
       "      <td>high</td>\n",
       "      <td>78.0</td>\n",
       "      <td>test \\ high</td>\n",
       "    </tr>\n",
       "  </tbody>\n",
       "</table>\n",
       "</div>"
      ],
      "text/plain": [
       "      id group segment  events  combination\n",
       "0  83440  test    high    78.0  test \\ high\n",
       "1  96723  test    high    71.0  test \\ high\n",
       "2  68719  test    high    80.0  test \\ high\n",
       "3  50399  test    high    80.0  test \\ high\n",
       "4  95613  test    high    78.0  test \\ high"
      ]
     },
     "execution_count": 46,
     "metadata": {},
     "output_type": "execute_result"
    }
   ],
   "source": [
    "df2.head()"
   ]
  },
  {
   "cell_type": "code",
   "execution_count": 47,
   "id": "0fa7beb1",
   "metadata": {},
   "outputs": [
    {
     "name": "stdout",
     "output_type": "stream",
     "text": [
      "        Multiple Comparison of Means - Tukey HSD, FWER=0.05         \n",
      "====================================================================\n",
      "    group1         group2    meandiff p-adj  lower    upper   reject\n",
      "--------------------------------------------------------------------\n",
      "control \\ high control \\ low -39.9392 0.001 -40.1073 -39.7711   True\n",
      "control \\ high   test \\ high   9.9677 0.001   9.7551  10.1803   True\n",
      "control \\ high    test \\ low -26.9449 0.001  -27.113 -26.7768   True\n",
      " control \\ low   test \\ high  49.9069 0.001  49.7388   50.075   True\n",
      " control \\ low    test \\ low  12.9944 0.001   12.888  13.1007   True\n",
      "   test \\ high    test \\ low -36.9126 0.001 -37.0807 -36.7445   True\n",
      "--------------------------------------------------------------------\n"
     ]
    }
   ],
   "source": [
    "print(pairwise_tukeyhsd(df2['events'], df2['combination']).summary())"
   ]
  },
  {
   "cell_type": "markdown",
   "id": "66f6047a",
   "metadata": {},
   "source": [
    "### 12"
   ]
  },
  {
   "cell_type": "markdown",
   "id": "8abb1efb",
   "metadata": {},
   "source": [
    "Визуализируйте результаты теста и заполните пропуски:\n",
    "    \n",
    "Фактор group оказался __ЗНАЧИМЫМ__, фактор segment – __ЗНАЧИМЫМ__, их взаимодействие – __ЗНАЧИМО__. Судя по графику, для всех групп среднее значение events __УВЕЛИЧИЛОСЬ__, поэтому решение: __ВЫКАТЫВАЕМ НОВУЮ ВЕРСИЮ__."
   ]
  },
  {
   "cell_type": "code",
   "execution_count": 50,
   "id": "6d83d585",
   "metadata": {},
   "outputs": [
    {
     "data": {
      "image/png": "[encoded data removed]",
      "text/plain": [
       "<Figure size 1152x432 with 1 Axes>"
      ]
     },
     "metadata": {},
     "output_type": "display_data"
    }
   ],
   "source": [
    "sns.pointplot(x = 'group', y = 'events', hue = 'segment', data = df2, capsize = .1)\n",
    "plt.xlabel('Группа')\n",
    "plt.ylabel('Число покупок')\n",
    "plt.show()"
   ]
  },
  {
   "cell_type": "code",
   "execution_count": 52,
   "id": "0a0f6329",
   "metadata": {},
   "outputs": [
    {
     "data": {
      "image/png": "[encoded data removed]",
      "text/plain": [
       "<Figure size 1152x432 with 1 Axes>"
      ]
     },
     "metadata": {},
     "output_type": "display_data"
    }
   ],
   "source": [
    "sns.boxplot(x = 'group', y = 'events', hue = 'segment', data = df2)\n",
    "plt.xlabel('Группа')\n",
    "plt.ylabel('Число покупок')\n",
    "plt.show()"
   ]
  },
  {
   "cell_type": "code",
   "execution_count": null,
   "id": "f08c8eaf",
   "metadata": {},
   "outputs": [],
   "source": []
  }
 ],
 "metadata": {
  "kernelspec": {
   "display_name": "Python 3 (ipykernel)",
   "language": "python",
   "name": "python3"
  },
  "language_info": {
   "codemirror_mode": {
    "name": "ipython",
    "version": 3
   },
   "file_extension": ".py",
   "mimetype": "text/x-python",
   "name": "python",
   "nbconvert_exporter": "python",
   "pygments_lexer": "ipython3",
   "version": "3.9.7"
  }
 },
 "nbformat": 4,
 "nbformat_minor": 5
}
