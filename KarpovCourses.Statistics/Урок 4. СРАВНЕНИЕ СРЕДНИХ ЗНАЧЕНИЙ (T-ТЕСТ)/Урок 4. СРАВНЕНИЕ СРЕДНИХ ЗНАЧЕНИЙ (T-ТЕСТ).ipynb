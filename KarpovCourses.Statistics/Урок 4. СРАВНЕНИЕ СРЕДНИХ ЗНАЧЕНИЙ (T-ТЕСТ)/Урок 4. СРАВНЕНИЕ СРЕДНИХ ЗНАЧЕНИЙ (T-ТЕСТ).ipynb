{
 "cells": [
  {
   "cell_type": "markdown",
   "id": "99d072ce",
   "metadata": {},
   "source": [
    "# Урок 4. СРАВНЕНИЕ СРЕДНИХ ЗНАЧЕНИЙ (T-ТЕСТ)"
   ]
  },
  {
   "cell_type": "markdown",
   "id": "468882a0",
   "metadata": {},
   "source": [
    "Представьте, что вы работаете аналитиком в очень крупной компании по доставке пиццы над приложением для курьеров (да, обычно в таких компаниях есть приложение для курьеров и отдельно приложение для потребителей).\n",
    "\n",
    "У вас есть несколько ресторанов в разных частях города и целый штат курьеров. Но есть одна проблема — к вечеру скорость доставки падает из-за того, что курьеры уходят домой после рабочего дня, а количество заказов лишь растет. Это приводит к тому, что в момент пересмены наша доставка очень сильно проседает в эффективности. \n",
    "\n",
    "Наши data scientist-ы придумали новый алгоритм, который позволяет курьерам запланировать свои последние заказы перед окончанием рабочего дня так, чтобы их маршрут доставки совпадал с маршрутом до дома. То есть, чтобы курьеры доставляли последние свои заказы за день как бы \"по пути\" домой. \n",
    "\n",
    "Вы вместе с командой решили раскатить A/B тест на две равные группы курьеров. Часть курьеров использует старый алгоритм без опции \"по пути\", другие видят в своем приложении эту опцию и могут ее выбрать. Ваша задача – проанализировать данные эксперимента и помочь бизнесу принять решение о раскатке новой фичи на всех курьеров.\n",
    "\n",
    "Описание данных\n",
    "\n",
    "· order_id - id заказа  \n",
    "· delivery_time - время доставки в минутах  \n",
    "· district - район доставки  \n",
    "· experiment_group - экспериментальная группа"
   ]
  },
  {
   "cell_type": "code",
   "execution_count": 1,
   "id": "85f456f4",
   "metadata": {},
   "outputs": [],
   "source": [
    "import pandas as pd\n",
    "from scipy import stats\n",
    "import matplotlib.pyplot as plt\n",
    "\n",
    "experiment = pd.read_csv('experiment_lesson_4.csv')"
   ]
  },
  {
   "cell_type": "code",
   "execution_count": 2,
   "id": "4b7ff65a",
   "metadata": {},
   "outputs": [
    {
     "data": {
      "text/html": [
       "<div>\n",
       "<style scoped>\n",
       "    .dataframe tbody tr th:only-of-type {\n",
       "        vertical-align: middle;\n",
       "    }\n",
       "\n",
       "    .dataframe tbody tr th {\n",
       "        vertical-align: top;\n",
       "    }\n",
       "\n",
       "    .dataframe thead th {\n",
       "        text-align: right;\n",
       "    }\n",
       "</style>\n",
       "<table border=\"1\" class=\"dataframe\">\n",
       "  <thead>\n",
       "    <tr style=\"text-align: right;\">\n",
       "      <th></th>\n",
       "      <th>order_id</th>\n",
       "      <th>delivery_time</th>\n",
       "      <th>district</th>\n",
       "      <th>experiment_group</th>\n",
       "    </tr>\n",
       "  </thead>\n",
       "  <tbody>\n",
       "    <tr>\n",
       "      <th>0</th>\n",
       "      <td>3159</td>\n",
       "      <td>44.0</td>\n",
       "      <td>Purlieus</td>\n",
       "      <td>control</td>\n",
       "    </tr>\n",
       "    <tr>\n",
       "      <th>1</th>\n",
       "      <td>10426</td>\n",
       "      <td>51.0</td>\n",
       "      <td>Purlieus</td>\n",
       "      <td>control</td>\n",
       "    </tr>\n",
       "    <tr>\n",
       "      <th>2</th>\n",
       "      <td>9155</td>\n",
       "      <td>46.0</td>\n",
       "      <td>Purlieus</td>\n",
       "      <td>control</td>\n",
       "    </tr>\n",
       "    <tr>\n",
       "      <th>3</th>\n",
       "      <td>10699</td>\n",
       "      <td>34.0</td>\n",
       "      <td>Purlieus</td>\n",
       "      <td>control</td>\n",
       "    </tr>\n",
       "    <tr>\n",
       "      <th>4</th>\n",
       "      <td>10061</td>\n",
       "      <td>43.0</td>\n",
       "      <td>Purlieus</td>\n",
       "      <td>control</td>\n",
       "    </tr>\n",
       "  </tbody>\n",
       "</table>\n",
       "</div>"
      ],
      "text/plain": [
       "   order_id  delivery_time  district experiment_group\n",
       "0      3159           44.0  Purlieus          control\n",
       "1     10426           51.0  Purlieus          control\n",
       "2      9155           46.0  Purlieus          control\n",
       "3     10699           34.0  Purlieus          control\n",
       "4     10061           43.0  Purlieus          control"
      ]
     },
     "execution_count": 2,
     "metadata": {},
     "output_type": "execute_result"
    }
   ],
   "source": [
    "experiment.head()"
   ]
  },
  {
   "cell_type": "code",
   "execution_count": 3,
   "id": "56733106",
   "metadata": {},
   "outputs": [
    {
     "data": {
      "text/plain": [
       "order_id              int64\n",
       "delivery_time       float64\n",
       "district             object\n",
       "experiment_group     object\n",
       "dtype: object"
      ]
     },
     "execution_count": 3,
     "metadata": {},
     "output_type": "execute_result"
    }
   ],
   "source": [
    "experiment.dtypes"
   ]
  },
  {
   "cell_type": "markdown",
   "id": "7ce5cc1b",
   "metadata": {},
   "source": [
    "### 1"
   ]
  },
  {
   "cell_type": "markdown",
   "id": "b9364df1",
   "metadata": {},
   "source": [
    "Для начала давайте сформулируем гипотезы для проверки. Выберите статистические гипотезы, которые мы сможем проверить в этом эксперименте:\n",
    "\n",
    "· Нулевая гипотеза (H0): Изменение алгоритма не влияет на скорость доставки  \n",
    "__· Альтернативная гипотеза (H1): Разница между средним временем доставки в тестовой и контрольной группе есть__   \n",
    "· Альтернативная гипотеза (H1): Изменение алгоритма влияет на скорость доставки  \n",
    "· Нулевая гипотеза (H0): Разница между средним временем доставки в тестовой и контрольной группе есть  \n",
    "__· Нулевая гипотеза (H0): Разницы между средним временем доставки в тестовой и контрольной группе нет__    \n",
    "· Альтернативная гипотеза (H1): Разницы между средним временем доставки в тестовой и контрольной нет"
   ]
  },
  {
   "cell_type": "markdown",
   "id": "739e133c",
   "metadata": {},
   "source": [
    "### 2"
   ]
  },
  {
   "cell_type": "markdown",
   "id": "18d59e06",
   "metadata": {},
   "source": [
    "Построейте графики распределения экспериментальных групп:"
   ]
  },
  {
   "cell_type": "code",
   "execution_count": 8,
   "id": "f0466127",
   "metadata": {},
   "outputs": [
    {
     "data": {
      "text/plain": [
       "district\n",
       "Central     AxesSubplot(0.125,0.125;0.775x0.755)\n",
       "Purlieus    AxesSubplot(0.125,0.125;0.775x0.755)\n",
       "Suburb      AxesSubplot(0.125,0.125;0.775x0.755)\n",
       "Name: delivery_time, dtype: object"
      ]
     },
     "execution_count": 8,
     "metadata": {},
     "output_type": "execute_result"
    },
    {
     "data": {
      "image/png": "[encoded data removed]",
      "text/plain": [
       "<Figure size 432x288 with 1 Axes>"
      ]
     },
     "metadata": {
      "needs_background": "light"
     },
     "output_type": "display_data"
    }
   ],
   "source": [
    "experiment.query('experiment_group == \"control\"').groupby('district').delivery_time.hist()"
   ]
  },
  {
   "cell_type": "code",
   "execution_count": 9,
   "id": "ba580683",
   "metadata": {},
   "outputs": [
    {
     "data": {
      "text/plain": [
       "district\n",
       "Central     AxesSubplot(0.125,0.125;0.775x0.755)\n",
       "Purlieus    AxesSubplot(0.125,0.125;0.775x0.755)\n",
       "Suburb      AxesSubplot(0.125,0.125;0.775x0.755)\n",
       "Name: delivery_time, dtype: object"
      ]
     },
     "execution_count": 9,
     "metadata": {},
     "output_type": "execute_result"
    },
    {
     "data": {
      "image/png": "[encoded data removed]",
      "text/plain": [
       "<Figure size 432x288 with 1 Axes>"
      ]
     },
     "metadata": {
      "needs_background": "light"
     },
     "output_type": "display_data"
    }
   ],
   "source": [
    "experiment.query('experiment_group == \"test\"').groupby('district').delivery_time.hist()"
   ]
  },
  {
   "cell_type": "markdown",
   "id": "f161ffde",
   "metadata": {},
   "source": [
    "### 3"
   ]
  },
  {
   "cell_type": "markdown",
   "id": "55e01899",
   "metadata": {},
   "source": [
    "Посчитайте количество наблюдений в тестовой и контрольной группе. На сколько по модулю отличается количество наблюдений в тесте и контроле?"
   ]
  },
  {
   "cell_type": "code",
   "execution_count": 13,
   "id": "e4d0e6f4",
   "metadata": {},
   "outputs": [
    {
     "data": {
      "text/plain": [
       "12"
      ]
     },
     "execution_count": 13,
     "metadata": {},
     "output_type": "execute_result"
    }
   ],
   "source": [
    "abs(experiment.query('experiment_group == \"control\"').shape[0] - experiment.query('experiment_group == \"test\"').shape[0])"
   ]
  },
  {
   "cell_type": "code",
   "execution_count": 20,
   "id": "8a91305b",
   "metadata": {},
   "outputs": [
    {
     "name": "stdout",
     "output_type": "stream",
     "text": [
      "experiment_group\n",
      "control    10092\n",
      "test       10104\n",
      "Name: order_id, dtype: int64\n",
      "12\n"
     ]
    }
   ],
   "source": [
    "cnt = experiment.groupby('experiment_group').order_id.count()\n",
    "print(cnt)\n",
    "print(cnt[1] - cnt[0])"
   ]
  },
  {
   "cell_type": "markdown",
   "id": "c8ae196f",
   "metadata": {},
   "source": [
    "### 4"
   ]
  },
  {
   "cell_type": "markdown",
   "id": "b999f984",
   "metadata": {},
   "source": [
    "Теперь давайте изучим наши распределения. Проверим выполнение условий на нормальность и посчитаем стандартное отклонение в тесте и в контроле.\n",
    "\n",
    "Обязательно сделайте семплирование перед применением критерия при проверке на нормальность (и для теста, и для контроля), так как на больших выборках вы можете получать неверные результаты."
   ]
  },
  {
   "cell_type": "markdown",
   "id": "14b5b2cf",
   "metadata": {},
   "source": [
    "Для того, чтобы проверить нормальность распределения, я использую __SHAPIRO-WILK TEST__. Этот тест показывает, что значения в тестовой группе распределены \n",
    "__НОРМАЛЬНО__. В контрольной группе распределение является __НОРМАЛЬНЫМ__. Стандартное отклонение времени доставки в тесте равно (округлите до сотых) __9.88__. Стандартное отклонение времени доставки в контроле равно (округлите до сотых) \n",
    "__9.99__."
   ]
  },
  {
   "cell_type": "code",
   "execution_count": 26,
   "id": "cb9566b8",
   "metadata": {},
   "outputs": [
    {
     "data": {
      "text/plain": [
       "ShapiroResult(statistic=0.9974725842475891, pvalue=0.12411931157112122)"
      ]
     },
     "execution_count": 26,
     "metadata": {},
     "output_type": "execute_result"
    }
   ],
   "source": [
    "stats.shapiro(experiment.query('experiment_group == \"control\"').delivery_time.sample(1000, random_state=17))"
   ]
  },
  {
   "cell_type": "code",
   "execution_count": 27,
   "id": "5e49025b",
   "metadata": {},
   "outputs": [
    {
     "data": {
      "text/plain": [
       "ShapiroResult(statistic=0.9975475668907166, pvalue=0.14005419611930847)"
      ]
     },
     "execution_count": 27,
     "metadata": {},
     "output_type": "execute_result"
    }
   ],
   "source": [
    "stats.shapiro(experiment.query('experiment_group == \"test\"').delivery_time.sample(1000, random_state=17))"
   ]
  },
  {
   "cell_type": "code",
   "execution_count": 28,
   "id": "5722de1b",
   "metadata": {},
   "outputs": [
    {
     "data": {
      "text/plain": [
       "9.88"
      ]
     },
     "execution_count": 28,
     "metadata": {},
     "output_type": "execute_result"
    }
   ],
   "source": [
    "round((experiment.query('experiment_group == \"test\"').delivery_time.std()), 2)"
   ]
  },
  {
   "cell_type": "code",
   "execution_count": 29,
   "id": "341c8509",
   "metadata": {},
   "outputs": [
    {
     "data": {
      "text/plain": [
       "9.99"
      ]
     },
     "execution_count": 29,
     "metadata": {},
     "output_type": "execute_result"
    }
   ],
   "source": [
    "round((experiment.query('experiment_group == \"control\"').delivery_time.std()), 2)"
   ]
  },
  {
   "cell_type": "markdown",
   "id": "5d8e26a8",
   "metadata": {},
   "source": [
    "__Зачем нам нужен был метод .sample()?__\n",
    "\n",
    "Чувствительность любого теста зависит от размера выборки. Это касается и теста Шапиро-Уилка - на больших выборках он детектирует даже самые незначительные отклонения от нормальности. Поэтому мы берём случайные 1000 значений из выборки, чтобы обойти этот недостаток.\n",
    "\n",
    "Есть шанс, что случайные 1000 значений всё же сформируют ненормальное распределение, поэтому рекомендуем использовать аргумент random_state=17 для стабильности и воспроизводимости результатов."
   ]
  },
  {
   "cell_type": "markdown",
   "id": "3328092f",
   "metadata": {},
   "source": [
    "__Какова нулевая гипотеза теста Шапиро-Уилка?__\n",
    "\n",
    "Что распределение нормальное. "
   ]
  },
  {
   "cell_type": "markdown",
   "id": "b226c09f",
   "metadata": {},
   "source": [
    "### 5"
   ]
  },
  {
   "cell_type": "markdown",
   "id": "cd8dbb6d",
   "metadata": {},
   "source": [
    "Пришло время сравнить средние в тесте и контроле. Внимание: здесь уже не нужно пользоваться методом sample() — он нам нужен был только для теста Шапиро-Уилка, остальные тесты надо проводить на полных данных."
   ]
  },
  {
   "cell_type": "markdown",
   "id": "978bafa3",
   "metadata": {},
   "source": [
    "Для сравнения средних в данных экспериментальных группах я использую __STUDENT'S T-TEST__. Статистика в тесте равна (округлите до целого) \n",
    "__-43__, p-value __<= 0.05__."
   ]
  },
  {
   "cell_type": "code",
   "execution_count": 31,
   "id": "879114bf",
   "metadata": {},
   "outputs": [
    {
     "data": {
      "text/plain": [
       "Ttest_indResult(statistic=-43.03582663183714, pvalue=0.0)"
      ]
     },
     "execution_count": 31,
     "metadata": {},
     "output_type": "execute_result"
    }
   ],
   "source": [
    "stats.ttest_ind(experiment.query('experiment_group == \"test\"').delivery_time, \\\n",
    "                experiment.query('experiment_group == \"control\"').delivery_time)"
   ]
  },
  {
   "cell_type": "markdown",
   "id": "a77b5daa",
   "metadata": {},
   "source": [
    "### 6"
   ]
  },
  {
   "cell_type": "markdown",
   "id": "639724f0",
   "metadata": {},
   "source": [
    "На сколько процентов изменилось среднее время доставки в тестовой группе по сравнению с контрольной (округлите до сотых)? "
   ]
  },
  {
   "cell_type": "code",
   "execution_count": 32,
   "id": "b74cd82c",
   "metadata": {},
   "outputs": [],
   "source": [
    "test_mean = experiment.query('experiment_group == \"test\"').delivery_time.mean()\n",
    "control_mean = experiment.query('experiment_group == \"control\"').delivery_time.mean()"
   ]
  },
  {
   "cell_type": "code",
   "execution_count": 43,
   "id": "0c670d16",
   "metadata": {},
   "outputs": [
    {
     "data": {
      "text/plain": [
       "-13.35"
      ]
     },
     "execution_count": 43,
     "metadata": {},
     "output_type": "execute_result"
    }
   ],
   "source": [
    "perc = (test_mean - control_mean) / control_mean * 100\n",
    "round(perc, 2)"
   ]
  },
  {
   "cell_type": "markdown",
   "id": "25af0f03",
   "metadata": {},
   "source": [
    "### 7"
   ]
  },
  {
   "cell_type": "markdown",
   "id": "1a16411b",
   "metadata": {},
   "source": [
    "Что в итоге? Катим? "
   ]
  },
  {
   "cell_type": "markdown",
   "id": "0ea9e17a",
   "metadata": {},
   "source": [
    "· Да, раскатываем на всех, новый алгоритм напрямую влияет на скорость доставки.  \n",
    "· Да, раскатываем новый алгоритм на всех, так как среднее время доставки статистически значимо изменилось. Среднее время доставки в тесте больше, чем в контроле.  \n",
    "· Не катим, так как среднее время доставки статистически значимо не изменилось.  \n",
    "__· Да, раскатываем новый алгоритм на всех, так как среднее время доставки статистически значимо изменилось. Среднее время доставки в тесте меньше, чем в контроле.__"
   ]
  }
 ],
 "metadata": {
  "kernelspec": {
   "display_name": "Python 3 (ipykernel)",
   "language": "python",
   "name": "python3"
  },
  "language_info": {
   "codemirror_mode": {
    "name": "ipython",
    "version": 3
   },
   "file_extension": ".py",
   "mimetype": "text/x-python",
   "name": "python",
   "nbconvert_exporter": "python",
   "pygments_lexer": "ipython3",
   "version": "3.9.7"
  }
 },
 "nbformat": 4,
 "nbformat_minor": 5
}
